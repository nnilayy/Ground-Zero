{
  "nbformat": 4,
  "nbformat_minor": 0,
  "metadata": {
    "colab": {
      "provenance": [],
      "authorship_tag": "ABX9TyNDzUKCnwDvI99Lzo2sgdfJ",
      "include_colab_link": true
    },
    "kernelspec": {
      "name": "python3",
      "display_name": "Python 3"
    },
    "language_info": {
      "name": "python"
    },
    "accelerator": "GPU",
    "gpuClass": "standard"
  },
  "cells": [
    {
      "cell_type": "markdown",
      "metadata": {
        "id": "view-in-github",
        "colab_type": "text"
      },
      "source": [
        "<a href=\"https://colab.research.google.com/github/nnilayy/Unet/blob/main/Polygon2Mask.ipynb\" target=\"_parent\"><img src=\"https://colab.research.google.com/assets/colab-badge.svg\" alt=\"Open In Colab\"/></a>"
      ]
    },
    {
      "cell_type": "code",
      "source": [
        "import numpy as np\n",
        "from skimage import draw"
      ],
      "metadata": {
        "id": "DYkztk1fpG3V"
      },
      "execution_count": 1,
      "outputs": []
    },
    {
      "cell_type": "code",
      "source": [
        "from google.colab import drive\n",
        "drive.mount('/content/drive')"
      ],
      "metadata": {
        "id": "egsfdkxTYYRD"
      },
      "execution_count": null,
      "outputs": []
    },
    {
      "cell_type": "code",
      "source": [
        "!mkdir \"/content/drive/MyDrive/Bitmaps\""
      ],
      "metadata": {
        "id": "brFdXw1AYse6"
      },
      "execution_count": 8,
      "outputs": []
    },
    {
      "cell_type": "code",
      "source": [
        "import json\n",
        "with open('/content/Balls_Polygon.json', 'r') as f:\n",
        "  file = json.load(f)\n",
        "x=[]\n",
        "y=[]\n",
        "for i in file:\n",
        " x.append(file[str(i)][\"regions\"][\"0\"][\"shape_attributes\"]['all_points_x'])\n",
        " y.append(file[str(i)][\"regions\"][\"0\"][\"shape_attributes\"]['all_points_y'])\n",
        "# print(x)\n",
        "# print(y)"
      ],
      "metadata": {
        "id": "KV85hU0VRcBz"
      },
      "execution_count": 3,
      "outputs": []
    },
    {
      "cell_type": "code",
      "source": [
        "def mask(x, y, shape):\n",
        "    row_fill, col_fill = draw.polygon(x, y, shape)\n",
        "    mask = np.zeros(shape, dtype=np.bool)\n",
        "    mask[row_fill,col_fill] = True\n",
        "    return mask*255"
      ],
      "metadata": {
        "id": "4ev6swt_0jUR"
      },
      "execution_count": 4,
      "outputs": []
    },
    {
      "cell_type": "code",
      "source": [
        "from google.colab.patches import cv2_imshow\n",
        "import cv2\n",
        "import os\n",
        "img=[]\n",
        "for i in range(len(x)):\n",
        "  bw=mask(x[i],y[i],(256,256))\n",
        "  img.append(bw)\n",
        "  cv2.imwrite(\"/content/drive/MyDrive/Bitmaps/\"+str(i)+\".jpeg\",bw)\n",
        "  cv2_imshow(bw)"
      ],
      "metadata": {
        "id": "zQI02mnO0hLX"
      },
      "execution_count": null,
      "outputs": []
    },
    {
      "cell_type": "code",
      "source": [
        "# image=[]\n",
        "# for i in range(len(x)):\n",
        "#   image.append([])\n",
        "#   for j in range(len(x[i])):\n",
        "#     image[i].append((x[i][j],y[i][j]))\n",
        "# image\n",
        "# for a in range(len(x)):\n",
        "\n",
        "# x_coordinates=[]\n",
        "# for i in range(len(x)):\n",
        "#   for j in range(len(x[i])):\n",
        "#     x_coordinates.append(x[i][j])\n",
        "# print(len(x_coordinates))\n",
        "\n",
        "# y_coordinates=[]\n",
        "# for i in range(len(x)):\n",
        "#   for j in range(len(x[i])):\n",
        "#     y_coordinates.append(x[i][j])\n",
        "# print(len(y_coordinates))\n",
        "\n",
        "\n",
        "# x_coordinates=[]\n",
        "# y_coordinates=[]\n",
        "# polygon=[]\n",
        "# for i in zip(range(len(x))):\n",
        "#   for j in zip(range(len(x[i]))):\n",
        "#     x_coordinates.append(x[i][j])\n",
        "#     y_coordinates.append(y[i][j])\n",
        "\n",
        "# for x,y in zip(x_coordinates,y_coordinates):\n",
        "#   c=(x,y)\n",
        "#   polygon.append(c)\n",
        "# polygon\n",
        "\n",
        "# a=file[\"1.jpeg\"][\"regions\"][\"0\"][\"shape_attributes\"]['all_points_x']\n",
        "# b=file[\"1.jpeg\"][\"regions\"][\"0\"][\"shape_attributes\"]['all_points_y']\n",
        "# print(a)\n",
        "# print(b)\n",
        "\n",
        "# x=sum(x, [])\n",
        "# y=sum(y, [])"
      ],
      "metadata": {
        "id": "JNvd93TLANo7"
      },
      "execution_count": null,
      "outputs": []
    },
    {
      "cell_type": "code",
      "source": [
        "# if the opening and closing brackets are {} we can use string indexes, otherwise if we the opening and closing brackets are [], we use integer index"
      ],
      "metadata": {
        "id": "2NONOVBwgQ7p"
      },
      "execution_count": null,
      "outputs": []
    },
    {
      "cell_type": "code",
      "source": [
        "# import json\n",
        "# person = '{\"name\": \"Bob\", \"languages\": [\"Python\", \"Java\",\"Loda\",\"Lehsun\"]}'\n",
        "\n",
        "# person = '{\"name\": \"Bob\", \"languages\": [\"English\", \"French\"]}'\n",
        "# person_dict = json.loads(person)\n",
        "\n",
        "# Output: {'name': 'Bob', 'languages': ['English', 'French']}\n",
        "# print( person_dict)\n",
        "\n",
        "# Output: ['English', 'French']\n",
        "# print(person_dict['languages'])"
      ],
      "metadata": {
        "id": "ZVw0JzLoct-D"
      },
      "execution_count": null,
      "outputs": []
    }
  ]
}