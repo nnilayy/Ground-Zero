{
  "nbformat": 4,
  "nbformat_minor": 0,
  "metadata": {
    "colab": {
      "provenance": [],
      "authorship_tag": "ABX9TyMRR90GPCu0JrhvradWynlJ",
      "include_colab_link": true
    },
    "kernelspec": {
      "name": "python3",
      "display_name": "Python 3"
    },
    "language_info": {
      "name": "python"
    },
    "accelerator": "GPU",
    "gpuClass": "standard"
  },
  "cells": [
    {
      "cell_type": "markdown",
      "metadata": {
        "id": "view-in-github",
        "colab_type": "text"
      },
      "source": [
        "<a href=\"https://colab.research.google.com/github/nnilayy/Unet/blob/main/Polygon2Mask.ipynb\" target=\"_parent\"><img src=\"https://colab.research.google.com/assets/colab-badge.svg\" alt=\"Open In Colab\"/></a>"
      ]
    },
    {
      "cell_type": "code",
      "source": [
        "import numpy as np\n",
        "from skimage import draw"
      ],
      "metadata": {
        "id": "DYkztk1fpG3V"
      },
      "execution_count": 37,
      "outputs": []
    },
    {
      "cell_type": "code",
      "source": [
        "from google.colab import drive\n",
        "drive.mount('/content/drive')"
      ],
      "metadata": {
        "id": "egsfdkxTYYRD"
      },
      "execution_count": null,
      "outputs": []
    },
    {
      "cell_type": "code",
      "source": [
        "!unzip -q /content/Images.zip -d /content/"
      ],
      "metadata": {
        "id": "XoJaJIdeKWd7"
      },
      "execution_count": 21,
      "outputs": []
    },
    {
      "cell_type": "markdown",
      "source": [
        "## Extracting the shape of the images"
      ],
      "metadata": {
        "id": "8uMkyZKSF5bR"
      }
    },
    {
      "cell_type": "code",
      "source": [
        "from google.colab.patches import cv2_imshow\n",
        "import glob\n",
        "import os\n",
        "import numpy as np\n",
        "import cv2\n",
        "\n",
        "images=sorted(glob.glob(\"/content/Images/*\"))\n",
        "image_shapes=[]\n",
        "for image in images:\n",
        "  image=cv2.imread(image)\n",
        "  image=np.array(image)\n",
        "  width,height,_=image.shape\n",
        "  cv2_imshow(image)\n",
        "  image_shapes.append((width,height))\n",
        "image_shapes\n"
      ],
      "metadata": {
        "id": "sVbn82yF6VsW"
      },
      "execution_count": null,
      "outputs": []
    },
    {
      "cell_type": "markdown",
      "source": [
        "## Extracting the X_coordinates and y_coordinates of all images "
      ],
      "metadata": {
        "id": "GQTGcifALRVC"
      }
    },
    {
      "cell_type": "code",
      "source": [
        "import json\n",
        "with open('/content/Balls_Polygon.json', 'r') as f:\n",
        "  file = json.load(f)\n",
        "x=[]\n",
        "y=[]\n",
        "for i in file:\n",
        " x.append(file[str(i)][\"regions\"][\"0\"][\"shape_attributes\"]['all_points_x'])\n",
        " y.append(file[str(i)][\"regions\"][\"0\"][\"shape_attributes\"]['all_points_y'])\n",
        "print(x)\n",
        "print(y)"
      ],
      "metadata": {
        "id": "KV85hU0VRcBz"
      },
      "execution_count": null,
      "outputs": []
    },
    {
      "cell_type": "markdown",
      "source": [
        "## Drawing masks"
      ],
      "metadata": {
        "id": "I_2MdG6ZLkEe"
      }
    },
    {
      "cell_type": "code",
      "source": [
        "def mask(x, y, shape):\n",
        "    row_fill, col_fill = draw.polygon(x, y, shape)\n",
        "    mask = np.zeros(shape, dtype=np.bool)\n",
        "    mask[row_fill,col_fill] = True\n",
        "    return mask*255"
      ],
      "metadata": {
        "id": "4ev6swt_0jUR"
      },
      "execution_count": 42,
      "outputs": []
    },
    {
      "cell_type": "code",
      "source": [
        "!mkdir \"/content/drive/MyDrive/Bitmaps\""
      ],
      "metadata": {
        "id": "brFdXw1AYse6"
      },
      "execution_count": 44,
      "outputs": []
    },
    {
      "cell_type": "code",
      "source": [
        "from google.colab.patches import cv2_imshow\n",
        "import cv2\n",
        "import os\n",
        "img=[]\n",
        "for i,shape in zip(range(len(x)),image_shapes):\n",
        "  bw=mask(y[i],x[i],shape)\n",
        "  img.append(bw)\n",
        "  cv2.imwrite(\"/content/drive/MyDrive/Bitmaps/\"+str(i+1)+\".jpeg\",bw)\n",
        "  cv2_imshow(bw)"
      ],
      "metadata": {
        "id": "zQI02mnO0hLX"
      },
      "execution_count": null,
      "outputs": []
    },
    {
      "cell_type": "markdown",
      "source": [
        "## Setting Data Generator For Augmentation"
      ],
      "metadata": {
        "id": "GhKCxt_EkXbu"
      }
    },
    {
      "cell_type": "code",
      "source": [
        "from tensorflow.keras.preprocessing.image import ImageDataGenerator, array_to_img, img_to_array, load_img\n",
        "datagen=ImageDataGenerator(\n",
        "    rotation_range=40,\n",
        "    width_shift_range=0.2,\n",
        "    height_shift_range=0.2,\n",
        "    shear_range=0.2,\n",
        "    zoom_range=0.2,\n",
        "    horizontal_flip=True,\n",
        "    fill_mode=\"nearest\",\n",
        ")"
      ],
      "metadata": {
        "id": "J8kaxxxBRPy5"
      },
      "execution_count": 36,
      "outputs": []
    },
    {
      "cell_type": "markdown",
      "source": [
        "## Augmenting Images"
      ],
      "metadata": {
        "id": "xhDtFqpAkeLx"
      }
    },
    {
      "cell_type": "code",
      "source": [
        "!mkdir \"/content/drive/MyDrive/Augmented\""
      ],
      "metadata": {
        "id": "PP04QbMedgor"
      },
      "execution_count": null,
      "outputs": []
    },
    {
      "cell_type": "code",
      "source": [
        "images=sorted(glob.glob(\"/content/Images/*\"))\n",
        "masks=sorted(glob.glob(\"/content/drive/MyDrive/Bitmaps*\"))\n",
        "\n",
        "for image,mask in zip(images,masks):\n",
        "  img=load_img(image)\n",
        "  x=img_to_array(img)\n",
        "  x=x.reshape((1,)+x.shape)\n",
        "\n",
        "  mask=load_img(mask)\n",
        "  y=img_to_array(mask)\n",
        "  y=y.reshape((1,)+y.shape)\n",
        "\n",
        "  i=1\n",
        "  for batch in datagen.flow(x,batch_size=1,save_to_dir=\"/content/drive/MyDrive/Augmented/Images/\",save_prefix=\"Balls\",save_format=\"jpeg\",seed=42):\n",
        "    i+=1\n",
        "    if i>5:\n",
        "      break\n",
        "  i=1\n",
        "  for batch in datagen.flow(y,batch_size=1,save_to_dir=\"/content/drive/MyDrive/Augmented/Masks/\",save_prefix=\"Balls\",save_format=\"jpeg\",seed=42):\n",
        "    i+=5\n",
        "    if i>3:\n",
        "      break\n",
        "\n"
      ],
      "metadata": {
        "id": "rxd4UI9GkVLT"
      },
      "execution_count": null,
      "outputs": []
    },
    {
      "cell_type": "code",
      "source": [
        "# image=[]\n",
        "# for i in range(len(x)):\n",
        "#   image.append([])\n",
        "#   for j in range(len(x[i])):\n",
        "#     image[i].append((x[i][j],y[i][j]))\n",
        "# image\n",
        "# for a in range(len(x)):\n",
        "\n",
        "# x_coordinates=[]\n",
        "# for i in range(len(x)):\n",
        "#   for j in range(len(x[i])):\n",
        "#     x_coordinates.append(x[i][j])\n",
        "# print(len(x_coordinates))\n",
        "\n",
        "# y_coordinates=[]\n",
        "# for i in range(len(x)):\n",
        "#   for j in range(len(x[i])):\n",
        "#     y_coordinates.append(x[i][j])\n",
        "# print(len(y_coordinates))\n",
        "\n",
        "\n",
        "# x_coordinates=[]\n",
        "# y_coordinates=[]\n",
        "# polygon=[]\n",
        "# for i in zip(range(len(x))):\n",
        "#   for j in zip(range(len(x[i]))):\n",
        "#     x_coordinates.append(x[i][j])\n",
        "#     y_coordinates.append(y[i][j])\n",
        "\n",
        "# for x,y in zip(x_coordinates,y_coordinates):\n",
        "#   c=(x,y)\n",
        "#   polygon.append(c)\n",
        "# polygon\n",
        "\n",
        "# a=file[\"1.jpeg\"][\"regions\"][\"0\"][\"shape_attributes\"]['all_points_x']\n",
        "# b=file[\"1.jpeg\"][\"regions\"][\"0\"][\"shape_attributes\"]['all_points_y']\n",
        "# print(a)\n",
        "# print(b)\n",
        "\n",
        "# x=sum(x, [])\n",
        "# y=sum(y, [])"
      ],
      "metadata": {
        "id": "JNvd93TLANo7"
      },
      "execution_count": null,
      "outputs": []
    },
    {
      "cell_type": "code",
      "source": [
        "# if the opening and closing brackets are {} we can use string indexes, otherwise if we the opening and closing brackets are [], we use integer index"
      ],
      "metadata": {
        "id": "2NONOVBwgQ7p"
      },
      "execution_count": null,
      "outputs": []
    },
    {
      "cell_type": "code",
      "source": [
        "# import json\n",
        "# person = '{\"name\": \"Bob\", \"languages\": [\"Python\", \"Java\",\"Loda\",\"Lehsun\"]}'\n",
        "\n",
        "# person = '{\"name\": \"Bob\", \"languages\": [\"English\", \"French\"]}'\n",
        "# person_dict = json.loads(person)\n",
        "\n",
        "# Output: {'name': 'Bob', 'languages': ['English', 'French']}\n",
        "# print( person_dict)\n",
        "\n",
        "# Output: ['English', 'French']\n",
        "# print(person_dict['languages'])"
      ],
      "metadata": {
        "id": "ZVw0JzLoct-D"
      },
      "execution_count": null,
      "outputs": []
    }
  ]
}