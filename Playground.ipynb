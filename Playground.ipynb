{
 "cells": [
  {
   "cell_type": "code",
   "execution_count": 7,
   "metadata": {},
   "outputs": [
    {
     "name": "stdout",
     "output_type": "stream",
     "text": [
      "Relu Output:  0.0\n",
      "Sigmoid Output:  0.23147521650098238\n"
     ]
    }
   ],
   "source": [
    "from activations.relu.relu import relu\n",
    "from activations.sigmoid.sigmoid import sigmoid\n",
    "\n",
    "x = -1.2\n",
    "print(\"Relu Output: \",relu(x))\n",
    "print(\"Sigmoid Output: \",sigmoid(x))"
   ]
  },
  {
   "cell_type": "code",
   "execution_count": 10,
   "metadata": {},
   "outputs": [
    {
     "data": {
      "text/plain": [
       "np.float64(0.21606)"
      ]
     },
     "execution_count": 10,
     "metadata": {},
     "output_type": "execute_result"
    }
   ],
   "source": [
    "import numpy as np \n",
    "from loss_functions.mse import mse \n",
    "\n",
    "# Given values \n",
    "Y_true = [1,1,2,2,4]  # Y_true = Y (original values) \n",
    "  \n",
    "# Calculated values \n",
    "Y_pred = [0.6,1.29,1.99,2.69,3.4]  # Y_pred = Y' \n",
    "  \n",
    "# Mean Squared Error \n",
    "MSE = mse(Y_true, Y_pred)\n",
    "# MSE"
   ]
  },
  {
   "cell_type": "code",
   "execution_count": null,
   "metadata": {},
   "outputs": [],
   "source": []
  }
 ],
 "metadata": {
  "kernelspec": {
   "display_name": "venv",
   "language": "python",
   "name": "python3"
  },
  "language_info": {
   "codemirror_mode": {
    "name": "ipython",
    "version": 3
   },
   "file_extension": ".py",
   "mimetype": "text/x-python",
   "name": "python",
   "nbconvert_exporter": "python",
   "pygments_lexer": "ipython3",
   "version": "3.12.4"
  }
 },
 "nbformat": 4,
 "nbformat_minor": 2
}
