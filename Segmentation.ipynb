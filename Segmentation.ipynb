{
  "nbformat": 4,
  "nbformat_minor": 0,
  "metadata": {
    "colab": {
      "provenance": [],
      "authorship_tag": "ABX9TyNqm7qyDFI0kgyvjC9G/tF/",
      "include_colab_link": true
    },
    "kernelspec": {
      "name": "python3",
      "display_name": "Python 3"
    },
    "language_info": {
      "name": "python"
    },
    "accelerator": "GPU",
    "gpuClass": "standard"
  },
  "cells": [
    {
      "cell_type": "markdown",
      "metadata": {
        "id": "view-in-github",
        "colab_type": "text"
      },
      "source": [
        "<a href=\"https://colab.research.google.com/github/nnilayy/Unet/blob/main/Segmentation.ipynb\" target=\"_parent\"><img src=\"https://colab.research.google.com/assets/colab-badge.svg\" alt=\"Open In Colab\"/></a>"
      ]
    },
    {
      "cell_type": "code",
      "execution_count": 1,
      "metadata": {
        "id": "FkRHSe0ZPmWt"
      },
      "outputs": [],
      "source": [
        "import cv2\n",
        "import glob \n",
        "import numpy as np\n",
        "import matplotlib.pyplot as plt\n",
        "from google.colab.patches import cv2_imshow\n",
        "import tensorflow as tf"
      ]
    },
    {
      "cell_type": "markdown",
      "source": [
        "## Drive"
      ],
      "metadata": {
        "id": "xJREi9-7H2y4"
      }
    },
    {
      "cell_type": "code",
      "source": [
        "from google.colab import drive\n",
        "drive.mount('/content/drive')"
      ],
      "metadata": {
        "id": "tbrAFatrHb5K"
      },
      "execution_count": null,
      "outputs": []
    },
    {
      "cell_type": "markdown",
      "source": [
        "## Image Size"
      ],
      "metadata": {
        "id": "zXvXyzHwEsvp"
      }
    },
    {
      "cell_type": "code",
      "source": [
        "IMAGE_SIZE=128"
      ],
      "metadata": {
        "id": "hmRraeyFEvY2"
      },
      "execution_count": 5,
      "outputs": []
    },
    {
      "cell_type": "markdown",
      "source": [
        "## Dataset"
      ],
      "metadata": {
        "id": "Pf8SR1GJHNMI"
      }
    },
    {
      "cell_type": "code",
      "source": [
        "import matplotlib.pyplot as plt\n",
        "import cv2 \n",
        "import glob \n",
        "import numpy as np\n",
        "X=[]\n",
        "y=[]\n",
        "images=sorted(glob.glob('/content/drive/MyDrive/Balls/Images/*'))\n",
        "masks=sorted(glob.glob('/content/drive/MyDrive/Balls/Masks/*'))\n",
        "\n",
        "for image in images:\n",
        "  image=cv2.imread(image,cv2.IMREAD_GRAYSCALE)\n",
        "  image=cv2.resize(image,(IMAGE_SIZE,IMAGE_SIZE))\n",
        "  image=image/255\n",
        "  X.append(image)\n",
        "\n",
        "for mask in masks:\n",
        "  mask=cv2.imread(mask,cv2.IMREAD_GRAYSCALE)\n",
        "  mask=cv2.resize(mask,(IMAGE_SIZE,IMAGE_SIZE))\n",
        "  mask=mask/255\n",
        "  mask=np.where(mask>0.5,1,0).astype(mask.dtype)\n",
        "  y.append(mask)"
      ],
      "metadata": {
        "id": "r3T7Fvc4qMGB"
      },
      "execution_count": 6,
      "outputs": []
    },
    {
      "cell_type": "code",
      "source": [
        "X=np.array(X)\n",
        "y=np.array(y)"
      ],
      "metadata": {
        "id": "xUZTMqyDOQsl"
      },
      "execution_count": 7,
      "outputs": []
    },
    {
      "cell_type": "code",
      "source": [
        "len(images)\n",
        "X.shape"
      ],
      "metadata": {
        "id": "ASmlcXn5KhzX",
        "colab": {
          "base_uri": "https://localhost:8080/"
        },
        "outputId": "514766ad-983c-4359-a3a0-5db3a9c27b9c"
      },
      "execution_count": 8,
      "outputs": [
        {
          "output_type": "execute_result",
          "data": {
            "text/plain": [
              "(480, 128, 128)"
            ]
          },
          "metadata": {},
          "execution_count": 8
        }
      ]
    },
    {
      "cell_type": "markdown",
      "source": [
        "## Visualizing Images and Masks"
      ],
      "metadata": {
        "id": "fQbjklFD0R2_"
      }
    },
    {
      "cell_type": "code",
      "source": [
        "index=456\n",
        "image=X[index]\n",
        "mask=y[index]\n",
        "plt.subplot(1, 2, 1)\n",
        "plt.imshow(image,cmap='gray')\n",
        "plt.subplot(1, 2, 2)\n",
        "plt.imshow(mask,cmap='gray')\n",
        "plt.show()"
      ],
      "metadata": {
        "colab": {
          "base_uri": "https://localhost:8080/",
          "height": 203
        },
        "id": "QHNOR-XSzdf5",
        "outputId": "bc1dcba3-c8aa-4a74-bc5f-66751c81e8c6"
      },
      "execution_count": 9,
      "outputs": [
        {
          "output_type": "display_data",
          "data": {
            "text/plain": [
              "<Figure size 432x288 with 2 Axes>"
            ],
            "image/png": "[encoded data removed]"
          },
          "metadata": {
            "needs_background": "light"
          }
        }
      ]
    },
    {
      "cell_type": "markdown",
      "source": [
        "## Model"
      ],
      "metadata": {
        "id": "ujV62CDqHR0R"
      }
    },
    {
      "cell_type": "code",
      "source": [
        "from tensorflow.keras.models import Sequential\n",
        "from tensorflow.keras.layers import Dense, Input,Conv2D, MaxPooling2D, Resizing,AveragePooling2D, Flatten, Dropout, BatchNormalization, InputLayer, Reshape\n",
        "model = Sequential()\n",
        "model.add(InputLayer(input_shape=(64, 64, 1)))\n",
        "model.add(Conv2D(64, 2, padding='same', activation=\"relu\"))\n",
        "\n",
        "model.add(Resizing(64, 64, interpolation='nearest'))\n",
        "\n",
        "# model.add(AveragePooling2D(2, padding='same'))\n",
        "# model.add(Conv2D(8, 3, padding='same', activation=\"relu\"))\n",
        "# model.add(AveragePooling2D(2, padding='same'))\n",
        "# model.add(Conv2D(4, 3, padding='same', activation=\"relu\"))\n",
        "# model.add(AveragePooling2D(2, padding='same'))\n",
        "# model.add(Conv2D(1, 1, padding='same', activation=\"relu\"))\n",
        "# model.add(Resizing(64, 64, interpolation='bilinear'))\n",
        "\n",
        "# model.add(Conv2D(16, 3, padding='same', activation=\"relu\"))\n",
        "# model.add(AveragePooling2D(2, padding='same'))\n",
        "# model.add(Conv2D(8, 3, padding='same', activation=\"relu\"))\n",
        "# model.add(AveragePooling2D(2, padding='same'))\n",
        "# model.add(Conv2D(4, 3, padding='same', activation=\"relu\"))\n",
        "# model.add(AveragePooling2D(2, padding='same'))\n",
        "# model.add(Conv2D(1, 1, padding='same', activation=\"relu\"))\n",
        "# model.add(Resizing(64, 64, interpolation='bilinear'))\n",
        "\n",
        "# model.add(Conv2D(16, 3, padding='same', activation=\"relu\"))\n",
        "# model.add(AveragePooling2D(2, padding='same'))\n",
        "# model.add(Conv2D(8, 3, padding='same', activation=\"relu\"))\n",
        "# model.add(AveragePooling2D(2, padding='same'))\n",
        "# model.add(Conv2D(4, 3, padding='same', activation=\"relu\"))\n",
        "# model.add(AveragePooling2D(2, padding='same'))\n",
        "# model.add(Conv2D(1, 1, padding='same', activation=\"relu\"))\n",
        "# model.add(Resizing(64, 64, interpolation='bilinear'))\n",
        "\n",
        "# model.add(Conv2D(16, 3, padding='same', activation=\"relu\"))\n",
        "# model.add(AveragePooling2D(2, padding='same'))\n",
        "# model.add(Conv2D(8, 3, padding='same', activation=\"relu\"))\n",
        "# model.add(AveragePooling2D(2, padding='same'))\n",
        "# model.add(Conv2D(4, 3, padding='same', activation=\"relu\"))\n",
        "# model.add(AveragePooling2D(2, padding='same'))\n",
        "# model.add(Conv2D(1, 1, padding='same', activation=\"relu\"))\n",
        "# model.add(Resizing(64, 64, interpolation='bilinear'))\n",
        "# model.add(Flatten())\n",
        "# model.add(Dense(64, activation=\"relu\"))\n",
        "# model.add(Dense(4096, activation=\"relu\"))\n",
        "model.summary()"
      ],
      "metadata": {
        "id": "H2FJWYLtcKxE"
      },
      "execution_count": null,
      "outputs": []
    },
    {
      "cell_type": "code",
      "source": [
        "from keras.models import Model\n",
        "from keras.layers import concatenate\n",
        "# image=Input(shape=(64, 64, 1))\n",
        "# conv1=Conv2D(64, 3, padding='same', activation=\"relu\")(image)\n",
        "# av1=AveragePooling2D(2, padding='same')(conv1)\n",
        "# conv2=Conv2D(32, 3, padding='same', activation=\"relu\")(av1)\n",
        "# resize=Resizing(64, 64, interpolation='bilinear')(conv2)\n",
        "# conv3=Conv2D(1, 1, padding='same', activation=\"relu\")(resize)\n",
        "# conc=concatenate([conv1, resize])\n",
        "# conv4=Conv2D(1, 1, padding='same', activation=\"relu\")(conc)\n",
        "# conv2=Conv2D(1, 1, padding='same', activation=\"relu\")(conv1)\n",
        "# conv3=Conv2D(1, 1, padding='same', activation=\"relu\")(conc)\n",
        "\n",
        "# resize=Resizing(64, 64, interpolation='bilinear')(conv2)\n",
        "# av1=AveragePooling2D(2, padding='same')(conv1)\n",
        "# conv2=Conv2D(16, 3, padding='same', activation=\"relu\")(av1)\n",
        "# av2=AveragePooling2D(2, padding='same')(conv2)\n",
        "# conv3=Conv2D(8, 3, padding='same', activation=\"relu\")(av2)\n",
        "# av3=AveragePooling2D(2, padding='same')(conv3)\n",
        "# conv4=Conv2D(1, 1, padding='same', activation=\"relu\")(av3)\n",
        "\n",
        "image=Input(shape=(IMAGE_SIZE, IMAGE_SIZE, 1))\n",
        "conv1=Conv2D(16, 4, padding='same', activation=\"relu\")(image)\n",
        "conv2=Conv2D(8, 4, padding='same', activation=\"relu\")(conv1)\n",
        "av1=AveragePooling2D(2, padding='same')(conv2)\n",
        "conv3=Conv2D(16, 4, padding='same', activation=\"relu\")(av1)\n",
        "conv4=Conv2D(8, 4, padding='same', activation=\"relu\")(conv3)\n",
        "av2=AveragePooling2D(2, padding='same')(conv4)\n",
        "conv5=Conv2D(16, 4, padding='same', activation=\"relu\")(av2)\n",
        "conv6=Conv2D(8, 4, padding='same', activation=\"relu\")(conv5)\n",
        "av3=AveragePooling2D(2, padding='same')(conv6)\n",
        "resize=Resizing(IMAGE_SIZE, IMAGE_SIZE, interpolation='bilinear')(av3)\n",
        "conc=concatenate([conv1,resize])\n",
        "conv5=Conv2D(1, 1, padding='same', activation=\"relu\")(conc)\n",
        "model=Model(inputs=image, outputs=conv5)\n",
        "model.summary()\n",
        "# --------------------------------------------------------------------------------------------\n",
        "# --------------------------------------------------------------------------------------------\n",
        "# image=Input(shape=(64, 64, 1))\n",
        "# conv1=Conv2D(16, 4, padding='same')(image)\n",
        "# bn1=BatchNormalization()(conv1)\n",
        "# drop1=Dropout(0.15)(bn1)\n",
        "# act1=Activation(\"relu\")(drop1)\n",
        "# conv2=Conv2D(8, 4, padding='same')(act1)\n",
        "# bn2=BatchNormalization()(conv2)\n",
        "# drop2=Dropout(0.15)(bn2)\n",
        "# act2=Activation(\"relu\")(drop2)\n",
        "# av1=AveragePooling2D(2, padding='same')(act2)\n",
        "# conv3=Conv2D(16, 4, padding='same', activation=\"relu\")(av1)\n",
        "# bn3=BatchNormalization()(conv3)\n",
        "# drop3=Dropout(0.15)(bn3)\n",
        "# act3=Activation(\"relu\")(drop3)\n",
        "# conv4=Conv2D(8, 4, padding='same', activation=\"relu\")(act3)\n",
        "# bn4=BatchNormalization()(conv4)\n",
        "# drop4=Dropout(0.15)(bn4)\n",
        "# act4=Activation(\"relu\")(drop4)\n",
        "# av2=AveragePooling2D(2, padding='same')(act4)\n",
        "# conv5=Conv2D(16, 4, padding='same', activation=\"relu\")(av2)\n",
        "# bn5=BatchNormalization()(conv5)\n",
        "# drop5=Dropout(0.15)(bn5)\n",
        "# act5=Activation(\"relu\")(drop5)\n",
        "# conv6=Conv2D(8, 4, padding='same', activation=\"relu\")(act5)\n",
        "# bn6=BatchNormalization()(conv6)\n",
        "# drop6=Dropout(0.15)(bn6)\n",
        "# act6=Activation(\"relu\")(drop6)\n",
        "# av3=AveragePooling2D(2, padding='same')(act6)\n",
        "# resize=Resizing(64, 64, interpolation='bilinear')(av3)\n",
        "# conc=concatenate([conv1,resize])\n",
        "# conv5=Conv2D(1, 1, padding='same', activation=\"relu\")(conc)\n",
        "# model=Model(inputs=image, outputs=conv5)\n",
        "# model.summary()\n",
        "# --------------------------------------------------------------------------------------------\n",
        "# --------------------------------------------------------------------------------------------"
      ],
      "metadata": {
        "id": "K0jugYvr6Fde"
      },
      "execution_count": null,
      "outputs": []
    },
    {
      "cell_type": "code",
      "source": [
        "import tensorflow as tf\n",
        "model.compile(loss=\"mse\", \n",
        "              optimizer=tf.keras.optimizers.experimental.Adam(learning_rate=1e-3),\n",
        "              metrics='mean_absolute_error')\n",
        "model.fit(X, \n",
        "          y, \n",
        "          steps_per_epoch=32, \n",
        "          epochs=300, \n",
        "          verbose=1)"
      ],
      "metadata": {
        "id": "K-89x6W6o_ZT",
        "colab": {
          "base_uri": "https://localhost:8080/"
        },
        "outputId": "220b23ef-dda5-4a38-fb66-bb59a3d60c6d"
      },
      "execution_count": null,
      "outputs": [
        {
          "output_type": "stream",
          "name": "stdout",
          "text": [
            "Epoch 1/300\n",
            "32/32 [==============================] - 13s 15ms/step - loss: 0.1303 - mean_absolute_error: 0.2461\n",
            "Epoch 2/300\n",
            "32/32 [==============================] - 0s 11ms/step - loss: 0.1168 - mean_absolute_error: 0.2434\n",
            "Epoch 3/300\n",
            "32/32 [==============================] - 0s 11ms/step - loss: 0.1059 - mean_absolute_error: 0.2103\n",
            "Epoch 4/300\n",
            "32/32 [==============================] - 0s 11ms/step - loss: 0.0940 - mean_absolute_error: 0.1818\n",
            "Epoch 5/300\n",
            "32/32 [==============================] - 0s 11ms/step - loss: 0.0834 - mean_absolute_error: 0.1679\n",
            "Epoch 6/300\n",
            "32/32 [==============================] - 0s 11ms/step - loss: 0.0775 - mean_absolute_error: 0.1605\n",
            "Epoch 7/300\n",
            "32/32 [==============================] - 0s 11ms/step - loss: 0.0713 - mean_absolute_error: 0.1511\n",
            "Epoch 8/300\n",
            "32/32 [==============================] - 0s 11ms/step - loss: 0.0660 - mean_absolute_error: 0.1407\n",
            "Epoch 9/300\n",
            "32/32 [==============================] - 0s 11ms/step - loss: 0.0652 - mean_absolute_error: 0.1407\n",
            "Epoch 10/300\n",
            "32/32 [==============================] - 0s 11ms/step - loss: 0.0642 - mean_absolute_error: 0.1352\n",
            "Epoch 11/300\n",
            "32/32 [==============================] - 0s 12ms/step - loss: 0.0592 - mean_absolute_error: 0.1287\n",
            "Epoch 12/300\n",
            "32/32 [==============================] - 0s 11ms/step - loss: 0.0554 - mean_absolute_error: 0.1231\n",
            "Epoch 13/300\n",
            "32/32 [==============================] - 0s 12ms/step - loss: 0.0572 - mean_absolute_error: 0.1232\n",
            "Epoch 14/300\n",
            "32/32 [==============================] - 0s 11ms/step - loss: 0.0585 - mean_absolute_error: 0.1225\n",
            "Epoch 15/300\n",
            "32/32 [==============================] - 0s 11ms/step - loss: 0.0543 - mean_absolute_error: 0.1189\n",
            "Epoch 16/300\n",
            "32/32 [==============================] - 0s 11ms/step - loss: 0.0575 - mean_absolute_error: 0.1251\n",
            "Epoch 17/300\n",
            "32/32 [==============================] - 0s 11ms/step - loss: 0.0510 - mean_absolute_error: 0.1120\n",
            "Epoch 18/300\n",
            "32/32 [==============================] - 0s 11ms/step - loss: 0.0525 - mean_absolute_error: 0.1155\n",
            "Epoch 19/300\n",
            "32/32 [==============================] - 0s 11ms/step - loss: 0.0481 - mean_absolute_error: 0.1077\n",
            "Epoch 20/300\n",
            "32/32 [==============================] - 0s 12ms/step - loss: 0.0470 - mean_absolute_error: 0.1044\n",
            "Epoch 21/300\n",
            "32/32 [==============================] - 0s 12ms/step - loss: 0.0475 - mean_absolute_error: 0.1046\n",
            "Epoch 22/300\n",
            "32/32 [==============================] - 0s 12ms/step - loss: 0.0452 - mean_absolute_error: 0.1008\n",
            "Epoch 23/300\n",
            "32/32 [==============================] - 0s 12ms/step - loss: 0.0468 - mean_absolute_error: 0.1010\n",
            "Epoch 24/300\n",
            "32/32 [==============================] - 0s 12ms/step - loss: 0.0477 - mean_absolute_error: 0.1045\n",
            "Epoch 25/300\n",
            "32/32 [==============================] - 0s 12ms/step - loss: 0.0422 - mean_absolute_error: 0.0967\n",
            "Epoch 26/300\n",
            "32/32 [==============================] - 0s 12ms/step - loss: 0.0434 - mean_absolute_error: 0.0966\n",
            "Epoch 27/300\n",
            "32/32 [==============================] - 0s 12ms/step - loss: 0.0422 - mean_absolute_error: 0.0947\n",
            "Epoch 28/300\n",
            "32/32 [==============================] - 0s 12ms/step - loss: 0.0397 - mean_absolute_error: 0.0906\n",
            "Epoch 29/300\n",
            "32/32 [==============================] - 0s 11ms/step - loss: 0.0420 - mean_absolute_error: 0.0920\n",
            "Epoch 30/300\n",
            "32/32 [==============================] - 0s 11ms/step - loss: 0.0411 - mean_absolute_error: 0.0921\n",
            "Epoch 31/300\n",
            "32/32 [==============================] - 0s 11ms/step - loss: 0.0387 - mean_absolute_error: 0.0872\n",
            "Epoch 32/300\n",
            "32/32 [==============================] - 0s 11ms/step - loss: 0.0379 - mean_absolute_error: 0.0869\n",
            "Epoch 33/300\n",
            "32/32 [==============================] - 0s 11ms/step - loss: 0.0387 - mean_absolute_error: 0.0860\n",
            "Epoch 34/300\n",
            "32/32 [==============================] - 0s 11ms/step - loss: 0.0378 - mean_absolute_error: 0.0848\n",
            "Epoch 35/300\n",
            "32/32 [==============================] - 0s 11ms/step - loss: 0.0365 - mean_absolute_error: 0.0832\n",
            "Epoch 36/300\n",
            "32/32 [==============================] - 0s 11ms/step - loss: 0.0387 - mean_absolute_error: 0.0844\n",
            "Epoch 37/300\n",
            "32/32 [==============================] - 0s 11ms/step - loss: 0.0365 - mean_absolute_error: 0.0811\n",
            "Epoch 38/300\n",
            "32/32 [==============================] - 0s 11ms/step - loss: 0.0349 - mean_absolute_error: 0.0799\n",
            "Epoch 39/300\n",
            "32/32 [==============================] - 0s 11ms/step - loss: 0.0350 - mean_absolute_error: 0.0790\n",
            "Epoch 40/300\n",
            "32/32 [==============================] - 0s 11ms/step - loss: 0.0350 - mean_absolute_error: 0.0782\n",
            "Epoch 41/300\n",
            "32/32 [==============================] - 0s 11ms/step - loss: 0.0344 - mean_absolute_error: 0.0772\n",
            "Epoch 42/300\n",
            "32/32 [==============================] - 0s 12ms/step - loss: 0.0366 - mean_absolute_error: 0.0793\n",
            "Epoch 43/300\n",
            "32/32 [==============================] - 0s 11ms/step - loss: 0.0353 - mean_absolute_error: 0.0788\n",
            "Epoch 44/300\n",
            "32/32 [==============================] - 0s 12ms/step - loss: 0.0323 - mean_absolute_error: 0.0741\n",
            "Epoch 45/300\n",
            "32/32 [==============================] - 0s 12ms/step - loss: 0.0332 - mean_absolute_error: 0.0747\n",
            "Epoch 46/300\n",
            "32/32 [==============================] - 0s 11ms/step - loss: 0.0342 - mean_absolute_error: 0.0761\n",
            "Epoch 47/300\n",
            "32/32 [==============================] - 0s 11ms/step - loss: 0.0330 - mean_absolute_error: 0.0743\n",
            "Epoch 48/300\n",
            "32/32 [==============================] - 0s 11ms/step - loss: 0.0317 - mean_absolute_error: 0.0714\n",
            "Epoch 49/300\n",
            "32/32 [==============================] - 0s 12ms/step - loss: 0.0320 - mean_absolute_error: 0.0730\n",
            "Epoch 50/300\n",
            "32/32 [==============================] - 0s 11ms/step - loss: 0.0311 - mean_absolute_error: 0.0704\n",
            "Epoch 51/300\n",
            "32/32 [==============================] - 0s 11ms/step - loss: 0.0301 - mean_absolute_error: 0.0684\n",
            "Epoch 52/300\n",
            "32/32 [==============================] - 0s 11ms/step - loss: 0.0311 - mean_absolute_error: 0.0700\n",
            "Epoch 53/300\n",
            "32/32 [==============================] - 0s 12ms/step - loss: 0.0307 - mean_absolute_error: 0.0699\n",
            "Epoch 54/300\n",
            "32/32 [==============================] - 0s 12ms/step - loss: 0.0292 - mean_absolute_error: 0.0668\n",
            "Epoch 55/300\n",
            "32/32 [==============================] - 0s 12ms/step - loss: 0.0296 - mean_absolute_error: 0.0673\n",
            "Epoch 56/300\n",
            "32/32 [==============================] - 0s 12ms/step - loss: 0.0314 - mean_absolute_error: 0.0695\n",
            "Epoch 57/300\n",
            "32/32 [==============================] - 0s 13ms/step - loss: 0.0299 - mean_absolute_error: 0.0691\n",
            "Epoch 58/300\n",
            "32/32 [==============================] - 0s 12ms/step - loss: 0.0291 - mean_absolute_error: 0.0667\n",
            "Epoch 59/300\n",
            "32/32 [==============================] - 0s 12ms/step - loss: 0.0282 - mean_absolute_error: 0.0652\n",
            "Epoch 60/300\n",
            "32/32 [==============================] - 0s 12ms/step - loss: 0.0278 - mean_absolute_error: 0.0645\n",
            "Epoch 61/300\n",
            "32/32 [==============================] - 0s 13ms/step - loss: 0.0289 - mean_absolute_error: 0.0656\n",
            "Epoch 62/300\n",
            "32/32 [==============================] - 0s 14ms/step - loss: 0.0283 - mean_absolute_error: 0.0665\n",
            "Epoch 63/300\n",
            "32/32 [==============================] - 0s 13ms/step - loss: 0.0287 - mean_absolute_error: 0.0644\n",
            "Epoch 64/300\n",
            "32/32 [==============================] - 0s 13ms/step - loss: 0.0269 - mean_absolute_error: 0.0624\n",
            "Epoch 65/300\n",
            "32/32 [==============================] - 0s 12ms/step - loss: 0.0289 - mean_absolute_error: 0.0658\n",
            "Epoch 66/300\n",
            "32/32 [==============================] - 0s 12ms/step - loss: 0.0264 - mean_absolute_error: 0.0619\n",
            "Epoch 67/300\n",
            "32/32 [==============================] - 0s 12ms/step - loss: 0.0275 - mean_absolute_error: 0.0634\n",
            "Epoch 68/300\n",
            "32/32 [==============================] - 0s 12ms/step - loss: 0.0281 - mean_absolute_error: 0.0644\n",
            "Epoch 69/300\n",
            "32/32 [==============================] - 0s 12ms/step - loss: 0.0282 - mean_absolute_error: 0.0637\n",
            "Epoch 70/300\n",
            "32/32 [==============================] - 0s 12ms/step - loss: 0.0267 - mean_absolute_error: 0.0620\n",
            "Epoch 71/300\n",
            "32/32 [==============================] - 0s 12ms/step - loss: 0.0251 - mean_absolute_error: 0.0593\n",
            "Epoch 72/300\n",
            "32/32 [==============================] - 0s 12ms/step - loss: 0.0255 - mean_absolute_error: 0.0598\n",
            "Epoch 73/300\n",
            "32/32 [==============================] - 0s 12ms/step - loss: 0.0260 - mean_absolute_error: 0.0606\n",
            "Epoch 74/300\n",
            "32/32 [==============================] - 0s 12ms/step - loss: 0.0254 - mean_absolute_error: 0.0594\n",
            "Epoch 75/300\n",
            "32/32 [==============================] - 0s 12ms/step - loss: 0.0249 - mean_absolute_error: 0.0590\n",
            "Epoch 76/300\n",
            "32/32 [==============================] - 0s 12ms/step - loss: 0.0255 - mean_absolute_error: 0.0594\n",
            "Epoch 77/300\n",
            "32/32 [==============================] - 0s 12ms/step - loss: 0.0248 - mean_absolute_error: 0.0582\n",
            "Epoch 78/300\n",
            "32/32 [==============================] - 0s 11ms/step - loss: 0.0263 - mean_absolute_error: 0.0602\n",
            "Epoch 79/300\n",
            "32/32 [==============================] - 0s 12ms/step - loss: 0.0235 - mean_absolute_error: 0.0554\n",
            "Epoch 80/300\n",
            "32/32 [==============================] - 0s 12ms/step - loss: 0.0230 - mean_absolute_error: 0.0550\n",
            "Epoch 81/300\n",
            "32/32 [==============================] - 0s 12ms/step - loss: 0.0232 - mean_absolute_error: 0.0557\n",
            "Epoch 82/300\n",
            "32/32 [==============================] - 0s 12ms/step - loss: 0.0237 - mean_absolute_error: 0.0558\n",
            "Epoch 83/300\n",
            "32/32 [==============================] - 0s 12ms/step - loss: 0.0234 - mean_absolute_error: 0.0556\n",
            "Epoch 84/300\n",
            "32/32 [==============================] - 0s 12ms/step - loss: 0.0222 - mean_absolute_error: 0.0536\n",
            "Epoch 85/300\n",
            "32/32 [==============================] - 0s 12ms/step - loss: 0.0225 - mean_absolute_error: 0.0544\n",
            "Epoch 86/300\n",
            "32/32 [==============================] - 0s 12ms/step - loss: 0.0222 - mean_absolute_error: 0.0534\n",
            "Epoch 87/300\n",
            "32/32 [==============================] - 0s 12ms/step - loss: 0.0223 - mean_absolute_error: 0.0530\n",
            "Epoch 88/300\n",
            "32/32 [==============================] - 0s 12ms/step - loss: 0.0212 - mean_absolute_error: 0.0520\n",
            "Epoch 89/300\n",
            "32/32 [==============================] - 0s 12ms/step - loss: 0.0216 - mean_absolute_error: 0.0512\n",
            "Epoch 90/300\n",
            "32/32 [==============================] - 0s 12ms/step - loss: 0.0214 - mean_absolute_error: 0.0519\n",
            "Epoch 91/300\n",
            "32/32 [==============================] - 0s 13ms/step - loss: 0.0230 - mean_absolute_error: 0.0546\n",
            "Epoch 92/300\n",
            "32/32 [==============================] - 0s 13ms/step - loss: 0.0219 - mean_absolute_error: 0.0525\n",
            "Epoch 93/300\n",
            "32/32 [==============================] - 0s 13ms/step - loss: 0.0210 - mean_absolute_error: 0.0513\n",
            "Epoch 94/300\n",
            "32/32 [==============================] - 0s 13ms/step - loss: 0.0203 - mean_absolute_error: 0.0495\n",
            "Epoch 95/300\n",
            "32/32 [==============================] - 0s 12ms/step - loss: 0.0203 - mean_absolute_error: 0.0502\n",
            "Epoch 96/300\n",
            "32/32 [==============================] - 0s 12ms/step - loss: 0.0215 - mean_absolute_error: 0.0515\n",
            "Epoch 97/300\n",
            "32/32 [==============================] - 0s 13ms/step - loss: 0.0200 - mean_absolute_error: 0.0495\n",
            "Epoch 98/300\n",
            "32/32 [==============================] - 0s 13ms/step - loss: 0.0195 - mean_absolute_error: 0.0485\n",
            "Epoch 99/300\n",
            "32/32 [==============================] - 0s 13ms/step - loss: 0.0202 - mean_absolute_error: 0.0498\n",
            "Epoch 100/300\n",
            "32/32 [==============================] - 0s 12ms/step - loss: 0.0228 - mean_absolute_error: 0.0533\n",
            "Epoch 101/300\n",
            "32/32 [==============================] - 0s 12ms/step - loss: 0.0213 - mean_absolute_error: 0.0509\n",
            "Epoch 102/300\n",
            "32/32 [==============================] - 0s 12ms/step - loss: 0.0195 - mean_absolute_error: 0.0483\n",
            "Epoch 103/300\n",
            "32/32 [==============================] - 0s 12ms/step - loss: 0.0195 - mean_absolute_error: 0.0480\n",
            "Epoch 104/300\n",
            "32/32 [==============================] - 0s 12ms/step - loss: 0.0191 - mean_absolute_error: 0.0477\n",
            "Epoch 105/300\n",
            "32/32 [==============================] - 0s 12ms/step - loss: 0.0193 - mean_absolute_error: 0.0479\n",
            "Epoch 106/300\n",
            "32/32 [==============================] - 0s 12ms/step - loss: 0.0187 - mean_absolute_error: 0.0467\n",
            "Epoch 107/300\n",
            "32/32 [==============================] - 0s 12ms/step - loss: 0.0189 - mean_absolute_error: 0.0471\n",
            "Epoch 108/300\n",
            "32/32 [==============================] - 0s 12ms/step - loss: 0.0192 - mean_absolute_error: 0.0472\n",
            "Epoch 109/300\n",
            "32/32 [==============================] - 0s 12ms/step - loss: 0.0191 - mean_absolute_error: 0.0471\n",
            "Epoch 110/300\n",
            "32/32 [==============================] - 0s 12ms/step - loss: 0.0189 - mean_absolute_error: 0.0467\n",
            "Epoch 111/300\n",
            "32/32 [==============================] - 0s 12ms/step - loss: 0.0209 - mean_absolute_error: 0.0500\n",
            "Epoch 112/300\n",
            "32/32 [==============================] - 0s 12ms/step - loss: 0.0209 - mean_absolute_error: 0.0504\n",
            "Epoch 113/300\n",
            "32/32 [==============================] - 0s 12ms/step - loss: 0.0183 - mean_absolute_error: 0.0460\n",
            "Epoch 114/300\n",
            "32/32 [==============================] - 0s 12ms/step - loss: 0.0174 - mean_absolute_error: 0.0440\n",
            "Epoch 115/300\n",
            "32/32 [==============================] - 0s 12ms/step - loss: 0.0172 - mean_absolute_error: 0.0435\n",
            "Epoch 116/300\n",
            "32/32 [==============================] - 0s 12ms/step - loss: 0.0200 - mean_absolute_error: 0.0485\n",
            "Epoch 117/300\n",
            "32/32 [==============================] - 0s 12ms/step - loss: 0.0192 - mean_absolute_error: 0.0467\n",
            "Epoch 118/300\n",
            "32/32 [==============================] - 0s 12ms/step - loss: 0.0180 - mean_absolute_error: 0.0446\n",
            "Epoch 119/300\n",
            "32/32 [==============================] - 0s 12ms/step - loss: 0.0174 - mean_absolute_error: 0.0439\n",
            "Epoch 120/300\n",
            "32/32 [==============================] - 0s 12ms/step - loss: 0.0172 - mean_absolute_error: 0.0434\n",
            "Epoch 121/300\n",
            "32/32 [==============================] - 0s 12ms/step - loss: 0.0169 - mean_absolute_error: 0.0430\n",
            "Epoch 122/300\n",
            "32/32 [==============================] - 0s 12ms/step - loss: 0.0171 - mean_absolute_error: 0.0431\n",
            "Epoch 123/300\n",
            "32/32 [==============================] - 0s 12ms/step - loss: 0.0189 - mean_absolute_error: 0.0462\n",
            "Epoch 124/300\n",
            "32/32 [==============================] - 0s 12ms/step - loss: 0.0181 - mean_absolute_error: 0.0447\n",
            "Epoch 125/300\n",
            "32/32 [==============================] - 0s 12ms/step - loss: 0.0171 - mean_absolute_error: 0.0429\n",
            "Epoch 126/300\n",
            "32/32 [==============================] - 0s 13ms/step - loss: 0.0165 - mean_absolute_error: 0.0416\n",
            "Epoch 127/300\n",
            "32/32 [==============================] - 0s 12ms/step - loss: 0.0163 - mean_absolute_error: 0.0415\n",
            "Epoch 128/300\n",
            "32/32 [==============================] - 0s 12ms/step - loss: 0.0163 - mean_absolute_error: 0.0414\n",
            "Epoch 129/300\n",
            "32/32 [==============================] - 0s 13ms/step - loss: 0.0186 - mean_absolute_error: 0.0454\n",
            "Epoch 130/300\n",
            "32/32 [==============================] - 0s 13ms/step - loss: 0.0210 - mean_absolute_error: 0.0493\n",
            "Epoch 131/300\n",
            "32/32 [==============================] - 0s 13ms/step - loss: 0.0179 - mean_absolute_error: 0.0435\n",
            "Epoch 132/300\n",
            "32/32 [==============================] - 0s 13ms/step - loss: 0.0170 - mean_absolute_error: 0.0429\n",
            "Epoch 133/300\n",
            "32/32 [==============================] - 0s 14ms/step - loss: 0.0159 - mean_absolute_error: 0.0410\n",
            "Epoch 134/300\n",
            "32/32 [==============================] - 0s 12ms/step - loss: 0.0161 - mean_absolute_error: 0.0407\n",
            "Epoch 135/300\n",
            "32/32 [==============================] - 0s 12ms/step - loss: 0.0159 - mean_absolute_error: 0.0408\n",
            "Epoch 136/300\n",
            "32/32 [==============================] - 0s 12ms/step - loss: 0.0159 - mean_absolute_error: 0.0404\n",
            "Epoch 137/300\n",
            "32/32 [==============================] - 0s 12ms/step - loss: 0.0155 - mean_absolute_error: 0.0406\n",
            "Epoch 138/300\n",
            "32/32 [==============================] - 0s 12ms/step - loss: 0.0163 - mean_absolute_error: 0.0409\n",
            "Epoch 139/300\n",
            "32/32 [==============================] - 0s 12ms/step - loss: 0.0151 - mean_absolute_error: 0.0391\n",
            "Epoch 140/300\n",
            "32/32 [==============================] - 0s 12ms/step - loss: 0.0169 - mean_absolute_error: 0.0420\n",
            "Epoch 141/300\n",
            "32/32 [==============================] - 0s 12ms/step - loss: 0.0148 - mean_absolute_error: 0.0385\n",
            "Epoch 142/300\n",
            "32/32 [==============================] - 0s 12ms/step - loss: 0.0145 - mean_absolute_error: 0.0380\n",
            "Epoch 143/300\n",
            "32/32 [==============================] - 0s 12ms/step - loss: 0.0241 - mean_absolute_error: 0.0530\n",
            "Epoch 144/300\n",
            "32/32 [==============================] - 0s 12ms/step - loss: 0.0236 - mean_absolute_error: 0.0520\n",
            "Epoch 145/300\n",
            "32/32 [==============================] - 0s 12ms/step - loss: 0.0182 - mean_absolute_error: 0.0441\n",
            "Epoch 146/300\n",
            "32/32 [==============================] - 0s 12ms/step - loss: 0.0168 - mean_absolute_error: 0.0418\n",
            "Epoch 147/300\n",
            "32/32 [==============================] - 0s 12ms/step - loss: 0.0155 - mean_absolute_error: 0.0393\n",
            "Epoch 148/300\n",
            "32/32 [==============================] - 0s 12ms/step - loss: 0.0149 - mean_absolute_error: 0.0385\n",
            "Epoch 149/300\n",
            "32/32 [==============================] - 0s 12ms/step - loss: 0.0146 - mean_absolute_error: 0.0386\n",
            "Epoch 150/300\n",
            "32/32 [==============================] - 0s 12ms/step - loss: 0.0150 - mean_absolute_error: 0.0389\n",
            "Epoch 151/300\n",
            "32/32 [==============================] - 0s 12ms/step - loss: 0.0146 - mean_absolute_error: 0.0381\n",
            "Epoch 152/300\n",
            "32/32 [==============================] - 0s 12ms/step - loss: 0.0137 - mean_absolute_error: 0.0361\n",
            "Epoch 153/300\n",
            "32/32 [==============================] - 0s 12ms/step - loss: 0.0144 - mean_absolute_error: 0.0374\n",
            "Epoch 154/300\n",
            "32/32 [==============================] - 0s 12ms/step - loss: 0.0139 - mean_absolute_error: 0.0363\n",
            "Epoch 155/300\n",
            "32/32 [==============================] - 0s 12ms/step - loss: 0.0151 - mean_absolute_error: 0.0385\n",
            "Epoch 156/300\n",
            "32/32 [==============================] - 0s 13ms/step - loss: 0.0138 - mean_absolute_error: 0.0360\n",
            "Epoch 157/300\n",
            "32/32 [==============================] - 0s 12ms/step - loss: 0.0139 - mean_absolute_error: 0.0361\n",
            "Epoch 158/300\n",
            "32/32 [==============================] - 0s 12ms/step - loss: 0.0147 - mean_absolute_error: 0.0376\n",
            "Epoch 159/300\n",
            "32/32 [==============================] - 0s 12ms/step - loss: 0.0152 - mean_absolute_error: 0.0382\n",
            "Epoch 160/300\n",
            "32/32 [==============================] - 0s 14ms/step - loss: 0.0146 - mean_absolute_error: 0.0375\n",
            "Epoch 161/300\n",
            "32/32 [==============================] - 0s 13ms/step - loss: 0.0136 - mean_absolute_error: 0.0362\n",
            "Epoch 162/300\n",
            "32/32 [==============================] - 0s 13ms/step - loss: 0.0140 - mean_absolute_error: 0.0364\n",
            "Epoch 163/300\n",
            "26/32 [=======================>......] - ETA: 0s - loss: 0.0130 - mean_absolute_error: 0.0342"
          ]
        }
      ]
    },
    {
      "cell_type": "markdown",
      "source": [
        "## Prediction"
      ],
      "metadata": {
        "id": "8s3PHYVnHXRt"
      }
    },
    {
      "cell_type": "code",
      "source": [
        "# Test Image\n",
        "index=456\n",
        "test=X[index]\n",
        "actual=y[index]\n",
        "# file='/content/download.jpg'\n",
        "# test=cv2.imread(file,cv2.IMREAD_GRAYSCALE)\n",
        "# test=cv2.resize(test,(IMAGE_SIZE,IMAGE_SIZE))\n",
        "# test=np.array(test)\n",
        "image=test\n",
        "\n",
        "# Prediction\n",
        "prediction=model.predict(test.reshape(-1,IMAGE_SIZE,IMAGE_SIZE,1))[0]\n",
        "prediction=np.where(prediction>0.3,1,0).astype(prediction.dtype)\n",
        "\n",
        "#Subplots \n",
        "plt.subplot(1, 3, 1)\n",
        "plt.imshow(image,cmap='gray')\n",
        "plt.subplot(1, 3, 2)\n",
        "plt.imshow(actual,cmap='gray')\n",
        "plt.subplot(1, 3, 3)\n",
        "plt.imshow(prediction,cmap='gray')\n",
        "plt.show()\n",
        "# test.reshape(-1,128,128,1)"
      ],
      "metadata": {
        "id": "GEUg39Np1vzY",
        "colab": {
          "base_uri": "https://localhost:8080/",
          "height": 167
        },
        "outputId": "81dec8c2-e8b8-4555-f5a5-71d3d7652220"
      },
      "execution_count": 134,
      "outputs": [
        {
          "output_type": "stream",
          "name": "stdout",
          "text": [
            "1/1 [==============================] - 0s 186ms/step\n"
          ]
        },
        {
          "output_type": "display_data",
          "data": {
            "text/plain": [
              "<Figure size 432x288 with 3 Axes>"
            ],
            "image/png": "[encoded data removed]"
          },
          "metadata": {
            "needs_background": "light"
          }
        }
      ]
    },
    {
      "cell_type": "markdown",
      "source": [
        "## Prediction on Random Image"
      ],
      "metadata": {
        "id": "U5w7jNkVIAEs"
      }
    },
    {
      "cell_type": "code",
      "source": [
        "# test_loss, test_acc = model.evaluate(x=test_images, y=test_labels, verbose=1)\n",
        "# print('Accuracy = %f' % test_acc)"
      ],
      "metadata": {
        "id": "0M1uTAoqY31X"
      },
      "execution_count": null,
      "outputs": []
    },
    {
      "cell_type": "code",
      "execution_count": 135,
      "metadata": {
        "id": "1zENh4DQzNMb"
      },
      "outputs": [],
      "source": [
        "model.save(\"/content/model_64.h5\")"
      ]
    },
    {
      "cell_type": "code",
      "execution_count": 136,
      "metadata": {
        "id": "Rj6t3crLl_Y0"
      },
      "outputs": [],
      "source": [
        "import os\n",
        "def get_file_size(file_path):\n",
        "  size=os.path.getsize(file_path)\n",
        "  return size\n",
        "\n",
        "def convert_bytes(size,unit=None):\n",
        "  if unit==\"KB\":\n",
        "    return print(\"File size: \"+str(round(size/1024,3))+\" Kilobytes\")\n",
        "  elif unit==\"MB\":\n",
        "    return print(\"File size: \"+str(round(size/(1024*1024),3))+\" Megabytes\")\n",
        "  else:\n",
        "    return print(\"File size: \"+str(size)+\"bytes\")"
      ]
    },
    {
      "cell_type": "code",
      "execution_count": null,
      "metadata": {
        "id": "m52QuAlPl_Y3"
      },
      "outputs": [],
      "source": [
        "# Model Size Before Model Quantization\n",
        "model=\"/content/model_64.h5\"\n",
        "convert_bytes(get_file_size(model),\"MB\")"
      ]
    },
    {
      "cell_type": "code",
      "source": [
        "X=np.expand_dims(X,-1)\n",
        "X=tf.cast(X,tf.float32)\n",
        "X.shape "
      ],
      "metadata": {
        "colab": {
          "base_uri": "https://localhost:8080/"
        },
        "id": "Owq-SWekrpF2",
        "outputId": "917779fa-d770-4e28-f156-42c1e0b2f662"
      },
      "execution_count": 139,
      "outputs": [
        {
          "output_type": "execute_result",
          "data": {
            "text/plain": [
              "TensorShape([480, 64, 64, 1])"
            ]
          },
          "metadata": {},
          "execution_count": 139
        }
      ]
    },
    {
      "cell_type": "code",
      "source": [
        "\n",
        "\n",
        "# def dataset_generator():\n",
        "#    for i in range(100):\n",
        "#       yield ([X])"
      ],
      "metadata": {
        "id": "OfpCeOl2N8T8"
      },
      "execution_count": 140,
      "outputs": []
    },
    {
      "cell_type": "code",
      "execution_count": null,
      "metadata": {
        "id": "BCvfDqxtmtD0"
      },
      "outputs": [],
      "source": [
        "import tensorflow as tf\n",
        "model=\"/content/model_64.h5\"\n",
        "model=tf.keras.models.load_model(model)\n",
        "converter = tf.lite.TFLiteConverter.from_keras_model(model)\n",
        "converter.optimizations=[tf.lite.Optimize.DEFAULT]\n",
        "# converter.target_spec.supported_ops = [tf.lite.OpsSet.TFLITE_BUILTINS_INT8]\n",
        "# converter.representative_dataset=dataset_generator\n",
        "tflite_model_name=\"model.tflite\"\n",
        "tflite_model = converter.convert()\n",
        "open(tflite_model_name,\"wb\").write(tflite_model)"
      ]
    },
    {
      "cell_type": "code",
      "execution_count": null,
      "metadata": {
        "id": "4sEBDJwxmtD0"
      },
      "outputs": [],
      "source": [
        "# Model Size After Model Quantization\n",
        "tflite_model=\"/content/model.tflite\"\n",
        "convert_bytes(get_file_size(tflite_model),\"KB\")"
      ]
    },
    {
      "cell_type": "code",
      "source": [
        "import binascii\n",
        "def convert_to_c_array(bytes) -> str:\n",
        "  hexstr = binascii.hexlify(bytes).decode(\"UTF-8\")\n",
        "  hexstr = hexstr.upper()\n",
        "  array = [\"0x\" + hexstr[i:i + 2] for i in range(0, len(hexstr), 2)]\n",
        "  array = [array[i:i+10] for i in range(0, len(array), 10)]\n",
        "  return \",\\n  \".join([\", \".join(e) for e in array])\n",
        "\n",
        "tflite_binary = open('model.tflite', 'rb').read()\n",
        "ascii_bytes = convert_to_c_array(tflite_binary)\n",
        "header_file = \"const unsigned char model_tflite[] = {\\n  \" + ascii_bytes + \"\\n};\\nunsigned int model_tflite_len = \" + str(len(tflite_binary)) + \";\"\n",
        "open(\"model_64.h\", \"w\").write(header_file)\n",
        "convert_bytes(get_file_size('/content/model_64.h'),\"KB\")"
      ],
      "metadata": {
        "id": "BbA3OIQbxk-F",
        "colab": {
          "base_uri": "https://localhost:8080/"
        },
        "outputId": "2a8bd780-333a-4f95-f775-ba732a6dace9"
      },
      "execution_count": 145,
      "outputs": [
        {
          "output_type": "stream",
          "name": "stdout",
          "text": [
            "File size: 105.091 Kilobytes\n"
          ]
        }
      ]
    },
    {
      "cell_type": "code",
      "execution_count": null,
      "metadata": {
        "id": "1muAoUm8lSXL"
      },
      "outputs": [],
      "source": [
        "converter = tf.lite.TFLiteConverter.from_saved_model(MODEL_TF)\n",
        "model_no_quant_tflite = converter.convert()\n",
        "open(MODEL_NO_QUANT_TFLITE, \"wb\").write(model_no_quant_tflite)\n",
        "def representative_dataset():\n",
        "  for i in range(500):\n",
        "    yield([x_train[i].reshape(1, 1)])\n",
        "converter.optimizations = [tf.lite.Optimize.DEFAULT]\n",
        "converter.target_spec.supported_ops = [tf.lite.OpsSet.TFLITE_BUILTINS_INT8]\n",
        "converter.representative_dataset = representative_dataset\n",
        "model_tflite = converter.convert()\n",
        "open(MODEL_TFLITE, \"wb\").write(model_tflite)"
      ]
    }
  ]
}