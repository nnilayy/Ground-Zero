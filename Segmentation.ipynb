{
  "nbformat": 4,
  "nbformat_minor": 0,
  "metadata": {
    "colab": {
      "provenance": [],
      "authorship_tag": "ABX9TyOSFDtBgQOEZe5duXnXJXa6",
      "include_colab_link": true
    },
    "kernelspec": {
      "name": "python3",
      "display_name": "Python 3"
    },
    "language_info": {
      "name": "python"
    },
    "accelerator": "GPU",
    "gpuClass": "standard"
  },
  "cells": [
    {
      "cell_type": "markdown",
      "metadata": {
        "id": "view-in-github",
        "colab_type": "text"
      },
      "source": [
        "<a href=\"https://colab.research.google.com/github/nnilayy/Unet/blob/main/Segmentation.ipynb\" target=\"_parent\"><img src=\"https://colab.research.google.com/assets/colab-badge.svg\" alt=\"Open In Colab\"/></a>"
      ]
    },
    {
      "cell_type": "code",
      "execution_count": 1,
      "metadata": {
        "id": "FkRHSe0ZPmWt"
      },
      "outputs": [],
      "source": [
        "import cv2\n",
        "import glob \n",
        "import numpy as np\n",
        "import matplotlib.pyplot as plt\n",
        "from google.colab.patches import cv2_imshow\n",
        "import tensorflow as tf"
      ]
    },
    {
      "cell_type": "markdown",
      "source": [
        "## Drive"
      ],
      "metadata": {
        "id": "xJREi9-7H2y4"
      }
    },
    {
      "cell_type": "code",
      "source": [
        "from google.colab import drive\n",
        "drive.mount('/content/drive')"
      ],
      "metadata": {
        "id": "tbrAFatrHb5K"
      },
      "execution_count": null,
      "outputs": []
    },
    {
      "cell_type": "markdown",
      "source": [
        "## Image Size"
      ],
      "metadata": {
        "id": "zXvXyzHwEsvp"
      }
    },
    {
      "cell_type": "code",
      "source": [
        "IMAGE_SIZE=128"
      ],
      "metadata": {
        "id": "hmRraeyFEvY2"
      },
      "execution_count": 29,
      "outputs": []
    },
    {
      "cell_type": "markdown",
      "source": [
        "## Dataset"
      ],
      "metadata": {
        "id": "Pf8SR1GJHNMI"
      }
    },
    {
      "cell_type": "code",
      "source": [
        "import matplotlib.pyplot as plt\n",
        "import cv2 \n",
        "import glob \n",
        "import numpy as np\n",
        "X=[]\n",
        "y=[]\n",
        "images=sorted(glob.glob('/content/drive/MyDrive/Balls/Images/*'))\n",
        "masks=sorted(glob.glob('/content/drive/MyDrive/Balls/Masks/*'))\n",
        "\n",
        "for image in images:\n",
        "  image=cv2.imread(image,cv2.IMREAD_GRAYSCALE)\n",
        "  image=cv2.resize(image,(IMAGE_SIZE,IMAGE_SIZE))\n",
        "  image=image/255\n",
        "  X.append(image)\n",
        "\n",
        "for mask in masks:\n",
        "  mask=cv2.imread(mask,cv2.IMREAD_GRAYSCALE)\n",
        "  mask=cv2.resize(mask,(IMAGE_SIZE,IMAGE_SIZE))\n",
        "  mask=mask/255\n",
        "  mask=np.where(mask>0.5,1,0).astype(mask.dtype)\n",
        "  y.append(mask)"
      ],
      "metadata": {
        "id": "r3T7Fvc4qMGB"
      },
      "execution_count": 6,
      "outputs": []
    },
    {
      "cell_type": "code",
      "source": [
        "X=np.array(X)\n",
        "y=np.array(y)"
      ],
      "metadata": {
        "id": "xUZTMqyDOQsl"
      },
      "execution_count": 31,
      "outputs": []
    },
    {
      "cell_type": "code",
      "source": [
        "len(images)\n",
        "X.shape"
      ],
      "metadata": {
        "id": "ASmlcXn5KhzX",
        "colab": {
          "base_uri": "https://localhost:8080/"
        },
        "outputId": "aa420586-4b1d-43da-c973-82e1d8e14165"
      },
      "execution_count": 63,
      "outputs": [
        {
          "output_type": "execute_result",
          "data": {
            "text/plain": [
              "(480, 128, 128)"
            ]
          },
          "metadata": {},
          "execution_count": 63
        }
      ]
    },
    {
      "cell_type": "markdown",
      "source": [
        "## Visualizing Images and Masks"
      ],
      "metadata": {
        "id": "fQbjklFD0R2_"
      }
    },
    {
      "cell_type": "code",
      "source": [
        "index=456\n",
        "image=X[index]\n",
        "mask=y[index]\n",
        "plt.subplot(1, 2, 1)\n",
        "plt.imshow(image,cmap='gray')\n",
        "plt.subplot(1, 2, 2)\n",
        "plt.imshow(mask,cmap='gray')\n",
        "plt.show()"
      ],
      "metadata": {
        "colab": {
          "base_uri": "https://localhost:8080/",
          "height": 203
        },
        "id": "QHNOR-XSzdf5",
        "outputId": "bc1dcba3-c8aa-4a74-bc5f-66751c81e8c6"
      },
      "execution_count": 9,
      "outputs": [
        {
          "output_type": "display_data",
          "data": {
            "text/plain": [
              "<Figure size 432x288 with 2 Axes>"
            ],
            "image/png": "[encoded data removed]"
          },
          "metadata": {
            "needs_background": "light"
          }
        }
      ]
    },
    {
      "cell_type": "markdown",
      "source": [
        "## Model"
      ],
      "metadata": {
        "id": "ujV62CDqHR0R"
      }
    },
    {
      "cell_type": "code",
      "source": [
        "from tensorflow.keras.models import Sequential\n",
        "from tensorflow.keras.layers import Dense, Input,Conv2D, MaxPooling2D, Resizing,AveragePooling2D, Flatten, Dropout, BatchNormalization, InputLayer, Reshape\n",
        "model = Sequential()\n",
        "model.add(InputLayer(input_shape=(64, 64, 1)))\n",
        "model.add(Conv2D(64, 2, padding='same', activation=\"relu\"))\n",
        "\n",
        "model.add(Resizing(64, 64, interpolation='nearest'))\n",
        "\n",
        "# model.add(AveragePooling2D(2, padding='same'))\n",
        "# model.add(Conv2D(8, 3, padding='same', activation=\"relu\"))\n",
        "# model.add(AveragePooling2D(2, padding='same'))\n",
        "# model.add(Conv2D(4, 3, padding='same', activation=\"relu\"))\n",
        "# model.add(AveragePooling2D(2, padding='same'))\n",
        "# model.add(Conv2D(1, 1, padding='same', activation=\"relu\"))\n",
        "# model.add(Resizing(64, 64, interpolation='bilinear'))\n",
        "\n",
        "# model.add(Conv2D(16, 3, padding='same', activation=\"relu\"))\n",
        "# model.add(AveragePooling2D(2, padding='same'))\n",
        "# model.add(Conv2D(8, 3, padding='same', activation=\"relu\"))\n",
        "# model.add(AveragePooling2D(2, padding='same'))\n",
        "# model.add(Conv2D(4, 3, padding='same', activation=\"relu\"))\n",
        "# model.add(AveragePooling2D(2, padding='same'))\n",
        "# model.add(Conv2D(1, 1, padding='same', activation=\"relu\"))\n",
        "# model.add(Resizing(64, 64, interpolation='bilinear'))\n",
        "\n",
        "# model.add(Conv2D(16, 3, padding='same', activation=\"relu\"))\n",
        "# model.add(AveragePooling2D(2, padding='same'))\n",
        "# model.add(Conv2D(8, 3, padding='same', activation=\"relu\"))\n",
        "# model.add(AveragePooling2D(2, padding='same'))\n",
        "# model.add(Conv2D(4, 3, padding='same', activation=\"relu\"))\n",
        "# model.add(AveragePooling2D(2, padding='same'))\n",
        "# model.add(Conv2D(1, 1, padding='same', activation=\"relu\"))\n",
        "# model.add(Resizing(64, 64, interpolation='bilinear'))\n",
        "\n",
        "# model.add(Conv2D(16, 3, padding='same', activation=\"relu\"))\n",
        "# model.add(AveragePooling2D(2, padding='same'))\n",
        "# model.add(Conv2D(8, 3, padding='same', activation=\"relu\"))\n",
        "# model.add(AveragePooling2D(2, padding='same'))\n",
        "# model.add(Conv2D(4, 3, padding='same', activation=\"relu\"))\n",
        "# model.add(AveragePooling2D(2, padding='same'))\n",
        "# model.add(Conv2D(1, 1, padding='same', activation=\"relu\"))\n",
        "# model.add(Resizing(64, 64, interpolation='bilinear'))\n",
        "# model.add(Flatten())\n",
        "# model.add(Dense(64, activation=\"relu\"))\n",
        "# model.add(Dense(4096, activation=\"relu\"))\n",
        "model.summary()"
      ],
      "metadata": {
        "id": "H2FJWYLtcKxE"
      },
      "execution_count": null,
      "outputs": []
    },
    {
      "cell_type": "code",
      "source": [
        "from keras.models import Model\n",
        "from keras.layers import concatenate\n",
        "# image=Input(shape=(64, 64, 1))\n",
        "# conv1=Conv2D(64, 3, padding='same', activation=\"relu\")(image)\n",
        "# av1=AveragePooling2D(2, padding='same')(conv1)\n",
        "# conv2=Conv2D(32, 3, padding='same', activation=\"relu\")(av1)\n",
        "# resize=Resizing(64, 64, interpolation='bilinear')(conv2)\n",
        "# conv3=Conv2D(1, 1, padding='same', activation=\"relu\")(resize)\n",
        "# conc=concatenate([conv1, resize])\n",
        "# conv4=Conv2D(1, 1, padding='same', activation=\"relu\")(conc)\n",
        "# conv2=Conv2D(1, 1, padding='same', activation=\"relu\")(conv1)\n",
        "# conv3=Conv2D(1, 1, padding='same', activation=\"relu\")(conc)\n",
        "\n",
        "# resize=Resizing(64, 64, interpolation='bilinear')(conv2)\n",
        "# av1=AveragePooling2D(2, padding='same')(conv1)\n",
        "# conv2=Conv2D(16, 3, padding='same', activation=\"relu\")(av1)\n",
        "# av2=AveragePooling2D(2, padding='same')(conv2)\n",
        "# conv3=Conv2D(8, 3, padding='same', activation=\"relu\")(av2)\n",
        "# av3=AveragePooling2D(2, padding='same')(conv3)\n",
        "# conv4=Conv2D(1, 1, padding='same', activation=\"relu\")(av3)\n",
        "\n",
        "image=Input(shape=(IMAGE_SIZE, IMAGE_SIZE, 1))\n",
        "conv1=Conv2D(16, 4, padding='same', activation=\"relu\")(image)\n",
        "conv2=Conv2D(10, 4, padding='same', activation=\"relu\")(conv1)\n",
        "av1=AveragePooling2D(2, padding='same')(conv2)\n",
        "conv3=Conv2D(16, 4, padding='same', activation=\"relu\")(av1)\n",
        "conv4=Conv2D(10, 4, padding='same', activation=\"relu\")(conv3)\n",
        "av2=AveragePooling2D(2, padding='same')(conv4)\n",
        "conv5=Conv2D(16, 4, padding='same', activation=\"relu\")(av2)\n",
        "conv6=Conv2D(10, 4, padding='same', activation=\"relu\")(conv5)\n",
        "av3=AveragePooling2D(2, padding='same')(conv6)\n",
        "resize=Resizing(IMAGE_SIZE, IMAGE_SIZE, interpolation='bilinear')(av3)\n",
        "conc=concatenate([conv1,resize])\n",
        "conv5=Conv2D(1, 1, padding='same', activation=\"relu\")(conc)\n",
        "model=Model(inputs=image, outputs=conv5)\n",
        "model.summary()\n",
        "# --------------------------------------------------------------------------------------------\n",
        "# --------------------------------------------------------------------------------------------\n",
        "# image=Input(shape=(64, 64, 1))\n",
        "# conv1=Conv2D(16, 4, padding='same')(image)\n",
        "# bn1=BatchNormalization()(conv1)\n",
        "# drop1=Dropout(0.15)(bn1)\n",
        "# act1=Activation(\"relu\")(drop1)\n",
        "# conv2=Conv2D(8, 4, padding='same')(act1)\n",
        "# bn2=BatchNormalization()(conv2)\n",
        "# drop2=Dropout(0.15)(bn2)\n",
        "# act2=Activation(\"relu\")(drop2)\n",
        "# av1=AveragePooling2D(2, padding='same')(act2)\n",
        "# conv3=Conv2D(16, 4, padding='same', activation=\"relu\")(av1)\n",
        "# bn3=BatchNormalization()(conv3)\n",
        "# drop3=Dropout(0.15)(bn3)\n",
        "# act3=Activation(\"relu\")(drop3)\n",
        "# conv4=Conv2D(8, 4, padding='same', activation=\"relu\")(act3)\n",
        "# bn4=BatchNormalization()(conv4)\n",
        "# drop4=Dropout(0.15)(bn4)\n",
        "# act4=Activation(\"relu\")(drop4)\n",
        "# av2=AveragePooling2D(2, padding='same')(act4)\n",
        "# conv5=Conv2D(16, 4, padding='same', activation=\"relu\")(av2)\n",
        "# bn5=BatchNormalization()(conv5)\n",
        "# drop5=Dropout(0.15)(bn5)\n",
        "# act5=Activation(\"relu\")(drop5)\n",
        "# conv6=Conv2D(8, 4, padding='same', activation=\"relu\")(act5)\n",
        "# bn6=BatchNormalization()(conv6)\n",
        "# drop6=Dropout(0.15)(bn6)\n",
        "# act6=Activation(\"relu\")(drop6)\n",
        "# av3=AveragePooling2D(2, padding='same')(act6)\n",
        "# resize=Resizing(64, 64, interpolation='bilinear')(av3)\n",
        "# conc=concatenate([conv1,resize])\n",
        "# conv5=Conv2D(1, 1, padding='same', activation=\"relu\")(conc)\n",
        "# model=Model(inputs=image, outputs=conv5)\n",
        "# model.summary()\n",
        "# --------------------------------------------------------------------------------------------\n",
        "# --------------------------------------------------------------------------------------------"
      ],
      "metadata": {
        "id": "K0jugYvr6Fde"
      },
      "execution_count": null,
      "outputs": []
    },
    {
      "cell_type": "code",
      "source": [
        "import tensorflow as tf\n",
        "model.compile(loss=\"mse\", \n",
        "              optimizer=tf.keras.optimizers.experimental.Adam(learning_rate=1e-3),\n",
        "              metrics='mean_absolute_error')\n",
        "model.fit(X, \n",
        "          y, \n",
        "          steps_per_epoch=32, \n",
        "          epochs=50, \n",
        "          verbose=1)"
      ],
      "metadata": {
        "id": "K-89x6W6o_ZT",
        "colab": {
          "base_uri": "https://localhost:8080/"
        },
        "outputId": "a45fee19-088b-4b3d-fae5-b5f5c6d6571e"
      },
      "execution_count": 106,
      "outputs": [
        {
          "output_type": "stream",
          "name": "stdout",
          "text": [
            "Epoch 1/50\n",
            "32/32 [==============================] - 4s 17ms/step - loss: 0.1347 - mean_absolute_error: 0.2359\n",
            "Epoch 2/50\n",
            "32/32 [==============================] - 0s 13ms/step - loss: 0.1234 - mean_absolute_error: 0.2484\n",
            "Epoch 3/50\n",
            "32/32 [==============================] - 0s 13ms/step - loss: 0.1154 - mean_absolute_error: 0.2275\n",
            "Epoch 4/50\n",
            "32/32 [==============================] - 0s 12ms/step - loss: 0.0984 - mean_absolute_error: 0.2038\n",
            "Epoch 5/50\n",
            "32/32 [==============================] - 0s 12ms/step - loss: 0.0890 - mean_absolute_error: 0.1759\n",
            "Epoch 6/50\n",
            "32/32 [==============================] - 0s 12ms/step - loss: 0.0792 - mean_absolute_error: 0.1630\n",
            "Epoch 7/50\n",
            "32/32 [==============================] - 0s 12ms/step - loss: 0.0726 - mean_absolute_error: 0.1515\n",
            "Epoch 8/50\n",
            "32/32 [==============================] - 0s 12ms/step - loss: 0.0763 - mean_absolute_error: 0.1525\n",
            "Epoch 9/50\n",
            "32/32 [==============================] - 0s 12ms/step - loss: 0.0706 - mean_absolute_error: 0.1445\n",
            "Epoch 10/50\n",
            "32/32 [==============================] - 0s 12ms/step - loss: 0.0615 - mean_absolute_error: 0.1314\n",
            "Epoch 11/50\n",
            "32/32 [==============================] - 0s 12ms/step - loss: 0.0630 - mean_absolute_error: 0.1293\n",
            "Epoch 12/50\n",
            "32/32 [==============================] - 0s 13ms/step - loss: 0.0574 - mean_absolute_error: 0.1191\n",
            "Epoch 13/50\n",
            "32/32 [==============================] - 0s 14ms/step - loss: 0.0567 - mean_absolute_error: 0.1183\n",
            "Epoch 14/50\n",
            "32/32 [==============================] - 0s 13ms/step - loss: 0.0563 - mean_absolute_error: 0.1148\n",
            "Epoch 15/50\n",
            "32/32 [==============================] - 0s 12ms/step - loss: 0.0524 - mean_absolute_error: 0.1095\n",
            "Epoch 16/50\n",
            "32/32 [==============================] - 0s 12ms/step - loss: 0.0478 - mean_absolute_error: 0.1020\n",
            "Epoch 17/50\n",
            "32/32 [==============================] - 0s 12ms/step - loss: 0.0449 - mean_absolute_error: 0.0970\n",
            "Epoch 18/50\n",
            "32/32 [==============================] - 0s 12ms/step - loss: 0.0470 - mean_absolute_error: 0.0972\n",
            "Epoch 19/50\n",
            "32/32 [==============================] - 0s 12ms/step - loss: 0.0520 - mean_absolute_error: 0.1061\n",
            "Epoch 20/50\n",
            "32/32 [==============================] - 0s 12ms/step - loss: 0.0461 - mean_absolute_error: 0.0994\n",
            "Epoch 21/50\n",
            "32/32 [==============================] - 0s 12ms/step - loss: 0.0437 - mean_absolute_error: 0.0922\n",
            "Epoch 22/50\n",
            "32/32 [==============================] - 0s 12ms/step - loss: 0.0442 - mean_absolute_error: 0.0934\n",
            "Epoch 23/50\n",
            "32/32 [==============================] - 0s 12ms/step - loss: 0.0413 - mean_absolute_error: 0.0891\n",
            "Epoch 24/50\n",
            "32/32 [==============================] - 0s 12ms/step - loss: 0.0405 - mean_absolute_error: 0.0883\n",
            "Epoch 25/50\n",
            "32/32 [==============================] - 0s 12ms/step - loss: 0.0392 - mean_absolute_error: 0.0852\n",
            "Epoch 26/50\n",
            "32/32 [==============================] - 0s 12ms/step - loss: 0.0405 - mean_absolute_error: 0.0853\n",
            "Epoch 27/50\n",
            "32/32 [==============================] - 0s 12ms/step - loss: 0.0378 - mean_absolute_error: 0.0829\n",
            "Epoch 28/50\n",
            "32/32 [==============================] - 0s 12ms/step - loss: 0.0371 - mean_absolute_error: 0.0810\n",
            "Epoch 29/50\n",
            "32/32 [==============================] - 0s 13ms/step - loss: 0.0371 - mean_absolute_error: 0.0807\n",
            "Epoch 30/50\n",
            "32/32 [==============================] - 0s 13ms/step - loss: 0.0369 - mean_absolute_error: 0.0803\n",
            "Epoch 31/50\n",
            "32/32 [==============================] - 0s 13ms/step - loss: 0.0366 - mean_absolute_error: 0.0789\n",
            "Epoch 32/50\n",
            "32/32 [==============================] - 0s 13ms/step - loss: 0.0348 - mean_absolute_error: 0.0766\n",
            "Epoch 33/50\n",
            "32/32 [==============================] - 0s 13ms/step - loss: 0.0366 - mean_absolute_error: 0.0792\n",
            "Epoch 34/50\n",
            "32/32 [==============================] - 0s 13ms/step - loss: 0.0347 - mean_absolute_error: 0.0754\n",
            "Epoch 35/50\n",
            "32/32 [==============================] - 0s 13ms/step - loss: 0.0361 - mean_absolute_error: 0.0762\n",
            "Epoch 36/50\n",
            "32/32 [==============================] - 0s 13ms/step - loss: 0.0387 - mean_absolute_error: 0.0817\n",
            "Epoch 37/50\n",
            "32/32 [==============================] - 0s 13ms/step - loss: 0.0336 - mean_absolute_error: 0.0730\n",
            "Epoch 38/50\n",
            "32/32 [==============================] - 0s 12ms/step - loss: 0.0345 - mean_absolute_error: 0.0750\n",
            "Epoch 39/50\n",
            "32/32 [==============================] - 0s 12ms/step - loss: 0.0342 - mean_absolute_error: 0.0724\n",
            "Epoch 40/50\n",
            "32/32 [==============================] - 0s 12ms/step - loss: 0.0323 - mean_absolute_error: 0.0701\n",
            "Epoch 41/50\n",
            "32/32 [==============================] - 0s 12ms/step - loss: 0.0315 - mean_absolute_error: 0.0683\n",
            "Epoch 42/50\n",
            "32/32 [==============================] - 0s 12ms/step - loss: 0.0309 - mean_absolute_error: 0.0674\n",
            "Epoch 43/50\n",
            "32/32 [==============================] - 0s 12ms/step - loss: 0.0307 - mean_absolute_error: 0.0668\n",
            "Epoch 44/50\n",
            "32/32 [==============================] - 0s 12ms/step - loss: 0.0312 - mean_absolute_error: 0.0677\n",
            "Epoch 45/50\n",
            "32/32 [==============================] - 0s 12ms/step - loss: 0.0313 - mean_absolute_error: 0.0657\n",
            "Epoch 46/50\n",
            "32/32 [==============================] - 0s 12ms/step - loss: 0.0307 - mean_absolute_error: 0.0662\n",
            "Epoch 47/50\n",
            "32/32 [==============================] - 0s 12ms/step - loss: 0.0305 - mean_absolute_error: 0.0651\n",
            "Epoch 48/50\n",
            "32/32 [==============================] - 0s 12ms/step - loss: 0.0298 - mean_absolute_error: 0.0637\n",
            "Epoch 49/50\n",
            "32/32 [==============================] - 0s 12ms/step - loss: 0.0288 - mean_absolute_error: 0.0630\n",
            "Epoch 50/50\n",
            "32/32 [==============================] - 0s 12ms/step - loss: 0.0290 - mean_absolute_error: 0.0620\n"
          ]
        },
        {
          "output_type": "execute_result",
          "data": {
            "text/plain": [
              "<keras.callbacks.History at 0x7f43561b98e0>"
            ]
          },
          "metadata": {},
          "execution_count": 106
        }
      ]
    },
    {
      "cell_type": "markdown",
      "source": [
        "## Prediction"
      ],
      "metadata": {
        "id": "8s3PHYVnHXRt"
      }
    },
    {
      "cell_type": "code",
      "source": [
        "# Test Image\n",
        "X=np.squeeze(X,-1)\n",
        "index=90\n",
        "test=X[index]\n",
        "actual=y[index]\n",
        "# file='/content/download.jpg'\n",
        "# test=cv2.imread(file,cv2.IMREAD_GRAYSCALE)\n",
        "# test=cv2.resize(test,(IMAGE_SIZE,IMAGE_SIZE))\n",
        "# test=np.array(test)\n",
        "image=test\n",
        "\n",
        "# Prediction\n",
        "prediction=model.predict(test.reshape(-1,IMAGE_SIZE,IMAGE_SIZE,1))[0]\n",
        "prediction=np.where(prediction>0.3,1,0).astype(prediction.dtype)\n",
        "\n",
        "#Subplots \n",
        "plt.subplot(1, 3, 1)\n",
        "plt.imshow(image,cmap='gray')\n",
        "plt.subplot(1, 3, 2)\n",
        "plt.imshow(actual,cmap='gray')\n",
        "plt.subplot(1, 3, 3)\n",
        "plt.imshow(prediction,cmap='gray')\n",
        "plt.show()\n",
        "# test.reshape(-1,128,128,1)"
      ],
      "metadata": {
        "id": "GEUg39Np1vzY",
        "colab": {
          "base_uri": "https://localhost:8080/",
          "height": 167
        },
        "outputId": "94d892ac-4e67-463f-9411-9694586b4ef1"
      },
      "execution_count": 107,
      "outputs": [
        {
          "output_type": "stream",
          "name": "stdout",
          "text": [
            "1/1 [==============================] - 0s 242ms/step\n"
          ]
        },
        {
          "output_type": "display_data",
          "data": {
            "text/plain": [
              "<Figure size 432x288 with 3 Axes>"
            ],
            "image/png": "[encoded data removed]"
          },
          "metadata": {
            "needs_background": "light"
          }
        }
      ]
    },
    {
      "cell_type": "markdown",
      "source": [
        "## Prediction on Random Image"
      ],
      "metadata": {
        "id": "U5w7jNkVIAEs"
      }
    },
    {
      "cell_type": "code",
      "source": [
        "# test_loss, test_acc = model.evaluate(x=test_images, y=test_labels, verbose=1)\n",
        "# print('Accuracy = %f' % test_acc)"
      ],
      "metadata": {
        "id": "0M1uTAoqY31X"
      },
      "execution_count": null,
      "outputs": []
    },
    {
      "cell_type": "code",
      "execution_count": 108,
      "metadata": {
        "id": "1zENh4DQzNMb"
      },
      "outputs": [],
      "source": [
        "model.save(\"/content/model_0.h5\")"
      ]
    },
    {
      "cell_type": "code",
      "execution_count": 109,
      "metadata": {
        "id": "Rj6t3crLl_Y0"
      },
      "outputs": [],
      "source": [
        "import os\n",
        "def get_file_size(file_path):\n",
        "  size=os.path.getsize(file_path)\n",
        "  return size\n",
        "\n",
        "def convert_bytes(size,unit=None):\n",
        "  if unit==\"KB\":\n",
        "    return print(\"File size: \"+str(round(size/1024,3))+\" Kilobytes\")\n",
        "  elif unit==\"MB\":\n",
        "    return print(\"File size: \"+str(round(size/(1024*1024),3))+\" Megabytes\")\n",
        "  else:\n",
        "    return print(\"File size: \"+str(size)+\"bytes\")"
      ]
    },
    {
      "cell_type": "code",
      "execution_count": 110,
      "metadata": {
        "id": "m52QuAlPl_Y3",
        "colab": {
          "base_uri": "https://localhost:8080/"
        },
        "outputId": "4b8fc843-09af-4efb-cb3c-919d4107e1e2"
      },
      "outputs": [
        {
          "output_type": "stream",
          "name": "stdout",
          "text": [
            "File size: 0.218 Megabytes\n"
          ]
        }
      ],
      "source": [
        "# Model Size Before Model Quantization\n",
        "model=\"/content/model_0.h5\"\n",
        "convert_bytes(get_file_size(model),\"MB\")"
      ]
    },
    {
      "cell_type": "code",
      "source": [
        "X=np.expand_dims(X,-1)\n",
        "X=tf.cast(X,tf.float32)\n",
        "X.shape "
      ],
      "metadata": {
        "colab": {
          "base_uri": "https://localhost:8080/"
        },
        "id": "Owq-SWekrpF2",
        "outputId": "344b1348-1e27-48ce-975e-73f151161f97"
      },
      "execution_count": 111,
      "outputs": [
        {
          "output_type": "execute_result",
          "data": {
            "text/plain": [
              "TensorShape([480, 128, 128, 1])"
            ]
          },
          "metadata": {},
          "execution_count": 111
        }
      ]
    },
    {
      "cell_type": "code",
      "source": [
        "def dataset_generator():\n",
        "   for i in range(100):\n",
        "      input_image = tf.cast(X[i], tf.float32)\n",
        "      input_image = tf.reshape(input_image, [1,IMAGE_SIZE,IMAGE_SIZE,1])\n",
        "      yield ([input_image])"
      ],
      "metadata": {
        "id": "OfpCeOl2N8T8"
      },
      "execution_count": 112,
      "outputs": []
    },
    {
      "cell_type": "code",
      "execution_count": 113,
      "metadata": {
        "id": "BCvfDqxtmtD0",
        "colab": {
          "base_uri": "https://localhost:8080/"
        },
        "outputId": "ff7247a6-4d9d-4d27-86eb-feb680912276"
      },
      "outputs": [
        {
          "output_type": "stream",
          "name": "stderr",
          "text": [
            "WARNING:absl:Found untraced functions such as _jit_compiled_convolution_op, _jit_compiled_convolution_op, _jit_compiled_convolution_op, _jit_compiled_convolution_op, _jit_compiled_convolution_op while saving (showing 5 of 8). These functions will not be directly callable after loading.\n",
            "/usr/local/lib/python3.8/dist-packages/tensorflow/lite/python/convert.py:765: UserWarning: Statistics for quantized inputs were expected, but not specified; continuing anyway.\n",
            "  warnings.warn(\"Statistics for quantized inputs were expected, but not \"\n"
          ]
        },
        {
          "output_type": "execute_result",
          "data": {
            "text/plain": [
              "21720"
            ]
          },
          "metadata": {},
          "execution_count": 113
        }
      ],
      "source": [
        "import tensorflow as tf\n",
        "model=\"/content/model_0.h5\"\n",
        "model=tf.keras.models.load_model(model)\n",
        "converter = tf.lite.TFLiteConverter.from_keras_model(model)\n",
        "converter.optimizations=[tf.lite.Optimize.DEFAULT]\n",
        "converter.target_spec.supported_ops = [tf.lite.OpsSet.TFLITE_BUILTINS_INT8]\n",
        "converter.representative_dataset=dataset_generator\n",
        "tflite_model_name=\"model.tflite\"\n",
        "tflite_model = converter.convert()\n",
        "open(tflite_model_name,\"wb\").write(tflite_model)"
      ]
    },
    {
      "cell_type": "code",
      "execution_count": 114,
      "metadata": {
        "id": "4sEBDJwxmtD0",
        "colab": {
          "base_uri": "https://localhost:8080/"
        },
        "outputId": "c353a1bc-cd77-4d22-a82c-5b17d2aa3954"
      },
      "outputs": [
        {
          "output_type": "stream",
          "name": "stdout",
          "text": [
            "File size: 21.211 Kilobytes\n"
          ]
        }
      ],
      "source": [
        "# Model Size After Model Quantization\n",
        "tflite_model=\"/content/model.tflite\"\n",
        "convert_bytes(get_file_size(tflite_model),\"KB\")"
      ]
    },
    {
      "cell_type": "code",
      "source": [
        "import binascii\n",
        "def convert_to_c_array(bytes) -> str:\n",
        "  hexstr = binascii.hexlify(bytes).decode(\"UTF-8\")\n",
        "  hexstr = hexstr.upper()\n",
        "  array = [\"0x\" + hexstr[i:i + 2] for i in range(0, len(hexstr), 2)]\n",
        "  array = [array[i:i+10] for i in range(0, len(array), 10)]\n",
        "  return \",\\n  \".join([\", \".join(e) for e in array])\n",
        "\n",
        "tflite_binary = open('model.tflite', 'rb').read()\n",
        "ascii_bytes = convert_to_c_array(tflite_binary)\n",
        "header_file = \"const unsigned char model_tflite[] = {\\n  \" + ascii_bytes + \"\\n};\\nunsigned int model_tflite_len = \" + str(len(tflite_binary)) + \";\"\n",
        "open(\"model_0.h\", \"w\").write(header_file)\n",
        "convert_bytes(get_file_size('/content/model_0.h'),\"KB\")"
      ],
      "metadata": {
        "id": "BbA3OIQbxk-F",
        "colab": {
          "base_uri": "https://localhost:8080/"
        },
        "outputId": "331f897d-a0b0-4290-c719-e2a2e855da31"
      },
      "execution_count": 115,
      "outputs": [
        {
          "output_type": "stream",
          "name": "stdout",
          "text": [
            "File size: 131.585 Kilobytes\n"
          ]
        }
      ]
    },
    {
      "cell_type": "code",
      "execution_count": null,
      "metadata": {
        "id": "1muAoUm8lSXL"
      },
      "outputs": [],
      "source": [
        "converter = tf.lite.TFLiteConverter.from_saved_model(MODEL_TF)\n",
        "model_no_quant_tflite = converter.convert()\n",
        "open(MODEL_NO_QUANT_TFLITE, \"wb\").write(model_no_quant_tflite)\n",
        "def representative_dataset():\n",
        "  for i in range(500):\n",
        "    yield([x_train[i].reshape(1, 1)])\n",
        "converter.optimizations = [tf.lite.Optimize.DEFAULT]\n",
        "converter.target_spec.supported_ops = [tf.lite.OpsSet.TFLITE_BUILTINS_INT8]\n",
        "converter.representative_dataset = representative_dataset\n",
        "model_tflite = converter.convert()\n",
        "open(MODEL_TFLITE, \"wb\").write(model_tflite)"
      ]
    }
  ]
}