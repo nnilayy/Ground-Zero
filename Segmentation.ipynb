{
  "nbformat": 4,
  "nbformat_minor": 0,
  "metadata": {
    "colab": {
      "provenance": [],
      "authorship_tag": "ABX9TyNTZM4PUdu6OaYOBKbrq9Zt",
      "include_colab_link": true
    },
    "kernelspec": {
      "name": "python3",
      "display_name": "Python 3"
    },
    "language_info": {
      "name": "python"
    },
    "accelerator": "GPU",
    "gpuClass": "standard"
  },
  "cells": [
    {
      "cell_type": "markdown",
      "metadata": {
        "id": "view-in-github",
        "colab_type": "text"
      },
      "source": [
        "<a href=\"https://colab.research.google.com/github/nnilayy/Unet/blob/main/Segmentation.ipynb\" target=\"_parent\"><img src=\"https://colab.research.google.com/assets/colab-badge.svg\" alt=\"Open In Colab\"/></a>"
      ]
    },
    {
      "cell_type": "code",
      "execution_count": 1,
      "metadata": {
        "id": "FkRHSe0ZPmWt"
      },
      "outputs": [],
      "source": [
        "import cv2\n",
        "import glob \n",
        "import numpy as np\n",
        "import matplotlib.pyplot as plt\n",
        "from google.colab.patches import cv2_imshow\n",
        "import tensorflow as tf"
      ]
    },
    {
      "cell_type": "markdown",
      "source": [
        "## Drive"
      ],
      "metadata": {
        "id": "xJREi9-7H2y4"
      }
    },
    {
      "cell_type": "code",
      "source": [
        "from google.colab import drive\n",
        "drive.mount('/content/drive')"
      ],
      "metadata": {
        "id": "tbrAFatrHb5K",
        "colab": {
          "base_uri": "https://localhost:8080/"
        },
        "outputId": "4a794054-0a7d-4bf4-a083-0891f3e0a92f"
      },
      "execution_count": 2,
      "outputs": [
        {
          "output_type": "stream",
          "name": "stdout",
          "text": [
            "Mounted at /content/drive\n"
          ]
        }
      ]
    },
    {
      "cell_type": "markdown",
      "source": [
        "## Dataset"
      ],
      "metadata": {
        "id": "Pf8SR1GJHNMI"
      }
    },
    {
      "cell_type": "code",
      "source": [
        "import matplotlib.pyplot as plt\n",
        "import cv2 \n",
        "import glob \n",
        "import numpy as np\n",
        "X=[]\n",
        "y=[]\n",
        "images=sorted(glob.glob('/content/drive/MyDrive/Balls/Images/*'))\n",
        "masks=sorted(glob.glob('/content/drive/MyDrive/Balls/Masks/*'))\n",
        "\n",
        "for image in images:\n",
        "  image=cv2.imread(image,cv2.IMREAD_GRAYSCALE)\n",
        "  image=cv2.resize(image,(64,64))\n",
        "  image=image/255\n",
        "  X.append(image)\n",
        "\n",
        "for mask in masks:\n",
        "  mask=cv2.imread(mask,cv2.IMREAD_GRAYSCALE)\n",
        "  mask=cv2.resize(mask,(64,64))\n",
        "  mask=mask/255\n",
        "  mask=np.where(mask>0.5,1,0).astype(mask.dtype)\n",
        "  y.append(mask)"
      ],
      "metadata": {
        "id": "r3T7Fvc4qMGB"
      },
      "execution_count": 128,
      "outputs": []
    },
    {
      "cell_type": "code",
      "source": [
        "X=np.array(X)\n",
        "y=np.array(y)"
      ],
      "metadata": {
        "id": "xUZTMqyDOQsl"
      },
      "execution_count": 129,
      "outputs": []
    },
    {
      "cell_type": "code",
      "source": [
        "len(images)\n",
        "X.shape"
      ],
      "metadata": {
        "id": "ASmlcXn5KhzX",
        "colab": {
          "base_uri": "https://localhost:8080/"
        },
        "outputId": "5b40e587-0332-4693-fe86-b481a0f84c96"
      },
      "execution_count": 130,
      "outputs": [
        {
          "output_type": "execute_result",
          "data": {
            "text/plain": [
              "(480, 64, 64)"
            ]
          },
          "metadata": {},
          "execution_count": 130
        }
      ]
    },
    {
      "cell_type": "markdown",
      "source": [
        "## Visualizing Images and Masks"
      ],
      "metadata": {
        "id": "fQbjklFD0R2_"
      }
    },
    {
      "cell_type": "code",
      "source": [
        "index=456\n",
        "image=X[index]\n",
        "mask=y[index]\n",
        "plt.subplot(1, 2, 1)\n",
        "plt.imshow(image,cmap='gray')\n",
        "plt.subplot(1, 2, 2)\n",
        "plt.imshow(mask,cmap='gray')\n",
        "plt.show()"
      ],
      "metadata": {
        "colab": {
          "base_uri": "https://localhost:8080/",
          "height": 203
        },
        "id": "QHNOR-XSzdf5",
        "outputId": "e5467ce5-73c4-47d7-f476-d6381b760cc0"
      },
      "execution_count": 131,
      "outputs": [
        {
          "output_type": "display_data",
          "data": {
            "text/plain": [
              "<Figure size 432x288 with 2 Axes>"
            ],
            "image/png": "[encoded data removed]"
          },
          "metadata": {
            "needs_background": "light"
          }
        }
      ]
    },
    {
      "cell_type": "markdown",
      "source": [
        "## Model"
      ],
      "metadata": {
        "id": "ujV62CDqHR0R"
      }
    },
    {
      "cell_type": "code",
      "source": [
        "from tensorflow.keras.models import Sequential\n",
        "from tensorflow.keras.layers import Dense, Input,Conv2D, MaxPooling2D, Resizing,AveragePooling2D, Flatten, Dropout, BatchNormalization, InputLayer, Reshape\n",
        "model = Sequential()\n",
        "model.add(InputLayer(input_shape=(64, 64, 1)))\n",
        "model.add(Conv2D(64, 2, padding='same', activation=\"relu\"))\n",
        "\n",
        "model.add(Resizing(64, 64, interpolation='nearest'))\n",
        "\n",
        "# model.add(AveragePooling2D(2, padding='same'))\n",
        "# model.add(Conv2D(8, 3, padding='same', activation=\"relu\"))\n",
        "# model.add(AveragePooling2D(2, padding='same'))\n",
        "# model.add(Conv2D(4, 3, padding='same', activation=\"relu\"))\n",
        "# model.add(AveragePooling2D(2, padding='same'))\n",
        "# model.add(Conv2D(1, 1, padding='same', activation=\"relu\"))\n",
        "# model.add(Resizing(64, 64, interpolation='bilinear'))\n",
        "\n",
        "# model.add(Conv2D(16, 3, padding='same', activation=\"relu\"))\n",
        "# model.add(AveragePooling2D(2, padding='same'))\n",
        "# model.add(Conv2D(8, 3, padding='same', activation=\"relu\"))\n",
        "# model.add(AveragePooling2D(2, padding='same'))\n",
        "# model.add(Conv2D(4, 3, padding='same', activation=\"relu\"))\n",
        "# model.add(AveragePooling2D(2, padding='same'))\n",
        "# model.add(Conv2D(1, 1, padding='same', activation=\"relu\"))\n",
        "# model.add(Resizing(64, 64, interpolation='bilinear'))\n",
        "\n",
        "# model.add(Conv2D(16, 3, padding='same', activation=\"relu\"))\n",
        "# model.add(AveragePooling2D(2, padding='same'))\n",
        "# model.add(Conv2D(8, 3, padding='same', activation=\"relu\"))\n",
        "# model.add(AveragePooling2D(2, padding='same'))\n",
        "# model.add(Conv2D(4, 3, padding='same', activation=\"relu\"))\n",
        "# model.add(AveragePooling2D(2, padding='same'))\n",
        "# model.add(Conv2D(1, 1, padding='same', activation=\"relu\"))\n",
        "# model.add(Resizing(64, 64, interpolation='bilinear'))\n",
        "\n",
        "# model.add(Conv2D(16, 3, padding='same', activation=\"relu\"))\n",
        "# model.add(AveragePooling2D(2, padding='same'))\n",
        "# model.add(Conv2D(8, 3, padding='same', activation=\"relu\"))\n",
        "# model.add(AveragePooling2D(2, padding='same'))\n",
        "# model.add(Conv2D(4, 3, padding='same', activation=\"relu\"))\n",
        "# model.add(AveragePooling2D(2, padding='same'))\n",
        "# model.add(Conv2D(1, 1, padding='same', activation=\"relu\"))\n",
        "# model.add(Resizing(64, 64, interpolation='bilinear'))\n",
        "# model.add(Flatten())\n",
        "# model.add(Dense(64, activation=\"relu\"))\n",
        "# model.add(Dense(4096, activation=\"relu\"))\n",
        "model.summary()"
      ],
      "metadata": {
        "id": "H2FJWYLtcKxE"
      },
      "execution_count": null,
      "outputs": []
    },
    {
      "cell_type": "code",
      "source": [
        "from keras.models import Model\n",
        "from keras.layers import concatenate\n",
        "# image=Input(shape=(64, 64, 1))\n",
        "# conv1=Conv2D(64, 3, padding='same', activation=\"relu\")(image)\n",
        "# av1=AveragePooling2D(2, padding='same')(conv1)\n",
        "# conv2=Conv2D(32, 3, padding='same', activation=\"relu\")(av1)\n",
        "# resize=Resizing(64, 64, interpolation='bilinear')(conv2)\n",
        "# conv3=Conv2D(1, 1, padding='same', activation=\"relu\")(resize)\n",
        "# conc=concatenate([conv1, resize])\n",
        "# conv4=Conv2D(1, 1, padding='same', activation=\"relu\")(conc)\n",
        "# conv2=Conv2D(1, 1, padding='same', activation=\"relu\")(conv1)\n",
        "# conv3=Conv2D(1, 1, padding='same', activation=\"relu\")(conc)\n",
        "\n",
        "# resize=Resizing(64, 64, interpolation='bilinear')(conv2)\n",
        "# av1=AveragePooling2D(2, padding='same')(conv1)\n",
        "# conv2=Conv2D(16, 3, padding='same', activation=\"relu\")(av1)\n",
        "# av2=AveragePooling2D(2, padding='same')(conv2)\n",
        "# conv3=Conv2D(8, 3, padding='same', activation=\"relu\")(av2)\n",
        "# av3=AveragePooling2D(2, padding='same')(conv3)\n",
        "# conv4=Conv2D(1, 1, padding='same', activation=\"relu\")(av3)\n",
        "\n",
        "image=Input(shape=(64, 64, 1))\n",
        "conv1=Conv2D(16, 4, padding='same', activation=\"relu\")(image)\n",
        "conv2=Conv2D(8, 2, padding='same', activation=\"relu\")(conv1)\n",
        "av1=AveragePooling2D(2, padding='same')(conv2)\n",
        "conv3=Conv2D(16, 4, padding='same', activation=\"relu\")(av1)\n",
        "conv4=Conv2D(8, 2, padding='same', activation=\"relu\")(conv3)\n",
        "av2=AveragePooling2D(2, padding='same')(conv4)\n",
        "conv5=Conv2D(16, 4, padding='same', activation=\"relu\")(av2)\n",
        "conv6=Conv2D(8, 2, padding='same', activation=\"relu\")(conv5)\n",
        "av3=AveragePooling2D(2, padding='same')(conv6)\n",
        "resize=Resizing(64, 64, interpolation='bilinear')(av3)\n",
        "conc=concatenate([conv1,resize])\n",
        "conv5=Conv2D(1, 1, padding='same', activation=\"relu\")(conc)\n",
        "model=Model(inputs=image, outputs=conv5)\n",
        "model.summary()\n",
        "# --------------------------------------------------------------------------------------------\n",
        "# --------------------------------------------------------------------------------------------\n",
        "# image=Input(shape=(64, 64, 1))\n",
        "# conv1=Conv2D(16, 4, padding='same')(image)\n",
        "# bn1=BatchNormalization()(conv1)\n",
        "# drop1=Dropout(0.15)(bn1)\n",
        "# act1=Activation(\"relu\")(drop1)\n",
        "# conv2=Conv2D(8, 4, padding='same')(act1)\n",
        "# bn2=BatchNormalization()(conv2)\n",
        "# drop2=Dropout(0.15)(bn2)\n",
        "# act2=Activation(\"relu\")(drop2)\n",
        "# av1=AveragePooling2D(2, padding='same')(act2)\n",
        "# conv3=Conv2D(16, 4, padding='same', activation=\"relu\")(av1)\n",
        "# bn3=BatchNormalization()(conv3)\n",
        "# drop3=Dropout(0.15)(bn3)\n",
        "# act3=Activation(\"relu\")(drop3)\n",
        "# conv4=Conv2D(8, 4, padding='same', activation=\"relu\")(act3)\n",
        "# bn4=BatchNormalization()(conv4)\n",
        "# drop4=Dropout(0.15)(bn4)\n",
        "# act4=Activation(\"relu\")(drop4)\n",
        "# av2=AveragePooling2D(2, padding='same')(act4)\n",
        "# conv5=Conv2D(16, 4, padding='same', activation=\"relu\")(av2)\n",
        "# bn5=BatchNormalization()(conv5)\n",
        "# drop5=Dropout(0.15)(bn5)\n",
        "# act5=Activation(\"relu\")(drop5)\n",
        "# conv6=Conv2D(8, 4, padding='same', activation=\"relu\")(act5)\n",
        "# bn6=BatchNormalization()(conv6)\n",
        "# drop6=Dropout(0.15)(bn6)\n",
        "# act6=Activation(\"relu\")(drop6)\n",
        "# av3=AveragePooling2D(2, padding='same')(act6)\n",
        "# resize=Resizing(64, 64, interpolation='bilinear')(av3)\n",
        "# conc=concatenate([conv1,resize])\n",
        "# conv5=Conv2D(1, 1, padding='same', activation=\"relu\")(conc)\n",
        "# model=Model(inputs=image, outputs=conv5)\n",
        "# model.summary()\n",
        "# --------------------------------------------------------------------------------------------\n",
        "# --------------------------------------------------------------------------------------------"
      ],
      "metadata": {
        "id": "K0jugYvr6Fde"
      },
      "execution_count": null,
      "outputs": []
    },
    {
      "cell_type": "code",
      "source": [
        "import tensorflow as tf\n",
        "model.compile(loss=\"mse\", \n",
        "              optimizer=tf.keras.optimizers.experimental.Adam(learning_rate=1e-3),\n",
        "              metrics='mean_absolute_error')\n",
        "model.fit(X, \n",
        "          y, \n",
        "          steps_per_epoch=32, \n",
        "          epochs=300, \n",
        "          verbose=1)"
      ],
      "metadata": {
        "id": "K-89x6W6o_ZT",
        "colab": {
          "base_uri": "https://localhost:8080/"
        },
        "outputId": "3855c3e4-9cff-42c4-8c88-57bc3a6a9fc9"
      },
      "execution_count": 133,
      "outputs": [
        {
          "output_type": "stream",
          "name": "stdout",
          "text": [
            "Epoch 1/300\n",
            "32/32 [==============================] - 4s 6ms/step - loss: 0.1364 - mean_absolute_error: 0.2434\n",
            "Epoch 2/300\n",
            "32/32 [==============================] - 0s 6ms/step - loss: 0.1307 - mean_absolute_error: 0.2431\n",
            "Epoch 3/300\n",
            "32/32 [==============================] - 0s 6ms/step - loss: 0.1254 - mean_absolute_error: 0.2390\n",
            "Epoch 4/300\n",
            "32/32 [==============================] - 0s 6ms/step - loss: 0.1211 - mean_absolute_error: 0.2401\n",
            "Epoch 5/300\n",
            "32/32 [==============================] - 0s 6ms/step - loss: 0.1164 - mean_absolute_error: 0.2270\n",
            "Epoch 6/300\n",
            "32/32 [==============================] - 0s 6ms/step - loss: 0.1079 - mean_absolute_error: 0.2210\n",
            "Epoch 7/300\n",
            "32/32 [==============================] - 0s 6ms/step - loss: 0.1067 - mean_absolute_error: 0.2052\n",
            "Epoch 8/300\n",
            "32/32 [==============================] - 0s 6ms/step - loss: 0.0968 - mean_absolute_error: 0.1950\n",
            "Epoch 9/300\n",
            "32/32 [==============================] - 0s 6ms/step - loss: 0.0827 - mean_absolute_error: 0.1679\n",
            "Epoch 10/300\n",
            "32/32 [==============================] - 0s 6ms/step - loss: 0.0794 - mean_absolute_error: 0.1573\n",
            "Epoch 11/300\n",
            "32/32 [==============================] - 0s 6ms/step - loss: 0.0742 - mean_absolute_error: 0.1482\n",
            "Epoch 12/300\n",
            "32/32 [==============================] - 0s 6ms/step - loss: 0.0725 - mean_absolute_error: 0.1456\n",
            "Epoch 13/300\n",
            "32/32 [==============================] - 0s 6ms/step - loss: 0.0729 - mean_absolute_error: 0.1447\n",
            "Epoch 14/300\n",
            "32/32 [==============================] - 0s 6ms/step - loss: 0.0713 - mean_absolute_error: 0.1430\n",
            "Epoch 15/300\n",
            "32/32 [==============================] - 0s 6ms/step - loss: 0.0688 - mean_absolute_error: 0.1369\n",
            "Epoch 16/300\n",
            "32/32 [==============================] - 0s 6ms/step - loss: 0.0664 - mean_absolute_error: 0.1360\n",
            "Epoch 17/300\n",
            "32/32 [==============================] - 0s 6ms/step - loss: 0.0695 - mean_absolute_error: 0.1404\n",
            "Epoch 18/300\n",
            "32/32 [==============================] - 0s 6ms/step - loss: 0.0672 - mean_absolute_error: 0.1359\n",
            "Epoch 19/300\n",
            "32/32 [==============================] - 0s 6ms/step - loss: 0.0678 - mean_absolute_error: 0.1404\n",
            "Epoch 20/300\n",
            "32/32 [==============================] - 0s 6ms/step - loss: 0.0651 - mean_absolute_error: 0.1334\n",
            "Epoch 21/300\n",
            "32/32 [==============================] - 0s 6ms/step - loss: 0.0622 - mean_absolute_error: 0.1300\n",
            "Epoch 22/300\n",
            "32/32 [==============================] - 0s 6ms/step - loss: 0.0631 - mean_absolute_error: 0.1320\n",
            "Epoch 23/300\n",
            "32/32 [==============================] - 0s 6ms/step - loss: 0.0611 - mean_absolute_error: 0.1265\n",
            "Epoch 24/300\n",
            "32/32 [==============================] - 0s 6ms/step - loss: 0.0624 - mean_absolute_error: 0.1311\n",
            "Epoch 25/300\n",
            "32/32 [==============================] - 0s 6ms/step - loss: 0.0597 - mean_absolute_error: 0.1251\n",
            "Epoch 26/300\n",
            "32/32 [==============================] - 0s 6ms/step - loss: 0.0609 - mean_absolute_error: 0.1251\n",
            "Epoch 27/300\n",
            "32/32 [==============================] - 0s 6ms/step - loss: 0.0596 - mean_absolute_error: 0.1256\n",
            "Epoch 28/300\n",
            "32/32 [==============================] - 0s 6ms/step - loss: 0.0601 - mean_absolute_error: 0.1245\n",
            "Epoch 29/300\n",
            "32/32 [==============================] - 0s 6ms/step - loss: 0.0613 - mean_absolute_error: 0.1278\n",
            "Epoch 30/300\n",
            "32/32 [==============================] - 0s 6ms/step - loss: 0.0577 - mean_absolute_error: 0.1225\n",
            "Epoch 31/300\n",
            "32/32 [==============================] - 0s 6ms/step - loss: 0.0558 - mean_absolute_error: 0.1180\n",
            "Epoch 32/300\n",
            "32/32 [==============================] - 0s 6ms/step - loss: 0.0555 - mean_absolute_error: 0.1166\n",
            "Epoch 33/300\n",
            "32/32 [==============================] - 0s 6ms/step - loss: 0.0547 - mean_absolute_error: 0.1177\n",
            "Epoch 34/300\n",
            "32/32 [==============================] - 0s 6ms/step - loss: 0.0560 - mean_absolute_error: 0.1187\n",
            "Epoch 35/300\n",
            "32/32 [==============================] - 0s 6ms/step - loss: 0.0569 - mean_absolute_error: 0.1171\n",
            "Epoch 36/300\n",
            "32/32 [==============================] - 0s 6ms/step - loss: 0.0547 - mean_absolute_error: 0.1158\n",
            "Epoch 37/300\n",
            "32/32 [==============================] - 0s 6ms/step - loss: 0.0541 - mean_absolute_error: 0.1163\n",
            "Epoch 38/300\n",
            "32/32 [==============================] - 0s 6ms/step - loss: 0.0545 - mean_absolute_error: 0.1141\n",
            "Epoch 39/300\n",
            "32/32 [==============================] - 0s 6ms/step - loss: 0.0531 - mean_absolute_error: 0.1130\n",
            "Epoch 40/300\n",
            "32/32 [==============================] - 0s 6ms/step - loss: 0.0531 - mean_absolute_error: 0.1140\n",
            "Epoch 41/300\n",
            "32/32 [==============================] - 0s 6ms/step - loss: 0.0529 - mean_absolute_error: 0.1105\n",
            "Epoch 42/300\n",
            "32/32 [==============================] - 0s 6ms/step - loss: 0.0508 - mean_absolute_error: 0.1100\n",
            "Epoch 43/300\n",
            "32/32 [==============================] - 0s 6ms/step - loss: 0.0526 - mean_absolute_error: 0.1111\n",
            "Epoch 44/300\n",
            "32/32 [==============================] - 0s 6ms/step - loss: 0.0500 - mean_absolute_error: 0.1059\n",
            "Epoch 45/300\n",
            "32/32 [==============================] - 0s 6ms/step - loss: 0.0523 - mean_absolute_error: 0.1110\n",
            "Epoch 46/300\n",
            "32/32 [==============================] - 0s 6ms/step - loss: 0.0499 - mean_absolute_error: 0.1072\n",
            "Epoch 47/300\n",
            "32/32 [==============================] - 0s 6ms/step - loss: 0.0479 - mean_absolute_error: 0.1023\n",
            "Epoch 48/300\n",
            "32/32 [==============================] - 0s 6ms/step - loss: 0.0491 - mean_absolute_error: 0.1070\n",
            "Epoch 49/300\n",
            "32/32 [==============================] - 0s 6ms/step - loss: 0.0483 - mean_absolute_error: 0.1020\n",
            "Epoch 50/300\n",
            "32/32 [==============================] - 0s 6ms/step - loss: 0.0466 - mean_absolute_error: 0.1002\n",
            "Epoch 51/300\n",
            "32/32 [==============================] - 0s 9ms/step - loss: 0.0466 - mean_absolute_error: 0.1000\n",
            "Epoch 52/300\n",
            "32/32 [==============================] - 0s 8ms/step - loss: 0.0470 - mean_absolute_error: 0.0997\n",
            "Epoch 53/300\n",
            "32/32 [==============================] - 0s 8ms/step - loss: 0.0479 - mean_absolute_error: 0.1023\n",
            "Epoch 54/300\n",
            "32/32 [==============================] - 0s 8ms/step - loss: 0.0449 - mean_absolute_error: 0.0980\n",
            "Epoch 55/300\n",
            "32/32 [==============================] - 0s 8ms/step - loss: 0.0443 - mean_absolute_error: 0.0954\n",
            "Epoch 56/300\n",
            "32/32 [==============================] - 0s 8ms/step - loss: 0.0462 - mean_absolute_error: 0.0996\n",
            "Epoch 57/300\n",
            "32/32 [==============================] - 0s 8ms/step - loss: 0.0431 - mean_absolute_error: 0.0935\n",
            "Epoch 58/300\n",
            "32/32 [==============================] - 0s 8ms/step - loss: 0.0419 - mean_absolute_error: 0.0929\n",
            "Epoch 59/300\n",
            "32/32 [==============================] - 0s 8ms/step - loss: 0.0424 - mean_absolute_error: 0.0925\n",
            "Epoch 60/300\n",
            "32/32 [==============================] - 0s 8ms/step - loss: 0.0439 - mean_absolute_error: 0.0930\n",
            "Epoch 61/300\n",
            "32/32 [==============================] - 0s 9ms/step - loss: 0.0442 - mean_absolute_error: 0.0966\n",
            "Epoch 62/300\n",
            "32/32 [==============================] - 0s 8ms/step - loss: 0.0422 - mean_absolute_error: 0.0916\n",
            "Epoch 63/300\n",
            "32/32 [==============================] - 0s 9ms/step - loss: 0.0407 - mean_absolute_error: 0.0899\n",
            "Epoch 64/300\n",
            "32/32 [==============================] - 0s 6ms/step - loss: 0.0393 - mean_absolute_error: 0.0861\n",
            "Epoch 65/300\n",
            "32/32 [==============================] - 0s 6ms/step - loss: 0.0397 - mean_absolute_error: 0.0872\n",
            "Epoch 66/300\n",
            "32/32 [==============================] - 0s 6ms/step - loss: 0.0402 - mean_absolute_error: 0.0882\n",
            "Epoch 67/300\n",
            "32/32 [==============================] - 0s 6ms/step - loss: 0.0396 - mean_absolute_error: 0.0881\n",
            "Epoch 68/300\n",
            "32/32 [==============================] - 0s 6ms/step - loss: 0.0387 - mean_absolute_error: 0.0847\n",
            "Epoch 69/300\n",
            "32/32 [==============================] - 0s 6ms/step - loss: 0.0390 - mean_absolute_error: 0.0856\n",
            "Epoch 70/300\n",
            "32/32 [==============================] - 0s 6ms/step - loss: 0.0392 - mean_absolute_error: 0.0874\n",
            "Epoch 71/300\n",
            "32/32 [==============================] - 0s 6ms/step - loss: 0.0379 - mean_absolute_error: 0.0838\n",
            "Epoch 72/300\n",
            "32/32 [==============================] - 0s 6ms/step - loss: 0.0366 - mean_absolute_error: 0.0825\n",
            "Epoch 73/300\n",
            "32/32 [==============================] - 0s 6ms/step - loss: 0.0369 - mean_absolute_error: 0.0811\n",
            "Epoch 74/300\n",
            "32/32 [==============================] - 0s 6ms/step - loss: 0.0383 - mean_absolute_error: 0.0845\n",
            "Epoch 75/300\n",
            "32/32 [==============================] - 0s 6ms/step - loss: 0.0365 - mean_absolute_error: 0.0818\n",
            "Epoch 76/300\n",
            "32/32 [==============================] - 0s 6ms/step - loss: 0.0361 - mean_absolute_error: 0.0799\n",
            "Epoch 77/300\n",
            "32/32 [==============================] - 0s 6ms/step - loss: 0.0356 - mean_absolute_error: 0.0801\n",
            "Epoch 78/300\n",
            "32/32 [==============================] - 0s 6ms/step - loss: 0.0363 - mean_absolute_error: 0.0814\n",
            "Epoch 79/300\n",
            "32/32 [==============================] - 0s 6ms/step - loss: 0.0355 - mean_absolute_error: 0.0791\n",
            "Epoch 80/300\n",
            "32/32 [==============================] - 0s 6ms/step - loss: 0.0356 - mean_absolute_error: 0.0793\n",
            "Epoch 81/300\n",
            "32/32 [==============================] - 0s 6ms/step - loss: 0.0387 - mean_absolute_error: 0.0847\n",
            "Epoch 82/300\n",
            "32/32 [==============================] - 0s 6ms/step - loss: 0.0354 - mean_absolute_error: 0.0786\n",
            "Epoch 83/300\n",
            "32/32 [==============================] - 0s 6ms/step - loss: 0.0338 - mean_absolute_error: 0.0769\n",
            "Epoch 84/300\n",
            "32/32 [==============================] - 0s 6ms/step - loss: 0.0355 - mean_absolute_error: 0.0788\n",
            "Epoch 85/300\n",
            "32/32 [==============================] - 0s 6ms/step - loss: 0.0349 - mean_absolute_error: 0.0788\n",
            "Epoch 86/300\n",
            "32/32 [==============================] - 0s 6ms/step - loss: 0.0341 - mean_absolute_error: 0.0773\n",
            "Epoch 87/300\n",
            "32/32 [==============================] - 0s 6ms/step - loss: 0.0346 - mean_absolute_error: 0.0773\n",
            "Epoch 88/300\n",
            "32/32 [==============================] - 0s 6ms/step - loss: 0.0335 - mean_absolute_error: 0.0757\n",
            "Epoch 89/300\n",
            "32/32 [==============================] - 0s 6ms/step - loss: 0.0337 - mean_absolute_error: 0.0768\n",
            "Epoch 90/300\n",
            "32/32 [==============================] - 0s 6ms/step - loss: 0.0326 - mean_absolute_error: 0.0735\n",
            "Epoch 91/300\n",
            "32/32 [==============================] - 0s 6ms/step - loss: 0.0342 - mean_absolute_error: 0.0764\n",
            "Epoch 92/300\n",
            "32/32 [==============================] - 0s 6ms/step - loss: 0.0323 - mean_absolute_error: 0.0737\n",
            "Epoch 93/300\n",
            "32/32 [==============================] - 0s 6ms/step - loss: 0.0324 - mean_absolute_error: 0.0724\n",
            "Epoch 94/300\n",
            "32/32 [==============================] - 0s 6ms/step - loss: 0.0321 - mean_absolute_error: 0.0726\n",
            "Epoch 95/300\n",
            "32/32 [==============================] - 0s 6ms/step - loss: 0.0337 - mean_absolute_error: 0.0763\n",
            "Epoch 96/300\n",
            "32/32 [==============================] - 0s 7ms/step - loss: 0.0323 - mean_absolute_error: 0.0734\n",
            "Epoch 97/300\n",
            "32/32 [==============================] - 0s 6ms/step - loss: 0.0316 - mean_absolute_error: 0.0718\n",
            "Epoch 98/300\n",
            "32/32 [==============================] - 0s 6ms/step - loss: 0.0319 - mean_absolute_error: 0.0725\n",
            "Epoch 99/300\n",
            "32/32 [==============================] - 0s 6ms/step - loss: 0.0313 - mean_absolute_error: 0.0712\n",
            "Epoch 100/300\n",
            "32/32 [==============================] - 0s 6ms/step - loss: 0.0308 - mean_absolute_error: 0.0710\n",
            "Epoch 101/300\n",
            "32/32 [==============================] - 0s 6ms/step - loss: 0.0315 - mean_absolute_error: 0.0720\n",
            "Epoch 102/300\n",
            "32/32 [==============================] - 0s 6ms/step - loss: 0.0312 - mean_absolute_error: 0.0713\n",
            "Epoch 103/300\n",
            "32/32 [==============================] - 0s 6ms/step - loss: 0.0307 - mean_absolute_error: 0.0699\n",
            "Epoch 104/300\n",
            "32/32 [==============================] - 0s 6ms/step - loss: 0.0298 - mean_absolute_error: 0.0691\n",
            "Epoch 105/300\n",
            "32/32 [==============================] - 0s 6ms/step - loss: 0.0304 - mean_absolute_error: 0.0700\n",
            "Epoch 106/300\n",
            "32/32 [==============================] - 0s 6ms/step - loss: 0.0301 - mean_absolute_error: 0.0694\n",
            "Epoch 107/300\n",
            "32/32 [==============================] - 0s 6ms/step - loss: 0.0295 - mean_absolute_error: 0.0683\n",
            "Epoch 108/300\n",
            "32/32 [==============================] - 0s 6ms/step - loss: 0.0291 - mean_absolute_error: 0.0677\n",
            "Epoch 109/300\n",
            "32/32 [==============================] - 0s 6ms/step - loss: 0.0302 - mean_absolute_error: 0.0694\n",
            "Epoch 110/300\n",
            "32/32 [==============================] - 0s 6ms/step - loss: 0.0292 - mean_absolute_error: 0.0679\n",
            "Epoch 111/300\n",
            "32/32 [==============================] - 0s 6ms/step - loss: 0.0286 - mean_absolute_error: 0.0672\n",
            "Epoch 112/300\n",
            "32/32 [==============================] - 0s 6ms/step - loss: 0.0285 - mean_absolute_error: 0.0660\n",
            "Epoch 113/300\n",
            "32/32 [==============================] - 0s 6ms/step - loss: 0.0293 - mean_absolute_error: 0.0681\n",
            "Epoch 114/300\n",
            "32/32 [==============================] - 0s 7ms/step - loss: 0.0288 - mean_absolute_error: 0.0670\n",
            "Epoch 115/300\n",
            "32/32 [==============================] - 0s 9ms/step - loss: 0.0283 - mean_absolute_error: 0.0660\n",
            "Epoch 116/300\n",
            "32/32 [==============================] - 0s 8ms/step - loss: 0.0291 - mean_absolute_error: 0.0671\n",
            "Epoch 117/300\n",
            "32/32 [==============================] - 0s 8ms/step - loss: 0.0287 - mean_absolute_error: 0.0664\n",
            "Epoch 118/300\n",
            "32/32 [==============================] - 0s 8ms/step - loss: 0.0274 - mean_absolute_error: 0.0649\n",
            "Epoch 119/300\n",
            "32/32 [==============================] - 0s 8ms/step - loss: 0.0284 - mean_absolute_error: 0.0655\n",
            "Epoch 120/300\n",
            "32/32 [==============================] - 0s 9ms/step - loss: 0.0288 - mean_absolute_error: 0.0671\n",
            "Epoch 121/300\n",
            "32/32 [==============================] - 0s 8ms/step - loss: 0.0296 - mean_absolute_error: 0.0678\n",
            "Epoch 122/300\n",
            "32/32 [==============================] - 0s 7ms/step - loss: 0.0273 - mean_absolute_error: 0.0653\n",
            "Epoch 123/300\n",
            "32/32 [==============================] - 0s 8ms/step - loss: 0.0273 - mean_absolute_error: 0.0641\n",
            "Epoch 124/300\n",
            "32/32 [==============================] - 0s 8ms/step - loss: 0.0264 - mean_absolute_error: 0.0629\n",
            "Epoch 125/300\n",
            "32/32 [==============================] - 0s 8ms/step - loss: 0.0268 - mean_absolute_error: 0.0632\n",
            "Epoch 126/300\n",
            "32/32 [==============================] - 0s 8ms/step - loss: 0.0264 - mean_absolute_error: 0.0625\n",
            "Epoch 127/300\n",
            "32/32 [==============================] - 0s 8ms/step - loss: 0.0262 - mean_absolute_error: 0.0627\n",
            "Epoch 128/300\n",
            "32/32 [==============================] - 0s 7ms/step - loss: 0.0277 - mean_absolute_error: 0.0645\n",
            "Epoch 129/300\n",
            "32/32 [==============================] - 0s 6ms/step - loss: 0.0274 - mean_absolute_error: 0.0643\n",
            "Epoch 130/300\n",
            "32/32 [==============================] - 0s 6ms/step - loss: 0.0259 - mean_absolute_error: 0.0614\n",
            "Epoch 131/300\n",
            "32/32 [==============================] - 0s 6ms/step - loss: 0.0263 - mean_absolute_error: 0.0626\n",
            "Epoch 132/300\n",
            "32/32 [==============================] - 0s 6ms/step - loss: 0.0259 - mean_absolute_error: 0.0617\n",
            "Epoch 133/300\n",
            "32/32 [==============================] - 0s 6ms/step - loss: 0.0255 - mean_absolute_error: 0.0610\n",
            "Epoch 134/300\n",
            "32/32 [==============================] - 0s 6ms/step - loss: 0.0256 - mean_absolute_error: 0.0607\n",
            "Epoch 135/300\n",
            "32/32 [==============================] - 0s 6ms/step - loss: 0.0254 - mean_absolute_error: 0.0602\n",
            "Epoch 136/300\n",
            "32/32 [==============================] - 0s 6ms/step - loss: 0.0255 - mean_absolute_error: 0.0613\n",
            "Epoch 137/300\n",
            "32/32 [==============================] - 0s 6ms/step - loss: 0.0260 - mean_absolute_error: 0.0613\n",
            "Epoch 138/300\n",
            "32/32 [==============================] - 0s 6ms/step - loss: 0.0261 - mean_absolute_error: 0.0614\n",
            "Epoch 139/300\n",
            "32/32 [==============================] - 0s 6ms/step - loss: 0.0273 - mean_absolute_error: 0.0633\n",
            "Epoch 140/300\n",
            "32/32 [==============================] - 0s 6ms/step - loss: 0.0246 - mean_absolute_error: 0.0597\n",
            "Epoch 141/300\n",
            "32/32 [==============================] - 0s 6ms/step - loss: 0.0248 - mean_absolute_error: 0.0588\n",
            "Epoch 142/300\n",
            "32/32 [==============================] - 0s 6ms/step - loss: 0.0246 - mean_absolute_error: 0.0593\n",
            "Epoch 143/300\n",
            "32/32 [==============================] - 0s 6ms/step - loss: 0.0244 - mean_absolute_error: 0.0590\n",
            "Epoch 144/300\n",
            "32/32 [==============================] - 0s 6ms/step - loss: 0.0252 - mean_absolute_error: 0.0596\n",
            "Epoch 145/300\n",
            "32/32 [==============================] - 0s 6ms/step - loss: 0.0241 - mean_absolute_error: 0.0583\n",
            "Epoch 146/300\n",
            "32/32 [==============================] - 0s 6ms/step - loss: 0.0250 - mean_absolute_error: 0.0596\n",
            "Epoch 147/300\n",
            "32/32 [==============================] - 0s 6ms/step - loss: 0.0245 - mean_absolute_error: 0.0587\n",
            "Epoch 148/300\n",
            "32/32 [==============================] - 0s 6ms/step - loss: 0.0255 - mean_absolute_error: 0.0609\n",
            "Epoch 149/300\n",
            "32/32 [==============================] - 0s 6ms/step - loss: 0.0247 - mean_absolute_error: 0.0596\n",
            "Epoch 150/300\n",
            "32/32 [==============================] - 0s 6ms/step - loss: 0.0248 - mean_absolute_error: 0.0590\n",
            "Epoch 151/300\n",
            "32/32 [==============================] - 0s 6ms/step - loss: 0.0237 - mean_absolute_error: 0.0578\n",
            "Epoch 152/300\n",
            "32/32 [==============================] - 0s 6ms/step - loss: 0.0242 - mean_absolute_error: 0.0585\n",
            "Epoch 153/300\n",
            "32/32 [==============================] - 0s 6ms/step - loss: 0.0239 - mean_absolute_error: 0.0579\n",
            "Epoch 154/300\n",
            "32/32 [==============================] - 0s 6ms/step - loss: 0.0240 - mean_absolute_error: 0.0586\n",
            "Epoch 155/300\n",
            "32/32 [==============================] - 0s 6ms/step - loss: 0.0244 - mean_absolute_error: 0.0586\n",
            "Epoch 156/300\n",
            "32/32 [==============================] - 0s 6ms/step - loss: 0.0234 - mean_absolute_error: 0.0569\n",
            "Epoch 157/300\n",
            "32/32 [==============================] - 0s 6ms/step - loss: 0.0233 - mean_absolute_error: 0.0565\n",
            "Epoch 158/300\n",
            "32/32 [==============================] - 0s 7ms/step - loss: 0.0243 - mean_absolute_error: 0.0592\n",
            "Epoch 159/300\n",
            "32/32 [==============================] - 0s 6ms/step - loss: 0.0234 - mean_absolute_error: 0.0563\n",
            "Epoch 160/300\n",
            "32/32 [==============================] - 0s 7ms/step - loss: 0.0225 - mean_absolute_error: 0.0551\n",
            "Epoch 161/300\n",
            "32/32 [==============================] - 0s 6ms/step - loss: 0.0226 - mean_absolute_error: 0.0558\n",
            "Epoch 162/300\n",
            "32/32 [==============================] - 0s 6ms/step - loss: 0.0226 - mean_absolute_error: 0.0555\n",
            "Epoch 163/300\n",
            "32/32 [==============================] - 0s 6ms/step - loss: 0.0241 - mean_absolute_error: 0.0574\n",
            "Epoch 164/300\n",
            "32/32 [==============================] - 0s 6ms/step - loss: 0.0232 - mean_absolute_error: 0.0569\n",
            "Epoch 165/300\n",
            "32/32 [==============================] - 0s 6ms/step - loss: 0.0226 - mean_absolute_error: 0.0553\n",
            "Epoch 166/300\n",
            "32/32 [==============================] - 0s 6ms/step - loss: 0.0230 - mean_absolute_error: 0.0560\n",
            "Epoch 167/300\n",
            "32/32 [==============================] - 0s 6ms/step - loss: 0.0226 - mean_absolute_error: 0.0552\n",
            "Epoch 168/300\n",
            "32/32 [==============================] - 0s 6ms/step - loss: 0.0223 - mean_absolute_error: 0.0550\n",
            "Epoch 169/300\n",
            "32/32 [==============================] - 0s 6ms/step - loss: 0.0217 - mean_absolute_error: 0.0540\n",
            "Epoch 170/300\n",
            "32/32 [==============================] - 0s 6ms/step - loss: 0.0216 - mean_absolute_error: 0.0539\n",
            "Epoch 171/300\n",
            "32/32 [==============================] - 0s 6ms/step - loss: 0.0225 - mean_absolute_error: 0.0552\n",
            "Epoch 172/300\n",
            "32/32 [==============================] - 0s 6ms/step - loss: 0.0217 - mean_absolute_error: 0.0541\n",
            "Epoch 173/300\n",
            "32/32 [==============================] - 0s 7ms/step - loss: 0.0215 - mean_absolute_error: 0.0536\n",
            "Epoch 174/300\n",
            "32/32 [==============================] - 0s 7ms/step - loss: 0.0213 - mean_absolute_error: 0.0531\n",
            "Epoch 175/300\n",
            "32/32 [==============================] - 0s 6ms/step - loss: 0.0211 - mean_absolute_error: 0.0526\n",
            "Epoch 176/300\n",
            "32/32 [==============================] - 0s 6ms/step - loss: 0.0212 - mean_absolute_error: 0.0528\n",
            "Epoch 177/300\n",
            "32/32 [==============================] - 0s 8ms/step - loss: 0.0213 - mean_absolute_error: 0.0534\n",
            "Epoch 178/300\n",
            "32/32 [==============================] - 0s 8ms/step - loss: 0.0210 - mean_absolute_error: 0.0523\n",
            "Epoch 179/300\n",
            "32/32 [==============================] - 0s 8ms/step - loss: 0.0208 - mean_absolute_error: 0.0522\n",
            "Epoch 180/300\n",
            "32/32 [==============================] - 0s 8ms/step - loss: 0.0208 - mean_absolute_error: 0.0524\n",
            "Epoch 181/300\n",
            "32/32 [==============================] - 0s 8ms/step - loss: 0.0212 - mean_absolute_error: 0.0529\n",
            "Epoch 182/300\n",
            "32/32 [==============================] - 0s 8ms/step - loss: 0.0210 - mean_absolute_error: 0.0528\n",
            "Epoch 183/300\n",
            "32/32 [==============================] - 0s 8ms/step - loss: 0.0208 - mean_absolute_error: 0.0526\n",
            "Epoch 184/300\n",
            "32/32 [==============================] - 0s 8ms/step - loss: 0.0210 - mean_absolute_error: 0.0524\n",
            "Epoch 185/300\n",
            "32/32 [==============================] - 0s 8ms/step - loss: 0.0209 - mean_absolute_error: 0.0518\n",
            "Epoch 186/300\n",
            "32/32 [==============================] - 0s 8ms/step - loss: 0.0207 - mean_absolute_error: 0.0522\n",
            "Epoch 187/300\n",
            "32/32 [==============================] - 0s 8ms/step - loss: 0.0211 - mean_absolute_error: 0.0522\n",
            "Epoch 188/300\n",
            "32/32 [==============================] - 0s 8ms/step - loss: 0.0207 - mean_absolute_error: 0.0517\n",
            "Epoch 189/300\n",
            "32/32 [==============================] - 0s 8ms/step - loss: 0.0212 - mean_absolute_error: 0.0530\n",
            "Epoch 190/300\n",
            "32/32 [==============================] - 0s 8ms/step - loss: 0.0202 - mean_absolute_error: 0.0511\n",
            "Epoch 191/300\n",
            "32/32 [==============================] - 0s 6ms/step - loss: 0.0198 - mean_absolute_error: 0.0503\n",
            "Epoch 192/300\n",
            "32/32 [==============================] - 0s 6ms/step - loss: 0.0197 - mean_absolute_error: 0.0501\n",
            "Epoch 193/300\n",
            "32/32 [==============================] - 0s 6ms/step - loss: 0.0198 - mean_absolute_error: 0.0509\n",
            "Epoch 194/300\n",
            "32/32 [==============================] - 0s 7ms/step - loss: 0.0202 - mean_absolute_error: 0.0510\n",
            "Epoch 195/300\n",
            "32/32 [==============================] - 0s 7ms/step - loss: 0.0196 - mean_absolute_error: 0.0500\n",
            "Epoch 196/300\n",
            "32/32 [==============================] - 0s 6ms/step - loss: 0.0201 - mean_absolute_error: 0.0511\n",
            "Epoch 197/300\n",
            "32/32 [==============================] - 0s 6ms/step - loss: 0.0210 - mean_absolute_error: 0.0520\n",
            "Epoch 198/300\n",
            "32/32 [==============================] - 0s 6ms/step - loss: 0.0202 - mean_absolute_error: 0.0508\n",
            "Epoch 199/300\n",
            "32/32 [==============================] - 0s 7ms/step - loss: 0.0209 - mean_absolute_error: 0.0526\n",
            "Epoch 200/300\n",
            "32/32 [==============================] - 0s 6ms/step - loss: 0.0192 - mean_absolute_error: 0.0492\n",
            "Epoch 201/300\n",
            "32/32 [==============================] - 0s 6ms/step - loss: 0.0199 - mean_absolute_error: 0.0505\n",
            "Epoch 202/300\n",
            "32/32 [==============================] - 0s 6ms/step - loss: 0.0198 - mean_absolute_error: 0.0506\n",
            "Epoch 203/300\n",
            "32/32 [==============================] - 0s 6ms/step - loss: 0.0197 - mean_absolute_error: 0.0500\n",
            "Epoch 204/300\n",
            "32/32 [==============================] - 0s 7ms/step - loss: 0.0194 - mean_absolute_error: 0.0497\n",
            "Epoch 205/300\n",
            "32/32 [==============================] - 0s 6ms/step - loss: 0.0195 - mean_absolute_error: 0.0496\n",
            "Epoch 206/300\n",
            "32/32 [==============================] - 0s 6ms/step - loss: 0.0192 - mean_absolute_error: 0.0493\n",
            "Epoch 207/300\n",
            "32/32 [==============================] - 0s 6ms/step - loss: 0.0197 - mean_absolute_error: 0.0503\n",
            "Epoch 208/300\n",
            "32/32 [==============================] - 0s 6ms/step - loss: 0.0187 - mean_absolute_error: 0.0485\n",
            "Epoch 209/300\n",
            "32/32 [==============================] - 0s 6ms/step - loss: 0.0199 - mean_absolute_error: 0.0508\n",
            "Epoch 210/300\n",
            "32/32 [==============================] - 0s 6ms/step - loss: 0.0188 - mean_absolute_error: 0.0484\n",
            "Epoch 211/300\n",
            "32/32 [==============================] - 0s 6ms/step - loss: 0.0185 - mean_absolute_error: 0.0482\n",
            "Epoch 212/300\n",
            "32/32 [==============================] - 0s 6ms/step - loss: 0.0186 - mean_absolute_error: 0.0482\n",
            "Epoch 213/300\n",
            "32/32 [==============================] - 0s 6ms/step - loss: 0.0186 - mean_absolute_error: 0.0480\n",
            "Epoch 214/300\n",
            "32/32 [==============================] - 0s 6ms/step - loss: 0.0188 - mean_absolute_error: 0.0485\n",
            "Epoch 215/300\n",
            "32/32 [==============================] - 0s 6ms/step - loss: 0.0199 - mean_absolute_error: 0.0496\n",
            "Epoch 216/300\n",
            "32/32 [==============================] - 0s 6ms/step - loss: 0.0192 - mean_absolute_error: 0.0494\n",
            "Epoch 217/300\n",
            "32/32 [==============================] - 0s 6ms/step - loss: 0.0187 - mean_absolute_error: 0.0483\n",
            "Epoch 218/300\n",
            "32/32 [==============================] - 0s 6ms/step - loss: 0.0184 - mean_absolute_error: 0.0481\n",
            "Epoch 219/300\n",
            "32/32 [==============================] - 0s 7ms/step - loss: 0.0189 - mean_absolute_error: 0.0484\n",
            "Epoch 220/300\n",
            "32/32 [==============================] - 0s 6ms/step - loss: 0.0181 - mean_absolute_error: 0.0472\n",
            "Epoch 221/300\n",
            "32/32 [==============================] - 0s 6ms/step - loss: 0.0197 - mean_absolute_error: 0.0501\n",
            "Epoch 222/300\n",
            "32/32 [==============================] - 0s 6ms/step - loss: 0.0177 - mean_absolute_error: 0.0468\n",
            "Epoch 223/300\n",
            "32/32 [==============================] - 0s 6ms/step - loss: 0.0176 - mean_absolute_error: 0.0462\n",
            "Epoch 224/300\n",
            "32/32 [==============================] - 0s 6ms/step - loss: 0.0184 - mean_absolute_error: 0.0477\n",
            "Epoch 225/300\n",
            "32/32 [==============================] - 0s 6ms/step - loss: 0.0178 - mean_absolute_error: 0.0468\n",
            "Epoch 226/300\n",
            "32/32 [==============================] - 0s 6ms/step - loss: 0.0180 - mean_absolute_error: 0.0469\n",
            "Epoch 227/300\n",
            "32/32 [==============================] - 0s 6ms/step - loss: 0.0177 - mean_absolute_error: 0.0465\n",
            "Epoch 228/300\n",
            "32/32 [==============================] - 0s 6ms/step - loss: 0.0177 - mean_absolute_error: 0.0467\n",
            "Epoch 229/300\n",
            "32/32 [==============================] - 0s 6ms/step - loss: 0.0171 - mean_absolute_error: 0.0453\n",
            "Epoch 230/300\n",
            "32/32 [==============================] - 0s 6ms/step - loss: 0.0175 - mean_absolute_error: 0.0459\n",
            "Epoch 231/300\n",
            "32/32 [==============================] - 0s 6ms/step - loss: 0.0183 - mean_absolute_error: 0.0474\n",
            "Epoch 232/300\n",
            "32/32 [==============================] - 0s 6ms/step - loss: 0.0178 - mean_absolute_error: 0.0466\n",
            "Epoch 233/300\n",
            "32/32 [==============================] - 0s 6ms/step - loss: 0.0175 - mean_absolute_error: 0.0458\n",
            "Epoch 234/300\n",
            "32/32 [==============================] - 0s 6ms/step - loss: 0.0174 - mean_absolute_error: 0.0461\n",
            "Epoch 235/300\n",
            "32/32 [==============================] - 0s 6ms/step - loss: 0.0171 - mean_absolute_error: 0.0455\n",
            "Epoch 236/300\n",
            "32/32 [==============================] - 0s 6ms/step - loss: 0.0167 - mean_absolute_error: 0.0449\n",
            "Epoch 237/300\n",
            "32/32 [==============================] - 0s 6ms/step - loss: 0.0168 - mean_absolute_error: 0.0445\n",
            "Epoch 238/300\n",
            "32/32 [==============================] - 0s 6ms/step - loss: 0.0175 - mean_absolute_error: 0.0460\n",
            "Epoch 239/300\n",
            "32/32 [==============================] - 0s 6ms/step - loss: 0.0173 - mean_absolute_error: 0.0461\n",
            "Epoch 240/300\n",
            "32/32 [==============================] - 0s 9ms/step - loss: 0.0172 - mean_absolute_error: 0.0452\n",
            "Epoch 241/300\n",
            "32/32 [==============================] - 0s 8ms/step - loss: 0.0169 - mean_absolute_error: 0.0449\n",
            "Epoch 242/300\n",
            "32/32 [==============================] - 0s 8ms/step - loss: 0.0168 - mean_absolute_error: 0.0448\n",
            "Epoch 243/300\n",
            "32/32 [==============================] - 0s 8ms/step - loss: 0.0180 - mean_absolute_error: 0.0465\n",
            "Epoch 244/300\n",
            "32/32 [==============================] - 0s 8ms/step - loss: 0.0184 - mean_absolute_error: 0.0476\n",
            "Epoch 245/300\n",
            "32/32 [==============================] - 0s 8ms/step - loss: 0.0177 - mean_absolute_error: 0.0466\n",
            "Epoch 246/300\n",
            "32/32 [==============================] - 0s 8ms/step - loss: 0.0184 - mean_absolute_error: 0.0470\n",
            "Epoch 247/300\n",
            "32/32 [==============================] - 0s 8ms/step - loss: 0.0179 - mean_absolute_error: 0.0465\n",
            "Epoch 248/300\n",
            "32/32 [==============================] - 0s 8ms/step - loss: 0.0170 - mean_absolute_error: 0.0449\n",
            "Epoch 249/300\n",
            "32/32 [==============================] - 0s 8ms/step - loss: 0.0166 - mean_absolute_error: 0.0444\n",
            "Epoch 250/300\n",
            "32/32 [==============================] - 0s 8ms/step - loss: 0.0163 - mean_absolute_error: 0.0437\n",
            "Epoch 251/300\n",
            "32/32 [==============================] - 0s 8ms/step - loss: 0.0160 - mean_absolute_error: 0.0436\n",
            "Epoch 252/300\n",
            "32/32 [==============================] - 0s 8ms/step - loss: 0.0165 - mean_absolute_error: 0.0440\n",
            "Epoch 253/300\n",
            "32/32 [==============================] - 0s 8ms/step - loss: 0.0168 - mean_absolute_error: 0.0448\n",
            "Epoch 254/300\n",
            "32/32 [==============================] - 0s 8ms/step - loss: 0.0167 - mean_absolute_error: 0.0445\n",
            "Epoch 255/300\n",
            "32/32 [==============================] - 0s 6ms/step - loss: 0.0161 - mean_absolute_error: 0.0435\n",
            "Epoch 256/300\n",
            "32/32 [==============================] - 0s 6ms/step - loss: 0.0166 - mean_absolute_error: 0.0438\n",
            "Epoch 257/300\n",
            "32/32 [==============================] - 0s 7ms/step - loss: 0.0169 - mean_absolute_error: 0.0450\n",
            "Epoch 258/300\n",
            "32/32 [==============================] - 0s 6ms/step - loss: 0.0161 - mean_absolute_error: 0.0435\n",
            "Epoch 259/300\n",
            "32/32 [==============================] - 0s 6ms/step - loss: 0.0161 - mean_absolute_error: 0.0433\n",
            "Epoch 260/300\n",
            "32/32 [==============================] - 0s 6ms/step - loss: 0.0159 - mean_absolute_error: 0.0430\n",
            "Epoch 261/300\n",
            "32/32 [==============================] - 0s 6ms/step - loss: 0.0157 - mean_absolute_error: 0.0426\n",
            "Epoch 262/300\n",
            "32/32 [==============================] - 0s 6ms/step - loss: 0.0157 - mean_absolute_error: 0.0425\n",
            "Epoch 263/300\n",
            "32/32 [==============================] - 0s 6ms/step - loss: 0.0155 - mean_absolute_error: 0.0424\n",
            "Epoch 264/300\n",
            "32/32 [==============================] - 0s 6ms/step - loss: 0.0156 - mean_absolute_error: 0.0426\n",
            "Epoch 265/300\n",
            "32/32 [==============================] - 0s 7ms/step - loss: 0.0157 - mean_absolute_error: 0.0428\n",
            "Epoch 266/300\n",
            "32/32 [==============================] - 0s 6ms/step - loss: 0.0160 - mean_absolute_error: 0.0431\n",
            "Epoch 267/300\n",
            "32/32 [==============================] - 0s 6ms/step - loss: 0.0166 - mean_absolute_error: 0.0445\n",
            "Epoch 268/300\n",
            "32/32 [==============================] - 0s 6ms/step - loss: 0.0163 - mean_absolute_error: 0.0436\n",
            "Epoch 269/300\n",
            "32/32 [==============================] - 0s 6ms/step - loss: 0.0152 - mean_absolute_error: 0.0415\n",
            "Epoch 270/300\n",
            "32/32 [==============================] - 0s 6ms/step - loss: 0.0156 - mean_absolute_error: 0.0427\n",
            "Epoch 271/300\n",
            "32/32 [==============================] - 0s 6ms/step - loss: 0.0156 - mean_absolute_error: 0.0421\n",
            "Epoch 272/300\n",
            "32/32 [==============================] - 0s 6ms/step - loss: 0.0157 - mean_absolute_error: 0.0426\n",
            "Epoch 273/300\n",
            "32/32 [==============================] - 0s 6ms/step - loss: 0.0152 - mean_absolute_error: 0.0415\n",
            "Epoch 274/300\n",
            "32/32 [==============================] - 0s 6ms/step - loss: 0.0149 - mean_absolute_error: 0.0412\n",
            "Epoch 275/300\n",
            "32/32 [==============================] - 0s 7ms/step - loss: 0.0150 - mean_absolute_error: 0.0412\n",
            "Epoch 276/300\n",
            "32/32 [==============================] - 0s 6ms/step - loss: 0.0157 - mean_absolute_error: 0.0424\n",
            "Epoch 277/300\n",
            "32/32 [==============================] - 0s 6ms/step - loss: 0.0154 - mean_absolute_error: 0.0420\n",
            "Epoch 278/300\n",
            "32/32 [==============================] - 0s 6ms/step - loss: 0.0150 - mean_absolute_error: 0.0412\n",
            "Epoch 279/300\n",
            "32/32 [==============================] - 0s 6ms/step - loss: 0.0151 - mean_absolute_error: 0.0414\n",
            "Epoch 280/300\n",
            "32/32 [==============================] - 0s 6ms/step - loss: 0.0154 - mean_absolute_error: 0.0418\n",
            "Epoch 281/300\n",
            "32/32 [==============================] - 0s 6ms/step - loss: 0.0154 - mean_absolute_error: 0.0418\n",
            "Epoch 282/300\n",
            "32/32 [==============================] - 0s 6ms/step - loss: 0.0151 - mean_absolute_error: 0.0413\n",
            "Epoch 283/300\n",
            "32/32 [==============================] - 0s 6ms/step - loss: 0.0148 - mean_absolute_error: 0.0408\n",
            "Epoch 284/300\n",
            "32/32 [==============================] - 0s 6ms/step - loss: 0.0149 - mean_absolute_error: 0.0409\n",
            "Epoch 285/300\n",
            "32/32 [==============================] - 0s 6ms/step - loss: 0.0152 - mean_absolute_error: 0.0416\n",
            "Epoch 286/300\n",
            "32/32 [==============================] - 0s 6ms/step - loss: 0.0153 - mean_absolute_error: 0.0416\n",
            "Epoch 287/300\n",
            "32/32 [==============================] - 0s 6ms/step - loss: 0.0150 - mean_absolute_error: 0.0413\n",
            "Epoch 288/300\n",
            "32/32 [==============================] - 0s 6ms/step - loss: 0.0154 - mean_absolute_error: 0.0417\n",
            "Epoch 289/300\n",
            "32/32 [==============================] - 0s 6ms/step - loss: 0.0155 - mean_absolute_error: 0.0421\n",
            "Epoch 290/300\n",
            "32/32 [==============================] - 0s 6ms/step - loss: 0.0149 - mean_absolute_error: 0.0407\n",
            "Epoch 291/300\n",
            "32/32 [==============================] - 0s 6ms/step - loss: 0.0148 - mean_absolute_error: 0.0407\n",
            "Epoch 292/300\n",
            "32/32 [==============================] - 0s 6ms/step - loss: 0.0148 - mean_absolute_error: 0.0406\n",
            "Epoch 293/300\n",
            "32/32 [==============================] - 0s 6ms/step - loss: 0.0145 - mean_absolute_error: 0.0401\n",
            "Epoch 294/300\n",
            "32/32 [==============================] - 0s 6ms/step - loss: 0.0146 - mean_absolute_error: 0.0404\n",
            "Epoch 295/300\n",
            "32/32 [==============================] - 0s 6ms/step - loss: 0.0144 - mean_absolute_error: 0.0399\n",
            "Epoch 296/300\n",
            "32/32 [==============================] - 0s 6ms/step - loss: 0.0147 - mean_absolute_error: 0.0405\n",
            "Epoch 297/300\n",
            "32/32 [==============================] - 0s 6ms/step - loss: 0.0145 - mean_absolute_error: 0.0397\n",
            "Epoch 298/300\n",
            "32/32 [==============================] - 0s 6ms/step - loss: 0.0143 - mean_absolute_error: 0.0397\n",
            "Epoch 299/300\n",
            "32/32 [==============================] - 0s 6ms/step - loss: 0.0145 - mean_absolute_error: 0.0402\n",
            "Epoch 300/300\n",
            "32/32 [==============================] - 0s 7ms/step - loss: 0.0158 - mean_absolute_error: 0.0425\n"
          ]
        },
        {
          "output_type": "execute_result",
          "data": {
            "text/plain": [
              "<keras.callbacks.History at 0x7fd4af12cd60>"
            ]
          },
          "metadata": {},
          "execution_count": 133
        }
      ]
    },
    {
      "cell_type": "markdown",
      "source": [
        "## Prediction"
      ],
      "metadata": {
        "id": "8s3PHYVnHXRt"
      }
    },
    {
      "cell_type": "code",
      "source": [
        "# Test Image\n",
        "index=456\n",
        "test=X[index]\n",
        "actual=y[index]\n",
        "# file='/content/download.jpg'\n",
        "# test=cv2.imread(file,cv2.IMREAD_GRAYSCALE)\n",
        "# test=cv2.resize(test,(64,64))\n",
        "# test=np.array(test)\n",
        "image=test\n",
        "\n",
        "# Prediction\n",
        "prediction=model.predict(test.reshape(-1,64,64,1))[0]\n",
        "prediction=np.where(prediction>0.3,1,0).astype(prediction.dtype)\n",
        "\n",
        "#Subplots \n",
        "plt.subplot(1, 3, 1)\n",
        "plt.imshow(image,cmap='gray')\n",
        "plt.subplot(1, 3, 2)\n",
        "plt.imshow(actual,cmap='gray')\n",
        "plt.subplot(1, 3, 3)\n",
        "plt.imshow(prediction,cmap='gray')\n",
        "plt.show()\n",
        "# test.reshape(-1,128,128,1)"
      ],
      "metadata": {
        "id": "GEUg39Np1vzY",
        "colab": {
          "base_uri": "https://localhost:8080/",
          "height": 167
        },
        "outputId": "81dec8c2-e8b8-4555-f5a5-71d3d7652220"
      },
      "execution_count": 134,
      "outputs": [
        {
          "output_type": "stream",
          "name": "stdout",
          "text": [
            "1/1 [==============================] - 0s 186ms/step\n"
          ]
        },
        {
          "output_type": "display_data",
          "data": {
            "text/plain": [
              "<Figure size 432x288 with 3 Axes>"
            ],
            "image/png": "[encoded data removed]"
          },
          "metadata": {
            "needs_background": "light"
          }
        }
      ]
    },
    {
      "cell_type": "markdown",
      "source": [
        "## Prediction on Random Image"
      ],
      "metadata": {
        "id": "U5w7jNkVIAEs"
      }
    },
    {
      "cell_type": "code",
      "source": [
        "# test_loss, test_acc = model.evaluate(x=test_images, y=test_labels, verbose=1)\n",
        "# print('Accuracy = %f' % test_acc)"
      ],
      "metadata": {
        "id": "0M1uTAoqY31X"
      },
      "execution_count": null,
      "outputs": []
    },
    {
      "cell_type": "code",
      "execution_count": 135,
      "metadata": {
        "id": "1zENh4DQzNMb"
      },
      "outputs": [],
      "source": [
        "model.save(\"/content/model_64.h5\")"
      ]
    },
    {
      "cell_type": "code",
      "execution_count": 136,
      "metadata": {
        "id": "Rj6t3crLl_Y0"
      },
      "outputs": [],
      "source": [
        "import os\n",
        "def get_file_size(file_path):\n",
        "  size=os.path.getsize(file_path)\n",
        "  return size\n",
        "\n",
        "def convert_bytes(size,unit=None):\n",
        "  if unit==\"KB\":\n",
        "    return print(\"File size: \"+str(round(size/1024,3))+\" Kilobytes\")\n",
        "  elif unit==\"MB\":\n",
        "    return print(\"File size: \"+str(round(size/(1024*1024),3))+\" Megabytes\")\n",
        "  else:\n",
        "    return print(\"File size: \"+str(size)+\"bytes\")"
      ]
    },
    {
      "cell_type": "code",
      "execution_count": null,
      "metadata": {
        "id": "m52QuAlPl_Y3"
      },
      "outputs": [],
      "source": [
        "# Model Size Before Model Quantization\n",
        "model=\"/content/model_64.h5\"\n",
        "convert_bytes(get_file_size(model),\"MB\")"
      ]
    },
    {
      "cell_type": "code",
      "source": [
        "X=np.expand_dims(X,-1)\n",
        "X=tf.cast(X,tf.float32)\n",
        "X.shape "
      ],
      "metadata": {
        "colab": {
          "base_uri": "https://localhost:8080/"
        },
        "id": "Owq-SWekrpF2",
        "outputId": "917779fa-d770-4e28-f156-42c1e0b2f662"
      },
      "execution_count": 139,
      "outputs": [
        {
          "output_type": "execute_result",
          "data": {
            "text/plain": [
              "TensorShape([480, 64, 64, 1])"
            ]
          },
          "metadata": {},
          "execution_count": 139
        }
      ]
    },
    {
      "cell_type": "code",
      "source": [
        "def dataset_generator():\n",
        "   for i in range(100):\n",
        "      input_image = tf.cast(X[i], tf.float32)\n",
        "      input_image = tf.reshape(input_image, [1,64,64,1])\n",
        "      yield ([input_image])\n",
        "\n",
        "# def dataset_generator():\n",
        "#    for i in range(100):\n",
        "#       yield ([X])"
      ],
      "metadata": {
        "id": "OfpCeOl2N8T8"
      },
      "execution_count": 140,
      "outputs": []
    },
    {
      "cell_type": "code",
      "execution_count": null,
      "metadata": {
        "id": "BCvfDqxtmtD0"
      },
      "outputs": [],
      "source": [
        "import tensorflow as tf\n",
        "model=\"/content/model_64.h5\"\n",
        "model=tf.keras.models.load_model(model)\n",
        "converter = tf.lite.TFLiteConverter.from_keras_model(model)\n",
        "converter.optimizations=[tf.lite.Optimize.DEFAULT]\n",
        "# converter.target_spec.supported_ops = [tf.lite.OpsSet.TFLITE_BUILTINS_INT8]\n",
        "# converter.representative_dataset=dataset_generator\n",
        "tflite_model_name=\"model.tflite\"\n",
        "tflite_model = converter.convert()\n",
        "open(tflite_model_name,\"wb\").write(tflite_model)"
      ]
    },
    {
      "cell_type": "code",
      "execution_count": null,
      "metadata": {
        "id": "4sEBDJwxmtD0"
      },
      "outputs": [],
      "source": [
        "# Model Size After Model Quantization\n",
        "tflite_model=\"/content/model.tflite\"\n",
        "convert_bytes(get_file_size(tflite_model),\"KB\")"
      ]
    },
    {
      "cell_type": "code",
      "source": [
        "import binascii\n",
        "def convert_to_c_array(bytes) -> str:\n",
        "  hexstr = binascii.hexlify(bytes).decode(\"UTF-8\")\n",
        "  hexstr = hexstr.upper()\n",
        "  array = [\"0x\" + hexstr[i:i + 2] for i in range(0, len(hexstr), 2)]\n",
        "  array = [array[i:i+10] for i in range(0, len(array), 10)]\n",
        "  return \",\\n  \".join([\", \".join(e) for e in array])\n",
        "\n",
        "tflite_binary = open('model.tflite', 'rb').read()\n",
        "ascii_bytes = convert_to_c_array(tflite_binary)\n",
        "header_file = \"const unsigned char model_tflite[] = {\\n  \" + ascii_bytes + \"\\n};\\nunsigned int model_tflite_len = \" + str(len(tflite_binary)) + \";\"\n",
        "open(\"model_64.h\", \"w\").write(header_file)\n",
        "convert_bytes(get_file_size('/content/model_64.h'),\"KB\")"
      ],
      "metadata": {
        "id": "BbA3OIQbxk-F",
        "colab": {
          "base_uri": "https://localhost:8080/"
        },
        "outputId": "2a8bd780-333a-4f95-f775-ba732a6dace9"
      },
      "execution_count": 145,
      "outputs": [
        {
          "output_type": "stream",
          "name": "stdout",
          "text": [
            "File size: 105.091 Kilobytes\n"
          ]
        }
      ]
    },
    {
      "cell_type": "code",
      "execution_count": null,
      "metadata": {
        "id": "1muAoUm8lSXL"
      },
      "outputs": [],
      "source": [
        "converter = tf.lite.TFLiteConverter.from_saved_model(MODEL_TF)\n",
        "model_no_quant_tflite = converter.convert()\n",
        "open(MODEL_NO_QUANT_TFLITE, \"wb\").write(model_no_quant_tflite)\n",
        "def representative_dataset():\n",
        "  for i in range(500):\n",
        "    yield([x_train[i].reshape(1, 1)])\n",
        "converter.optimizations = [tf.lite.Optimize.DEFAULT]\n",
        "converter.target_spec.supported_ops = [tf.lite.OpsSet.TFLITE_BUILTINS_INT8]\n",
        "converter.representative_dataset = representative_dataset\n",
        "model_tflite = converter.convert()\n",
        "open(MODEL_TFLITE, \"wb\").write(model_tflite)"
      ]
    }
  ]
}