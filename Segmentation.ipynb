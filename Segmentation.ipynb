{
  "nbformat": 4,
  "nbformat_minor": 0,
  "metadata": {
    "colab": {
      "provenance": [],
      "authorship_tag": "ABX9TyNIu7Hy2OVO5NHTvY8WtRvR",
      "include_colab_link": true
    },
    "kernelspec": {
      "name": "python3",
      "display_name": "Python 3"
    },
    "language_info": {
      "name": "python"
    },
    "accelerator": "GPU",
    "gpuClass": "standard"
  },
  "cells": [
    {
      "cell_type": "markdown",
      "metadata": {
        "id": "view-in-github",
        "colab_type": "text"
      },
      "source": [
        "<a href=\"https://colab.research.google.com/github/nnilayy/Unet/blob/main/Segmentation.ipynb\" target=\"_parent\"><img src=\"https://colab.research.google.com/assets/colab-badge.svg\" alt=\"Open In Colab\"/></a>"
      ]
    },
    {
      "cell_type": "code",
      "execution_count": 1,
      "metadata": {
        "id": "FkRHSe0ZPmWt"
      },
      "outputs": [],
      "source": [
        "import cv2\n",
        "import glob \n",
        "import numpy as np\n",
        "import matplotlib.pyplot as plt\n",
        "from google.colab.patches import cv2_imshow\n",
        "import tensorflow as tf"
      ]
    },
    {
      "cell_type": "markdown",
      "source": [
        "## Drive"
      ],
      "metadata": {
        "id": "xJREi9-7H2y4"
      }
    },
    {
      "cell_type": "code",
      "source": [
        "from google.colab import drive\n",
        "drive.mount('/content/drive')"
      ],
      "metadata": {
        "id": "tbrAFatrHb5K"
      },
      "execution_count": null,
      "outputs": []
    },
    {
      "cell_type": "markdown",
      "source": [
        "## Dataset"
      ],
      "metadata": {
        "id": "Pf8SR1GJHNMI"
      }
    },
    {
      "cell_type": "code",
      "source": [
        "import matplotlib.pyplot as plt\n",
        "import cv2 \n",
        "import glob \n",
        "import numpy as np\n",
        "X=[]\n",
        "y=[]\n",
        "images=sorted(glob.glob('/content/drive/MyDrive/Balls/Images/*'))\n",
        "masks=sorted(glob.glob('/content/drive/MyDrive/Balls/Masks/*'))\n",
        "\n",
        "for image in images:\n",
        "  image=cv2.imread(image,cv2.IMREAD_GRAYSCALE)\n",
        "  image=cv2.resize(image,(64,64))\n",
        "  image=image/255\n",
        "  image=np.array(image)\n",
        "  X.append(image)\n",
        "\n",
        "for mask in masks:\n",
        "  mask=cv2.imread(mask,cv2.IMREAD_GRAYSCALE)\n",
        "  mask=cv2.resize(mask,(64,64))\n",
        "  mask=mask/255\n",
        "  mask=np.array(mask)\n",
        "  mask=np.where(mask>0.5,1,0).astype(mask.dtype)\n",
        "  y.append(mask)"
      ],
      "metadata": {
        "id": "r3T7Fvc4qMGB"
      },
      "execution_count": 5,
      "outputs": []
    },
    {
      "cell_type": "code",
      "source": [
        "X=np.array(X)\n",
        "y=np.array(y)"
      ],
      "metadata": {
        "id": "xUZTMqyDOQsl"
      },
      "execution_count": 6,
      "outputs": []
    },
    {
      "cell_type": "code",
      "source": [
        "len(images)\n",
        "X.shape"
      ],
      "metadata": {
        "id": "ASmlcXn5KhzX"
      },
      "execution_count": null,
      "outputs": []
    },
    {
      "cell_type": "markdown",
      "source": [
        "## Visualizing Images and Masks"
      ],
      "metadata": {
        "id": "fQbjklFD0R2_"
      }
    },
    {
      "cell_type": "code",
      "source": [
        "index=456\n",
        "image=X[index]\n",
        "mask=y[index]\n",
        "plt.subplot(1, 2, 1)\n",
        "plt.imshow(image,cmap='gray')\n",
        "plt.subplot(1, 2, 2)\n",
        "plt.imshow(mask,cmap='gray')\n",
        "plt.show()"
      ],
      "metadata": {
        "colab": {
          "base_uri": "https://localhost:8080/",
          "height": 203
        },
        "id": "QHNOR-XSzdf5",
        "outputId": "e6395d7f-d1e3-4d7e-b31e-1173e232aed1"
      },
      "execution_count": 12,
      "outputs": [
        {
          "output_type": "display_data",
          "data": {
            "text/plain": [
              "<Figure size 432x288 with 2 Axes>"
            ],
            "image/png": "[encoded data removed]"
          },
          "metadata": {
            "needs_background": "light"
          }
        }
      ]
    },
    {
      "cell_type": "markdown",
      "source": [
        "## Model"
      ],
      "metadata": {
        "id": "ujV62CDqHR0R"
      }
    },
    {
      "cell_type": "code",
      "source": [
        "from tensorflow.keras.models import Sequential\n",
        "from tensorflow.keras.layers import Dense, Input,Conv2D, MaxPooling2D, Resizing,AveragePooling2D, Flatten, Dropout, BatchNormalization, InputLayer, Reshape\n",
        "model = Sequential()\n",
        "model.add(InputLayer(input_shape=(64, 64, 1)))\n",
        "model.add(Conv2D(64, 2, padding='same', activation=\"relu\"))\n",
        "\n",
        "model.add(Resizing(64, 64, interpolation='nearest'))\n",
        "\n",
        "# model.add(AveragePooling2D(2, padding='same'))\n",
        "# model.add(Conv2D(8, 3, padding='same', activation=\"relu\"))\n",
        "# model.add(AveragePooling2D(2, padding='same'))\n",
        "# model.add(Conv2D(4, 3, padding='same', activation=\"relu\"))\n",
        "# model.add(AveragePooling2D(2, padding='same'))\n",
        "# model.add(Conv2D(1, 1, padding='same', activation=\"relu\"))\n",
        "# model.add(Resizing(64, 64, interpolation='bilinear'))\n",
        "\n",
        "# model.add(Conv2D(16, 3, padding='same', activation=\"relu\"))\n",
        "# model.add(AveragePooling2D(2, padding='same'))\n",
        "# model.add(Conv2D(8, 3, padding='same', activation=\"relu\"))\n",
        "# model.add(AveragePooling2D(2, padding='same'))\n",
        "# model.add(Conv2D(4, 3, padding='same', activation=\"relu\"))\n",
        "# model.add(AveragePooling2D(2, padding='same'))\n",
        "# model.add(Conv2D(1, 1, padding='same', activation=\"relu\"))\n",
        "# model.add(Resizing(64, 64, interpolation='bilinear'))\n",
        "\n",
        "# model.add(Conv2D(16, 3, padding='same', activation=\"relu\"))\n",
        "# model.add(AveragePooling2D(2, padding='same'))\n",
        "# model.add(Conv2D(8, 3, padding='same', activation=\"relu\"))\n",
        "# model.add(AveragePooling2D(2, padding='same'))\n",
        "# model.add(Conv2D(4, 3, padding='same', activation=\"relu\"))\n",
        "# model.add(AveragePooling2D(2, padding='same'))\n",
        "# model.add(Conv2D(1, 1, padding='same', activation=\"relu\"))\n",
        "# model.add(Resizing(64, 64, interpolation='bilinear'))\n",
        "\n",
        "# model.add(Conv2D(16, 3, padding='same', activation=\"relu\"))\n",
        "# model.add(AveragePooling2D(2, padding='same'))\n",
        "# model.add(Conv2D(8, 3, padding='same', activation=\"relu\"))\n",
        "# model.add(AveragePooling2D(2, padding='same'))\n",
        "# model.add(Conv2D(4, 3, padding='same', activation=\"relu\"))\n",
        "# model.add(AveragePooling2D(2, padding='same'))\n",
        "# model.add(Conv2D(1, 1, padding='same', activation=\"relu\"))\n",
        "# model.add(Resizing(64, 64, interpolation='bilinear'))\n",
        "# model.add(Flatten())\n",
        "# model.add(Dense(64, activation=\"relu\"))\n",
        "# model.add(Dense(4096, activation=\"relu\"))\n",
        "model.summary()"
      ],
      "metadata": {
        "id": "H2FJWYLtcKxE"
      },
      "execution_count": null,
      "outputs": []
    },
    {
      "cell_type": "code",
      "source": [
        "from keras.models import Model\n",
        "from keras.layers import concatenate\n",
        "# image=Input(shape=(64, 64, 1))\n",
        "# conv1=Conv2D(64, 3, padding='same', activation=\"relu\")(image)\n",
        "# av1=AveragePooling2D(2, padding='same')(conv1)\n",
        "# conv2=Conv2D(32, 3, padding='same', activation=\"relu\")(av1)\n",
        "# resize=Resizing(64, 64, interpolation='bilinear')(conv2)\n",
        "# conv3=Conv2D(1, 1, padding='same', activation=\"relu\")(resize)\n",
        "# conc=concatenate([conv1, resize])\n",
        "# conv4=Conv2D(1, 1, padding='same', activation=\"relu\")(conc)\n",
        "# conv2=Conv2D(1, 1, padding='same', activation=\"relu\")(conv1)\n",
        "# conv3=Conv2D(1, 1, padding='same', activation=\"relu\")(conc)\n",
        "\n",
        "# resize=Resizing(64, 64, interpolation='bilinear')(conv2)\n",
        "# av1=AveragePooling2D(2, padding='same')(conv1)\n",
        "# conv2=Conv2D(16, 3, padding='same', activation=\"relu\")(av1)\n",
        "# av2=AveragePooling2D(2, padding='same')(conv2)\n",
        "# conv3=Conv2D(8, 3, padding='same', activation=\"relu\")(av2)\n",
        "# av3=AveragePooling2D(2, padding='same')(conv3)\n",
        "# conv4=Conv2D(1, 1, padding='same', activation=\"relu\")(av3)\n",
        "\n",
        "image=Input(shape=(64, 64, 1))\n",
        "conv1=Conv2D(16, 4, padding='same', activation=\"relu\")(image)\n",
        "conv2=Conv2D(8, 2, padding='same', activation=\"relu\")(conv1)\n",
        "av1=AveragePooling2D(2, padding='same')(conv2)\n",
        "\n",
        "conv3=Conv2D(16, 4, padding='same', activation=\"relu\")(av1)\n",
        "conv4=Conv2D(8, 2, padding='same', activation=\"relu\")(conv3)\n",
        "av2=AveragePooling2D(2, padding='same')(conv4)\n",
        "\n",
        "conv5=Conv2D(16, 4, padding='same', activation=\"relu\")(av2)\n",
        "conv6=Conv2D(8, 2, padding='same', activation=\"relu\")(conv5)\n",
        "av3=AveragePooling2D(2, padding='same')(conv6)\n",
        "resize=Resizing(64, 64, interpolation='bilinear')(av3)\n",
        "\n",
        "conc=concatenate([conv1,resize])\n",
        "conv5=Conv2D(1, 1, padding='same', activation=\"relu\")(conc)\n",
        "\n",
        "model=Model(inputs=image, outputs=conv5)\n",
        "model.summary()"
      ],
      "metadata": {
        "id": "K0jugYvr6Fde"
      },
      "execution_count": null,
      "outputs": []
    },
    {
      "cell_type": "code",
      "source": [
        "import tensorflow as tf\n",
        "model.compile(loss=\"mse\", \n",
        "              optimizer=tf.keras.optimizers.experimental.Adamax(learning_rate=1e-3),\n",
        "              metrics='mean_absolute_error')\n",
        "model.fit(X, y, steps_per_epoch=32, epochs=150, verbose=1)"
      ],
      "metadata": {
        "id": "K-89x6W6o_ZT",
        "colab": {
          "base_uri": "https://localhost:8080/"
        },
        "outputId": "008da118-7ab6-496f-884c-a22768b6020e"
      },
      "execution_count": 505,
      "outputs": [
        {
          "output_type": "stream",
          "name": "stdout",
          "text": [
            "Epoch 1/150\n",
            "32/32 [==============================] - 2s 7ms/step - loss: 0.0316 - mean_absolute_error: 0.0712\n",
            "Epoch 2/150\n",
            "32/32 [==============================] - 0s 6ms/step - loss: 0.0301 - mean_absolute_error: 0.0675\n",
            "Epoch 3/150\n",
            "32/32 [==============================] - 0s 6ms/step - loss: 0.0305 - mean_absolute_error: 0.0693\n",
            "Epoch 4/150\n",
            "32/32 [==============================] - 0s 6ms/step - loss: 0.0296 - mean_absolute_error: 0.0682\n",
            "Epoch 5/150\n",
            "32/32 [==============================] - 0s 5ms/step - loss: 0.0297 - mean_absolute_error: 0.0669\n",
            "Epoch 6/150\n",
            "32/32 [==============================] - 0s 7ms/step - loss: 0.0291 - mean_absolute_error: 0.0667\n",
            "Epoch 7/150\n",
            "32/32 [==============================] - 0s 9ms/step - loss: 0.0290 - mean_absolute_error: 0.0671\n",
            "Epoch 8/150\n",
            "32/32 [==============================] - 0s 8ms/step - loss: 0.0290 - mean_absolute_error: 0.0661\n",
            "Epoch 9/150\n",
            "32/32 [==============================] - 0s 8ms/step - loss: 0.0287 - mean_absolute_error: 0.0659\n",
            "Epoch 10/150\n",
            "32/32 [==============================] - 0s 8ms/step - loss: 0.0286 - mean_absolute_error: 0.0655\n",
            "Epoch 11/150\n",
            "32/32 [==============================] - 0s 7ms/step - loss: 0.0293 - mean_absolute_error: 0.0665\n",
            "Epoch 12/150\n",
            "32/32 [==============================] - 0s 7ms/step - loss: 0.0287 - mean_absolute_error: 0.0665\n",
            "Epoch 13/150\n",
            "32/32 [==============================] - 0s 7ms/step - loss: 0.0288 - mean_absolute_error: 0.0659\n",
            "Epoch 14/150\n",
            "32/32 [==============================] - 0s 7ms/step - loss: 0.0283 - mean_absolute_error: 0.0651\n",
            "Epoch 15/150\n",
            "32/32 [==============================] - 0s 8ms/step - loss: 0.0283 - mean_absolute_error: 0.0652\n",
            "Epoch 16/150\n",
            "32/32 [==============================] - 0s 8ms/step - loss: 0.0282 - mean_absolute_error: 0.0645\n",
            "Epoch 17/150\n",
            "32/32 [==============================] - 0s 7ms/step - loss: 0.0285 - mean_absolute_error: 0.0652\n",
            "Epoch 18/150\n",
            "32/32 [==============================] - 0s 6ms/step - loss: 0.0281 - mean_absolute_error: 0.0643\n",
            "Epoch 19/150\n",
            "32/32 [==============================] - 0s 6ms/step - loss: 0.0280 - mean_absolute_error: 0.0643\n",
            "Epoch 20/150\n",
            "32/32 [==============================] - 0s 5ms/step - loss: 0.0277 - mean_absolute_error: 0.0642\n",
            "Epoch 21/150\n",
            "32/32 [==============================] - 0s 5ms/step - loss: 0.0278 - mean_absolute_error: 0.0642\n",
            "Epoch 22/150\n",
            "32/32 [==============================] - 0s 6ms/step - loss: 0.0278 - mean_absolute_error: 0.0642\n",
            "Epoch 23/150\n",
            "32/32 [==============================] - 0s 6ms/step - loss: 0.0276 - mean_absolute_error: 0.0633\n",
            "Epoch 24/150\n",
            "32/32 [==============================] - 0s 6ms/step - loss: 0.0283 - mean_absolute_error: 0.0652\n",
            "Epoch 25/150\n",
            "32/32 [==============================] - 0s 6ms/step - loss: 0.0271 - mean_absolute_error: 0.0629\n",
            "Epoch 26/150\n",
            "32/32 [==============================] - 0s 5ms/step - loss: 0.0271 - mean_absolute_error: 0.0634\n",
            "Epoch 27/150\n",
            "32/32 [==============================] - 0s 6ms/step - loss: 0.0272 - mean_absolute_error: 0.0624\n",
            "Epoch 28/150\n",
            "32/32 [==============================] - 0s 6ms/step - loss: 0.0275 - mean_absolute_error: 0.0633\n",
            "Epoch 29/150\n",
            "32/32 [==============================] - 0s 5ms/step - loss: 0.0267 - mean_absolute_error: 0.0623\n",
            "Epoch 30/150\n",
            "32/32 [==============================] - 0s 6ms/step - loss: 0.0268 - mean_absolute_error: 0.0619\n",
            "Epoch 31/150\n",
            "32/32 [==============================] - 0s 6ms/step - loss: 0.0267 - mean_absolute_error: 0.0626\n",
            "Epoch 32/150\n",
            "32/32 [==============================] - 0s 5ms/step - loss: 0.0266 - mean_absolute_error: 0.0620\n",
            "Epoch 33/150\n",
            "32/32 [==============================] - 0s 6ms/step - loss: 0.0268 - mean_absolute_error: 0.0624\n",
            "Epoch 34/150\n",
            "32/32 [==============================] - 0s 6ms/step - loss: 0.0268 - mean_absolute_error: 0.0621\n",
            "Epoch 35/150\n",
            "32/32 [==============================] - 0s 5ms/step - loss: 0.0263 - mean_absolute_error: 0.0613\n",
            "Epoch 36/150\n",
            "32/32 [==============================] - 0s 6ms/step - loss: 0.0264 - mean_absolute_error: 0.0615\n",
            "Epoch 37/150\n",
            "32/32 [==============================] - 0s 6ms/step - loss: 0.0265 - mean_absolute_error: 0.0617\n",
            "Epoch 38/150\n",
            "32/32 [==============================] - 0s 5ms/step - loss: 0.0261 - mean_absolute_error: 0.0607\n",
            "Epoch 39/150\n",
            "32/32 [==============================] - 0s 6ms/step - loss: 0.0265 - mean_absolute_error: 0.0609\n",
            "Epoch 40/150\n",
            "32/32 [==============================] - 0s 5ms/step - loss: 0.0262 - mean_absolute_error: 0.0619\n",
            "Epoch 41/150\n",
            "32/32 [==============================] - 0s 6ms/step - loss: 0.0265 - mean_absolute_error: 0.0608\n",
            "Epoch 42/150\n",
            "32/32 [==============================] - 0s 5ms/step - loss: 0.0258 - mean_absolute_error: 0.0608\n",
            "Epoch 43/150\n",
            "32/32 [==============================] - 0s 6ms/step - loss: 0.0257 - mean_absolute_error: 0.0600\n",
            "Epoch 44/150\n",
            "32/32 [==============================] - 0s 5ms/step - loss: 0.0257 - mean_absolute_error: 0.0601\n",
            "Epoch 45/150\n",
            "32/32 [==============================] - 0s 5ms/step - loss: 0.0257 - mean_absolute_error: 0.0605\n",
            "Epoch 46/150\n",
            "32/32 [==============================] - 0s 5ms/step - loss: 0.0255 - mean_absolute_error: 0.0596\n",
            "Epoch 47/150\n",
            "32/32 [==============================] - 0s 6ms/step - loss: 0.0257 - mean_absolute_error: 0.0602\n",
            "Epoch 48/150\n",
            "32/32 [==============================] - 0s 6ms/step - loss: 0.0259 - mean_absolute_error: 0.0601\n",
            "Epoch 49/150\n",
            "32/32 [==============================] - 0s 6ms/step - loss: 0.0256 - mean_absolute_error: 0.0600\n",
            "Epoch 50/150\n",
            "32/32 [==============================] - 0s 6ms/step - loss: 0.0253 - mean_absolute_error: 0.0596\n",
            "Epoch 51/150\n",
            "32/32 [==============================] - 0s 5ms/step - loss: 0.0252 - mean_absolute_error: 0.0591\n",
            "Epoch 52/150\n",
            "32/32 [==============================] - 0s 6ms/step - loss: 0.0253 - mean_absolute_error: 0.0597\n",
            "Epoch 53/150\n",
            "32/32 [==============================] - 0s 5ms/step - loss: 0.0254 - mean_absolute_error: 0.0596\n",
            "Epoch 54/150\n",
            "32/32 [==============================] - 0s 5ms/step - loss: 0.0252 - mean_absolute_error: 0.0591\n",
            "Epoch 55/150\n",
            "32/32 [==============================] - 0s 5ms/step - loss: 0.0253 - mean_absolute_error: 0.0592\n",
            "Epoch 56/150\n",
            "32/32 [==============================] - 0s 6ms/step - loss: 0.0250 - mean_absolute_error: 0.0587\n",
            "Epoch 57/150\n",
            "32/32 [==============================] - 0s 6ms/step - loss: 0.0250 - mean_absolute_error: 0.0582\n",
            "Epoch 58/150\n",
            "32/32 [==============================] - 0s 6ms/step - loss: 0.0250 - mean_absolute_error: 0.0590\n",
            "Epoch 59/150\n",
            "32/32 [==============================] - 0s 6ms/step - loss: 0.0247 - mean_absolute_error: 0.0583\n",
            "Epoch 60/150\n",
            "32/32 [==============================] - 0s 6ms/step - loss: 0.0248 - mean_absolute_error: 0.0579\n",
            "Epoch 61/150\n",
            "32/32 [==============================] - 0s 5ms/step - loss: 0.0248 - mean_absolute_error: 0.0587\n",
            "Epoch 62/150\n",
            "32/32 [==============================] - 0s 6ms/step - loss: 0.0247 - mean_absolute_error: 0.0583\n",
            "Epoch 63/150\n",
            "32/32 [==============================] - 0s 6ms/step - loss: 0.0249 - mean_absolute_error: 0.0579\n",
            "Epoch 64/150\n",
            "32/32 [==============================] - 0s 5ms/step - loss: 0.0243 - mean_absolute_error: 0.0576\n",
            "Epoch 65/150\n",
            "32/32 [==============================] - 0s 5ms/step - loss: 0.0241 - mean_absolute_error: 0.0576\n",
            "Epoch 66/150\n",
            "32/32 [==============================] - 0s 5ms/step - loss: 0.0242 - mean_absolute_error: 0.0569\n",
            "Epoch 67/150\n",
            "32/32 [==============================] - 0s 5ms/step - loss: 0.0243 - mean_absolute_error: 0.0574\n",
            "Epoch 68/150\n",
            "32/32 [==============================] - 0s 6ms/step - loss: 0.0241 - mean_absolute_error: 0.0573\n",
            "Epoch 69/150\n",
            "32/32 [==============================] - 0s 7ms/step - loss: 0.0240 - mean_absolute_error: 0.0570\n",
            "Epoch 70/150\n",
            "32/32 [==============================] - 0s 6ms/step - loss: 0.0240 - mean_absolute_error: 0.0569\n",
            "Epoch 71/150\n",
            "32/32 [==============================] - 0s 7ms/step - loss: 0.0238 - mean_absolute_error: 0.0570\n",
            "Epoch 72/150\n",
            "32/32 [==============================] - 0s 7ms/step - loss: 0.0238 - mean_absolute_error: 0.0560\n",
            "Epoch 73/150\n",
            "32/32 [==============================] - 0s 7ms/step - loss: 0.0237 - mean_absolute_error: 0.0565\n",
            "Epoch 74/150\n",
            "32/32 [==============================] - 0s 7ms/step - loss: 0.0238 - mean_absolute_error: 0.0563\n",
            "Epoch 75/150\n",
            "32/32 [==============================] - 0s 8ms/step - loss: 0.0237 - mean_absolute_error: 0.0565\n",
            "Epoch 76/150\n",
            "32/32 [==============================] - 0s 7ms/step - loss: 0.0240 - mean_absolute_error: 0.0564\n",
            "Epoch 77/150\n",
            "32/32 [==============================] - 0s 7ms/step - loss: 0.0238 - mean_absolute_error: 0.0566\n",
            "Epoch 78/150\n",
            "32/32 [==============================] - 0s 8ms/step - loss: 0.0233 - mean_absolute_error: 0.0555\n",
            "Epoch 79/150\n",
            "32/32 [==============================] - 0s 7ms/step - loss: 0.0235 - mean_absolute_error: 0.0555\n",
            "Epoch 80/150\n",
            "32/32 [==============================] - 0s 7ms/step - loss: 0.0236 - mean_absolute_error: 0.0562\n",
            "Epoch 81/150\n",
            "32/32 [==============================] - 0s 8ms/step - loss: 0.0232 - mean_absolute_error: 0.0555\n",
            "Epoch 82/150\n",
            "32/32 [==============================] - 0s 8ms/step - loss: 0.0235 - mean_absolute_error: 0.0559\n",
            "Epoch 83/150\n",
            "32/32 [==============================] - 0s 6ms/step - loss: 0.0232 - mean_absolute_error: 0.0552\n",
            "Epoch 84/150\n",
            "32/32 [==============================] - 0s 6ms/step - loss: 0.0232 - mean_absolute_error: 0.0554\n",
            "Epoch 85/150\n",
            "32/32 [==============================] - 0s 5ms/step - loss: 0.0233 - mean_absolute_error: 0.0555\n",
            "Epoch 86/150\n",
            "32/32 [==============================] - 0s 6ms/step - loss: 0.0230 - mean_absolute_error: 0.0548\n",
            "Epoch 87/150\n",
            "32/32 [==============================] - 0s 6ms/step - loss: 0.0229 - mean_absolute_error: 0.0548\n",
            "Epoch 88/150\n",
            "32/32 [==============================] - 0s 6ms/step - loss: 0.0231 - mean_absolute_error: 0.0551\n",
            "Epoch 89/150\n",
            "32/32 [==============================] - 0s 6ms/step - loss: 0.0230 - mean_absolute_error: 0.0552\n",
            "Epoch 90/150\n",
            "32/32 [==============================] - 0s 6ms/step - loss: 0.0231 - mean_absolute_error: 0.0549\n",
            "Epoch 91/150\n",
            "32/32 [==============================] - 0s 5ms/step - loss: 0.0227 - mean_absolute_error: 0.0544\n",
            "Epoch 92/150\n",
            "32/32 [==============================] - 0s 6ms/step - loss: 0.0228 - mean_absolute_error: 0.0546\n",
            "Epoch 93/150\n",
            "32/32 [==============================] - 0s 6ms/step - loss: 0.0229 - mean_absolute_error: 0.0543\n",
            "Epoch 94/150\n",
            "32/32 [==============================] - 0s 6ms/step - loss: 0.0227 - mean_absolute_error: 0.0547\n",
            "Epoch 95/150\n",
            "32/32 [==============================] - 0s 5ms/step - loss: 0.0228 - mean_absolute_error: 0.0544\n",
            "Epoch 96/150\n",
            "32/32 [==============================] - 0s 5ms/step - loss: 0.0224 - mean_absolute_error: 0.0538\n",
            "Epoch 97/150\n",
            "32/32 [==============================] - 0s 6ms/step - loss: 0.0224 - mean_absolute_error: 0.0541\n",
            "Epoch 98/150\n",
            "32/32 [==============================] - 0s 6ms/step - loss: 0.0222 - mean_absolute_error: 0.0536\n",
            "Epoch 99/150\n",
            "32/32 [==============================] - 0s 5ms/step - loss: 0.0221 - mean_absolute_error: 0.0534\n",
            "Epoch 100/150\n",
            "32/32 [==============================] - 0s 6ms/step - loss: 0.0223 - mean_absolute_error: 0.0539\n",
            "Epoch 101/150\n",
            "32/32 [==============================] - 0s 6ms/step - loss: 0.0223 - mean_absolute_error: 0.0532\n",
            "Epoch 102/150\n",
            "32/32 [==============================] - 0s 6ms/step - loss: 0.0226 - mean_absolute_error: 0.0542\n",
            "Epoch 103/150\n",
            "32/32 [==============================] - 0s 6ms/step - loss: 0.0220 - mean_absolute_error: 0.0529\n",
            "Epoch 104/150\n",
            "32/32 [==============================] - 0s 6ms/step - loss: 0.0221 - mean_absolute_error: 0.0531\n",
            "Epoch 105/150\n",
            "32/32 [==============================] - 0s 6ms/step - loss: 0.0220 - mean_absolute_error: 0.0538\n",
            "Epoch 106/150\n",
            "32/32 [==============================] - 0s 6ms/step - loss: 0.0219 - mean_absolute_error: 0.0528\n",
            "Epoch 107/150\n",
            "32/32 [==============================] - 0s 6ms/step - loss: 0.0219 - mean_absolute_error: 0.0529\n",
            "Epoch 108/150\n",
            "32/32 [==============================] - 0s 6ms/step - loss: 0.0218 - mean_absolute_error: 0.0527\n",
            "Epoch 109/150\n",
            "32/32 [==============================] - 0s 6ms/step - loss: 0.0223 - mean_absolute_error: 0.0527\n",
            "Epoch 110/150\n",
            "32/32 [==============================] - 0s 6ms/step - loss: 0.0222 - mean_absolute_error: 0.0539\n",
            "Epoch 111/150\n",
            "32/32 [==============================] - 0s 6ms/step - loss: 0.0217 - mean_absolute_error: 0.0526\n",
            "Epoch 112/150\n",
            "32/32 [==============================] - 0s 5ms/step - loss: 0.0215 - mean_absolute_error: 0.0524\n",
            "Epoch 113/150\n",
            "32/32 [==============================] - 0s 6ms/step - loss: 0.0216 - mean_absolute_error: 0.0521\n",
            "Epoch 114/150\n",
            "32/32 [==============================] - 0s 5ms/step - loss: 0.0217 - mean_absolute_error: 0.0526\n",
            "Epoch 115/150\n",
            "32/32 [==============================] - 0s 6ms/step - loss: 0.0213 - mean_absolute_error: 0.0521\n",
            "Epoch 116/150\n",
            "32/32 [==============================] - 0s 5ms/step - loss: 0.0216 - mean_absolute_error: 0.0525\n",
            "Epoch 117/150\n",
            "32/32 [==============================] - 0s 5ms/step - loss: 0.0214 - mean_absolute_error: 0.0519\n",
            "Epoch 118/150\n",
            "32/32 [==============================] - 0s 6ms/step - loss: 0.0214 - mean_absolute_error: 0.0520\n",
            "Epoch 119/150\n",
            "32/32 [==============================] - 0s 5ms/step - loss: 0.0213 - mean_absolute_error: 0.0516\n",
            "Epoch 120/150\n",
            "32/32 [==============================] - 0s 6ms/step - loss: 0.0217 - mean_absolute_error: 0.0527\n",
            "Epoch 121/150\n",
            "32/32 [==============================] - 0s 6ms/step - loss: 0.0218 - mean_absolute_error: 0.0523\n",
            "Epoch 122/150\n",
            "32/32 [==============================] - 0s 5ms/step - loss: 0.0213 - mean_absolute_error: 0.0520\n",
            "Epoch 123/150\n",
            "32/32 [==============================] - 0s 6ms/step - loss: 0.0211 - mean_absolute_error: 0.0517\n",
            "Epoch 124/150\n",
            "32/32 [==============================] - 0s 5ms/step - loss: 0.0213 - mean_absolute_error: 0.0515\n",
            "Epoch 125/150\n",
            "32/32 [==============================] - 0s 6ms/step - loss: 0.0209 - mean_absolute_error: 0.0514\n",
            "Epoch 126/150\n",
            "32/32 [==============================] - 0s 6ms/step - loss: 0.0209 - mean_absolute_error: 0.0511\n",
            "Epoch 127/150\n",
            "32/32 [==============================] - 0s 6ms/step - loss: 0.0210 - mean_absolute_error: 0.0514\n",
            "Epoch 128/150\n",
            "32/32 [==============================] - 0s 5ms/step - loss: 0.0209 - mean_absolute_error: 0.0513\n",
            "Epoch 129/150\n",
            "32/32 [==============================] - 0s 5ms/step - loss: 0.0209 - mean_absolute_error: 0.0511\n",
            "Epoch 130/150\n",
            "32/32 [==============================] - 0s 6ms/step - loss: 0.0207 - mean_absolute_error: 0.0507\n",
            "Epoch 131/150\n",
            "32/32 [==============================] - 0s 6ms/step - loss: 0.0211 - mean_absolute_error: 0.0511\n",
            "Epoch 132/150\n",
            "32/32 [==============================] - 0s 5ms/step - loss: 0.0208 - mean_absolute_error: 0.0511\n",
            "Epoch 133/150\n",
            "32/32 [==============================] - 0s 6ms/step - loss: 0.0208 - mean_absolute_error: 0.0506\n",
            "Epoch 134/150\n",
            "32/32 [==============================] - 0s 6ms/step - loss: 0.0211 - mean_absolute_error: 0.0516\n",
            "Epoch 135/150\n",
            "32/32 [==============================] - 0s 6ms/step - loss: 0.0209 - mean_absolute_error: 0.0508\n",
            "Epoch 136/150\n",
            "32/32 [==============================] - 0s 6ms/step - loss: 0.0205 - mean_absolute_error: 0.0506\n",
            "Epoch 137/150\n",
            "32/32 [==============================] - 0s 8ms/step - loss: 0.0206 - mean_absolute_error: 0.0503\n",
            "Epoch 138/150\n",
            "32/32 [==============================] - 0s 8ms/step - loss: 0.0207 - mean_absolute_error: 0.0506\n",
            "Epoch 139/150\n",
            "32/32 [==============================] - 0s 7ms/step - loss: 0.0205 - mean_absolute_error: 0.0506\n",
            "Epoch 140/150\n",
            "32/32 [==============================] - 0s 8ms/step - loss: 0.0206 - mean_absolute_error: 0.0504\n",
            "Epoch 141/150\n",
            "32/32 [==============================] - 0s 8ms/step - loss: 0.0204 - mean_absolute_error: 0.0501\n",
            "Epoch 142/150\n",
            "32/32 [==============================] - 0s 7ms/step - loss: 0.0205 - mean_absolute_error: 0.0504\n",
            "Epoch 143/150\n",
            "32/32 [==============================] - 0s 8ms/step - loss: 0.0203 - mean_absolute_error: 0.0502\n",
            "Epoch 144/150\n",
            "32/32 [==============================] - 0s 7ms/step - loss: 0.0202 - mean_absolute_error: 0.0499\n",
            "Epoch 145/150\n",
            "32/32 [==============================] - 0s 8ms/step - loss: 0.0202 - mean_absolute_error: 0.0496\n",
            "Epoch 146/150\n",
            "32/32 [==============================] - 0s 8ms/step - loss: 0.0202 - mean_absolute_error: 0.0502\n",
            "Epoch 147/150\n",
            "32/32 [==============================] - 0s 8ms/step - loss: 0.0206 - mean_absolute_error: 0.0506\n",
            "Epoch 148/150\n",
            "32/32 [==============================] - 0s 7ms/step - loss: 0.0203 - mean_absolute_error: 0.0502\n",
            "Epoch 149/150\n",
            "32/32 [==============================] - 0s 6ms/step - loss: 0.0207 - mean_absolute_error: 0.0503\n",
            "Epoch 150/150\n",
            "32/32 [==============================] - 0s 6ms/step - loss: 0.0200 - mean_absolute_error: 0.0497\n"
          ]
        },
        {
          "output_type": "execute_result",
          "data": {
            "text/plain": [
              "<keras.callbacks.History at 0x7f7dfc6c2d00>"
            ]
          },
          "metadata": {},
          "execution_count": 505
        }
      ]
    },
    {
      "cell_type": "markdown",
      "source": [
        "## Prediction"
      ],
      "metadata": {
        "id": "8s3PHYVnHXRt"
      }
    },
    {
      "cell_type": "code",
      "source": [
        "# Test Image\n",
        "# index=223\n",
        "# test=X[index]\n",
        "# actual=y[index]\n",
        "file='/content/images.jpg'\n",
        "test=cv2.imread(file,cv2.IMREAD_GRAYSCALE)\n",
        "test=cv2.resize(test,(64,64))\n",
        "test=np.array(test)\n",
        "image=test\n",
        "\n",
        "# Prediction\n",
        "prediction=model.predict(test.reshape(-1,64,64,1))[0]\n",
        "prediction=np.where(prediction>0.3,1,0).astype(prediction.dtype)\n",
        "\n",
        "#Subplots \n",
        "plt.subplot(1, 3, 1)\n",
        "plt.imshow(image,cmap='gray')\n",
        "plt.subplot(1, 3, 2)\n",
        "plt.imshow(actual,cmap='gray')\n",
        "plt.subplot(1, 3, 3)\n",
        "plt.imshow(prediction,cmap='gray')\n",
        "plt.show()\n",
        "# test.reshape(-1,128,128,1)"
      ],
      "metadata": {
        "id": "GEUg39Np1vzY",
        "colab": {
          "base_uri": "https://localhost:8080/",
          "height": 167
        },
        "outputId": "20d1b68e-1866-4df6-ea4b-bc5edb44ff8a"
      },
      "execution_count": 504,
      "outputs": [
        {
          "output_type": "stream",
          "name": "stdout",
          "text": [
            "1/1 [==============================] - 0s 99ms/step\n"
          ]
        },
        {
          "output_type": "display_data",
          "data": {
            "text/plain": [
              "<Figure size 432x288 with 3 Axes>"
            ],
            "image/png": "[encoded data removed]"
          },
          "metadata": {
            "needs_background": "light"
          }
        }
      ]
    },
    {
      "cell_type": "markdown",
      "source": [
        "## Prediction on Random Image"
      ],
      "metadata": {
        "id": "U5w7jNkVIAEs"
      }
    },
    {
      "cell_type": "code",
      "source": [
        "test_loss, test_acc = model.evaluate(x=test_images, y=test_labels, verbose=1)\n",
        "print('Accuracy = %f' % test_acc)"
      ],
      "metadata": {
        "id": "0M1uTAoqY31X"
      },
      "execution_count": null,
      "outputs": []
    },
    {
      "cell_type": "code",
      "source": [
        "# mnist = tf.keras.datasets.mnist\n",
        "# (train_images, train_labels), (test_images, test_labels) = mnist.load_data()\n",
        "# train_images = train_images/255.0;\n",
        "# test_images = test_images/255.0;"
      ],
      "metadata": {
        "id": "GgR2F_gGHJ_W"
      },
      "execution_count": null,
      "outputs": []
    },
    {
      "cell_type": "code",
      "source": [
        "# plt.imshow(test_images[0]*255,cmap='gray')"
      ],
      "metadata": {
        "id": "DuohYKiKrRQr"
      },
      "execution_count": null,
      "outputs": []
    }
  ]
}