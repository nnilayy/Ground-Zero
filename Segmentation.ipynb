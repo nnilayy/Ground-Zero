{
  "nbformat": 4,
  "nbformat_minor": 0,
  "metadata": {
    "colab": {
      "provenance": [],
      "authorship_tag": "ABX9TyNX3Jn4AlIGhby7fvf3UN8p",
      "include_colab_link": true
    },
    "kernelspec": {
      "name": "python3",
      "display_name": "Python 3"
    },
    "language_info": {
      "name": "python"
    },
    "accelerator": "GPU",
    "gpuClass": "standard"
  },
  "cells": [
    {
      "cell_type": "markdown",
      "metadata": {
        "id": "view-in-github",
        "colab_type": "text"
      },
      "source": [
        "<a href=\"https://colab.research.google.com/github/nnilayy/Unet/blob/main/Segmentation.ipynb\" target=\"_parent\"><img src=\"https://colab.research.google.com/assets/colab-badge.svg\" alt=\"Open In Colab\"/></a>"
      ]
    },
    {
      "cell_type": "code",
      "execution_count": 1,
      "metadata": {
        "id": "FkRHSe0ZPmWt"
      },
      "outputs": [],
      "source": [
        "import cv2\n",
        "import glob \n",
        "import numpy as np\n",
        "import matplotlib.pyplot as plt\n",
        "from google.colab.patches import cv2_imshow\n",
        "import tensorflow as tf"
      ]
    },
    {
      "cell_type": "markdown",
      "source": [
        "## Drive"
      ],
      "metadata": {
        "id": "xJREi9-7H2y4"
      }
    },
    {
      "cell_type": "code",
      "source": [
        "from google.colab import drive\n",
        "drive.mount('/content/drive')"
      ],
      "metadata": {
        "id": "tbrAFatrHb5K",
        "colab": {
          "base_uri": "https://localhost:8080/"
        },
        "outputId": "4a794054-0a7d-4bf4-a083-0891f3e0a92f"
      },
      "execution_count": 2,
      "outputs": [
        {
          "output_type": "stream",
          "name": "stdout",
          "text": [
            "Mounted at /content/drive\n"
          ]
        }
      ]
    },
    {
      "cell_type": "markdown",
      "source": [
        "## Dataset"
      ],
      "metadata": {
        "id": "Pf8SR1GJHNMI"
      }
    },
    {
      "cell_type": "code",
      "source": [
        "import matplotlib.pyplot as plt\n",
        "import cv2 \n",
        "import glob \n",
        "import numpy as np\n",
        "X=[]\n",
        "y=[]\n",
        "images=sorted(glob.glob('/content/drive/MyDrive/Balls/Images/*'))\n",
        "masks=sorted(glob.glob('/content/drive/MyDrive/Balls/Masks/*'))\n",
        "\n",
        "for image in images:\n",
        "  image=cv2.imread(image,cv2.IMREAD_GRAYSCALE)\n",
        "  image=cv2.resize(image,(64,64))\n",
        "  image=image/255\n",
        "  X.append(image)\n",
        "\n",
        "for mask in masks:\n",
        "  mask=cv2.imread(mask,cv2.IMREAD_GRAYSCALE)\n",
        "  mask=cv2.resize(mask,(64,64))\n",
        "  mask=mask/255\n",
        "  mask=np.where(mask>0.5,1,0).astype(mask.dtype)\n",
        "  y.append(mask)"
      ],
      "metadata": {
        "id": "r3T7Fvc4qMGB"
      },
      "execution_count": 5,
      "outputs": []
    },
    {
      "cell_type": "code",
      "source": [
        "X=np.array(X)\n",
        "y=np.array(y)"
      ],
      "metadata": {
        "id": "xUZTMqyDOQsl"
      },
      "execution_count": 6,
      "outputs": []
    },
    {
      "cell_type": "code",
      "source": [
        "len(images)\n",
        "X.shape"
      ],
      "metadata": {
        "id": "ASmlcXn5KhzX"
      },
      "execution_count": null,
      "outputs": []
    },
    {
      "cell_type": "markdown",
      "source": [
        "## Visualizing Images and Masks"
      ],
      "metadata": {
        "id": "fQbjklFD0R2_"
      }
    },
    {
      "cell_type": "code",
      "source": [
        "index=456\n",
        "image=X[index]\n",
        "mask=y[index]\n",
        "plt.subplot(1, 2, 1)\n",
        "plt.imshow(image,cmap='gray')\n",
        "plt.subplot(1, 2, 2)\n",
        "plt.imshow(mask,cmap='gray')\n",
        "plt.show()"
      ],
      "metadata": {
        "colab": {
          "base_uri": "https://localhost:8080/",
          "height": 203
        },
        "id": "QHNOR-XSzdf5",
        "outputId": "1afb03dc-6ff2-450b-cbcd-d22ac4470a29"
      },
      "execution_count": 8,
      "outputs": [
        {
          "output_type": "display_data",
          "data": {
            "text/plain": [
              "<Figure size 432x288 with 2 Axes>"
            ],
            "image/png": "[encoded data removed]"
          },
          "metadata": {
            "needs_background": "light"
          }
        }
      ]
    },
    {
      "cell_type": "markdown",
      "source": [
        "## Model"
      ],
      "metadata": {
        "id": "ujV62CDqHR0R"
      }
    },
    {
      "cell_type": "code",
      "source": [
        "from tensorflow.keras.models import Sequential\n",
        "from tensorflow.keras.layers import Dense, Input,Conv2D, MaxPooling2D, Resizing,AveragePooling2D, Flatten, Dropout, BatchNormalization, InputLayer, Reshape\n",
        "model = Sequential()\n",
        "model.add(InputLayer(input_shape=(64, 64, 1)))\n",
        "model.add(Conv2D(64, 2, padding='same', activation=\"relu\"))\n",
        "\n",
        "model.add(Resizing(64, 64, interpolation='nearest'))\n",
        "\n",
        "# model.add(AveragePooling2D(2, padding='same'))\n",
        "# model.add(Conv2D(8, 3, padding='same', activation=\"relu\"))\n",
        "# model.add(AveragePooling2D(2, padding='same'))\n",
        "# model.add(Conv2D(4, 3, padding='same', activation=\"relu\"))\n",
        "# model.add(AveragePooling2D(2, padding='same'))\n",
        "# model.add(Conv2D(1, 1, padding='same', activation=\"relu\"))\n",
        "# model.add(Resizing(64, 64, interpolation='bilinear'))\n",
        "\n",
        "# model.add(Conv2D(16, 3, padding='same', activation=\"relu\"))\n",
        "# model.add(AveragePooling2D(2, padding='same'))\n",
        "# model.add(Conv2D(8, 3, padding='same', activation=\"relu\"))\n",
        "# model.add(AveragePooling2D(2, padding='same'))\n",
        "# model.add(Conv2D(4, 3, padding='same', activation=\"relu\"))\n",
        "# model.add(AveragePooling2D(2, padding='same'))\n",
        "# model.add(Conv2D(1, 1, padding='same', activation=\"relu\"))\n",
        "# model.add(Resizing(64, 64, interpolation='bilinear'))\n",
        "\n",
        "# model.add(Conv2D(16, 3, padding='same', activation=\"relu\"))\n",
        "# model.add(AveragePooling2D(2, padding='same'))\n",
        "# model.add(Conv2D(8, 3, padding='same', activation=\"relu\"))\n",
        "# model.add(AveragePooling2D(2, padding='same'))\n",
        "# model.add(Conv2D(4, 3, padding='same', activation=\"relu\"))\n",
        "# model.add(AveragePooling2D(2, padding='same'))\n",
        "# model.add(Conv2D(1, 1, padding='same', activation=\"relu\"))\n",
        "# model.add(Resizing(64, 64, interpolation='bilinear'))\n",
        "\n",
        "# model.add(Conv2D(16, 3, padding='same', activation=\"relu\"))\n",
        "# model.add(AveragePooling2D(2, padding='same'))\n",
        "# model.add(Conv2D(8, 3, padding='same', activation=\"relu\"))\n",
        "# model.add(AveragePooling2D(2, padding='same'))\n",
        "# model.add(Conv2D(4, 3, padding='same', activation=\"relu\"))\n",
        "# model.add(AveragePooling2D(2, padding='same'))\n",
        "# model.add(Conv2D(1, 1, padding='same', activation=\"relu\"))\n",
        "# model.add(Resizing(64, 64, interpolation='bilinear'))\n",
        "# model.add(Flatten())\n",
        "# model.add(Dense(64, activation=\"relu\"))\n",
        "# model.add(Dense(4096, activation=\"relu\"))\n",
        "model.summary()"
      ],
      "metadata": {
        "id": "H2FJWYLtcKxE"
      },
      "execution_count": null,
      "outputs": []
    },
    {
      "cell_type": "code",
      "source": [
        "from keras.models import Model\n",
        "from keras.layers import concatenate\n",
        "# image=Input(shape=(64, 64, 1))\n",
        "# conv1=Conv2D(64, 3, padding='same', activation=\"relu\")(image)\n",
        "# av1=AveragePooling2D(2, padding='same')(conv1)\n",
        "# conv2=Conv2D(32, 3, padding='same', activation=\"relu\")(av1)\n",
        "# resize=Resizing(64, 64, interpolation='bilinear')(conv2)\n",
        "# conv3=Conv2D(1, 1, padding='same', activation=\"relu\")(resize)\n",
        "# conc=concatenate([conv1, resize])\n",
        "# conv4=Conv2D(1, 1, padding='same', activation=\"relu\")(conc)\n",
        "# conv2=Conv2D(1, 1, padding='same', activation=\"relu\")(conv1)\n",
        "# conv3=Conv2D(1, 1, padding='same', activation=\"relu\")(conc)\n",
        "\n",
        "# resize=Resizing(64, 64, interpolation='bilinear')(conv2)\n",
        "# av1=AveragePooling2D(2, padding='same')(conv1)\n",
        "# conv2=Conv2D(16, 3, padding='same', activation=\"relu\")(av1)\n",
        "# av2=AveragePooling2D(2, padding='same')(conv2)\n",
        "# conv3=Conv2D(8, 3, padding='same', activation=\"relu\")(av2)\n",
        "# av3=AveragePooling2D(2, padding='same')(conv3)\n",
        "# conv4=Conv2D(1, 1, padding='same', activation=\"relu\")(av3)\n",
        "\n",
        "image=Input(shape=(64, 64, 1))\n",
        "conv1=Conv2D(16, 4, padding='same', activation=\"relu\")(image)\n",
        "conv2=Conv2D(8, 2, padding='same', activation=\"relu\")(conv1)\n",
        "av1=AveragePooling2D(2, padding='same')(conv2)\n",
        "conv3=Conv2D(16, 4, padding='same', activation=\"relu\")(av1)\n",
        "conv4=Conv2D(8, 2, padding='same', activation=\"relu\")(conv3)\n",
        "av2=AveragePooling2D(2, padding='same')(conv4)\n",
        "conv5=Conv2D(16, 4, padding='same', activation=\"relu\")(av2)\n",
        "conv6=Conv2D(8, 2, padding='same', activation=\"relu\")(conv5)\n",
        "av3=AveragePooling2D(2, padding='same')(conv6)\n",
        "resize=Resizing(64, 64, interpolation='bilinear')(av3)\n",
        "conc=concatenate([conv1,resize])\n",
        "conv5=Conv2D(1, 1, padding='same', activation=\"relu\")(conc)\n",
        "model=Model(inputs=image, outputs=conv5)\n",
        "model.summary()\n",
        "# --------------------------------------------------------------------------------------------\n",
        "# --------------------------------------------------------------------------------------------\n",
        "# image=Input(shape=(64, 64, 1))\n",
        "# conv1=Conv2D(16, 4, padding='same')(image)\n",
        "# bn1=BatchNormalization()(conv1)\n",
        "# drop1=Dropout(0.15)(bn1)\n",
        "# act1=Activation(\"relu\")(drop1)\n",
        "# conv2=Conv2D(8, 4, padding='same')(act1)\n",
        "# bn2=BatchNormalization()(conv2)\n",
        "# drop2=Dropout(0.15)(bn2)\n",
        "# act2=Activation(\"relu\")(drop2)\n",
        "# av1=AveragePooling2D(2, padding='same')(act2)\n",
        "# conv3=Conv2D(16, 4, padding='same', activation=\"relu\")(av1)\n",
        "# bn3=BatchNormalization()(conv3)\n",
        "# drop3=Dropout(0.15)(bn3)\n",
        "# act3=Activation(\"relu\")(drop3)\n",
        "# conv4=Conv2D(8, 4, padding='same', activation=\"relu\")(act3)\n",
        "# bn4=BatchNormalization()(conv4)\n",
        "# drop4=Dropout(0.15)(bn4)\n",
        "# act4=Activation(\"relu\")(drop4)\n",
        "# av2=AveragePooling2D(2, padding='same')(act4)\n",
        "# conv5=Conv2D(16, 4, padding='same', activation=\"relu\")(av2)\n",
        "# bn5=BatchNormalization()(conv5)\n",
        "# drop5=Dropout(0.15)(bn5)\n",
        "# act5=Activation(\"relu\")(drop5)\n",
        "# conv6=Conv2D(8, 4, padding='same', activation=\"relu\")(act5)\n",
        "# bn6=BatchNormalization()(conv6)\n",
        "# drop6=Dropout(0.15)(bn6)\n",
        "# act6=Activation(\"relu\")(drop6)\n",
        "# av3=AveragePooling2D(2, padding='same')(act6)\n",
        "# resize=Resizing(64, 64, interpolation='bilinear')(av3)\n",
        "# conc=concatenate([conv1,resize])\n",
        "# conv5=Conv2D(1, 1, padding='same', activation=\"relu\")(conc)\n",
        "# model=Model(inputs=image, outputs=conv5)\n",
        "# model.summary()\n",
        "# --------------------------------------------------------------------------------------------\n",
        "# --------------------------------------------------------------------------------------------"
      ],
      "metadata": {
        "id": "K0jugYvr6Fde"
      },
      "execution_count": null,
      "outputs": []
    },
    {
      "cell_type": "code",
      "source": [
        "import tensorflow as tf\n",
        "model.compile(loss=\"mse\", \n",
        "              optimizer=tf.keras.optimizers.experimental.Adam(learning_rate=1e-3),\n",
        "              metrics='mean_absolute_error')\n",
        "model.fit(X, \n",
        "          y, \n",
        "          steps_per_epoch=32, \n",
        "          epochs=150, \n",
        "          verbose=1)"
      ],
      "metadata": {
        "id": "K-89x6W6o_ZT",
        "colab": {
          "base_uri": "https://localhost:8080/"
        },
        "outputId": "045adee9-dd43-4360-e22e-5be7ead8d042"
      },
      "execution_count": 41,
      "outputs": [
        {
          "output_type": "stream",
          "name": "stdout",
          "text": [
            "Epoch 1/150\n",
            "32/32 [==============================] - 3s 6ms/step - loss: 0.0266 - mean_absolute_error: 0.0585\n",
            "Epoch 2/150\n",
            "32/32 [==============================] - 0s 7ms/step - loss: 0.0242 - mean_absolute_error: 0.0549\n",
            "Epoch 3/150\n",
            "32/32 [==============================] - 0s 6ms/step - loss: 0.0243 - mean_absolute_error: 0.0551\n",
            "Epoch 4/150\n",
            "32/32 [==============================] - 0s 6ms/step - loss: 0.0245 - mean_absolute_error: 0.0556\n",
            "Epoch 5/150\n",
            "32/32 [==============================] - 0s 6ms/step - loss: 0.0264 - mean_absolute_error: 0.0579\n",
            "Epoch 6/150\n",
            "32/32 [==============================] - 0s 6ms/step - loss: 0.0248 - mean_absolute_error: 0.0558\n",
            "Epoch 7/150\n",
            "32/32 [==============================] - 0s 6ms/step - loss: 0.0247 - mean_absolute_error: 0.0556\n",
            "Epoch 8/150\n",
            "32/32 [==============================] - 0s 6ms/step - loss: 0.0238 - mean_absolute_error: 0.0536\n",
            "Epoch 9/150\n",
            "32/32 [==============================] - 0s 6ms/step - loss: 0.0242 - mean_absolute_error: 0.0550\n",
            "Epoch 10/150\n",
            "32/32 [==============================] - 0s 6ms/step - loss: 0.0238 - mean_absolute_error: 0.0544\n",
            "Epoch 11/150\n",
            "32/32 [==============================] - 0s 6ms/step - loss: 0.0238 - mean_absolute_error: 0.0542\n",
            "Epoch 12/150\n",
            "32/32 [==============================] - 0s 6ms/step - loss: 0.0236 - mean_absolute_error: 0.0538\n",
            "Epoch 13/150\n",
            "32/32 [==============================] - 0s 6ms/step - loss: 0.0236 - mean_absolute_error: 0.0544\n",
            "Epoch 14/150\n",
            "32/32 [==============================] - 0s 6ms/step - loss: 0.0247 - mean_absolute_error: 0.0550\n",
            "Epoch 15/150\n",
            "32/32 [==============================] - 0s 6ms/step - loss: 0.0240 - mean_absolute_error: 0.0547\n",
            "Epoch 16/150\n",
            "32/32 [==============================] - 0s 6ms/step - loss: 0.0260 - mean_absolute_error: 0.0576\n",
            "Epoch 17/150\n",
            "32/32 [==============================] - 0s 6ms/step - loss: 0.0253 - mean_absolute_error: 0.0560\n",
            "Epoch 18/150\n",
            "32/32 [==============================] - 0s 6ms/step - loss: 0.0252 - mean_absolute_error: 0.0563\n",
            "Epoch 19/150\n",
            "32/32 [==============================] - 0s 6ms/step - loss: 0.0247 - mean_absolute_error: 0.0550\n",
            "Epoch 20/150\n",
            "32/32 [==============================] - 0s 6ms/step - loss: 0.0232 - mean_absolute_error: 0.0535\n",
            "Epoch 21/150\n",
            "32/32 [==============================] - 0s 6ms/step - loss: 0.0230 - mean_absolute_error: 0.0530\n",
            "Epoch 22/150\n",
            "32/32 [==============================] - 0s 10ms/step - loss: 0.0224 - mean_absolute_error: 0.0522\n",
            "Epoch 23/150\n",
            "32/32 [==============================] - 0s 8ms/step - loss: 0.0234 - mean_absolute_error: 0.0531\n",
            "Epoch 24/150\n",
            "32/32 [==============================] - 0s 8ms/step - loss: 0.0225 - mean_absolute_error: 0.0527\n",
            "Epoch 25/150\n",
            "32/32 [==============================] - 0s 9ms/step - loss: 0.0226 - mean_absolute_error: 0.0524\n",
            "Epoch 26/150\n",
            "32/32 [==============================] - 0s 9ms/step - loss: 0.0233 - mean_absolute_error: 0.0532\n",
            "Epoch 27/150\n",
            "32/32 [==============================] - 0s 9ms/step - loss: 0.0225 - mean_absolute_error: 0.0523\n",
            "Epoch 28/150\n",
            "32/32 [==============================] - 0s 8ms/step - loss: 0.0235 - mean_absolute_error: 0.0537\n",
            "Epoch 29/150\n",
            "32/32 [==============================] - 0s 9ms/step - loss: 0.0232 - mean_absolute_error: 0.0531\n",
            "Epoch 30/150\n",
            "32/32 [==============================] - 0s 8ms/step - loss: 0.0220 - mean_absolute_error: 0.0513\n",
            "Epoch 31/150\n",
            "32/32 [==============================] - 0s 8ms/step - loss: 0.0218 - mean_absolute_error: 0.0511\n",
            "Epoch 32/150\n",
            "32/32 [==============================] - 0s 8ms/step - loss: 0.0217 - mean_absolute_error: 0.0510\n",
            "Epoch 33/150\n",
            "32/32 [==============================] - 0s 9ms/step - loss: 0.0219 - mean_absolute_error: 0.0513\n",
            "Epoch 34/150\n",
            "32/32 [==============================] - 0s 8ms/step - loss: 0.0219 - mean_absolute_error: 0.0511\n",
            "Epoch 35/150\n",
            "32/32 [==============================] - 0s 6ms/step - loss: 0.0220 - mean_absolute_error: 0.0516\n",
            "Epoch 36/150\n",
            "32/32 [==============================] - 0s 6ms/step - loss: 0.0218 - mean_absolute_error: 0.0514\n",
            "Epoch 37/150\n",
            "32/32 [==============================] - 0s 6ms/step - loss: 0.0214 - mean_absolute_error: 0.0502\n",
            "Epoch 38/150\n",
            "32/32 [==============================] - 0s 6ms/step - loss: 0.0214 - mean_absolute_error: 0.0506\n",
            "Epoch 39/150\n",
            "32/32 [==============================] - 0s 6ms/step - loss: 0.0211 - mean_absolute_error: 0.0499\n",
            "Epoch 40/150\n",
            "32/32 [==============================] - 0s 6ms/step - loss: 0.0215 - mean_absolute_error: 0.0507\n",
            "Epoch 41/150\n",
            "32/32 [==============================] - 0s 6ms/step - loss: 0.0221 - mean_absolute_error: 0.0519\n",
            "Epoch 42/150\n",
            "32/32 [==============================] - 0s 7ms/step - loss: 0.0213 - mean_absolute_error: 0.0503\n",
            "Epoch 43/150\n",
            "32/32 [==============================] - 0s 6ms/step - loss: 0.0217 - mean_absolute_error: 0.0507\n",
            "Epoch 44/150\n",
            "32/32 [==============================] - 0s 6ms/step - loss: 0.0223 - mean_absolute_error: 0.0521\n",
            "Epoch 45/150\n",
            "32/32 [==============================] - 0s 6ms/step - loss: 0.0213 - mean_absolute_error: 0.0504\n",
            "Epoch 46/150\n",
            "32/32 [==============================] - 0s 6ms/step - loss: 0.0225 - mean_absolute_error: 0.0519\n",
            "Epoch 47/150\n",
            "32/32 [==============================] - 0s 6ms/step - loss: 0.0213 - mean_absolute_error: 0.0498\n",
            "Epoch 48/150\n",
            "32/32 [==============================] - 0s 6ms/step - loss: 0.0211 - mean_absolute_error: 0.0501\n",
            "Epoch 49/150\n",
            "32/32 [==============================] - 0s 6ms/step - loss: 0.0216 - mean_absolute_error: 0.0505\n",
            "Epoch 50/150\n",
            "32/32 [==============================] - 0s 6ms/step - loss: 0.0211 - mean_absolute_error: 0.0497\n",
            "Epoch 51/150\n",
            "32/32 [==============================] - 0s 6ms/step - loss: 0.0208 - mean_absolute_error: 0.0497\n",
            "Epoch 52/150\n",
            "32/32 [==============================] - 0s 6ms/step - loss: 0.0222 - mean_absolute_error: 0.0511\n",
            "Epoch 53/150\n",
            "32/32 [==============================] - 0s 6ms/step - loss: 0.0231 - mean_absolute_error: 0.0529\n",
            "Epoch 54/150\n",
            "32/32 [==============================] - 0s 6ms/step - loss: 0.0210 - mean_absolute_error: 0.0497\n",
            "Epoch 55/150\n",
            "32/32 [==============================] - 0s 6ms/step - loss: 0.0209 - mean_absolute_error: 0.0491\n",
            "Epoch 56/150\n",
            "32/32 [==============================] - 0s 6ms/step - loss: 0.0246 - mean_absolute_error: 0.0558\n",
            "Epoch 57/150\n",
            "32/32 [==============================] - 0s 6ms/step - loss: 0.0222 - mean_absolute_error: 0.0512\n",
            "Epoch 58/150\n",
            "32/32 [==============================] - 0s 6ms/step - loss: 0.0208 - mean_absolute_error: 0.0491\n",
            "Epoch 59/150\n",
            "32/32 [==============================] - 0s 6ms/step - loss: 0.0216 - mean_absolute_error: 0.0502\n",
            "Epoch 60/150\n",
            "32/32 [==============================] - 0s 6ms/step - loss: 0.0221 - mean_absolute_error: 0.0515\n",
            "Epoch 61/150\n",
            "32/32 [==============================] - 0s 6ms/step - loss: 0.0209 - mean_absolute_error: 0.0500\n",
            "Epoch 62/150\n",
            "32/32 [==============================] - 0s 6ms/step - loss: 0.0201 - mean_absolute_error: 0.0482\n",
            "Epoch 63/150\n",
            "32/32 [==============================] - 0s 6ms/step - loss: 0.0202 - mean_absolute_error: 0.0483\n",
            "Epoch 64/150\n",
            "32/32 [==============================] - 0s 6ms/step - loss: 0.0197 - mean_absolute_error: 0.0477\n",
            "Epoch 65/150\n",
            "32/32 [==============================] - 0s 6ms/step - loss: 0.0197 - mean_absolute_error: 0.0472\n",
            "Epoch 66/150\n",
            "32/32 [==============================] - 0s 6ms/step - loss: 0.0199 - mean_absolute_error: 0.0482\n",
            "Epoch 67/150\n",
            "32/32 [==============================] - 0s 6ms/step - loss: 0.0213 - mean_absolute_error: 0.0496\n",
            "Epoch 68/150\n",
            "32/32 [==============================] - 0s 6ms/step - loss: 0.0202 - mean_absolute_error: 0.0485\n",
            "Epoch 69/150\n",
            "32/32 [==============================] - 0s 6ms/step - loss: 0.0203 - mean_absolute_error: 0.0483\n",
            "Epoch 70/150\n",
            "32/32 [==============================] - 0s 6ms/step - loss: 0.0217 - mean_absolute_error: 0.0506\n",
            "Epoch 71/150\n",
            "32/32 [==============================] - 0s 6ms/step - loss: 0.0214 - mean_absolute_error: 0.0502\n",
            "Epoch 72/150\n",
            "32/32 [==============================] - 0s 6ms/step - loss: 0.0202 - mean_absolute_error: 0.0482\n",
            "Epoch 73/150\n",
            "32/32 [==============================] - 0s 6ms/step - loss: 0.0195 - mean_absolute_error: 0.0469\n",
            "Epoch 74/150\n",
            "32/32 [==============================] - 0s 6ms/step - loss: 0.0197 - mean_absolute_error: 0.0474\n",
            "Epoch 75/150\n",
            "32/32 [==============================] - 0s 6ms/step - loss: 0.0190 - mean_absolute_error: 0.0463\n",
            "Epoch 76/150\n",
            "32/32 [==============================] - 0s 6ms/step - loss: 0.0194 - mean_absolute_error: 0.0470\n",
            "Epoch 77/150\n",
            "32/32 [==============================] - 0s 6ms/step - loss: 0.0194 - mean_absolute_error: 0.0470\n",
            "Epoch 78/150\n",
            "32/32 [==============================] - 0s 6ms/step - loss: 0.0198 - mean_absolute_error: 0.0475\n",
            "Epoch 79/150\n",
            "32/32 [==============================] - 0s 6ms/step - loss: 0.0194 - mean_absolute_error: 0.0469\n",
            "Epoch 80/150\n",
            "32/32 [==============================] - 0s 6ms/step - loss: 0.0202 - mean_absolute_error: 0.0481\n",
            "Epoch 81/150\n",
            "32/32 [==============================] - 0s 6ms/step - loss: 0.0200 - mean_absolute_error: 0.0477\n",
            "Epoch 82/150\n",
            "32/32 [==============================] - 0s 6ms/step - loss: 0.0191 - mean_absolute_error: 0.0463\n",
            "Epoch 83/150\n",
            "32/32 [==============================] - 0s 7ms/step - loss: 0.0202 - mean_absolute_error: 0.0483\n",
            "Epoch 84/150\n",
            "32/32 [==============================] - 0s 9ms/step - loss: 0.0189 - mean_absolute_error: 0.0460\n",
            "Epoch 85/150\n",
            "32/32 [==============================] - 0s 9ms/step - loss: 0.0193 - mean_absolute_error: 0.0465\n",
            "Epoch 86/150\n",
            "32/32 [==============================] - 0s 8ms/step - loss: 0.0196 - mean_absolute_error: 0.0471\n",
            "Epoch 87/150\n",
            "32/32 [==============================] - 0s 8ms/step - loss: 0.0190 - mean_absolute_error: 0.0461\n",
            "Epoch 88/150\n",
            "32/32 [==============================] - 0s 8ms/step - loss: 0.0188 - mean_absolute_error: 0.0461\n",
            "Epoch 89/150\n",
            "32/32 [==============================] - 0s 8ms/step - loss: 0.0187 - mean_absolute_error: 0.0458\n",
            "Epoch 90/150\n",
            "32/32 [==============================] - 0s 8ms/step - loss: 0.0188 - mean_absolute_error: 0.0457\n",
            "Epoch 91/150\n",
            "32/32 [==============================] - 0s 8ms/step - loss: 0.0188 - mean_absolute_error: 0.0459\n",
            "Epoch 92/150\n",
            "32/32 [==============================] - 0s 9ms/step - loss: 0.0201 - mean_absolute_error: 0.0476\n",
            "Epoch 93/150\n",
            "32/32 [==============================] - 0s 8ms/step - loss: 0.0190 - mean_absolute_error: 0.0462\n",
            "Epoch 94/150\n",
            "32/32 [==============================] - 0s 8ms/step - loss: 0.0188 - mean_absolute_error: 0.0460\n",
            "Epoch 95/150\n",
            "32/32 [==============================] - 0s 8ms/step - loss: 0.0199 - mean_absolute_error: 0.0470\n",
            "Epoch 96/150\n",
            "32/32 [==============================] - 0s 8ms/step - loss: 0.0208 - mean_absolute_error: 0.0494\n",
            "Epoch 97/150\n",
            "32/32 [==============================] - 0s 7ms/step - loss: 0.0181 - mean_absolute_error: 0.0448\n",
            "Epoch 98/150\n",
            "32/32 [==============================] - 0s 6ms/step - loss: 0.0184 - mean_absolute_error: 0.0451\n",
            "Epoch 99/150\n",
            "32/32 [==============================] - 0s 6ms/step - loss: 0.0184 - mean_absolute_error: 0.0456\n",
            "Epoch 100/150\n",
            "32/32 [==============================] - 0s 6ms/step - loss: 0.0185 - mean_absolute_error: 0.0449\n",
            "Epoch 101/150\n",
            "32/32 [==============================] - 0s 6ms/step - loss: 0.0186 - mean_absolute_error: 0.0457\n",
            "Epoch 102/150\n",
            "32/32 [==============================] - 0s 6ms/step - loss: 0.0179 - mean_absolute_error: 0.0442\n",
            "Epoch 103/150\n",
            "32/32 [==============================] - 0s 6ms/step - loss: 0.0178 - mean_absolute_error: 0.0443\n",
            "Epoch 104/150\n",
            "32/32 [==============================] - 0s 6ms/step - loss: 0.0175 - mean_absolute_error: 0.0436\n",
            "Epoch 105/150\n",
            "32/32 [==============================] - 0s 6ms/step - loss: 0.0176 - mean_absolute_error: 0.0443\n",
            "Epoch 106/150\n",
            "32/32 [==============================] - 0s 6ms/step - loss: 0.0177 - mean_absolute_error: 0.0439\n",
            "Epoch 107/150\n",
            "32/32 [==============================] - 0s 6ms/step - loss: 0.0181 - mean_absolute_error: 0.0446\n",
            "Epoch 108/150\n",
            "32/32 [==============================] - 0s 6ms/step - loss: 0.0191 - mean_absolute_error: 0.0460\n",
            "Epoch 109/150\n",
            "32/32 [==============================] - 0s 6ms/step - loss: 0.0220 - mean_absolute_error: 0.0509\n",
            "Epoch 110/150\n",
            "32/32 [==============================] - 0s 6ms/step - loss: 0.0187 - mean_absolute_error: 0.0455\n",
            "Epoch 111/150\n",
            "32/32 [==============================] - 0s 6ms/step - loss: 0.0200 - mean_absolute_error: 0.0474\n",
            "Epoch 112/150\n",
            "32/32 [==============================] - 0s 6ms/step - loss: 0.0179 - mean_absolute_error: 0.0444\n",
            "Epoch 113/150\n",
            "32/32 [==============================] - 0s 6ms/step - loss: 0.0179 - mean_absolute_error: 0.0439\n",
            "Epoch 114/150\n",
            "32/32 [==============================] - 0s 6ms/step - loss: 0.0185 - mean_absolute_error: 0.0454\n",
            "Epoch 115/150\n",
            "32/32 [==============================] - 0s 6ms/step - loss: 0.0175 - mean_absolute_error: 0.0435\n",
            "Epoch 116/150\n",
            "32/32 [==============================] - 0s 6ms/step - loss: 0.0176 - mean_absolute_error: 0.0442\n",
            "Epoch 117/150\n",
            "32/32 [==============================] - 0s 6ms/step - loss: 0.0170 - mean_absolute_error: 0.0426\n",
            "Epoch 118/150\n",
            "32/32 [==============================] - 0s 6ms/step - loss: 0.0177 - mean_absolute_error: 0.0440\n",
            "Epoch 119/150\n",
            "32/32 [==============================] - 0s 6ms/step - loss: 0.0175 - mean_absolute_error: 0.0434\n",
            "Epoch 120/150\n",
            "32/32 [==============================] - 0s 6ms/step - loss: 0.0174 - mean_absolute_error: 0.0434\n",
            "Epoch 121/150\n",
            "32/32 [==============================] - 0s 6ms/step - loss: 0.0181 - mean_absolute_error: 0.0446\n",
            "Epoch 122/150\n",
            "32/32 [==============================] - 0s 6ms/step - loss: 0.0180 - mean_absolute_error: 0.0443\n",
            "Epoch 123/150\n",
            "32/32 [==============================] - 0s 6ms/step - loss: 0.0170 - mean_absolute_error: 0.0427\n",
            "Epoch 124/150\n",
            "32/32 [==============================] - 0s 6ms/step - loss: 0.0175 - mean_absolute_error: 0.0434\n",
            "Epoch 125/150\n",
            "32/32 [==============================] - 0s 6ms/step - loss: 0.0171 - mean_absolute_error: 0.0431\n",
            "Epoch 126/150\n",
            "32/32 [==============================] - 0s 6ms/step - loss: 0.0176 - mean_absolute_error: 0.0436\n",
            "Epoch 127/150\n",
            "32/32 [==============================] - 0s 6ms/step - loss: 0.0171 - mean_absolute_error: 0.0431\n",
            "Epoch 128/150\n",
            "32/32 [==============================] - 0s 6ms/step - loss: 0.0166 - mean_absolute_error: 0.0421\n",
            "Epoch 129/150\n",
            "32/32 [==============================] - 0s 6ms/step - loss: 0.0166 - mean_absolute_error: 0.0424\n",
            "Epoch 130/150\n",
            "32/32 [==============================] - 0s 6ms/step - loss: 0.0170 - mean_absolute_error: 0.0426\n",
            "Epoch 131/150\n",
            "32/32 [==============================] - 0s 6ms/step - loss: 0.0178 - mean_absolute_error: 0.0444\n",
            "Epoch 132/150\n",
            "32/32 [==============================] - 0s 6ms/step - loss: 0.0180 - mean_absolute_error: 0.0443\n",
            "Epoch 133/150\n",
            "32/32 [==============================] - 0s 6ms/step - loss: 0.0172 - mean_absolute_error: 0.0429\n",
            "Epoch 134/150\n",
            "32/32 [==============================] - 0s 6ms/step - loss: 0.0165 - mean_absolute_error: 0.0423\n",
            "Epoch 135/150\n",
            "32/32 [==============================] - 0s 6ms/step - loss: 0.0168 - mean_absolute_error: 0.0424\n",
            "Epoch 136/150\n",
            "32/32 [==============================] - 0s 6ms/step - loss: 0.0170 - mean_absolute_error: 0.0429\n",
            "Epoch 137/150\n",
            "32/32 [==============================] - 0s 6ms/step - loss: 0.0164 - mean_absolute_error: 0.0415\n",
            "Epoch 138/150\n",
            "32/32 [==============================] - 0s 6ms/step - loss: 0.0164 - mean_absolute_error: 0.0418\n",
            "Epoch 139/150\n",
            "32/32 [==============================] - 0s 6ms/step - loss: 0.0167 - mean_absolute_error: 0.0420\n",
            "Epoch 140/150\n",
            "32/32 [==============================] - 0s 6ms/step - loss: 0.0168 - mean_absolute_error: 0.0424\n",
            "Epoch 141/150\n",
            "32/32 [==============================] - 0s 6ms/step - loss: 0.0178 - mean_absolute_error: 0.0443\n",
            "Epoch 142/150\n",
            "32/32 [==============================] - 0s 6ms/step - loss: 0.0165 - mean_absolute_error: 0.0423\n",
            "Epoch 143/150\n",
            "32/32 [==============================] - 0s 6ms/step - loss: 0.0162 - mean_absolute_error: 0.0411\n",
            "Epoch 144/150\n",
            "32/32 [==============================] - 0s 6ms/step - loss: 0.0159 - mean_absolute_error: 0.0410\n",
            "Epoch 145/150\n",
            "32/32 [==============================] - 0s 6ms/step - loss: 0.0163 - mean_absolute_error: 0.0416\n",
            "Epoch 146/150\n",
            "32/32 [==============================] - 0s 7ms/step - loss: 0.0171 - mean_absolute_error: 0.0433\n",
            "Epoch 147/150\n",
            "32/32 [==============================] - 0s 8ms/step - loss: 0.0168 - mean_absolute_error: 0.0420\n",
            "Epoch 148/150\n",
            "32/32 [==============================] - 0s 8ms/step - loss: 0.0174 - mean_absolute_error: 0.0436\n",
            "Epoch 149/150\n",
            "32/32 [==============================] - 0s 8ms/step - loss: 0.0160 - mean_absolute_error: 0.0407\n",
            "Epoch 150/150\n",
            "32/32 [==============================] - 0s 8ms/step - loss: 0.0163 - mean_absolute_error: 0.0418\n"
          ]
        },
        {
          "output_type": "execute_result",
          "data": {
            "text/plain": [
              "<keras.callbacks.History at 0x7fd4882d0460>"
            ]
          },
          "metadata": {},
          "execution_count": 41
        }
      ]
    },
    {
      "cell_type": "markdown",
      "source": [
        "## Prediction"
      ],
      "metadata": {
        "id": "8s3PHYVnHXRt"
      }
    },
    {
      "cell_type": "code",
      "source": [
        "# Test Image\n",
        "# index=456\n",
        "# test=X[index]\n",
        "# actual=y[index]\n",
        "file='/content/download.jpg'\n",
        "test=cv2.imread(file,cv2.IMREAD_GRAYSCALE)\n",
        "test=cv2.resize(test,(64,64))\n",
        "test=np.array(test)\n",
        "image=test\n",
        "\n",
        "# Prediction\n",
        "prediction=model.predict(test.reshape(-1,64,64,1))[0]\n",
        "prediction=np.where(prediction>0.3,1,0).astype(prediction.dtype)\n",
        "\n",
        "#Subplots \n",
        "plt.subplot(1, 3, 1)\n",
        "plt.imshow(image,cmap='gray')\n",
        "plt.subplot(1, 3, 2)\n",
        "plt.imshow(actual,cmap='gray')\n",
        "plt.subplot(1, 3, 3)\n",
        "plt.imshow(prediction,cmap='gray')\n",
        "plt.show()\n",
        "# test.reshape(-1,128,128,1)"
      ],
      "metadata": {
        "id": "GEUg39Np1vzY"
      },
      "execution_count": null,
      "outputs": []
    },
    {
      "cell_type": "markdown",
      "source": [
        "## Prediction on Random Image"
      ],
      "metadata": {
        "id": "U5w7jNkVIAEs"
      }
    },
    {
      "cell_type": "code",
      "source": [
        "# test_loss, test_acc = model.evaluate(x=test_images, y=test_labels, verbose=1)\n",
        "# print('Accuracy = %f' % test_acc)"
      ],
      "metadata": {
        "id": "0M1uTAoqY31X"
      },
      "execution_count": null,
      "outputs": []
    },
    {
      "cell_type": "code",
      "execution_count": 43,
      "metadata": {
        "id": "1zENh4DQzNMb"
      },
      "outputs": [],
      "source": [
        "model.save(\"/content/model_64.h5\")"
      ]
    },
    {
      "cell_type": "code",
      "execution_count": 44,
      "metadata": {
        "id": "Rj6t3crLl_Y0"
      },
      "outputs": [],
      "source": [
        "import os\n",
        "def get_file_size(file_path):\n",
        "  size=os.path.getsize(file_path)\n",
        "  return size"
      ]
    },
    {
      "cell_type": "code",
      "execution_count": 45,
      "metadata": {
        "id": "1UooUmLcl_Y1"
      },
      "outputs": [],
      "source": [
        "def convert_bytes(size,unit=None):\n",
        "  if unit==\"KB\":\n",
        "    return print(\"File size: \"+str(round(size/1024,3))+\" Kilobytes\")\n",
        "  elif unit==\"MB\":\n",
        "    return print(\"File size: \"+str(round(size/(1024*1024),3))+\" Megabytes\")\n",
        "  else:\n",
        "    return print(\"File size: \"+str(size)+\"bytes\")"
      ]
    },
    {
      "cell_type": "code",
      "execution_count": null,
      "metadata": {
        "id": "m52QuAlPl_Y3"
      },
      "outputs": [],
      "source": [
        "# Model Size Before Model Quantization\n",
        "model=\"/content/model_64.h5\"\n",
        "convert_bytes(get_file_size(model),\"MB\")"
      ]
    },
    {
      "cell_type": "code",
      "source": [
        "X=np.squeeze(X,-1)\n",
        "X.shape "
      ],
      "metadata": {
        "id": "Owq-SWekrpF2"
      },
      "execution_count": null,
      "outputs": []
    },
    {
      "cell_type": "code",
      "source": [
        "def dataset_generator():\n",
        "   for i in range(100):\n",
        "      input_image = tf.cast(X[i], tf.float32)\n",
        "      input_image = tf.reshape(input_image, [1,64,64,1])\n",
        "      yield ([input_image])\n",
        "\n",
        "# def dataset_generator():\n",
        "#    for i in range(100):\n",
        "#       yield ([X])"
      ],
      "metadata": {
        "id": "OfpCeOl2N8T8"
      },
      "execution_count": 79,
      "outputs": []
    },
    {
      "cell_type": "code",
      "execution_count": null,
      "metadata": {
        "id": "BCvfDqxtmtD0"
      },
      "outputs": [],
      "source": [
        "import tensorflow as tf\n",
        "model=\"/content/model_64.h5\"\n",
        "model=tf.keras.models.load_model(model)\n",
        "converter = tf.lite.TFLiteConverter.from_keras_model(model)\n",
        "converter.optimizations=[tf.lite.Optimize.DEFAULT]\n",
        "converter.target_spec.supported_ops = [tf.lite.OpsSet.TFLITE_BUILTINS_INT8]\n",
        "converter.representative_dataset=dataset_generator\n",
        "# converter.experimental_new_converter = True\n",
        "tflite_model_name=\"model.tflite\"\n",
        "tflite_model = converter.convert()\n",
        "open(tflite_model_name,\"wb\").write(tflite_model)"
      ]
    },
    {
      "cell_type": "code",
      "execution_count": null,
      "metadata": {
        "id": "4sEBDJwxmtD0"
      },
      "outputs": [],
      "source": [
        "# Model Size After Model Quantization\n",
        "tflite_model=\"/content/model.tflite\"\n",
        "convert_bytes(get_file_size(tflite_model),\"KB\")"
      ]
    },
    {
      "cell_type": "code",
      "source": [
        "import binascii\n",
        "def convert_to_c_array(bytes) -> str:\n",
        "  hexstr = binascii.hexlify(bytes).decode(\"UTF-8\")\n",
        "  hexstr = hexstr.upper()\n",
        "  array = [\"0x\" + hexstr[i:i + 2] for i in range(0, len(hexstr), 2)]\n",
        "  array = [array[i:i+10] for i in range(0, len(array), 10)]\n",
        "  return \",\\n  \".join([\", \".join(e) for e in array])\n",
        "\n",
        "tflite_binary = open('model.tflite', 'rb').read()\n",
        "ascii_bytes = convert_to_c_array(tflite_binary)\n",
        "header_file = \"const unsigned char model_tflite[] = {\\n  \" + ascii_bytes + \"\\n};\\nunsigned int model_tflite_len = \" + str(len(tflite_binary)) + \";\"\n",
        "open(\"model_64.h\", \"w\").write(header_file)\n",
        "convert_bytes(get_file_size('/content/model_64.h'),\"KB\")"
      ],
      "metadata": {
        "id": "BbA3OIQbxk-F"
      },
      "execution_count": null,
      "outputs": []
    },
    {
      "cell_type": "code",
      "execution_count": null,
      "metadata": {
        "id": "1muAoUm8lSXL"
      },
      "outputs": [],
      "source": [
        "# Convert the model to the TensorFlow Lite format without quantization\n",
        "converter = tf.lite.TFLiteConverter.from_saved_model(MODEL_TF)\n",
        "model_no_quant_tflite = converter.convert()\n",
        "\n",
        "# Save the model to disk\n",
        "open(MODEL_NO_QUANT_TFLITE, \"wb\").write(model_no_quant_tflite)\n",
        "\n",
        "# Convert the model to the TensorFlow Lite format with quantization\n",
        "def representative_dataset():\n",
        "  for i in range(500):\n",
        "    yield([x_train[i].reshape(1, 1)])\n",
        "# Set the optimization flag.\n",
        "converter.optimizations = [tf.lite.Optimize.DEFAULT]\n",
        "# Enforce integer only quantization\n",
        "converter.target_spec.supported_ops = [tf.lite.OpsSet.TFLITE_BUILTINS_INT8]\n",
        "# Provide a representative dataset to ensure we quantize correctly.\n",
        "converter.representative_dataset = representative_dataset\n",
        "model_tflite = converter.convert()\n",
        "\n",
        "# Save the model to disk\n",
        "open(MODEL_TFLITE, \"wb\").write(model_tflite)"
      ]
    }
  ]
}