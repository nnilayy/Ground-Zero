{
  "nbformat": 4,
  "nbformat_minor": 0,
  "metadata": {
    "colab": {
      "provenance": [],
      "authorship_tag": "ABX9TyOC/mzbYFrn9NViA9xNH6hj",
      "include_colab_link": true
    },
    "kernelspec": {
      "name": "python3",
      "display_name": "Python 3"
    },
    "language_info": {
      "name": "python"
    },
    "accelerator": "GPU",
    "gpuClass": "standard"
  },
  "cells": [
    {
      "cell_type": "markdown",
      "metadata": {
        "id": "view-in-github",
        "colab_type": "text"
      },
      "source": [
        "<a href=\"https://colab.research.google.com/github/nnilayy/Unet/blob/main/Segmentation.ipynb\" target=\"_parent\"><img src=\"https://colab.research.google.com/assets/colab-badge.svg\" alt=\"Open In Colab\"/></a>"
      ]
    },
    {
      "cell_type": "code",
      "execution_count": 1,
      "metadata": {
        "id": "FkRHSe0ZPmWt"
      },
      "outputs": [],
      "source": [
        "import cv2\n",
        "import glob \n",
        "import numpy as np\n",
        "import matplotlib.pyplot as plt\n",
        "from google.colab.patches import cv2_imshow\n",
        "import tensorflow as tf"
      ]
    },
    {
      "cell_type": "markdown",
      "source": [
        "## Drive"
      ],
      "metadata": {
        "id": "xJREi9-7H2y4"
      }
    },
    {
      "cell_type": "code",
      "source": [
        "from google.colab import drive\n",
        "drive.mount('/content/drive')"
      ],
      "metadata": {
        "id": "tbrAFatrHb5K"
      },
      "execution_count": null,
      "outputs": []
    },
    {
      "cell_type": "markdown",
      "source": [
        "## Dataset"
      ],
      "metadata": {
        "id": "Pf8SR1GJHNMI"
      }
    },
    {
      "cell_type": "code",
      "source": [
        "import matplotlib.pyplot as plt\n",
        "import cv2 \n",
        "import glob \n",
        "import numpy as np\n",
        "X=[]\n",
        "y=[]\n",
        "images=sorted(glob.glob('/content/drive/MyDrive/Balls/Images/*'))\n",
        "masks=sorted(glob.glob('/content/drive/MyDrive/Balls/Masks/*'))\n",
        "\n",
        "for image in images:\n",
        "  image=cv2.imread(image,cv2.IMREAD_GRAYSCALE)\n",
        "  image=cv2.resize(image,(128,128))\n",
        "  image=image/255\n",
        "  image=np.array(image)\n",
        "  X.append(image)\n",
        "\n",
        "for mask in masks:\n",
        "  mask=cv2.imread(mask,cv2.IMREAD_GRAYSCALE)\n",
        "  mask=cv2.resize(mask,(128,128))\n",
        "  mask=mask/255\n",
        "  mask=np.array(mask)\n",
        "  mask=np.where(mask>0.5,1,0).astype(mask.dtype)\n",
        "  y.append(mask)"
      ],
      "metadata": {
        "id": "r3T7Fvc4qMGB"
      },
      "execution_count": 7,
      "outputs": []
    },
    {
      "cell_type": "code",
      "source": [
        "plt.imshow(X[100],cmap='gray')"
      ],
      "metadata": {
        "id": "9mswVJ8RsR-u"
      },
      "execution_count": null,
      "outputs": []
    },
    {
      "cell_type": "code",
      "source": [
        "mnist = tf.keras.datasets.mnist\n",
        "(train_images, train_labels), (test_images, test_labels) = mnist.load_data()\n",
        "train_images = train_images/255.0;\n",
        "test_images = test_images/255.0;"
      ],
      "metadata": {
        "id": "GgR2F_gGHJ_W"
      },
      "execution_count": null,
      "outputs": []
    },
    {
      "cell_type": "code",
      "source": [
        "plt.imshow(test_images[0]*255,cmap='gray')"
      ],
      "metadata": {
        "id": "DuohYKiKrRQr"
      },
      "execution_count": null,
      "outputs": []
    },
    {
      "cell_type": "markdown",
      "source": [
        "## Model"
      ],
      "metadata": {
        "id": "ujV62CDqHR0R"
      }
    },
    {
      "cell_type": "code",
      "source": [
        "from tensorflow.keras.models import Sequential\n",
        "from tensorflow.keras.layers import Dense, Conv2D, MaxPooling2D, AveragePooling2D, Flatten, Dropout, BatchNormalization, InputLayer, Reshape\n",
        "model = Sequential()\n",
        "model.add(InputLayer(input_shape=(128, 128, 1)))\n",
        "model.add(Flatten())\n",
        "model.add(Dense(64, activation=\"relu\"))\n",
        "model.add(Dense(16384, activation=\"relu\"))\n",
        "model.add(Reshape((128, 128, 1)))\n",
        "model.summary()"
      ],
      "metadata": {
        "id": "H2FJWYLtcKxE"
      },
      "execution_count": null,
      "outputs": []
    },
    {
      "cell_type": "code",
      "source": [
        "model.compile(loss=\"mse\", optimizer=tf.keras.optimizers.experimental.RMSprop(learning_rate=1e-3))\n",
        "model.fit(X, y, steps_per_epoch=32, epochs=200, verbose=1)"
      ],
      "metadata": {
        "id": "K-89x6W6o_ZT"
      },
      "execution_count": null,
      "outputs": []
    },
    {
      "cell_type": "markdown",
      "source": [
        "## Prediction"
      ],
      "metadata": {
        "id": "8s3PHYVnHXRt"
      }
    },
    {
      "cell_type": "code",
      "source": [
        "test=X[25]\n",
        "test=np.expand_dims(test,-1)\n",
        "test.shape\n",
        "prediction=model.predict(test.reshape(-1,128,128,1))[0]\n",
        "prediction=np.where(prediction>0.2,1,0).astype(prediction.dtype)\n",
        "# image=np.where(test>0.3,1,0).astype(image.dtype)\n",
        "plt.imshow(image,cmap='gray')"
      ],
      "metadata": {
        "id": "qNGC3AH9swkY"
      },
      "execution_count": null,
      "outputs": []
    },
    {
      "cell_type": "code",
      "source": [
        "test=X[25]\n",
        "test=np.expand_dims(test,-1)\n",
        "prediction=model.predict(test.reshape(-1,128,128,1))[0]\n",
        "prediction=np.where(prediction>0.2,1,0).astype(prediction.dtype)\n",
        "plt.imshow(image,cmap='gray')\n",
        "prediction=model.predict(X[25].reshape(-1,128,128,1))[0]\n",
        "prediction=np.where(prediction>0.3,1,0).astype(prediction.dtype)\n",
        "plt.imshow(prediction,cmap='gray')"
      ],
      "metadata": {
        "id": "_vy-fP5iuSiU"
      },
      "execution_count": null,
      "outputs": []
    },
    {
      "cell_type": "code",
      "source": [
        "import cv2 \n",
        "image=cv2.imread('/content/images.jpg',cv2.IMREAD_GRAYSCALE)\n",
        "image=cv2.resize(image,(128,128))\n",
        "image=image/255\n",
        "# image=np.expand_dims(test,-1)\n",
        "prediction=model.predict(image.reshape(-1,128,128,1))[0]"
      ],
      "metadata": {
        "id": "RbmucXcAvYxH"
      },
      "execution_count": null,
      "outputs": []
    },
    {
      "cell_type": "code",
      "source": [
        "plt.imshow(image,cmap='gray')\n",
        "# prediction=model.predict(X[25].reshape(-1,128,128,1))[0]\n",
        "prediction=np.where(prediction>0.2,1,0).astype(prediction.dtype)\n",
        "plt.imshow(prediction,cmap='gray')\n",
        "# test.reshape(-1,128,128,1)"
      ],
      "metadata": {
        "id": "es0ZFb7jv3lQ"
      },
      "execution_count": null,
      "outputs": []
    },
    {
      "cell_type": "markdown",
      "source": [
        "## Prediction on Random Image"
      ],
      "metadata": {
        "id": "U5w7jNkVIAEs"
      }
    },
    {
      "cell_type": "code",
      "source": [
        "file='/content/download.png'\n",
        "image=cv2.imread(file,cv2.IMREAD_GRAYSCALE)\n",
        "image=cv2.resize(image,(28,28))\n",
        "plt.imshow(image,cmap='gray')"
      ],
      "metadata": {
        "id": "ogexBslLvWxa"
      },
      "execution_count": null,
      "outputs": []
    },
    {
      "cell_type": "code",
      "source": [
        "prediction=model.predict(image.reshape(-1,28,28,1))[0]\n",
        "prediction=np.where(prediction>0.3,1,0).astype(prediction.dtype)\n",
        "plt.imshow(prediction,cmap='gray')"
      ],
      "metadata": {
        "id": "hgCaWqU9wDLO"
      },
      "execution_count": null,
      "outputs": []
    },
    {
      "cell_type": "code",
      "source": [
        "test_loss, test_acc = model.evaluate(x=test_images, y=test_labels, verbose=1)\n",
        "print('Accuracy = %f' % test_acc)"
      ],
      "metadata": {
        "id": "0M1uTAoqY31X"
      },
      "execution_count": null,
      "outputs": []
    }
  ]
}