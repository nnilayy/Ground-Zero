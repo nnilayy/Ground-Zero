{
  "nbformat": 4,
  "nbformat_minor": 0,
  "metadata": {
    "colab": {
      "provenance": [],
      "authorship_tag": "ABX9TyPAItTW9FLejwlDGxkRs+UV",
      "include_colab_link": true
    },
    "kernelspec": {
      "name": "python3",
      "display_name": "Python 3"
    },
    "language_info": {
      "name": "python"
    },
    "accelerator": "GPU",
    "gpuClass": "standard"
  },
  "cells": [
    {
      "cell_type": "markdown",
      "metadata": {
        "id": "view-in-github",
        "colab_type": "text"
      },
      "source": [
        "<a href=\"https://colab.research.google.com/github/nnilayy/Unet/blob/main/Segmentation.ipynb\" target=\"_parent\"><img src=\"https://colab.research.google.com/assets/colab-badge.svg\" alt=\"Open In Colab\"/></a>"
      ]
    },
    {
      "cell_type": "code",
      "execution_count": null,
      "metadata": {
        "id": "FkRHSe0ZPmWt"
      },
      "outputs": [],
      "source": [
        "import cv2\n",
        "import glob \n",
        "import numpy as np\n",
        "import matplotlib.pyplot as plt\n",
        "from google.colab.patches import cv2_imshow\n",
        "import tensorflow as tf"
      ]
    },
    {
      "cell_type": "markdown",
      "source": [
        "## Drive"
      ],
      "metadata": {
        "id": "xJREi9-7H2y4"
      }
    },
    {
      "cell_type": "code",
      "source": [
        "from google.colab import drive\n",
        "drive.mount('/content/drive')"
      ],
      "metadata": {
        "id": "tbrAFatrHb5K",
        "colab": {
          "base_uri": "https://localhost:8080/"
        },
        "outputId": "76a94317-a290-46a3-ab0d-050e46c8836a"
      },
      "execution_count": null,
      "outputs": [
        {
          "output_type": "stream",
          "name": "stdout",
          "text": [
            "Mounted at /content/drive\n"
          ]
        }
      ]
    },
    {
      "cell_type": "markdown",
      "source": [
        "## Dataset"
      ],
      "metadata": {
        "id": "Pf8SR1GJHNMI"
      }
    },
    {
      "cell_type": "code",
      "source": [
        "import matplotlib.pyplot as plt\n",
        "import cv2 \n",
        "import glob \n",
        "import numpy as np\n",
        "X=[]\n",
        "y=[]\n",
        "images=sorted(glob.glob('/content/drive/MyDrive/Balls/Images/*'))\n",
        "masks=sorted(glob.glob('/content/drive/MyDrive/Balls/Masks/*'))\n",
        "\n",
        "for image in images:\n",
        "  image=cv2.imread(image,cv2.IMREAD_GRAYSCALE)\n",
        "  image=cv2.resize(image,(64,64))\n",
        "  image=image/255\n",
        "  image=np.array(image)\n",
        "  X.append(image)\n",
        "\n",
        "for mask in masks:\n",
        "  mask=cv2.imread(mask,cv2.IMREAD_GRAYSCALE)\n",
        "  mask=cv2.resize(mask,(64,64))\n",
        "  mask=mask/255\n",
        "  mask=np.array(mask)\n",
        "  mask=np.where(mask>0.5,1,0).astype(mask.dtype)\n",
        "  y.append(mask)"
      ],
      "metadata": {
        "id": "r3T7Fvc4qMGB"
      },
      "execution_count": null,
      "outputs": []
    },
    {
      "cell_type": "code",
      "source": [
        "X=np.array(X)\n",
        "y=np.array(y)"
      ],
      "metadata": {
        "id": "xUZTMqyDOQsl"
      },
      "execution_count": null,
      "outputs": []
    },
    {
      "cell_type": "code",
      "source": [
        "len(images)\n",
        "X.shape"
      ],
      "metadata": {
        "colab": {
          "base_uri": "https://localhost:8080/"
        },
        "id": "ASmlcXn5KhzX",
        "outputId": "06fff016-7261-4208-e154-9ef6cfc6e9db"
      },
      "execution_count": null,
      "outputs": [
        {
          "output_type": "execute_result",
          "data": {
            "text/plain": [
              "(480, 64, 64)"
            ]
          },
          "metadata": {},
          "execution_count": 70
        }
      ]
    },
    {
      "cell_type": "markdown",
      "source": [
        "## Visualizing Images and Masks"
      ],
      "metadata": {
        "id": "fQbjklFD0R2_"
      }
    },
    {
      "cell_type": "code",
      "source": [
        "index=223\n",
        "image=X[index]\n",
        "mask=y[index]\n",
        "plt.subplot(1, 2, 1)\n",
        "plt.imshow(image,cmap='gray')\n",
        "plt.subplot(1, 2, 2)\n",
        "plt.imshow(mask,cmap='gray')\n",
        "plt.show()"
      ],
      "metadata": {
        "colab": {
          "base_uri": "https://localhost:8080/",
          "height": 203
        },
        "id": "QHNOR-XSzdf5",
        "outputId": "a5d4b2be-2d84-4993-9dee-fd2424bc6cfc"
      },
      "execution_count": null,
      "outputs": [
        {
          "output_type": "display_data",
          "data": {
            "text/plain": [
              "<Figure size 432x288 with 2 Axes>"
            ],
            "image/png": "[encoded data removed]"
          },
          "metadata": {
            "needs_background": "light"
          }
        }
      ]
    },
    {
      "cell_type": "markdown",
      "source": [
        "## Model"
      ],
      "metadata": {
        "id": "ujV62CDqHR0R"
      }
    },
    {
      "cell_type": "code",
      "source": [
        "from tensorflow.keras.models import Sequential\n",
        "from tensorflow.keras.layers import Dense, Input,Conv2D, MaxPooling2D, Resizing,AveragePooling2D, Flatten, Dropout, BatchNormalization, InputLayer, Reshape\n",
        "model = Sequential()\n",
        "model.add(InputLayer(input_shape=(64, 64, 1)))\n",
        "model.add(Conv2D(16, 3, padding='same', activation=\"relu\"))\n",
        "model.add(AveragePooling2D(2, padding='same'))\n",
        "model.add(Conv2D(8, 3, padding='same', activation=\"relu\"))\n",
        "model.add(AveragePooling2D(2, padding='same'))\n",
        "model.add(Conv2D(4, 3, padding='same', activation=\"relu\"))\n",
        "model.add(AveragePooling2D(2, padding='same'))\n",
        "model.add(Conv2D(1, 1, padding='same', activation=\"relu\"))\n",
        "model.add(Resizing(64, 64, interpolation='bilinear'))\n",
        "\n",
        "model.add(Conv2D(16, 3, padding='same', activation=\"relu\"))\n",
        "model.add(AveragePooling2D(2, padding='same'))\n",
        "model.add(Conv2D(8, 3, padding='same', activation=\"relu\"))\n",
        "model.add(AveragePooling2D(2, padding='same'))\n",
        "model.add(Conv2D(4, 3, padding='same', activation=\"relu\"))\n",
        "model.add(AveragePooling2D(2, padding='same'))\n",
        "model.add(Conv2D(1, 1, padding='same', activation=\"relu\"))\n",
        "model.add(Resizing(64, 64, interpolation='bilinear'))\n",
        "\n",
        "# model.add(Conv2D(16, 3, padding='same', activation=\"relu\"))\n",
        "# model.add(AveragePooling2D(2, padding='same'))\n",
        "# model.add(Conv2D(8, 3, padding='same', activation=\"relu\"))\n",
        "# model.add(AveragePooling2D(2, padding='same'))\n",
        "# model.add(Conv2D(4, 3, padding='same', activation=\"relu\"))\n",
        "# model.add(AveragePooling2D(2, padding='same'))\n",
        "# model.add(Conv2D(1, 1, padding='same', activation=\"relu\"))\n",
        "# model.add(Resizing(64, 64, interpolation='bilinear'))\n",
        "\n",
        "# model.add(Conv2D(16, 3, padding='same', activation=\"relu\"))\n",
        "# model.add(AveragePooling2D(2, padding='same'))\n",
        "# model.add(Conv2D(8, 3, padding='same', activation=\"relu\"))\n",
        "# model.add(AveragePooling2D(2, padding='same'))\n",
        "# model.add(Conv2D(4, 3, padding='same', activation=\"relu\"))\n",
        "# model.add(AveragePooling2D(2, padding='same'))\n",
        "# model.add(Conv2D(1, 1, padding='same', activation=\"relu\"))\n",
        "# model.add(Resizing(64, 64, interpolation='bilinear'))\n",
        "# model.add(Flatten())\n",
        "# model.add(Dense(64, activation=\"relu\"))\n",
        "# model.add(Dense(4096, activation=\"relu\"))\n",
        "model.summary()"
      ],
      "metadata": {
        "id": "H2FJWYLtcKxE"
      },
      "execution_count": null,
      "outputs": []
    },
    {
      "cell_type": "code",
      "source": [
        "from keras.models import Model\n",
        "from keras.layers import concatenate\n",
        "image=Input(shape=(64, 64, 1))\n",
        "conv1=Conv2D(32, 3, padding='same', activation=\"relu\")(image)\n",
        "av1=AveragePooling2D(2, padding='same')(conv1)\n",
        "conv2=Conv2D(16, 3, padding='same', activation=\"relu\")(av1)\n",
        "av2=AveragePooling2D(2, padding='same')(conv2)\n",
        "conv3=Conv2D(8, 3, padding='same', activation=\"relu\")(av2)\n",
        "av3=AveragePooling2D(2, padding='same')(conv3)\n",
        "conv4=Conv2D(1, 1, padding='same', activation=\"relu\")(av3)\n",
        "resize=Resizing(64, 64, interpolation='bilinear')(conv4)\n",
        "\n",
        "conc=concatenate([resize, conv1])\n",
        "\n",
        "# conv1=Conv2D(16, 3, padding='same', activation=\"relu\")(conc)\n",
        "# av1=AveragePooling2D(2, padding='same')(conv1)\n",
        "# conv2=Conv2D(8, 3, padding='same', activation=\"relu\")(av1)\n",
        "# av2=AveragePooling2D(2, padding='same')(conv2)\n",
        "# conv3=Conv2D(4, 3, padding='same', activation=\"relu\")(av2)\n",
        "# av3=AveragePooling2D(2, padding='same')(conv3)\n",
        "# conv4=Conv2D(1, 1, padding='same', activation=\"relu\")(av3)\n",
        "# resize=Resizing(64, 64, interpolation='bilinear')(conv4)\n",
        "\n",
        "# conc=concatenate([resize, image])\n",
        "\n",
        "conv5=Conv2D(1, 1, padding='same', activation=\"relu\")(conc)\n",
        "\n",
        "model=Model(inputs=image, outputs=conv5)\n",
        "model.summary()"
      ],
      "metadata": {
        "id": "K0jugYvr6Fde"
      },
      "execution_count": null,
      "outputs": []
    },
    {
      "cell_type": "code",
      "source": [
        "import tensorflow as tf\n",
        "model.compile(loss=\"mse\", \n",
        "              optimizer=tf.keras.optimizers.experimental.RMSprop(learning_rate=1e-3),\n",
        "              metrics='mean_absolute_error')\n",
        "model.fit(X, y, steps_per_epoch=32, epochs=200, verbose=1)"
      ],
      "metadata": {
        "id": "K-89x6W6o_ZT"
      },
      "execution_count": null,
      "outputs": []
    },
    {
      "cell_type": "markdown",
      "source": [
        "## Prediction"
      ],
      "metadata": {
        "id": "8s3PHYVnHXRt"
      }
    },
    {
      "cell_type": "code",
      "source": [
        "# Test Image\n",
        "index=10\n",
        "\n",
        "test=X[index]\n",
        "actual=y[index]\n",
        "file='/content/download.jpg'\n",
        "test=cv2.imread(file,cv2.IMREAD_GRAYSCALE)\n",
        "test=cv2.resize(test,(64,64))\n",
        "test=np.array(test)\n",
        "image=test\n",
        "\n",
        "# Prediction\n",
        "prediction=model.predict(test.reshape(-1,64,64,1))[0]\n",
        "prediction=np.where(prediction>0.3,1,0).astype(prediction.dtype)\n",
        "\n",
        "#Subplots \n",
        "plt.subplot(1, 3, 1)\n",
        "plt.imshow(image,cmap='gray')\n",
        "plt.subplot(1, 3, 2)\n",
        "plt.imshow(actual,cmap='gray')\n",
        "plt.subplot(1, 3, 3)\n",
        "plt.imshow(prediction,cmap='gray')\n",
        "plt.show()\n",
        "# test.reshape(-1,128,128,1)"
      ],
      "metadata": {
        "id": "GEUg39Np1vzY",
        "colab": {
          "base_uri": "https://localhost:8080/",
          "height": 167
        },
        "outputId": "a8a6cca2-ae31-4ed8-e9e5-5272885f7fe5"
      },
      "execution_count": null,
      "outputs": [
        {
          "output_type": "stream",
          "name": "stdout",
          "text": [
            "1/1 [==============================] - 0s 24ms/step\n"
          ]
        },
        {
          "output_type": "display_data",
          "data": {
            "text/plain": [
              "<Figure size 432x288 with 3 Axes>"
            ],
            "image/png": "[encoded data removed]"
          },
          "metadata": {
            "needs_background": "light"
          }
        }
      ]
    },
    {
      "cell_type": "markdown",
      "source": [
        "## Prediction on Random Image"
      ],
      "metadata": {
        "id": "U5w7jNkVIAEs"
      }
    },
    {
      "cell_type": "code",
      "source": [
        "test_loss, test_acc = model.evaluate(x=test_images, y=test_labels, verbose=1)\n",
        "print('Accuracy = %f' % test_acc)"
      ],
      "metadata": {
        "id": "0M1uTAoqY31X"
      },
      "execution_count": null,
      "outputs": []
    },
    {
      "cell_type": "code",
      "source": [
        "# mnist = tf.keras.datasets.mnist\n",
        "# (train_images, train_labels), (test_images, test_labels) = mnist.load_data()\n",
        "# train_images = train_images/255.0;\n",
        "# test_images = test_images/255.0;"
      ],
      "metadata": {
        "id": "GgR2F_gGHJ_W"
      },
      "execution_count": null,
      "outputs": []
    },
    {
      "cell_type": "code",
      "source": [
        "# plt.imshow(test_images[0]*255,cmap='gray')"
      ],
      "metadata": {
        "id": "DuohYKiKrRQr"
      },
      "execution_count": null,
      "outputs": []
    }
  ]
}