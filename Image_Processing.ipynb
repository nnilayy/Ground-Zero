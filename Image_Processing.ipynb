{
  "cells": [
    {
      "cell_type": "markdown",
      "metadata": {
        "id": "view-in-github",
        "colab_type": "text"
      },
      "source": [
        "<a href=\"https://colab.research.google.com/github/nnilayy/Unet/blob/main/Image_Processing.ipynb\" target=\"_parent\"><img src=\"https://colab.research.google.com/assets/colab-badge.svg\" alt=\"Open In Colab\"/></a>"
      ]
    },
    {
      "cell_type": "code",
      "source": [
        "from google.colab import drive \n",
        "drive.mount('/content/drive')"
      ],
      "metadata": {
        "id": "4CaFp6Zi9eLa"
      },
      "execution_count": null,
      "outputs": []
    },
    {
      "cell_type": "code",
      "source": [
        "!mkdir \"/content/drive/MyDrive/cracked_dataset\""
      ],
      "metadata": {
        "id": "Rh2-FDW46_rW"
      },
      "execution_count": null,
      "outputs": []
    },
    {
      "cell_type": "code",
      "source": [
        "import cv2 \n",
        "import os \n",
        "import glob\n",
        "import random\n",
        "# Loading and Shuffling Images\n",
        "files=sorted(glob.glob(\"/content/drive/MyDrive/corrected_crack_dataset/*\"))\n",
        "random.shuffle(files)\n",
        "\n",
        "# Save Path for Images\n",
        "path=\"/content/drive/MyDrive/cracked_dataset/\"\n",
        "\n",
        "# Image Processing\n",
        "i=0\n",
        "for file in files:\n",
        "  image=cv2.imread(file)\n",
        "  image=cv2.resize(image,(224,224))\n",
        "  # image = np.array(image, dtype='uint8')\n",
        "  # image=cv2.cvtColor(image, cv2.COLOR_BGR2GRAY)\n",
        "  cv2.imwrite(path+str(i)+\".jpg\",image)\n",
        "  i+=1"
      ],
      "metadata": {
        "id": "S0dlNNr-42L5"
      },
      "execution_count": 39,
      "outputs": []
    },
    {
      "cell_type": "code",
      "source": [
        "from google.colab.patches import cv2_imshow\n",
        "import cv2\n",
        "import numpy as np\n",
        "# image=cv2.imread(file, cv2.IMREAD_GRAYSCALE)\n",
        "image=cv2.imread(\"/content/0000.bmp\")\n",
        "# image=np.array(image,dtype='float32')\n",
        "cv2_imshow(image)\n",
        "\n",
        "print(image.dtype)"
      ],
      "metadata": {
        "id": "yGPpLSpH_EWv"
      },
      "execution_count": null,
      "outputs": []
    },
    {
      "cell_type": "markdown",
      "source": [
        "f"
      ],
      "metadata": {
        "id": "idLuWKKDXMOm"
      }
    }
  ],
  "metadata": {
    "colab": {
      "provenance": [],
      "authorship_tag": "ABX9TyOpshWc3SQDrH1UPjB7p+up",
      "include_colab_link": true
    },
    "kernelspec": {
      "display_name": "Python 3",
      "name": "python3"
    },
    "language_info": {
      "name": "python"
    },
    "accelerator": "GPU",
    "gpuClass": "standard"
  },
  "nbformat": 4,
  "nbformat_minor": 0
}