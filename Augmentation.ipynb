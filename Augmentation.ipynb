{
  "nbformat": 4,
  "nbformat_minor": 0,
  "metadata": {
    "colab": {
      "provenance": [],
      "authorship_tag": "ABX9TyMm5665VjczEVsijG4OuQ9h",
      "include_colab_link": true
    },
    "kernelspec": {
      "name": "python3",
      "display_name": "Python 3"
    },
    "language_info": {
      "name": "python"
    }
  },
  "cells": [
    {
      "cell_type": "markdown",
      "metadata": {
        "id": "view-in-github",
        "colab_type": "text"
      },
      "source": [
        "<a href=\"https://colab.research.google.com/github/nnilayy/Unet/blob/main/Augmentation.ipynb\" target=\"_parent\"><img src=\"https://colab.research.google.com/assets/colab-badge.svg\" alt=\"Open In Colab\"/></a>"
      ]
    },
    {
      "cell_type": "code",
      "source": [
        "import glob"
      ],
      "metadata": {
        "id": "3HA00xVHO7RD"
      },
      "execution_count": null,
      "outputs": []
    },
    {
      "cell_type": "code",
      "source": [
        "!mkdir \"/content/drive/MyDrive/Augmented\"\n",
        "images=sorted(glob.glob(\"/content/Images/*\"))\n",
        "masks=sorted(glob.glob(\"/content/drive/MyDrive/Bitmaps/*\"))"
      ],
      "metadata": {
        "id": "Ux9qxGtMOqCA"
      },
      "execution_count": null,
      "outputs": []
    },
    {
      "cell_type": "code",
      "source": [
        "from tensorflow.keras.preprocessing.image import ImageDataGenerator, array_to_img, img_to_array, load_img\n",
        "datagen=ImageDataGenerator(\n",
        "    rotation_range=40,\n",
        "    brightness_range=(0,5),\n",
        "    zoom_range=0.2,\n",
        "    shear_range=0.2,\n",
        "    horizontal_flip=True,\n",
        "    vertical_flip=True,\n",
        "    fill_mode=\"nearest\",\n",
        ")"
      ],
      "metadata": {
        "id": "5BYhr7ENOioO"
      },
      "execution_count": null,
      "outputs": []
    },
    {
      "cell_type": "code",
      "execution_count": null,
      "metadata": {
        "id": "jgsLytq5OVjp"
      },
      "outputs": [],
      "source": [
        "increment=0\n",
        "for image,mask in zip(images,masks):\n",
        "  img=load_img(image)\n",
        "  x=img_to_array(img)\n",
        "  x=x.reshape((1,)+x.shape) \n",
        "  i=1\n",
        "  for batch in datagen.flow(x,batch_size=1,save_to_dir=\"/content/drive/MyDrive/Augmented/Images/\",save_prefix=str(increment),save_format=\"jpeg\",seed=42):\n",
        "    i+=1\n",
        "    if i>10:\n",
        "      break\n",
        " \n",
        "  increment=increment+1"
      ]
    }
  ]
}