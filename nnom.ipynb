{
  "nbformat": 4,
  "nbformat_minor": 0,
  "metadata": {
    "colab": {
      "provenance": [],
      "authorship_tag": "ABX9TyMTQkcbf5ejrteAmmSsZBx6",
      "include_colab_link": true
    },
    "kernelspec": {
      "name": "python3",
      "display_name": "Python 3"
    },
    "language_info": {
      "name": "python"
    },
    "gpuClass": "standard",
    "accelerator": "GPU"
  },
  "cells": [
    {
      "cell_type": "markdown",
      "metadata": {
        "id": "view-in-github",
        "colab_type": "text"
      },
      "source": [
        "<a href=\"https://colab.research.google.com/github/nnilayy/Unet/blob/main/nnom.ipynb\" target=\"_parent\"><img src=\"https://colab.research.google.com/assets/colab-badge.svg\" alt=\"Open In Colab\"/></a>"
      ]
    },
    {
      "cell_type": "code",
      "execution_count": null,
      "metadata": {
        "id": "J8-H0S62QVHQ",
        "colab": {
          "base_uri": "https://localhost:8080/"
        },
        "outputId": "59606d83-243e-4a79-854d-278153f2dde0"
      },
      "outputs": [
        {
          "output_type": "stream",
          "name": "stdout",
          "text": [
            "Mounted at /content/drive\n"
          ]
        }
      ],
      "source": [
        "from google.colab import drive \n",
        "drive.mount('/content/drive') "
      ]
    },
    {
      "cell_type": "code",
      "source": [
        "! git clone https://github.com/majianjia/nnom"
      ],
      "metadata": {
        "id": "NnTO5Cf8R3L5"
      },
      "execution_count": null,
      "outputs": []
    },
    {
      "cell_type": "code",
      "source": [
        "from nnom.scripts.nnom_utils import generate_model"
      ],
      "metadata": {
        "id": "QoFQZPdYtUfp"
      },
      "execution_count": null,
      "outputs": []
    },
    {
      "cell_type": "code",
      "execution_count": null,
      "metadata": {
        "id": "FkRHSe0ZPmWt"
      },
      "outputs": [],
      "source": [
        "import tensorflow as tf\n",
        "from tensorflow import keras\n",
        "import numpy as np\n",
        "import binascii\n",
        "import logging\n",
        "\n",
        "\n",
        "mnist = keras.datasets.mnist\n",
        "(train_images, train_labels), (test_images, test_labels) = mnist.load_data()\n",
        "# 60,000 training data and 10,000 test data of 28x28 pixel images\n",
        "print(\"train_images shape\", train_images.shape)\n",
        "print(\"train_labels shape\", train_labels.shape)\n",
        "print(\"test_images shape\", test_images.shape)\n",
        "print(\"test_labels shape\", test_labels.shape)\n",
        "## Normalize the input image so that each pixel value is between 0 to 1.\n",
        "train_images = train_images/255.0;\n",
        "test_images = test_images/255.0;\n",
        "train_labels = tf.keras.utils.to_categorical(train_labels, 10)\n",
        "test_labels = tf.keras.utils.to_categorical(test_labels, 10)\n",
        "print('Datasets are normalized')"
      ]
    },
    {
      "cell_type": "code",
      "source": [
        "from tensorflow.keras.models import Sequential\n",
        "from tensorflow.keras.layers import Dense, Conv2D, MaxPooling2D, AveragePooling2D, Flatten, Dropout, BatchNormalization, InputLayer, Reshape\n",
        "\n",
        "model = Sequential()\n",
        "model.add(InputLayer(input_shape=(28, 28,1)))\n",
        "# model.add(Reshape(target_shape=(28, 28, 1)))\n",
        "model.add(Conv2D(16, 3, padding='same', activation=\"relu\"))\n",
        "model.add(MaxPooling2D(2, padding='same'))\n",
        "model.add(Conv2D(16, 3, padding='same', activation=\"relu\"))\n",
        "model.add(MaxPooling2D(2, padding='same'))\n",
        "model.add(MaxPooling2D(2, padding='same'))\n",
        "\n",
        "model.add(Flatten())\n",
        "model.add(Dense(10, activation=\"softmax\"))\n",
        "model.summary()"
      ],
      "metadata": {
        "id": "NQ-AR3IAXZST"
      },
      "execution_count": null,
      "outputs": []
    },
    {
      "cell_type": "code",
      "source": [
        "model.compile(loss=\"categorical_crossentropy\", \n",
        "              optimizer=tf.keras.optimizers.RMSprop(learning_rate=1e-3), \n",
        "              metrics=[\"accuracy\"])\n",
        "model.fit(train_images, train_labels, steps_per_epoch=32,epochs=30, verbose=1, validation_split=0.1)"
      ],
      "metadata": {
        "id": "vev7Ml0SYxqN"
      },
      "execution_count": null,
      "outputs": []
    },
    {
      "cell_type": "code",
      "source": [
        "test_loss, test_acc = model.evaluate(x=test_images, y=test_labels, verbose=1)\n",
        "print('Accuracy = %f' % test_acc)"
      ],
      "metadata": {
        "id": "0M1uTAoqY31X"
      },
      "execution_count": null,
      "outputs": []
    },
    {
      "cell_type": "code",
      "source": [
        "generate_model(model, test_images, name='weights.h')"
      ],
      "metadata": {
        "id": "pHkxPlgaFttw"
      },
      "execution_count": null,
      "outputs": []
    },
    {
      "cell_type": "code",
      "source": [
        "from keras.models import load_model\n",
        "import tensorflow as tf\n",
        "model = tf.keras.models.load_model(\"//content/drive/MyDrive/Unet_weights/1.9_Mil.h5\")"
      ],
      "metadata": {
        "id": "T23FunRt7_Lx"
      },
      "execution_count": null,
      "outputs": []
    },
    {
      "cell_type": "code",
      "source": [
        "import cv2 \n",
        "import glob\n",
        "import numpy as np\n",
        "test_images=[]\n",
        "files=sorted(glob.glob('/content/drive/MyDrive/dataset_3/train/Cracked/*'))\n",
        "for file in files:\n",
        "  # image=cv2.imread(file)\n",
        "  image=cv2.imread(file,cv2.IMREAD_GRAYSCALE)\n",
        "  image=cv2.resize(image,(256,256))\n",
        "  image=np.array(image)\n",
        "  image=np.expand_dims(image,-1)\n",
        "  test_images.append(image)"
      ],
      "metadata": {
        "id": "Tw6Y9NRO9LwF"
      },
      "execution_count": null,
      "outputs": []
    },
    {
      "cell_type": "code",
      "source": [
        "test_images=np.array(test_images)\n",
        "test_images.shape"
      ],
      "metadata": {
        "colab": {
          "base_uri": "https://localhost:8080/"
        },
        "id": "EScIulxu_-qJ",
        "outputId": "1b01dce4-ee12-42ca-b1bd-46a75b3af6d1"
      },
      "execution_count": null,
      "outputs": [
        {
          "output_type": "execute_result",
          "data": {
            "text/plain": [
              "(149, 256, 256, 1)"
            ]
          },
          "metadata": {},
          "execution_count": 9
        }
      ]
    },
    {
      "cell_type": "code",
      "source": [
        "generate_model(model, test_images, name='weights.h')"
      ],
      "metadata": {
        "id": "HWc2AC-99DgQ"
      },
      "execution_count": null,
      "outputs": []
    }
  ]
}