{
  "cells": [
    {
      "cell_type": "markdown",
      "metadata": {
        "id": "view-in-github",
        "colab_type": "text"
      },
      "source": [
        "<a href=\"https://colab.research.google.com/github/nnilayy/Unet/blob/main/Classification.ipynb\" target=\"_parent\"><img src=\"https://colab.research.google.com/assets/colab-badge.svg\" alt=\"Open In Colab\"/></a>"
      ]
    },
    {
      "cell_type": "code",
      "execution_count": 1,
      "metadata": {
        "id": "Faz4TOq7w8aW"
      },
      "outputs": [],
      "source": [
        "from tensorflow.keras.preprocessing.image import ImageDataGenerator\n",
        "import matplotlib.pyplot as plt \n",
        "import tensorflow as tf \n",
        "import numpy as np\n",
        "import cv2 \n",
        "import os "
      ]
    },
    {
      "cell_type": "code",
      "execution_count": 2,
      "metadata": {
        "id": "J8-H0S62QVHQ",
        "colab": {
          "base_uri": "https://localhost:8080/"
        },
        "outputId": "0d5b9a95-5f6e-4529-a6fb-8cf602c9531c"
      },
      "outputs": [
        {
          "output_type": "stream",
          "name": "stdout",
          "text": [
            "Mounted at /content/drive\n"
          ]
        }
      ],
      "source": [
        "from google.colab import drive\n",
        "drive.mount('/content/drive')"
      ]
    },
    {
      "cell_type": "code",
      "execution_count": null,
      "metadata": {
        "id": "ZOy4Qb1rQvsK"
      },
      "outputs": [],
      "source": [
        "!mkdir \"/content/drive/MyDrive/dataset\""
      ]
    },
    {
      "cell_type": "code",
      "execution_count": null,
      "metadata": {
        "id": "5AORMhrHhkc7"
      },
      "outputs": [],
      "source": [
        "!unzip -q /content/drive/MyDrive/dataset.zip -d /content/drive/MyDrive/"
      ]
    },
    {
      "cell_type": "code",
      "execution_count": 31,
      "metadata": {
        "id": "8isyhdy9wNzg"
      },
      "outputs": [],
      "source": [
        "train=ImageDataGenerator(rescale=1/255,\n",
        "                         rotation_range=40,\n",
        "                         brightness_range=(0,5),\n",
        "                         zoom_range=0.2,\n",
        "                         shear_range=0.2,\n",
        "                         horizontal_flip=True,\n",
        "                         vertical_flip=True,\n",
        "                         fill_mode=\"nearest\",\n",
        "                         )\n",
        "valid=ImageDataGenerator(rescale=1/255,\n",
        "                              rotation_range=40,\n",
        "                              brightness_range=(0,5),\n",
        "                              zoom_range=0.2,\n",
        "                              shear_range=0.2,\n",
        "                              horizontal_flip=True,\n",
        "                              vertical_flip=True,\n",
        "                              fill_mode=\"nearest\",)"
      ]
    },
    {
      "cell_type": "code",
      "execution_count": 32,
      "metadata": {
        "id": "_5KWdWhyx8PH",
        "colab": {
          "base_uri": "https://localhost:8080/"
        },
        "outputId": "568c420e-d16b-4e8c-f561-da88b042cc86"
      },
      "outputs": [
        {
          "output_type": "stream",
          "name": "stdout",
          "text": [
            "Found 301 images belonging to 2 classes.\n",
            "Found 90 images belonging to 2 classes.\n"
          ]
        }
      ],
      "source": [
        "train_dataset=train.flow_from_directory('/content/drive/MyDrive/dataset_3/train',\n",
        "                                        target_size=(256,256),\n",
        "                                        batch_size=3,\n",
        "                                        class_mode='binary',\n",
        "                                        color_mode='grayscale',\n",
        "                                        )\n",
        "val_dataset=valid.flow_from_directory('/content/drive/MyDrive/dataset_3/validation',\n",
        "                                        target_size=(256,256),\n",
        "                                        batch_size=3,\n",
        "                                        class_mode='binary',\n",
        "                                        color_mode='grayscale'\n",
        "                                        )"
      ]
    },
    {
      "cell_type": "code",
      "execution_count": null,
      "metadata": {
        "id": "uOzuv6LKiGkI"
      },
      "outputs": [],
      "source": [
        "from tensorflow.keras.models import Sequential\n",
        "from tensorflow.keras.layers import Dense, Conv2D, MaxPooling2D, AveragePooling2D, Flatten, Dropout, BatchNormalization, InputLayer, Reshape\n",
        "\n",
        "model = Sequential()\n",
        "model.add(InputLayer(input_shape=(256, 256, 1)))\n",
        "model.add(Conv2D(8, 3, padding='same', activation=\"relu\"))\n",
        "model.add(MaxPooling2D(2, padding='same'))\n",
        "model.add(Conv2D(8, 3, padding='same', activation=\"relu\"))\n",
        "model.add(MaxPooling2D(2, padding='same'))\n",
        "model.add(Conv2D(8, 3, padding='same', activation=\"relu\"))\n",
        "model.add(MaxPooling2D(2, padding='same'))\n",
        "model.add(Conv2D(4, 3, padding='same', activation=\"relu\"))\n",
        "model.add(MaxPooling2D(2, padding='same'))\n",
        "model.add(Conv2D(4, 3, padding='same', activation=\"relu\"))\n",
        "model.add(MaxPooling2D(2, padding='same'))\n",
        "model.add(MaxPooling2D(2, padding='same'))\n",
        "model.add(Flatten())\n",
        "model.add(Dense(1, activation=\"sigmoid\"))\n",
        "model.summary()\n",
        "\n",
        "\n",
        "\n",
        "\n",
        "\n",
        "\n",
        "# ---------------------------------------------------------------------------------------------------\n",
        "# ---------------------------------------------------------------------------------------------------\n",
        "# (1)Params: 32,000\n",
        "# (2)Train_Accuracy: 85.45\n",
        "# (3)Val_Accuracy: 84.44\n",
        "# model = Sequential()\n",
        "# model.add(InputLayer(input_shape=(224, 224,3)))\n",
        "# model.add(Conv2D(16, 3, padding='same', activation=\"relu\"))\n",
        "# model.add(MaxPooling2D(2, padding='same'))\n",
        "# model.add(Conv2D(16, 3, padding='same', activation=\"relu\"))\n",
        "# model.add(MaxPooling2D(2, padding='same'))\n",
        "# model.add(Conv2D(16, 3, padding='same', activation=\"relu\"))\n",
        "# model.add(MaxPooling2D(2, padding='same'))\n",
        "# model.add(MaxPooling2D(2, padding='same'))\n",
        "# model.add(MaxPooling2D(2, padding='same'))\n",
        "# model.add(Flatten())\n",
        "# model.add(Dense(32, activation=\"relu\"))\n",
        "# model.add(Dense(1, activation=\"sigmoid\"))"
      ]
    },
    {
      "cell_type": "code",
      "execution_count": 34,
      "metadata": {
        "id": "PYcT2fHW77gx",
        "colab": {
          "base_uri": "https://localhost:8080/"
        },
        "outputId": "04e05f6b-5685-4e38-d35a-ea9f3263c5fc"
      },
      "outputs": [
        {
          "output_type": "stream",
          "name": "stdout",
          "text": [
            "Epoch 1/100\n",
            "32/32 [==============================] - 5s 84ms/step - loss: 0.6948 - accuracy: 0.4896 - val_loss: 0.6883 - val_accuracy: 0.5556\n",
            "Epoch 2/100\n",
            "32/32 [==============================] - 2s 66ms/step - loss: 0.6946 - accuracy: 0.5208 - val_loss: 0.6815 - val_accuracy: 0.5556\n",
            "Epoch 3/100\n",
            "32/32 [==============================] - 2s 53ms/step - loss: 0.6908 - accuracy: 0.5104 - val_loss: 0.6792 - val_accuracy: 0.5778\n",
            "Epoch 4/100\n",
            "32/32 [==============================] - 2s 52ms/step - loss: 0.6851 - accuracy: 0.5208 - val_loss: 0.6588 - val_accuracy: 0.5556\n",
            "Epoch 5/100\n",
            "32/32 [==============================] - 2s 51ms/step - loss: 0.6788 - accuracy: 0.5312 - val_loss: 0.6561 - val_accuracy: 0.5556\n",
            "Epoch 6/100\n",
            "32/32 [==============================] - 2s 52ms/step - loss: 0.6533 - accuracy: 0.6250 - val_loss: 0.6268 - val_accuracy: 0.8111\n",
            "Epoch 7/100\n",
            "32/32 [==============================] - 2s 78ms/step - loss: 0.6010 - accuracy: 0.7604 - val_loss: 0.5174 - val_accuracy: 0.8444\n",
            "Epoch 8/100\n",
            "32/32 [==============================] - 2s 67ms/step - loss: 0.5311 - accuracy: 0.7396 - val_loss: 0.5099 - val_accuracy: 0.8111\n",
            "Epoch 9/100\n",
            "32/32 [==============================] - 2s 51ms/step - loss: 0.5116 - accuracy: 0.8021 - val_loss: 0.4630 - val_accuracy: 0.8111\n",
            "Epoch 10/100\n",
            "32/32 [==============================] - 2s 55ms/step - loss: 0.5246 - accuracy: 0.7128 - val_loss: 0.4142 - val_accuracy: 0.8333\n",
            "Epoch 11/100\n",
            "32/32 [==============================] - 2s 51ms/step - loss: 0.4966 - accuracy: 0.7188 - val_loss: 0.3737 - val_accuracy: 0.8333\n",
            "Epoch 12/100\n",
            "32/32 [==============================] - 2s 52ms/step - loss: 0.5065 - accuracy: 0.7188 - val_loss: 0.3775 - val_accuracy: 0.8333\n",
            "Epoch 13/100\n",
            "32/32 [==============================] - 2s 52ms/step - loss: 0.5261 - accuracy: 0.7766 - val_loss: 0.4479 - val_accuracy: 0.8222\n",
            "Epoch 14/100\n",
            "32/32 [==============================] - 2s 73ms/step - loss: 0.4443 - accuracy: 0.8229 - val_loss: 0.3527 - val_accuracy: 0.8778\n",
            "Epoch 15/100\n",
            "32/32 [==============================] - 2s 51ms/step - loss: 0.3459 - accuracy: 0.8750 - val_loss: 0.3506 - val_accuracy: 0.8333\n",
            "Epoch 16/100\n",
            "32/32 [==============================] - 2s 51ms/step - loss: 0.4033 - accuracy: 0.8191 - val_loss: 0.3444 - val_accuracy: 0.8778\n",
            "Epoch 17/100\n",
            "32/32 [==============================] - 2s 52ms/step - loss: 0.4306 - accuracy: 0.8125 - val_loss: 0.4190 - val_accuracy: 0.8222\n",
            "Epoch 18/100\n",
            "32/32 [==============================] - 2s 66ms/step - loss: 0.4693 - accuracy: 0.8125 - val_loss: 0.3216 - val_accuracy: 0.8778\n",
            "Epoch 19/100\n",
            "32/32 [==============================] - 4s 125ms/step - loss: 0.5454 - accuracy: 0.7340 - val_loss: 0.3113 - val_accuracy: 0.9000\n",
            "Epoch 20/100\n",
            "32/32 [==============================] - 2s 56ms/step - loss: 0.4348 - accuracy: 0.8125 - val_loss: 0.3515 - val_accuracy: 0.8556\n",
            "Epoch 21/100\n",
            "32/32 [==============================] - 2s 51ms/step - loss: 0.3683 - accuracy: 0.8646 - val_loss: 0.3761 - val_accuracy: 0.8556\n",
            "Epoch 22/100\n",
            "32/32 [==============================] - 2s 50ms/step - loss: 0.3867 - accuracy: 0.8723 - val_loss: 0.3468 - val_accuracy: 0.8778\n",
            "Epoch 23/100\n",
            "32/32 [==============================] - 2s 50ms/step - loss: 0.4746 - accuracy: 0.7872 - val_loss: 0.3632 - val_accuracy: 0.8556\n",
            "Epoch 24/100\n",
            "32/32 [==============================] - 2s 51ms/step - loss: 0.3589 - accuracy: 0.8438 - val_loss: 0.3494 - val_accuracy: 0.8333\n",
            "Epoch 25/100\n",
            "32/32 [==============================] - 2s 78ms/step - loss: 0.3632 - accuracy: 0.8830 - val_loss: 0.3179 - val_accuracy: 0.8778\n",
            "Epoch 26/100\n",
            "32/32 [==============================] - 2s 64ms/step - loss: 0.4148 - accuracy: 0.8333 - val_loss: 0.3150 - val_accuracy: 0.9000\n",
            "Epoch 27/100\n",
            "32/32 [==============================] - 2s 52ms/step - loss: 0.3211 - accuracy: 0.8854 - val_loss: 0.3692 - val_accuracy: 0.8444\n",
            "Epoch 28/100\n",
            "32/32 [==============================] - 2s 52ms/step - loss: 0.4393 - accuracy: 0.8021 - val_loss: 0.4303 - val_accuracy: 0.8000\n",
            "Epoch 29/100\n",
            "32/32 [==============================] - 2s 51ms/step - loss: 0.3867 - accuracy: 0.8542 - val_loss: 0.3172 - val_accuracy: 0.8778\n",
            "Epoch 30/100\n",
            "32/32 [==============================] - 2s 51ms/step - loss: 0.3606 - accuracy: 0.8617 - val_loss: 0.3547 - val_accuracy: 0.8444\n",
            "Epoch 31/100\n",
            "32/32 [==============================] - 3s 79ms/step - loss: 0.2512 - accuracy: 0.9468 - val_loss: 0.3766 - val_accuracy: 0.8667\n",
            "Epoch 32/100\n",
            "32/32 [==============================] - 2s 50ms/step - loss: 0.4067 - accuracy: 0.8404 - val_loss: 0.4139 - val_accuracy: 0.8222\n",
            "Epoch 33/100\n",
            "32/32 [==============================] - 2s 50ms/step - loss: 0.4932 - accuracy: 0.8085 - val_loss: 0.2893 - val_accuracy: 0.8889\n",
            "Epoch 34/100\n",
            "32/32 [==============================] - 2s 56ms/step - loss: 0.3853 - accuracy: 0.8542 - val_loss: 0.3166 - val_accuracy: 0.8333\n",
            "Epoch 35/100\n",
            "32/32 [==============================] - 2s 50ms/step - loss: 0.3993 - accuracy: 0.8298 - val_loss: 0.2869 - val_accuracy: 0.8778\n",
            "Epoch 36/100\n",
            "32/32 [==============================] - 2s 51ms/step - loss: 0.4040 - accuracy: 0.8191 - val_loss: 0.4127 - val_accuracy: 0.8333\n",
            "Epoch 37/100\n",
            "32/32 [==============================] - 3s 82ms/step - loss: 0.3815 - accuracy: 0.8511 - val_loss: 0.3209 - val_accuracy: 0.8333\n",
            "Epoch 38/100\n",
            "32/32 [==============================] - 2s 51ms/step - loss: 0.3438 - accuracy: 0.8958 - val_loss: 0.2947 - val_accuracy: 0.8778\n",
            "Epoch 39/100\n",
            "32/32 [==============================] - 2s 51ms/step - loss: 0.3915 - accuracy: 0.8542 - val_loss: 0.3405 - val_accuracy: 0.8667\n",
            "Epoch 40/100\n",
            "32/32 [==============================] - 2s 51ms/step - loss: 0.4326 - accuracy: 0.8438 - val_loss: 0.4068 - val_accuracy: 0.8111\n",
            "Epoch 41/100\n",
            "32/32 [==============================] - 2s 68ms/step - loss: 0.3539 - accuracy: 0.8542 - val_loss: 0.3198 - val_accuracy: 0.8778\n",
            "Epoch 42/100\n",
            "32/32 [==============================] - 2s 68ms/step - loss: 0.2906 - accuracy: 0.9043 - val_loss: 0.3936 - val_accuracy: 0.8111\n",
            "Epoch 43/100\n",
            "32/32 [==============================] - 2s 51ms/step - loss: 0.2960 - accuracy: 0.8958 - val_loss: 0.3347 - val_accuracy: 0.8667\n",
            "Epoch 44/100\n",
            "32/32 [==============================] - 2s 51ms/step - loss: 0.3926 - accuracy: 0.8125 - val_loss: 0.3447 - val_accuracy: 0.8444\n",
            "Epoch 45/100\n",
            "32/32 [==============================] - 2s 51ms/step - loss: 0.3605 - accuracy: 0.8542 - val_loss: 0.3162 - val_accuracy: 0.8556\n",
            "Epoch 46/100\n",
            "32/32 [==============================] - 2s 51ms/step - loss: 0.2671 - accuracy: 0.8646 - val_loss: 0.2826 - val_accuracy: 0.8444\n",
            "Epoch 47/100\n",
            "32/32 [==============================] - 2s 52ms/step - loss: 0.3425 - accuracy: 0.8958 - val_loss: 0.2778 - val_accuracy: 0.8778\n",
            "Epoch 48/100\n",
            "32/32 [==============================] - 2s 72ms/step - loss: 0.2480 - accuracy: 0.8936 - val_loss: 0.2735 - val_accuracy: 0.8778\n",
            "Epoch 49/100\n",
            "32/32 [==============================] - 2s 52ms/step - loss: 0.2213 - accuracy: 0.9271 - val_loss: 0.2450 - val_accuracy: 0.8778\n",
            "Epoch 50/100\n",
            "32/32 [==============================] - 2s 51ms/step - loss: 0.3510 - accuracy: 0.8750 - val_loss: 0.2530 - val_accuracy: 0.9000\n",
            "Epoch 51/100\n",
            "32/32 [==============================] - 2s 52ms/step - loss: 0.4848 - accuracy: 0.8333 - val_loss: 0.3320 - val_accuracy: 0.8222\n",
            "Epoch 52/100\n",
            "32/32 [==============================] - 2s 50ms/step - loss: 0.3441 - accuracy: 0.8646 - val_loss: 0.2499 - val_accuracy: 0.9111\n",
            "Epoch 53/100\n",
            "32/32 [==============================] - 2s 69ms/step - loss: 0.3225 - accuracy: 0.8646 - val_loss: 0.4172 - val_accuracy: 0.8222\n",
            "Epoch 54/100\n",
            "32/32 [==============================] - 3s 82ms/step - loss: 0.3098 - accuracy: 0.8617 - val_loss: 0.2711 - val_accuracy: 0.8889\n",
            "Epoch 55/100\n",
            "32/32 [==============================] - 2s 52ms/step - loss: 0.3599 - accuracy: 0.8438 - val_loss: 0.3615 - val_accuracy: 0.8222\n",
            "Epoch 56/100\n",
            "32/32 [==============================] - 2s 50ms/step - loss: 0.2453 - accuracy: 0.8936 - val_loss: 0.2531 - val_accuracy: 0.9111\n",
            "Epoch 57/100\n",
            "32/32 [==============================] - 2s 52ms/step - loss: 0.2886 - accuracy: 0.8438 - val_loss: 0.2912 - val_accuracy: 0.8778\n",
            "Epoch 58/100\n",
            "32/32 [==============================] - 2s 79ms/step - loss: 0.4046 - accuracy: 0.8404 - val_loss: 0.3083 - val_accuracy: 0.8889\n",
            "Epoch 59/100\n",
            "32/32 [==============================] - 3s 80ms/step - loss: 0.3443 - accuracy: 0.8830 - val_loss: 0.3456 - val_accuracy: 0.8333\n",
            "Epoch 60/100\n",
            "32/32 [==============================] - 2s 50ms/step - loss: 0.3325 - accuracy: 0.8830 - val_loss: 0.2683 - val_accuracy: 0.8667\n",
            "Epoch 61/100\n",
            "32/32 [==============================] - 2s 52ms/step - loss: 0.2905 - accuracy: 0.8750 - val_loss: 0.4068 - val_accuracy: 0.8222\n",
            "Epoch 62/100\n",
            "32/32 [==============================] - 2s 52ms/step - loss: 0.3822 - accuracy: 0.8542 - val_loss: 0.2793 - val_accuracy: 0.9000\n",
            "Epoch 63/100\n",
            "32/32 [==============================] - 2s 50ms/step - loss: 0.4055 - accuracy: 0.8511 - val_loss: 0.2505 - val_accuracy: 0.9111\n",
            "Epoch 64/100\n",
            "32/32 [==============================] - 2s 78ms/step - loss: 0.2787 - accuracy: 0.8542 - val_loss: 0.2736 - val_accuracy: 0.8556\n",
            "Epoch 65/100\n",
            "32/32 [==============================] - 2s 67ms/step - loss: 0.3418 - accuracy: 0.8646 - val_loss: 0.2590 - val_accuracy: 0.9000\n",
            "Epoch 66/100\n",
            "32/32 [==============================] - 2s 52ms/step - loss: 0.2743 - accuracy: 0.9062 - val_loss: 0.3375 - val_accuracy: 0.8778\n",
            "Epoch 67/100\n",
            "32/32 [==============================] - 2s 52ms/step - loss: 0.3450 - accuracy: 0.8617 - val_loss: 0.2852 - val_accuracy: 0.8778\n",
            "Epoch 68/100\n",
            "32/32 [==============================] - 2s 51ms/step - loss: 0.3862 - accuracy: 0.8854 - val_loss: 0.2438 - val_accuracy: 0.9111\n",
            "Epoch 69/100\n",
            "32/32 [==============================] - 2s 52ms/step - loss: 0.2700 - accuracy: 0.8854 - val_loss: 0.2610 - val_accuracy: 0.9000\n",
            "Epoch 70/100\n",
            "32/32 [==============================] - 2s 68ms/step - loss: 0.3489 - accuracy: 0.8617 - val_loss: 0.3127 - val_accuracy: 0.8556\n",
            "Epoch 71/100\n",
            "32/32 [==============================] - 3s 81ms/step - loss: 0.3288 - accuracy: 0.8617 - val_loss: 0.2775 - val_accuracy: 0.8667\n",
            "Epoch 72/100\n",
            "32/32 [==============================] - 2s 61ms/step - loss: 0.3427 - accuracy: 0.8542 - val_loss: 0.3067 - val_accuracy: 0.8667\n",
            "Epoch 73/100\n",
            "32/32 [==============================] - 2s 51ms/step - loss: 0.2821 - accuracy: 0.9255 - val_loss: 0.3856 - val_accuracy: 0.8111\n",
            "Epoch 74/100\n",
            "32/32 [==============================] - 2s 51ms/step - loss: 0.3341 - accuracy: 0.8333 - val_loss: 0.2586 - val_accuracy: 0.9000\n",
            "Epoch 75/100\n",
            "32/32 [==============================] - 2s 51ms/step - loss: 0.2514 - accuracy: 0.8936 - val_loss: 0.2369 - val_accuracy: 0.8889\n",
            "Epoch 76/100\n",
            "32/32 [==============================] - 2s 51ms/step - loss: 0.2261 - accuracy: 0.9167 - val_loss: 0.2716 - val_accuracy: 0.9000\n",
            "Epoch 77/100\n",
            "32/32 [==============================] - 3s 81ms/step - loss: 0.3797 - accuracy: 0.8617 - val_loss: 0.3208 - val_accuracy: 0.8556\n",
            "Epoch 78/100\n",
            "32/32 [==============================] - 2s 64ms/step - loss: 0.2697 - accuracy: 0.8854 - val_loss: 0.2914 - val_accuracy: 0.9111\n",
            "Epoch 79/100\n",
            "32/32 [==============================] - 2s 50ms/step - loss: 0.3257 - accuracy: 0.8542 - val_loss: 0.2917 - val_accuracy: 0.9000\n",
            "Epoch 80/100\n",
            "32/32 [==============================] - 2s 50ms/step - loss: 0.3063 - accuracy: 0.8646 - val_loss: 0.3661 - val_accuracy: 0.8222\n",
            "Epoch 81/100\n",
            "32/32 [==============================] - 2s 52ms/step - loss: 0.2360 - accuracy: 0.8958 - val_loss: 0.2621 - val_accuracy: 0.8889\n",
            "Epoch 82/100\n",
            "32/32 [==============================] - 2s 51ms/step - loss: 0.2626 - accuracy: 0.9149 - val_loss: 0.2881 - val_accuracy: 0.8667\n",
            "Epoch 83/100\n",
            "32/32 [==============================] - 2s 74ms/step - loss: 0.3228 - accuracy: 0.8438 - val_loss: 0.3418 - val_accuracy: 0.8333\n",
            "Epoch 84/100\n",
            "32/32 [==============================] - 2s 51ms/step - loss: 0.3126 - accuracy: 0.8646 - val_loss: 0.2580 - val_accuracy: 0.8778\n",
            "Epoch 85/100\n",
            "32/32 [==============================] - 2s 51ms/step - loss: 0.2043 - accuracy: 0.9479 - val_loss: 0.3809 - val_accuracy: 0.8667\n",
            "Epoch 86/100\n",
            "32/32 [==============================] - 2s 52ms/step - loss: 0.2957 - accuracy: 0.8646 - val_loss: 0.2804 - val_accuracy: 0.8667\n",
            "Epoch 87/100\n",
            "32/32 [==============================] - 2s 52ms/step - loss: 0.3222 - accuracy: 0.8646 - val_loss: 0.2670 - val_accuracy: 0.9000\n",
            "Epoch 88/100\n",
            "32/32 [==============================] - 2s 69ms/step - loss: 0.3717 - accuracy: 0.8750 - val_loss: 0.3144 - val_accuracy: 0.8667\n",
            "Epoch 89/100\n",
            "32/32 [==============================] - 2s 64ms/step - loss: 0.3132 - accuracy: 0.8542 - val_loss: 0.2971 - val_accuracy: 0.8778\n",
            "Epoch 90/100\n",
            "32/32 [==============================] - 2s 49ms/step - loss: 0.2598 - accuracy: 0.9149 - val_loss: 0.1687 - val_accuracy: 0.9444\n",
            "Epoch 91/100\n",
            "32/32 [==============================] - 2s 51ms/step - loss: 0.4005 - accuracy: 0.8750 - val_loss: 0.3049 - val_accuracy: 0.8556\n",
            "Epoch 92/100\n",
            "32/32 [==============================] - 2s 50ms/step - loss: 0.3151 - accuracy: 0.8750 - val_loss: 0.2685 - val_accuracy: 0.8889\n",
            "Epoch 93/100\n",
            "32/32 [==============================] - 2s 51ms/step - loss: 0.2596 - accuracy: 0.8854 - val_loss: 0.3408 - val_accuracy: 0.9000\n",
            "Epoch 94/100\n",
            "32/32 [==============================] - 3s 83ms/step - loss: 0.1966 - accuracy: 0.9167 - val_loss: 0.2956 - val_accuracy: 0.8889\n",
            "Epoch 95/100\n",
            "32/32 [==============================] - 2s 50ms/step - loss: 0.3114 - accuracy: 0.8830 - val_loss: 0.2096 - val_accuracy: 0.9333\n",
            "Epoch 96/100\n",
            "32/32 [==============================] - 2s 52ms/step - loss: 0.1851 - accuracy: 0.9375 - val_loss: 0.2562 - val_accuracy: 0.9111\n",
            "Epoch 97/100\n",
            "32/32 [==============================] - 2s 52ms/step - loss: 0.3308 - accuracy: 0.8723 - val_loss: 0.3750 - val_accuracy: 0.8333\n",
            "Epoch 98/100\n",
            "32/32 [==============================] - 3s 81ms/step - loss: 0.1748 - accuracy: 0.9271 - val_loss: 0.3404 - val_accuracy: 0.8778\n",
            "Epoch 99/100\n",
            "32/32 [==============================] - 2s 49ms/step - loss: 0.3475 - accuracy: 0.8936 - val_loss: 0.2424 - val_accuracy: 0.9000\n",
            "Epoch 100/100\n",
            "32/32 [==============================] - 2s 51ms/step - loss: 0.3453 - accuracy: 0.8750 - val_loss: 0.2828 - val_accuracy: 0.8667\n"
          ]
        }
      ],
      "source": [
        "model.compile(loss=\"binary_crossentropy\", \n",
        "              optimizer=tf.keras.optimizers.RMSprop(learning_rate=1e-3), \n",
        "              metrics=[\"accuracy\"])\n",
        "\n",
        "history=model.fit(train_dataset, \n",
        "                  steps_per_epoch=32, \n",
        "                  epochs=100, \n",
        "                  validation_data=val_dataset)"
      ]
    },
    {
      "cell_type": "code",
      "execution_count": 35,
      "metadata": {
        "id": "1zENh4DQzNMb"
      },
      "outputs": [],
      "source": [
        "model.save(\"/content/model_128.h5\")"
      ]
    },
    {
      "cell_type": "code",
      "execution_count": null,
      "metadata": {
        "id": "uNewr2cLj5oq"
      },
      "outputs": [],
      "source": [
        "file=\"/content/images.jpg\"\n",
        "image=cv2.imread(file)\n",
        "image=cv2.resize(image,(224,224))\n",
        "image=np.expand_dims(image,0)\n",
        "prediction=int(model.predict(image))\n",
        "\n",
        "if prediction == 0:\n",
        "  print('Cracked')\n",
        "\n",
        "elif prediction==1:\n",
        "  print('Not Cracked')"
      ]
    },
    {
      "cell_type": "code",
      "execution_count": 8,
      "metadata": {
        "id": "Rj6t3crLl_Y0"
      },
      "outputs": [],
      "source": [
        "import os\n",
        "def get_file_size(file_path):\n",
        "  size=os.path.getsize(file_path)\n",
        "  return size\n",
        "def convert_bytes(size,unit=None):\n",
        "  if unit==\"KB\":\n",
        "    return print(\"File size: \"+str(round(size/1024,3))+\" Kilobytes\")\n",
        "  elif unit==\"MB\":\n",
        "    return print(\"File size: \"+str(round(size/(1024*1024),3))+\" Megabytes\")\n",
        "  else:\n",
        "    return print(\"File size: \"+str(size)+\"bytes\")"
      ]
    },
    {
      "cell_type": "code",
      "execution_count": 9,
      "metadata": {
        "id": "m52QuAlPl_Y3",
        "colab": {
          "base_uri": "https://localhost:8080/"
        },
        "outputId": "b58750d9-dce7-452c-8665-6201f798b66c"
      },
      "outputs": [
        {
          "output_type": "stream",
          "name": "stdout",
          "text": [
            "File size: 0.061 Megabytes\n"
          ]
        }
      ],
      "source": [
        "# Model Size Before Model Quantization\n",
        "model=\"/content/model_128.h5\"\n",
        "convert_bytes(get_file_size(model),\"MB\")"
      ]
    },
    {
      "cell_type": "code",
      "source": [
        "import glob\n",
        "import cv2\n",
        "import numpy as array \n",
        "files=glob.glob('/content/drive/MyDrive/dataset_3/train/Cracked/*')\n",
        "images=[]\n",
        "for file in files:\n",
        "  image=cv2.imread(file, cv2.IMREAD_GRAYSCALE)\n",
        "  image=cv2.resize(image,(128,128))\n",
        "  image=image/255\n",
        "  image=np.array(image,dtype=np.float32)\n",
        "  images.append(image)"
      ],
      "metadata": {
        "id": "1yX0NVa1Mt5_"
      },
      "execution_count": 25,
      "outputs": []
    },
    {
      "cell_type": "code",
      "source": [
        "images=np.array(images)\n",
        "# images=np.squeeze(images,-1)\n",
        "images.shape"
      ],
      "metadata": {
        "id": "uqNtH6TzNJ_Z",
        "colab": {
          "base_uri": "https://localhost:8080/"
        },
        "outputId": "f791ab40-5a49-4ef3-cf0b-00393976c0f3"
      },
      "execution_count": 26,
      "outputs": [
        {
          "output_type": "execute_result",
          "data": {
            "text/plain": [
              "(149, 128, 128)"
            ]
          },
          "metadata": {},
          "execution_count": 26
        }
      ]
    },
    {
      "cell_type": "code",
      "source": [
        "def dataset_generator():\n",
        "   for i in range(100):\n",
        "      input_image = tf.cast(images[i], tf.float32)\n",
        "      input_image = tf.reshape(input_image, [1,128,128,1])\n",
        "      yield ([input_image])"
      ],
      "metadata": {
        "id": "OfpCeOl2N8T8"
      },
      "execution_count": 27,
      "outputs": []
    },
    {
      "cell_type": "code",
      "execution_count": null,
      "metadata": {
        "id": "BCvfDqxtmtD0"
      },
      "outputs": [],
      "source": [
        "import tensorflow as tf\n",
        "model=\"/content/model_128.h5\"\n",
        "model=tf.keras.models.load_model(model)\n",
        "converter = tf.lite.TFLiteConverter.from_keras_model(model)\n",
        "converter.optimizations=[tf.lite.Optimize.DEFAULT]\n",
        "converter.target_spec.supported_ops = [tf.lite.OpsSet.TFLITE_BUILTINS_INT8]\n",
        "converter.representative_dataset=dataset_generator\n",
        "tflite_model_name=\"model.tflite\"\n",
        "tflite_model = converter.convert()\n",
        "open(tflite_model_name,\"wb\").write(tflite_model)"
      ]
    },
    {
      "cell_type": "code",
      "execution_count": null,
      "metadata": {
        "id": "4sEBDJwxmtD0"
      },
      "outputs": [],
      "source": [
        "# Model Size After Model Quantization\n",
        "tflite_model=\"/content/model.tflite\"\n",
        "convert_bytes(get_file_size(tflite_model),\"KB\")"
      ]
    },
    {
      "cell_type": "code",
      "source": [
        "import binascii\n",
        "def convert_to_c_array(bytes) -> str:\n",
        "  hexstr = binascii.hexlify(bytes).decode(\"UTF-8\")\n",
        "  hexstr = hexstr.upper()\n",
        "  array = [\"0x\" + hexstr[i:i + 2] for i in range(0, len(hexstr), 2)]\n",
        "  array = [array[i:i+10] for i in range(0, len(array), 10)]\n",
        "  return \",\\n  \".join([\", \".join(e) for e in array])\n",
        "\n",
        "tflite_binary = open('model.tflite', 'rb').read()\n",
        "ascii_bytes = convert_to_c_array(tflite_binary)\n",
        "header_file = \"const unsigned char model_tflite[] = {\\n  \" + ascii_bytes + \"\\n};\\nunsigned int model_tflite_len = \" + str(len(tflite_binary)) + \";\"\n",
        "open(\"model_128.h\", \"w\").write(header_file)\n",
        "convert_bytes(get_file_size('/content/model_128.h'),\"KB\")"
      ],
      "metadata": {
        "id": "5l2VaKpWxfvE"
      },
      "execution_count": null,
      "outputs": []
    },
    {
      "cell_type": "code",
      "source": [
        "# train_data=train_dataset[0]\n",
        "# X_train=train_data[0]\n",
        "# y_train=train_data[1]\n",
        "\n",
        "# test_data=val_dataset[0]\n",
        "# X_test=test_data[0]\n",
        "# y_test=test_data[1]\n",
        "\n",
        "# print(X_train.shape,X_test.shape,y_train.shape,y_test.shape)\n",
        "# # print(y_test)"
      ],
      "metadata": {
        "id": "xPCDgWWCGppa"
      },
      "execution_count": null,
      "outputs": []
    },
    {
      "cell_type": "code",
      "source": [
        "for layer in model.layers:\n",
        "  print(layer.get_config()['name'])"
      ],
      "metadata": {
        "id": "PeWBgQDNBTzS"
      },
      "execution_count": null,
      "outputs": []
    },
    {
      "cell_type": "code",
      "execution_count": null,
      "metadata": {
        "id": "1muAoUm8lSXL"
      },
      "outputs": [],
      "source": [
        "# Convert the model to the TensorFlow Lite format without quantization\n",
        "converter = tf.lite.TFLiteConverter.from_saved_model(MODEL_TF)\n",
        "model_no_quant_tflite = converter.convert()\n",
        "\n",
        "# Save the model to disk\n",
        "open(MODEL_NO_QUANT_TFLITE, \"wb\").write(model_no_quant_tflite)\n",
        "\n",
        "# Convert the model to the TensorFlow Lite format with quantization\n",
        "def representative_dataset():\n",
        "  for i in range(500):\n",
        "    yield([x_train[i].reshape(1, 1)])\n",
        "# Set the optimization flag.\n",
        "converter.optimizations = [tf.lite.Optimize.DEFAULT]\n",
        "# Enforce integer only quantization\n",
        "converter.target_spec.supported_ops = [tf.lite.OpsSet.TFLITE_BUILTINS_INT8]\n",
        "# Provide a representative dataset to ensure we quantize correctly.\n",
        "converter.representative_dataset = representative_dataset\n",
        "model_tflite = converter.convert()\n",
        "\n",
        "# Save the model to disk\n",
        "open(MODEL_TFLITE, \"wb\").write(model_tflite)"
      ]
    }
  ],
  "metadata": {
    "accelerator": "GPU",
    "colab": {
      "provenance": [],
      "authorship_tag": "ABX9TyM8y22RxqMTNxfSCgq7L0XL",
      "include_colab_link": true
    },
    "gpuClass": "standard",
    "kernelspec": {
      "display_name": "Python 3",
      "name": "python3"
    },
    "language_info": {
      "name": "python"
    }
  },
  "nbformat": 4,
  "nbformat_minor": 0
}