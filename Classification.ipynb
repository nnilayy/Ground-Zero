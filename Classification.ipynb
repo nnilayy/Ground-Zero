{
  "cells": [
    {
      "cell_type": "markdown",
      "metadata": {
        "id": "view-in-github",
        "colab_type": "text"
      },
      "source": [
        "<a href=\"https://colab.research.google.com/github/nnilayy/Unet/blob/main/Classification.ipynb\" target=\"_parent\"><img src=\"https://colab.research.google.com/assets/colab-badge.svg\" alt=\"Open In Colab\"/></a>"
      ]
    },
    {
      "cell_type": "code",
      "execution_count": 1,
      "metadata": {
        "id": "Faz4TOq7w8aW"
      },
      "outputs": [],
      "source": [
        "from tensorflow.keras.preprocessing.image import ImageDataGenerator\n",
        "import matplotlib.pyplot as plt \n",
        "import tensorflow as tf \n",
        "import numpy as np\n",
        "import cv2 \n",
        "import os "
      ]
    },
    {
      "cell_type": "code",
      "execution_count": 2,
      "metadata": {
        "id": "J8-H0S62QVHQ",
        "colab": {
          "base_uri": "https://localhost:8080/"
        },
        "outputId": "1e7825a6-6af4-43b1-9fa7-a90bba6fea1f"
      },
      "outputs": [
        {
          "output_type": "stream",
          "name": "stdout",
          "text": [
            "Drive already mounted at /content/drive; to attempt to forcibly remount, call drive.mount(\"/content/drive\", force_remount=True).\n"
          ]
        }
      ],
      "source": [
        "from google.colab import drive\n",
        "drive.mount('/content/drive')"
      ]
    },
    {
      "cell_type": "code",
      "execution_count": null,
      "metadata": {
        "id": "ZOy4Qb1rQvsK"
      },
      "outputs": [],
      "source": [
        "!mkdir \"/content/drive/MyDrive/dataset\""
      ]
    },
    {
      "cell_type": "code",
      "execution_count": null,
      "metadata": {
        "id": "5AORMhrHhkc7"
      },
      "outputs": [],
      "source": [
        "!unzip -q /content/drive/MyDrive/dataset.zip -d /content/drive/MyDrive/"
      ]
    },
    {
      "cell_type": "code",
      "execution_count": 12,
      "metadata": {
        "id": "8isyhdy9wNzg"
      },
      "outputs": [],
      "source": [
        "train=ImageDataGenerator(rescale=1/255,\n",
        "                         rotation_range=40,\n",
        "                         brightness_range=(0,5),\n",
        "                         zoom_range=0.2,\n",
        "                         shear_range=0.2,\n",
        "                         horizontal_flip=True,\n",
        "                         vertical_flip=True,\n",
        "                         fill_mode=\"nearest\",\n",
        "                         )\n",
        "\n",
        "valid=ImageDataGenerator(rescale=1/255,\n",
        "                              rotation_range=40,\n",
        "                              brightness_range=(0,5),\n",
        "                              zoom_range=0.2,\n",
        "                              shear_range=0.2,\n",
        "                              horizontal_flip=True,\n",
        "                              vertical_flip=True,\n",
        "                              fill_mode=\"nearest\",)"
      ]
    },
    {
      "cell_type": "code",
      "execution_count": 16,
      "metadata": {
        "id": "_5KWdWhyx8PH",
        "colab": {
          "base_uri": "https://localhost:8080/"
        },
        "outputId": "bed80a5d-ad0b-4c3a-f53f-c7cc46b7f508"
      },
      "outputs": [
        {
          "output_type": "stream",
          "name": "stdout",
          "text": [
            "Found 301 images belonging to 2 classes.\n",
            "Found 90 images belonging to 2 classes.\n"
          ]
        }
      ],
      "source": [
        "train_dataset=train.flow_from_directory('/content/drive/MyDrive/dataset_3/train',\n",
        "                                        target_size=(128,128),\n",
        "                                        batch_size=5,\n",
        "                                        class_mode='binary',\n",
        "                                        color_mode='grayscale',\n",
        "                                        )\n",
        "val_dataset=valid.flow_from_directory('/content/drive/MyDrive/dataset_3/validation',\n",
        "                                        target_size=(128,128),\n",
        "                                        batch_size=5,\n",
        "                                        class_mode='binary',\n",
        "                                        color_mode='grayscale'\n",
        "                                        )"
      ]
    },
    {
      "cell_type": "code",
      "execution_count": null,
      "metadata": {
        "id": "uOzuv6LKiGkI"
      },
      "outputs": [],
      "source": [
        "from tensorflow.keras.models import Sequential\n",
        "from tensorflow.keras.layers import Dense, Conv2D, MaxPooling2D, AveragePooling2D, Flatten, Dropout, BatchNormalization, InputLayer, Reshape\n",
        "\n",
        "model = Sequential()\n",
        "model.add(InputLayer(input_shape=(128, 128,1)))\n",
        "model.add(Conv2D(8, 3, padding='same', activation=\"relu\"))\n",
        "model.add(MaxPooling2D(2, padding='same'))\n",
        "model.add(Conv2D(16, 3, padding='same', activation=\"relu\"))\n",
        "model.add(MaxPooling2D(2, padding='same'))\n",
        "model.add(Conv2D(8, 3, padding='same', activation=\"relu\"))\n",
        "model.add(MaxPooling2D(2, padding='same'))\n",
        "model.add(Conv2D(4, 3, padding='same', activation=\"relu\"))\n",
        "model.add(MaxPooling2D(2, padding='same'))\n",
        "model.add(Conv2D(4, 3, padding='same', activation=\"relu\"))\n",
        "model.add(MaxPooling2D(2, padding='same'))\n",
        "model.add(MaxPooling2D(2, padding='same'))\n",
        "model.add(Flatten())\n",
        "model.add(Dense(1, activation=\"sigmoid\"))\n",
        "model.summary()\n",
        "\n",
        "\n",
        "\n",
        "\n",
        "\n",
        "\n",
        "# ---------------------------------------------------------------------------------------------------\n",
        "# ---------------------------------------------------------------------------------------------------\n",
        "# (1)Params: 32,000\n",
        "# (2)Train_Accuracy: 85.45\n",
        "# (3)Val_Accuracy: 84.44\n",
        "# model = Sequential()\n",
        "# model.add(InputLayer(input_shape=(224, 224,3)))\n",
        "# model.add(Conv2D(16, 3, padding='same', activation=\"relu\"))\n",
        "# model.add(MaxPooling2D(2, padding='same'))\n",
        "# model.add(Conv2D(16, 3, padding='same', activation=\"relu\"))\n",
        "# model.add(MaxPooling2D(2, padding='same'))\n",
        "# model.add(Conv2D(16, 3, padding='same', activation=\"relu\"))\n",
        "# model.add(MaxPooling2D(2, padding='same'))\n",
        "# model.add(MaxPooling2D(2, padding='same'))\n",
        "# model.add(MaxPooling2D(2, padding='same'))\n",
        "# model.add(Flatten())\n",
        "# model.add(Dense(32, activation=\"relu\"))\n",
        "# model.add(Dense(1, activation=\"sigmoid\"))"
      ]
    },
    {
      "cell_type": "code",
      "source": [
        "for layer in model.layers:\n",
        "  print(layer.get_config()['name'])"
      ],
      "metadata": {
        "id": "PeWBgQDNBTzS"
      },
      "execution_count": null,
      "outputs": []
    },
    {
      "cell_type": "code",
      "execution_count": 20,
      "metadata": {
        "id": "PYcT2fHW77gx",
        "colab": {
          "base_uri": "https://localhost:8080/"
        },
        "outputId": "8e10bda1-b56a-499b-a762-7de13339ca84"
      },
      "outputs": [
        {
          "output_type": "stream",
          "name": "stdout",
          "text": [
            "Epoch 1/100\n",
            "16/16 [==============================] - 3s 82ms/step - loss: 0.6958 - accuracy: 0.4125 - val_loss: 0.6915 - val_accuracy: 0.5667\n",
            "Epoch 2/100\n",
            "16/16 [==============================] - 1s 83ms/step - loss: 0.6948 - accuracy: 0.4875 - val_loss: 0.6927 - val_accuracy: 0.5333\n",
            "Epoch 3/100\n",
            "16/16 [==============================] - 1s 82ms/step - loss: 0.6931 - accuracy: 0.5375 - val_loss: 0.6967 - val_accuracy: 0.4222\n",
            "Epoch 4/100\n",
            "16/16 [==============================] - 1s 59ms/step - loss: 0.6954 - accuracy: 0.4750 - val_loss: 0.6930 - val_accuracy: 0.5556\n",
            "Epoch 5/100\n",
            "16/16 [==============================] - 1s 60ms/step - loss: 0.6929 - accuracy: 0.5375 - val_loss: 0.6920 - val_accuracy: 0.5667\n",
            "Epoch 6/100\n",
            "16/16 [==============================] - 1s 58ms/step - loss: 0.6904 - accuracy: 0.5658 - val_loss: 0.6885 - val_accuracy: 0.5556\n",
            "Epoch 7/100\n",
            "16/16 [==============================] - 1s 58ms/step - loss: 0.6792 - accuracy: 0.6250 - val_loss: 0.6862 - val_accuracy: 0.5556\n",
            "Epoch 8/100\n",
            "16/16 [==============================] - 1s 59ms/step - loss: 0.6894 - accuracy: 0.5500 - val_loss: 0.6904 - val_accuracy: 0.5556\n",
            "Epoch 9/100\n",
            "16/16 [==============================] - 1s 61ms/step - loss: 0.7072 - accuracy: 0.4250 - val_loss: 0.6903 - val_accuracy: 0.5778\n",
            "Epoch 10/100\n",
            "16/16 [==============================] - 1s 60ms/step - loss: 0.6839 - accuracy: 0.6250 - val_loss: 0.6840 - val_accuracy: 0.5556\n",
            "Epoch 11/100\n",
            "16/16 [==============================] - 1s 58ms/step - loss: 0.6878 - accuracy: 0.5750 - val_loss: 0.6859 - val_accuracy: 0.5556\n",
            "Epoch 12/100\n",
            "16/16 [==============================] - 1s 70ms/step - loss: 0.7001 - accuracy: 0.4737 - val_loss: 0.6872 - val_accuracy: 0.5556\n",
            "Epoch 13/100\n",
            "16/16 [==============================] - 1s 79ms/step - loss: 0.6968 - accuracy: 0.4875 - val_loss: 0.6865 - val_accuracy: 0.5556\n",
            "Epoch 14/100\n",
            "16/16 [==============================] - 1s 76ms/step - loss: 0.6908 - accuracy: 0.5375 - val_loss: 0.6899 - val_accuracy: 0.5556\n",
            "Epoch 15/100\n",
            "16/16 [==============================] - 1s 61ms/step - loss: 0.6954 - accuracy: 0.5132 - val_loss: 0.6874 - val_accuracy: 0.5556\n",
            "Epoch 16/100\n",
            "16/16 [==============================] - 1s 60ms/step - loss: 0.6932 - accuracy: 0.5125 - val_loss: 0.6885 - val_accuracy: 0.5667\n",
            "Epoch 17/100\n",
            "16/16 [==============================] - 1s 58ms/step - loss: 0.6955 - accuracy: 0.4342 - val_loss: 0.6914 - val_accuracy: 0.5667\n",
            "Epoch 18/100\n",
            "16/16 [==============================] - 1s 60ms/step - loss: 0.6924 - accuracy: 0.5625 - val_loss: 0.6910 - val_accuracy: 0.5444\n",
            "Epoch 19/100\n",
            "16/16 [==============================] - 1s 60ms/step - loss: 0.6968 - accuracy: 0.3625 - val_loss: 0.6921 - val_accuracy: 0.5667\n",
            "Epoch 20/100\n",
            "16/16 [==============================] - 1s 57ms/step - loss: 0.6927 - accuracy: 0.5000 - val_loss: 0.6909 - val_accuracy: 0.5556\n",
            "Epoch 21/100\n",
            "16/16 [==============================] - 1s 59ms/step - loss: 0.6929 - accuracy: 0.5250 - val_loss: 0.6911 - val_accuracy: 0.5556\n",
            "Epoch 22/100\n",
            "16/16 [==============================] - 1s 55ms/step - loss: 0.6972 - accuracy: 0.4474 - val_loss: 0.6899 - val_accuracy: 0.5556\n",
            "Epoch 23/100\n",
            "16/16 [==============================] - 1s 58ms/step - loss: 0.6955 - accuracy: 0.4625 - val_loss: 0.6924 - val_accuracy: 0.5667\n",
            "Epoch 24/100\n",
            "16/16 [==============================] - 1s 69ms/step - loss: 0.6918 - accuracy: 0.5625 - val_loss: 0.6918 - val_accuracy: 0.5889\n",
            "Epoch 25/100\n",
            "16/16 [==============================] - 1s 77ms/step - loss: 0.6921 - accuracy: 0.5125 - val_loss: 0.6910 - val_accuracy: 0.5444\n",
            "Epoch 26/100\n",
            "16/16 [==============================] - 1s 83ms/step - loss: 0.6919 - accuracy: 0.5125 - val_loss: 0.6910 - val_accuracy: 0.5444\n",
            "Epoch 27/100\n",
            "16/16 [==============================] - 1s 58ms/step - loss: 0.6864 - accuracy: 0.5625 - val_loss: 0.6838 - val_accuracy: 0.5667\n",
            "Epoch 28/100\n",
            "16/16 [==============================] - 1s 60ms/step - loss: 0.6948 - accuracy: 0.4875 - val_loss: 0.6864 - val_accuracy: 0.5778\n",
            "Epoch 29/100\n",
            "16/16 [==============================] - 1s 58ms/step - loss: 0.6992 - accuracy: 0.4000 - val_loss: 0.6903 - val_accuracy: 0.6222\n",
            "Epoch 30/100\n",
            "16/16 [==============================] - 1s 69ms/step - loss: 0.6919 - accuracy: 0.5263 - val_loss: 0.6896 - val_accuracy: 0.5889\n",
            "Epoch 31/100\n",
            "16/16 [==============================] - 1s 55ms/step - loss: 0.6925 - accuracy: 0.5132 - val_loss: 0.6893 - val_accuracy: 0.5222\n",
            "Epoch 32/100\n",
            "16/16 [==============================] - 1s 58ms/step - loss: 0.6937 - accuracy: 0.5125 - val_loss: 0.6946 - val_accuracy: 0.4444\n",
            "Epoch 33/100\n",
            "16/16 [==============================] - 1s 57ms/step - loss: 0.6926 - accuracy: 0.5250 - val_loss: 0.6920 - val_accuracy: 0.5222\n",
            "Epoch 34/100\n",
            "16/16 [==============================] - 1s 58ms/step - loss: 0.6903 - accuracy: 0.6000 - val_loss: 0.6909 - val_accuracy: 0.6444\n",
            "Epoch 35/100\n",
            "16/16 [==============================] - 1s 69ms/step - loss: 0.6888 - accuracy: 0.5658 - val_loss: 0.6871 - val_accuracy: 0.6111\n",
            "Epoch 36/100\n",
            "16/16 [==============================] - 1s 85ms/step - loss: 0.6866 - accuracy: 0.6250 - val_loss: 0.6898 - val_accuracy: 0.5333\n",
            "Epoch 37/100\n",
            "16/16 [==============================] - 1s 58ms/step - loss: 0.6841 - accuracy: 0.6625 - val_loss: 0.6887 - val_accuracy: 0.5333\n",
            "Epoch 38/100\n",
            "16/16 [==============================] - 1s 55ms/step - loss: 0.6813 - accuracy: 0.6447 - val_loss: 0.6754 - val_accuracy: 0.6889\n",
            "Epoch 39/100\n",
            "16/16 [==============================] - 1s 58ms/step - loss: 0.6843 - accuracy: 0.5658 - val_loss: 0.6722 - val_accuracy: 0.7111\n",
            "Epoch 40/100\n",
            "16/16 [==============================] - 1s 59ms/step - loss: 0.6812 - accuracy: 0.5658 - val_loss: 0.6658 - val_accuracy: 0.7889\n",
            "Epoch 41/100\n",
            "16/16 [==============================] - 1s 59ms/step - loss: 0.6605 - accuracy: 0.7000 - val_loss: 0.6580 - val_accuracy: 0.7444\n",
            "Epoch 42/100\n",
            "16/16 [==============================] - 1s 57ms/step - loss: 0.6656 - accuracy: 0.6875 - val_loss: 0.6337 - val_accuracy: 0.8000\n",
            "Epoch 43/100\n",
            "16/16 [==============================] - 1s 57ms/step - loss: 0.6353 - accuracy: 0.6875 - val_loss: 0.6340 - val_accuracy: 0.7000\n",
            "Epoch 44/100\n",
            "16/16 [==============================] - 1s 57ms/step - loss: 0.6658 - accuracy: 0.6184 - val_loss: 0.5936 - val_accuracy: 0.7778\n",
            "Epoch 45/100\n",
            "16/16 [==============================] - 1s 68ms/step - loss: 0.6436 - accuracy: 0.6184 - val_loss: 0.5973 - val_accuracy: 0.6778\n",
            "Epoch 46/100\n",
            "16/16 [==============================] - 1s 83ms/step - loss: 0.6193 - accuracy: 0.6500 - val_loss: 0.5552 - val_accuracy: 0.7778\n",
            "Epoch 47/100\n",
            "16/16 [==============================] - 1s 58ms/step - loss: 0.6001 - accuracy: 0.7250 - val_loss: 0.5536 - val_accuracy: 0.7667\n",
            "Epoch 48/100\n",
            "16/16 [==============================] - 1s 56ms/step - loss: 0.5599 - accuracy: 0.7105 - val_loss: 0.5455 - val_accuracy: 0.7333\n",
            "Epoch 49/100\n",
            "16/16 [==============================] - 1s 58ms/step - loss: 0.5853 - accuracy: 0.6875 - val_loss: 0.5429 - val_accuracy: 0.7556\n",
            "Epoch 50/100\n",
            "16/16 [==============================] - 1s 57ms/step - loss: 0.5704 - accuracy: 0.7250 - val_loss: 0.5214 - val_accuracy: 0.7778\n",
            "Epoch 51/100\n",
            "16/16 [==============================] - 1s 58ms/step - loss: 0.5244 - accuracy: 0.7750 - val_loss: 0.4999 - val_accuracy: 0.8111\n",
            "Epoch 52/100\n",
            "16/16 [==============================] - 1s 59ms/step - loss: 0.4894 - accuracy: 0.7875 - val_loss: 0.4135 - val_accuracy: 0.8556\n",
            "Epoch 53/100\n",
            "16/16 [==============================] - 1s 56ms/step - loss: 0.5757 - accuracy: 0.6974 - val_loss: 0.4841 - val_accuracy: 0.8111\n",
            "Epoch 54/100\n",
            "16/16 [==============================] - 1s 56ms/step - loss: 0.5640 - accuracy: 0.6974 - val_loss: 0.4437 - val_accuracy: 0.8222\n",
            "Epoch 55/100\n",
            "16/16 [==============================] - 1s 59ms/step - loss: 0.4443 - accuracy: 0.8000 - val_loss: 0.5137 - val_accuracy: 0.7667\n",
            "Epoch 56/100\n",
            "16/16 [==============================] - 1s 76ms/step - loss: 0.5091 - accuracy: 0.7763 - val_loss: 0.4508 - val_accuracy: 0.8000\n",
            "Epoch 57/100\n",
            "16/16 [==============================] - 1s 80ms/step - loss: 0.4784 - accuracy: 0.7500 - val_loss: 0.4280 - val_accuracy: 0.8000\n",
            "Epoch 58/100\n",
            "16/16 [==============================] - 1s 71ms/step - loss: 0.5579 - accuracy: 0.7237 - val_loss: 0.5149 - val_accuracy: 0.7778\n",
            "Epoch 59/100\n",
            "16/16 [==============================] - 1s 58ms/step - loss: 0.5903 - accuracy: 0.7000 - val_loss: 0.4809 - val_accuracy: 0.7889\n",
            "Epoch 60/100\n",
            "16/16 [==============================] - 1s 56ms/step - loss: 0.5208 - accuracy: 0.7375 - val_loss: 0.4424 - val_accuracy: 0.7889\n",
            "Epoch 61/100\n",
            "16/16 [==============================] - 1s 57ms/step - loss: 0.4905 - accuracy: 0.7500 - val_loss: 0.4956 - val_accuracy: 0.6889\n",
            "Epoch 62/100\n",
            "16/16 [==============================] - 1s 57ms/step - loss: 0.5299 - accuracy: 0.7125 - val_loss: 0.4658 - val_accuracy: 0.8000\n",
            "Epoch 63/100\n",
            "16/16 [==============================] - 1s 57ms/step - loss: 0.4750 - accuracy: 0.7375 - val_loss: 0.4041 - val_accuracy: 0.8333\n",
            "Epoch 64/100\n",
            "16/16 [==============================] - 1s 59ms/step - loss: 0.4948 - accuracy: 0.8026 - val_loss: 0.5327 - val_accuracy: 0.7778\n",
            "Epoch 65/100\n",
            "16/16 [==============================] - 1s 91ms/step - loss: 0.5113 - accuracy: 0.7625 - val_loss: 0.4774 - val_accuracy: 0.7667\n",
            "Epoch 66/100\n",
            "16/16 [==============================] - 1s 59ms/step - loss: 0.4557 - accuracy: 0.7895 - val_loss: 0.4134 - val_accuracy: 0.8222\n",
            "Epoch 67/100\n",
            "16/16 [==============================] - 1s 84ms/step - loss: 0.4861 - accuracy: 0.7375 - val_loss: 0.4540 - val_accuracy: 0.7778\n",
            "Epoch 68/100\n",
            "16/16 [==============================] - 1s 61ms/step - loss: 0.5242 - accuracy: 0.7625 - val_loss: 0.3785 - val_accuracy: 0.8556\n",
            "Epoch 69/100\n",
            "16/16 [==============================] - 1s 58ms/step - loss: 0.5783 - accuracy: 0.7500 - val_loss: 0.4667 - val_accuracy: 0.8000\n",
            "Epoch 70/100\n",
            "16/16 [==============================] - 1s 59ms/step - loss: 0.4636 - accuracy: 0.8250 - val_loss: 0.3815 - val_accuracy: 0.8333\n",
            "Epoch 71/100\n",
            "16/16 [==============================] - 1s 59ms/step - loss: 0.4239 - accuracy: 0.7750 - val_loss: 0.4206 - val_accuracy: 0.8333\n",
            "Epoch 72/100\n",
            "16/16 [==============================] - 1s 59ms/step - loss: 0.4122 - accuracy: 0.8500 - val_loss: 0.4076 - val_accuracy: 0.8222\n",
            "Epoch 73/100\n",
            "16/16 [==============================] - 1s 59ms/step - loss: 0.4506 - accuracy: 0.7750 - val_loss: 0.4010 - val_accuracy: 0.8333\n",
            "Epoch 74/100\n",
            "16/16 [==============================] - 1s 62ms/step - loss: 0.4770 - accuracy: 0.7750 - val_loss: 0.4361 - val_accuracy: 0.8222\n",
            "Epoch 75/100\n",
            "16/16 [==============================] - 1s 57ms/step - loss: 0.5095 - accuracy: 0.7875 - val_loss: 0.4336 - val_accuracy: 0.8000\n",
            "Epoch 76/100\n",
            "16/16 [==============================] - 1s 67ms/step - loss: 0.5603 - accuracy: 0.7368 - val_loss: 0.4520 - val_accuracy: 0.7778\n",
            "Epoch 77/100\n",
            "16/16 [==============================] - 1s 76ms/step - loss: 0.4875 - accuracy: 0.7750 - val_loss: 0.4630 - val_accuracy: 0.8222\n",
            "Epoch 78/100\n",
            "16/16 [==============================] - 1s 75ms/step - loss: 0.4999 - accuracy: 0.7875 - val_loss: 0.3698 - val_accuracy: 0.8778\n",
            "Epoch 79/100\n",
            "16/16 [==============================] - 1s 58ms/step - loss: 0.4981 - accuracy: 0.8421 - val_loss: 0.3897 - val_accuracy: 0.8333\n",
            "Epoch 80/100\n",
            "16/16 [==============================] - 1s 59ms/step - loss: 0.5227 - accuracy: 0.7750 - val_loss: 0.3835 - val_accuracy: 0.8556\n",
            "Epoch 81/100\n",
            "16/16 [==============================] - 1s 60ms/step - loss: 0.5025 - accuracy: 0.7750 - val_loss: 0.4369 - val_accuracy: 0.8556\n",
            "Epoch 82/100\n",
            "16/16 [==============================] - 1s 59ms/step - loss: 0.5276 - accuracy: 0.7875 - val_loss: 0.3955 - val_accuracy: 0.8556\n",
            "Epoch 83/100\n",
            "16/16 [==============================] - 1s 59ms/step - loss: 0.4776 - accuracy: 0.7875 - val_loss: 0.4076 - val_accuracy: 0.8444\n",
            "Epoch 84/100\n",
            "16/16 [==============================] - 1s 58ms/step - loss: 0.4756 - accuracy: 0.8000 - val_loss: 0.3599 - val_accuracy: 0.8667\n",
            "Epoch 85/100\n",
            "16/16 [==============================] - 1s 56ms/step - loss: 0.4963 - accuracy: 0.7632 - val_loss: 0.4169 - val_accuracy: 0.7778\n",
            "Epoch 86/100\n",
            "16/16 [==============================] - 1s 72ms/step - loss: 0.5261 - accuracy: 0.7250 - val_loss: 0.4369 - val_accuracy: 0.8000\n",
            "Epoch 87/100\n",
            "16/16 [==============================] - 1s 57ms/step - loss: 0.4292 - accuracy: 0.8289 - val_loss: 0.4582 - val_accuracy: 0.8000\n",
            "Epoch 88/100\n",
            "16/16 [==============================] - 1s 81ms/step - loss: 0.4316 - accuracy: 0.7625 - val_loss: 0.3859 - val_accuracy: 0.8444\n",
            "Epoch 89/100\n",
            "16/16 [==============================] - 1s 80ms/step - loss: 0.4252 - accuracy: 0.8289 - val_loss: 0.3708 - val_accuracy: 0.8556\n",
            "Epoch 90/100\n",
            "16/16 [==============================] - 1s 58ms/step - loss: 0.4233 - accuracy: 0.8000 - val_loss: 0.3758 - val_accuracy: 0.8333\n",
            "Epoch 91/100\n",
            "16/16 [==============================] - 1s 57ms/step - loss: 0.3870 - accuracy: 0.8684 - val_loss: 0.4090 - val_accuracy: 0.8556\n",
            "Epoch 92/100\n",
            "16/16 [==============================] - 1s 60ms/step - loss: 0.4673 - accuracy: 0.8026 - val_loss: 0.4232 - val_accuracy: 0.8222\n",
            "Epoch 93/100\n",
            "16/16 [==============================] - 1s 58ms/step - loss: 0.4166 - accuracy: 0.8125 - val_loss: 0.3517 - val_accuracy: 0.9000\n",
            "Epoch 94/100\n",
            "16/16 [==============================] - 1s 57ms/step - loss: 0.4979 - accuracy: 0.7763 - val_loss: 0.3855 - val_accuracy: 0.8333\n",
            "Epoch 95/100\n",
            "16/16 [==============================] - 1s 58ms/step - loss: 0.5333 - accuracy: 0.7625 - val_loss: 0.3058 - val_accuracy: 0.9111\n",
            "Epoch 96/100\n",
            "16/16 [==============================] - 1s 57ms/step - loss: 0.4513 - accuracy: 0.8125 - val_loss: 0.3785 - val_accuracy: 0.8444\n",
            "Epoch 97/100\n",
            "16/16 [==============================] - 1s 59ms/step - loss: 0.3811 - accuracy: 0.8750 - val_loss: 0.3915 - val_accuracy: 0.8444\n",
            "Epoch 98/100\n",
            "16/16 [==============================] - 1s 60ms/step - loss: 0.4895 - accuracy: 0.7750 - val_loss: 0.3660 - val_accuracy: 0.8444\n",
            "Epoch 99/100\n",
            "16/16 [==============================] - 1s 84ms/step - loss: 0.4036 - accuracy: 0.8125 - val_loss: 0.3714 - val_accuracy: 0.8333\n",
            "Epoch 100/100\n",
            "16/16 [==============================] - 1s 84ms/step - loss: 0.3983 - accuracy: 0.8500 - val_loss: 0.3688 - val_accuracy: 0.8333\n"
          ]
        }
      ],
      "source": [
        "model.compile(loss=\"binary_crossentropy\", \n",
        "              optimizer=tf.keras.optimizers.RMSprop(learning_rate=1e-3), \n",
        "              metrics=[\"accuracy\"])\n",
        "\n",
        "history=model.fit(train_dataset, \n",
        "                  steps_per_epoch=16, \n",
        "                  epochs=100, \n",
        "                  validation_data=val_dataset)"
      ]
    },
    {
      "cell_type": "code",
      "execution_count": 21,
      "metadata": {
        "id": "1zENh4DQzNMb"
      },
      "outputs": [],
      "source": [
        "model.save(\"/content/drive/MyDrive/model_128.h5\")"
      ]
    },
    {
      "cell_type": "code",
      "execution_count": null,
      "metadata": {
        "id": "uNewr2cLj5oq"
      },
      "outputs": [],
      "source": [
        "file=\"/content/images.jpg\"\n",
        "image=cv2.imread(file)\n",
        "image=cv2.resize(image,(224,224))\n",
        "image=np.expand_dims(image,0)\n",
        "prediction=int(model.predict(image))\n",
        "\n",
        "if prediction == 0:\n",
        "  print('Cracked')\n",
        "\n",
        "elif prediction==1:\n",
        "  print('Not Cracked')"
      ]
    },
    {
      "cell_type": "code",
      "execution_count": null,
      "metadata": {
        "id": "g3W2AkEL8rNA"
      },
      "outputs": [],
      "source": [
        "# https://www.youtube.com/watch?v=uqomO_BZ44g"
      ]
    },
    {
      "cell_type": "code",
      "execution_count": 22,
      "metadata": {
        "id": "Rj6t3crLl_Y0"
      },
      "outputs": [],
      "source": [
        "import os\n",
        "def get_file_size(file_path):\n",
        "  size=os.path.getsize(file_path)\n",
        "  return size"
      ]
    },
    {
      "cell_type": "code",
      "execution_count": 23,
      "metadata": {
        "id": "1UooUmLcl_Y1"
      },
      "outputs": [],
      "source": [
        "def convert_bytes(size,unit=None):\n",
        "  if unit==\"KB\":\n",
        "    return print(\"File size: \"+str(round(size/1024,3))+\" Kilobytes\")\n",
        "  elif unit==\"MB\":\n",
        "    return print(\"File size: \"+str(round(size/(1024*1024),3))+\" Megabytes\")\n",
        "  else:\n",
        "    return print(\"File size: \"+str(size)+\"bytes\")"
      ]
    },
    {
      "cell_type": "code",
      "execution_count": 26,
      "metadata": {
        "id": "kx_laCKhzi3l"
      },
      "outputs": [],
      "source": [
        "model=\"/content/drive/MyDrive/model_128.h5\""
      ]
    },
    {
      "cell_type": "code",
      "execution_count": 27,
      "metadata": {
        "id": "m52QuAlPl_Y3",
        "colab": {
          "base_uri": "https://localhost:8080/"
        },
        "outputId": "65a989b9-e1e3-4c5a-c3b2-bb4e0c998edf"
      },
      "outputs": [
        {
          "output_type": "stream",
          "name": "stdout",
          "text": [
            "File size: 0.07 Megabytes\n"
          ]
        }
      ],
      "source": [
        "# Model Size Before Model Quantization\n",
        "convert_bytes(get_file_size(model),\"MB\")"
      ]
    },
    {
      "cell_type": "code",
      "execution_count": null,
      "metadata": {
        "id": "BCvfDqxtmtD0"
      },
      "outputs": [],
      "source": [
        "import tensorflow as tf\n",
        "model=tf.keras.models.load_model(model)\n",
        "converter = tf.lite.TFLiteConverter.from_keras_model(model)\n",
        "converter.optimizations=[tf.lite.Optimize.DEFAULT]\n",
        "converter.experimental_new_converter = True\n",
        "tflite_model_name=\"model.tflite\"\n",
        "tflite_model = converter.convert()\n",
        "open(tflite_model_name,\"wb\").write(tflite_model)"
      ]
    },
    {
      "cell_type": "code",
      "execution_count": 29,
      "metadata": {
        "colab": {
          "base_uri": "https://localhost:8080/"
        },
        "id": "4sEBDJwxmtD0",
        "outputId": "0674f8a5-e290-4fb8-94c5-3f3dc7858f40"
      },
      "outputs": [
        {
          "output_type": "stream",
          "name": "stdout",
          "text": [
            "File size: 10.031 Kilobytes\n"
          ]
        }
      ],
      "source": [
        "# Model Size After Model Quantization\n",
        "tflite_model=\"/content/model.tflite\"\n",
        "convert_bytes(get_file_size(tflite_model),\"KB\")"
      ]
    },
    {
      "cell_type": "code",
      "execution_count": null,
      "metadata": {
        "id": "Heuw-BSUTS1H"
      },
      "outputs": [],
      "source": [
        "# ()Dataset \n",
        "# ()Inferencing Code on Arduino\n",
        "# ()SD Card model transfer\n",
        "# ()Library Creation and function deletion"
      ]
    },
    {
      "cell_type": "code",
      "source": [
        "import binascii\n",
        "def convert_to_c_array(bytes) -> str:\n",
        "  hexstr = binascii.hexlify(bytes).decode(\"UTF-8\")\n",
        "  hexstr = hexstr.upper()\n",
        "  array = [\"0x\" + hexstr[i:i + 2] for i in range(0, len(hexstr), 2)]\n",
        "  array = [array[i:i+10] for i in range(0, len(array), 10)]\n",
        "  return \",\\n  \".join([\", \".join(e) for e in array])"
      ],
      "metadata": {
        "id": "5l2VaKpWxfvE"
      },
      "execution_count": 30,
      "outputs": []
    },
    {
      "cell_type": "code",
      "source": [
        "tflite_binary = open('model.tflite', 'rb').read()\n",
        "ascii_bytes = convert_to_c_array(tflite_binary)\n",
        "header_file = \"const unsigned char model_tflite[] = {\\n  \" + ascii_bytes + \"\\n};\\nunsigned int model_tflite_len = \" + str(len(tflite_binary)) + \";\"\n",
        "open(\"model_128.h\", \"w\").write(header_file)\n",
        "convert_bytes(get_file_size('/content/model_128.h'),\"KB\")"
      ],
      "metadata": {
        "id": "BbA3OIQbxk-F",
        "colab": {
          "base_uri": "https://localhost:8080/"
        },
        "outputId": "f5293893-2287-4422-a516-79b51c8080a4"
      },
      "execution_count": 31,
      "outputs": [
        {
          "output_type": "stream",
          "name": "stdout",
          "text": [
            "File size: 62.272 Kilobytes\n"
          ]
        }
      ]
    },
    {
      "cell_type": "code",
      "source": [
        "# train_data=train_dataset[0]\n",
        "# X_train=train_data[0]\n",
        "# y_train=train_data[1]\n",
        "\n",
        "# test_data=val_dataset[0]\n",
        "# X_test=test_data[0]\n",
        "# y_test=test_data[1]\n",
        "\n",
        "# print(X_train.shape,X_test.shape,y_train.shape,y_test.shape)\n",
        "# # print(y_test)"
      ],
      "metadata": {
        "colab": {
          "base_uri": "https://localhost:8080/"
        },
        "id": "xPCDgWWCGppa",
        "outputId": "b0dc7260-bc6e-4360-a439-0715dff82ed0"
      },
      "execution_count": null,
      "outputs": [
        {
          "output_type": "stream",
          "name": "stdout",
          "text": [
            "(301, 130, 130, 1) (90, 130, 130, 1) (301,) (90,)\n"
          ]
        }
      ]
    }
  ],
  "metadata": {
    "accelerator": "GPU",
    "colab": {
      "provenance": [],
      "authorship_tag": "ABX9TyOaTx9/OQAqEYVRVCO1zP3S",
      "include_colab_link": true
    },
    "gpuClass": "standard",
    "kernelspec": {
      "display_name": "Python 3",
      "name": "python3"
    },
    "language_info": {
      "name": "python"
    }
  },
  "nbformat": 4,
  "nbformat_minor": 0
}