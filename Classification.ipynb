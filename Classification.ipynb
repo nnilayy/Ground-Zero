{
  "cells": [
    {
      "cell_type": "markdown",
      "metadata": {
        "id": "view-in-github",
        "colab_type": "text"
      },
      "source": [
        "<a href=\"https://colab.research.google.com/github/nnilayy/Unet/blob/main/Classification.ipynb\" target=\"_parent\"><img src=\"https://colab.research.google.com/assets/colab-badge.svg\" alt=\"Open In Colab\"/></a>"
      ]
    },
    {
      "cell_type": "code",
      "execution_count": null,
      "metadata": {
        "id": "Faz4TOq7w8aW"
      },
      "outputs": [],
      "source": [
        "from tensorflow.keras.preprocessing.image import ImageDataGenerator\n",
        "import matplotlib.pyplot as plt \n",
        "import tensorflow as tf \n",
        "import numpy as np\n",
        "import cv2 \n",
        "import os "
      ]
    },
    {
      "cell_type": "code",
      "execution_count": null,
      "metadata": {
        "id": "J8-H0S62QVHQ",
        "colab": {
          "base_uri": "https://localhost:8080/"
        },
        "outputId": "741afa26-2d6d-49ad-c6c1-4c0ff3aa1598"
      },
      "outputs": [
        {
          "output_type": "stream",
          "name": "stdout",
          "text": [
            "Mounted at /content/drive\n"
          ]
        }
      ],
      "source": [
        "from google.colab import drive\n",
        "drive.mount('/content/drive')"
      ]
    },
    {
      "cell_type": "markdown",
      "source": [
        "## Model Size\n"
      ],
      "metadata": {
        "id": "wmPkfImMe6pd"
      }
    },
    {
      "cell_type": "code",
      "source": [
        "IMAGE_SIZE=128"
      ],
      "metadata": {
        "id": "I5QOkbbRe89U"
      },
      "execution_count": null,
      "outputs": []
    },
    {
      "cell_type": "code",
      "execution_count": null,
      "metadata": {
        "id": "ZOy4Qb1rQvsK"
      },
      "outputs": [],
      "source": [
        "!mkdir \"/content/drive/MyDrive/dataset\""
      ]
    },
    {
      "cell_type": "code",
      "execution_count": null,
      "metadata": {
        "id": "5AORMhrHhkc7"
      },
      "outputs": [],
      "source": [
        "!unzip -q /content/drive/MyDrive/dataset.zip -d /content/drive/MyDrive/"
      ]
    },
    {
      "cell_type": "code",
      "execution_count": null,
      "metadata": {
        "id": "8isyhdy9wNzg"
      },
      "outputs": [],
      "source": [
        "train=ImageDataGenerator(\n",
        "                        # rescale=1/255,\n",
        "                         rotation_range=90,\n",
        "                         brightness_range=(0,1.5),\n",
        "                         zoom_range=0.2,\n",
        "                        #  shear_range=0.2,\n",
        "                         horizontal_flip=True,\n",
        "                         vertical_flip=True,\n",
        "                         fill_mode=\"nearest\",\n",
        "                         )\n",
        "valid=ImageDataGenerator(\n",
        "    # rescale=1/255,\n",
        "                              rotation_range=90,\n",
        "                              brightness_range=(0,1.5),\n",
        "                              zoom_range=0.2,\n",
        "                              # shear_range=0.2,\n",
        "                              horizontal_flip=True,\n",
        "                              vertical_flip=True,\n",
        "                              fill_mode=\"nearest\",)"
      ]
    },
    {
      "cell_type": "code",
      "execution_count": null,
      "metadata": {
        "id": "_5KWdWhyx8PH",
        "colab": {
          "base_uri": "https://localhost:8080/"
        },
        "outputId": "e56acda8-9f30-4d0c-f703-011d0c07a96b"
      },
      "outputs": [
        {
          "output_type": "stream",
          "name": "stdout",
          "text": [
            "Found 301 images belonging to 2 classes.\n",
            "Found 90 images belonging to 2 classes.\n"
          ]
        }
      ],
      "source": [
        "train_dataset=train.flow_from_directory('/content/drive/MyDrive/dataset_3/train',\n",
        "                                        target_size=(IMAGE_SIZE,IMAGE_SIZE),\n",
        "                                        batch_size=5,\n",
        "                                        class_mode='categorical',\n",
        "                                        color_mode='grayscale',\n",
        "                                        )\n",
        "val_dataset=valid.flow_from_directory('/content/drive/MyDrive/dataset_3/validation',\n",
        "                                        target_size=(IMAGE_SIZE,IMAGE_SIZE),\n",
        "                                        batch_size=5,\n",
        "                                        class_mode='categorical',\n",
        "                                        color_mode='grayscale'\n",
        "                                        )"
      ]
    },
    {
      "cell_type": "code",
      "source": [
        "val_dataset.class_indices"
      ],
      "metadata": {
        "colab": {
          "base_uri": "https://localhost:8080/"
        },
        "id": "6Ey9gH3etupz",
        "outputId": "1dffb018-af74-4345-c667-bda3822d9165"
      },
      "execution_count": null,
      "outputs": [
        {
          "output_type": "execute_result",
          "data": {
            "text/plain": [
              "{'Cracked': 0, 'Not Cracked': 1}"
            ]
          },
          "metadata": {},
          "execution_count": 95
        }
      ]
    },
    {
      "cell_type": "code",
      "execution_count": null,
      "metadata": {
        "id": "uOzuv6LKiGkI"
      },
      "outputs": [],
      "source": [
        "from tensorflow.keras.models import Sequential\n",
        "from tensorflow.keras.layers import Dense, Conv2D, MaxPooling2D, AveragePooling2D, Flatten, Dropout, BatchNormalization, InputLayer, Reshape\n",
        "\n",
        "model = Sequential()\n",
        "model.add(InputLayer((IMAGE_SIZE, IMAGE_SIZE, 1)))\n",
        "model.add(Conv2D(16, 3, padding='same', activation=\"relu\"))\n",
        "model.add(Conv2D(16, 3, padding='same', activation=\"relu\"))\n",
        "model.add(AveragePooling2D(2, padding='same'))\n",
        "model.add(Conv2D(8, 3, padding='same', activation=\"relu\"))\n",
        "model.add(Conv2D(8, 3, padding='same', activation=\"relu\"))\n",
        "model.add(AveragePooling2D(2, padding='same'))\n",
        "model.add(Conv2D(8, 3, padding='same', activation=\"relu\"))\n",
        "model.add(Conv2D(8, 3, padding='same', activation=\"relu\"))\n",
        "model.add(AveragePooling2D(2, padding='same'))\n",
        "model.add(Flatten())\n",
        "model.add(Dense(2, activation=\"softmax\"))\n",
        "model.summary()\n",
        "\n",
        "\n",
        "# ---------------------------------------------------------------------------------------------------\n",
        "# ---------------------------------------------------------------------------------------------------\n",
        "# (1)Params: 32,000\n",
        "# (2)Train_Accuracy: 85.45\n",
        "# (3)Val_Accuracy: 84.44\n",
        "# model = Sequential()\n",
        "# model.add(InputLayer(input_shape=(224, 224,3)))\n",
        "# model.add(Conv2D(16, 3, padding='same', activation=\"relu\"))\n",
        "# model.add(MaxPooling2D(2, padding='same'))\n",
        "# model.add(Conv2D(16, 3, padding='same', activation=\"relu\"))\n",
        "# model.add(MaxPooling2D(2, padding='same'))\n",
        "# model.add(Conv2D(16, 3, padding='same', activation=\"relu\"))\n",
        "# model.add(MaxPooling2D(2, padding='same'))\n",
        "# model.add(MaxPooling2D(2, padding='same'))\n",
        "# model.add(MaxPooling2D(2, padding='same'))\n",
        "# model.add(Flatten())\n",
        "# model.add(Dense(32, activation=\"relu\"))\n",
        "# model.add(Dense(1, activation=\"sigmoid\"))"
      ]
    },
    {
      "cell_type": "code",
      "execution_count": null,
      "metadata": {
        "id": "PYcT2fHW77gx",
        "colab": {
          "base_uri": "https://localhost:8080/"
        },
        "outputId": "fcee26f1-9bd7-4dff-c1aa-ee9109e493b7"
      },
      "outputs": [
        {
          "output_type": "stream",
          "name": "stdout",
          "text": [
            "Epoch 1/100\n",
            "32/32 [==============================] - 5s 53ms/step - loss: 0.9410 - accuracy: 0.4688 - val_loss: 0.7060 - val_accuracy: 0.4667\n",
            "Epoch 2/100\n",
            "32/32 [==============================] - 1s 40ms/step - loss: 0.6921 - accuracy: 0.5500 - val_loss: 0.6930 - val_accuracy: 0.4889\n",
            "Epoch 3/100\n",
            "32/32 [==============================] - 1s 38ms/step - loss: 0.6910 - accuracy: 0.5385 - val_loss: 0.6881 - val_accuracy: 0.5333\n",
            "Epoch 4/100\n",
            "32/32 [==============================] - 1s 38ms/step - loss: 0.6917 - accuracy: 0.5449 - val_loss: 0.6946 - val_accuracy: 0.5111\n",
            "Epoch 5/100\n",
            "32/32 [==============================] - 1s 39ms/step - loss: 0.6926 - accuracy: 0.5750 - val_loss: 0.6803 - val_accuracy: 0.6556\n",
            "Epoch 6/100\n",
            "32/32 [==============================] - 1s 39ms/step - loss: 0.6864 - accuracy: 0.5188 - val_loss: 0.6672 - val_accuracy: 0.6778\n",
            "Epoch 7/100\n",
            "32/32 [==============================] - 1s 39ms/step - loss: 0.6769 - accuracy: 0.6250 - val_loss: 0.6725 - val_accuracy: 0.6444\n",
            "Epoch 8/100\n",
            "32/32 [==============================] - 1s 40ms/step - loss: 0.6771 - accuracy: 0.6000 - val_loss: 0.6732 - val_accuracy: 0.6444\n",
            "Epoch 9/100\n",
            "32/32 [==============================] - 2s 54ms/step - loss: 0.6556 - accuracy: 0.7372 - val_loss: 0.6439 - val_accuracy: 0.6556\n",
            "Epoch 10/100\n",
            "32/32 [==============================] - 1s 43ms/step - loss: 0.6435 - accuracy: 0.6313 - val_loss: 0.6117 - val_accuracy: 0.7111\n",
            "Epoch 11/100\n",
            "32/32 [==============================] - 1s 39ms/step - loss: 0.6419 - accuracy: 0.6603 - val_loss: 0.6064 - val_accuracy: 0.7222\n",
            "Epoch 12/100\n",
            "32/32 [==============================] - 1s 39ms/step - loss: 0.6350 - accuracy: 0.6859 - val_loss: 0.5962 - val_accuracy: 0.8111\n",
            "Epoch 13/100\n",
            "32/32 [==============================] - 1s 39ms/step - loss: 0.6111 - accuracy: 0.7564 - val_loss: 0.5518 - val_accuracy: 0.7889\n",
            "Epoch 14/100\n",
            "32/32 [==============================] - 1s 37ms/step - loss: 0.5478 - accuracy: 0.8077 - val_loss: 0.5447 - val_accuracy: 0.7444\n",
            "Epoch 15/100\n",
            "32/32 [==============================] - 1s 39ms/step - loss: 0.5308 - accuracy: 0.7875 - val_loss: 0.4839 - val_accuracy: 0.8667\n",
            "Epoch 16/100\n",
            "32/32 [==============================] - 1s 39ms/step - loss: 0.6686 - accuracy: 0.7063 - val_loss: 0.5963 - val_accuracy: 0.8000\n",
            "Epoch 17/100\n",
            "32/32 [==============================] - 1s 38ms/step - loss: 0.6211 - accuracy: 0.6812 - val_loss: 0.5604 - val_accuracy: 0.8000\n",
            "Epoch 18/100\n",
            "32/32 [==============================] - 2s 57ms/step - loss: 0.5626 - accuracy: 0.6938 - val_loss: 0.5503 - val_accuracy: 0.8111\n",
            "Epoch 19/100\n",
            "32/32 [==============================] - 2s 58ms/step - loss: 0.5642 - accuracy: 0.7750 - val_loss: 0.4245 - val_accuracy: 0.8778\n",
            "Epoch 20/100\n",
            "32/32 [==============================] - 1s 40ms/step - loss: 0.5109 - accuracy: 0.7875 - val_loss: 0.4505 - val_accuracy: 0.8889\n",
            "Epoch 21/100\n",
            "32/32 [==============================] - 1s 38ms/step - loss: 0.4973 - accuracy: 0.7756 - val_loss: 0.4336 - val_accuracy: 0.8667\n",
            "Epoch 22/100\n",
            "32/32 [==============================] - 1s 39ms/step - loss: 0.5128 - accuracy: 0.8125 - val_loss: 0.4076 - val_accuracy: 0.8667\n",
            "Epoch 23/100\n",
            "32/32 [==============================] - 1s 39ms/step - loss: 0.5142 - accuracy: 0.8188 - val_loss: 0.3902 - val_accuracy: 0.9000\n",
            "Epoch 24/100\n",
            "32/32 [==============================] - 1s 39ms/step - loss: 0.4091 - accuracy: 0.8462 - val_loss: 0.4310 - val_accuracy: 0.8667\n",
            "Epoch 25/100\n",
            "32/32 [==============================] - 1s 39ms/step - loss: 0.5430 - accuracy: 0.7937 - val_loss: 0.3957 - val_accuracy: 0.9000\n",
            "Epoch 26/100\n",
            "32/32 [==============================] - 2s 50ms/step - loss: 0.5075 - accuracy: 0.7875 - val_loss: 0.4452 - val_accuracy: 0.8444\n",
            "Epoch 27/100\n",
            "32/32 [==============================] - 1s 45ms/step - loss: 0.4541 - accuracy: 0.8375 - val_loss: 0.3897 - val_accuracy: 0.9000\n",
            "Epoch 28/100\n",
            "32/32 [==============================] - 1s 39ms/step - loss: 0.4864 - accuracy: 0.8062 - val_loss: 0.3711 - val_accuracy: 0.8889\n",
            "Epoch 29/100\n",
            "32/32 [==============================] - 1s 39ms/step - loss: 0.4178 - accuracy: 0.8625 - val_loss: 0.3933 - val_accuracy: 0.9000\n",
            "Epoch 30/100\n",
            "32/32 [==============================] - 1s 38ms/step - loss: 0.5165 - accuracy: 0.7628 - val_loss: 0.3698 - val_accuracy: 0.8889\n",
            "Epoch 31/100\n",
            "32/32 [==============================] - 1s 38ms/step - loss: 0.4555 - accuracy: 0.8526 - val_loss: 0.3799 - val_accuracy: 0.8889\n",
            "Epoch 32/100\n",
            "32/32 [==============================] - 1s 39ms/step - loss: 0.4245 - accuracy: 0.8562 - val_loss: 0.3374 - val_accuracy: 0.8889\n",
            "Epoch 33/100\n",
            "32/32 [==============================] - 1s 39ms/step - loss: 0.3343 - accuracy: 0.8910 - val_loss: 0.3875 - val_accuracy: 0.9000\n",
            "Epoch 34/100\n",
            "32/32 [==============================] - 1s 38ms/step - loss: 0.4424 - accuracy: 0.8397 - val_loss: 0.3242 - val_accuracy: 0.9000\n",
            "Epoch 35/100\n",
            "32/32 [==============================] - 2s 47ms/step - loss: 0.3919 - accuracy: 0.8910 - val_loss: 0.3302 - val_accuracy: 0.9000\n",
            "Epoch 36/100\n",
            "32/32 [==============================] - 2s 57ms/step - loss: 0.3652 - accuracy: 0.8782 - val_loss: 0.3280 - val_accuracy: 0.9111\n",
            "Epoch 37/100\n",
            "32/32 [==============================] - 1s 45ms/step - loss: 0.3722 - accuracy: 0.8625 - val_loss: 0.2919 - val_accuracy: 0.9222\n",
            "Epoch 38/100\n",
            "32/32 [==============================] - 1s 39ms/step - loss: 0.3902 - accuracy: 0.8625 - val_loss: 0.3512 - val_accuracy: 0.9000\n",
            "Epoch 39/100\n",
            "32/32 [==============================] - 1s 38ms/step - loss: 0.3789 - accuracy: 0.8562 - val_loss: 0.3501 - val_accuracy: 0.8778\n",
            "Epoch 40/100\n",
            "32/32 [==============================] - 1s 38ms/step - loss: 0.3974 - accuracy: 0.8526 - val_loss: 0.3033 - val_accuracy: 0.9111\n",
            "Epoch 41/100\n",
            "32/32 [==============================] - 1s 38ms/step - loss: 0.4224 - accuracy: 0.8718 - val_loss: 0.3045 - val_accuracy: 0.9111\n",
            "Epoch 42/100\n",
            "32/32 [==============================] - 1s 38ms/step - loss: 0.4303 - accuracy: 0.8397 - val_loss: 0.3314 - val_accuracy: 0.9222\n",
            "Epoch 43/100\n",
            "32/32 [==============================] - 1s 38ms/step - loss: 0.3755 - accuracy: 0.8846 - val_loss: 0.3391 - val_accuracy: 0.8444\n",
            "Epoch 44/100\n",
            "32/32 [==============================] - 1s 44ms/step - loss: 0.3251 - accuracy: 0.8782 - val_loss: 0.3888 - val_accuracy: 0.8778\n",
            "Epoch 45/100\n",
            "32/32 [==============================] - 2s 55ms/step - loss: 0.3135 - accuracy: 0.8846 - val_loss: 0.3497 - val_accuracy: 0.8889\n",
            "Epoch 46/100\n",
            "32/32 [==============================] - 1s 38ms/step - loss: 0.3379 - accuracy: 0.8625 - val_loss: 0.2977 - val_accuracy: 0.8889\n",
            "Epoch 47/100\n",
            "32/32 [==============================] - 1s 38ms/step - loss: 0.3222 - accuracy: 0.8846 - val_loss: 0.3258 - val_accuracy: 0.8667\n",
            "Epoch 48/100\n",
            "32/32 [==============================] - 1s 38ms/step - loss: 0.2855 - accuracy: 0.8910 - val_loss: 0.2719 - val_accuracy: 0.9111\n",
            "Epoch 49/100\n",
            "32/32 [==============================] - 1s 38ms/step - loss: 0.4146 - accuracy: 0.8750 - val_loss: 0.2539 - val_accuracy: 0.9556\n",
            "Epoch 50/100\n",
            "32/32 [==============================] - 1s 38ms/step - loss: 0.2601 - accuracy: 0.9250 - val_loss: 0.2385 - val_accuracy: 0.9222\n",
            "Epoch 51/100\n",
            "32/32 [==============================] - 1s 39ms/step - loss: 0.3576 - accuracy: 0.8687 - val_loss: 0.3237 - val_accuracy: 0.8667\n",
            "Epoch 52/100\n",
            "32/32 [==============================] - 1s 40ms/step - loss: 0.3468 - accuracy: 0.9062 - val_loss: 0.2092 - val_accuracy: 0.9444\n",
            "Epoch 53/100\n",
            "32/32 [==============================] - 3s 79ms/step - loss: 0.4158 - accuracy: 0.9038 - val_loss: 0.2577 - val_accuracy: 0.9000\n",
            "Epoch 54/100\n",
            "32/32 [==============================] - 1s 39ms/step - loss: 0.3591 - accuracy: 0.8750 - val_loss: 0.3056 - val_accuracy: 0.9222\n",
            "Epoch 55/100\n",
            "32/32 [==============================] - 1s 39ms/step - loss: 0.2950 - accuracy: 0.9125 - val_loss: 0.2307 - val_accuracy: 0.9111\n",
            "Epoch 56/100\n",
            "32/32 [==============================] - 1s 38ms/step - loss: 0.3657 - accuracy: 0.9038 - val_loss: 0.2614 - val_accuracy: 0.9222\n",
            "Epoch 57/100\n",
            "32/32 [==============================] - 1s 39ms/step - loss: 0.2590 - accuracy: 0.9125 - val_loss: 0.2595 - val_accuracy: 0.9111\n",
            "Epoch 58/100\n",
            "32/32 [==============================] - 1s 40ms/step - loss: 0.2805 - accuracy: 0.9125 - val_loss: 0.2029 - val_accuracy: 0.9556\n",
            "Epoch 59/100\n",
            "32/32 [==============================] - 1s 38ms/step - loss: 0.2670 - accuracy: 0.9231 - val_loss: 0.3922 - val_accuracy: 0.8444\n",
            "Epoch 60/100\n",
            "32/32 [==============================] - 1s 47ms/step - loss: 0.2914 - accuracy: 0.9167 - val_loss: 0.2310 - val_accuracy: 0.9111\n",
            "Epoch 61/100\n",
            "32/32 [==============================] - 2s 55ms/step - loss: 0.2344 - accuracy: 0.9125 - val_loss: 0.1948 - val_accuracy: 0.9111\n",
            "Epoch 62/100\n",
            "32/32 [==============================] - 1s 38ms/step - loss: 0.3146 - accuracy: 0.9167 - val_loss: 0.2810 - val_accuracy: 0.8778\n",
            "Epoch 63/100\n",
            "32/32 [==============================] - 1s 38ms/step - loss: 0.3370 - accuracy: 0.9167 - val_loss: 0.2904 - val_accuracy: 0.9111\n",
            "Epoch 64/100\n",
            "32/32 [==============================] - 1s 39ms/step - loss: 0.3169 - accuracy: 0.8846 - val_loss: 0.2300 - val_accuracy: 0.9000\n",
            "Epoch 65/100\n",
            "32/32 [==============================] - 1s 38ms/step - loss: 0.2768 - accuracy: 0.8846 - val_loss: 0.3495 - val_accuracy: 0.8556\n",
            "Epoch 66/100\n",
            "32/32 [==============================] - 1s 39ms/step - loss: 0.2679 - accuracy: 0.9231 - val_loss: 0.4267 - val_accuracy: 0.7778\n",
            "Epoch 67/100\n",
            "32/32 [==============================] - 1s 39ms/step - loss: 0.3083 - accuracy: 0.9167 - val_loss: 0.3828 - val_accuracy: 0.8222\n",
            "Epoch 68/100\n",
            "32/32 [==============================] - 1s 40ms/step - loss: 0.2807 - accuracy: 0.9000 - val_loss: 0.1644 - val_accuracy: 0.9444\n",
            "Epoch 69/100\n",
            "32/32 [==============================] - 2s 57ms/step - loss: 0.3721 - accuracy: 0.8813 - val_loss: 0.3079 - val_accuracy: 0.8778\n",
            "Epoch 70/100\n",
            "32/32 [==============================] - 2s 52ms/step - loss: 0.3472 - accuracy: 0.8625 - val_loss: 0.2112 - val_accuracy: 0.9444\n",
            "Epoch 71/100\n",
            "32/32 [==============================] - 1s 39ms/step - loss: 0.3515 - accuracy: 0.8875 - val_loss: 0.2060 - val_accuracy: 0.9556\n",
            "Epoch 72/100\n",
            "32/32 [==============================] - 1s 38ms/step - loss: 0.3457 - accuracy: 0.8718 - val_loss: 0.2120 - val_accuracy: 0.9333\n",
            "Epoch 73/100\n",
            "32/32 [==============================] - 1s 39ms/step - loss: 0.2497 - accuracy: 0.9187 - val_loss: 0.2467 - val_accuracy: 0.9000\n",
            "Epoch 74/100\n",
            "32/32 [==============================] - 1s 39ms/step - loss: 0.2394 - accuracy: 0.9375 - val_loss: 0.1737 - val_accuracy: 0.9222\n",
            "Epoch 75/100\n",
            "32/32 [==============================] - 1s 39ms/step - loss: 0.3102 - accuracy: 0.9000 - val_loss: 0.2488 - val_accuracy: 0.9222\n",
            "Epoch 76/100\n",
            "32/32 [==============================] - 1s 39ms/step - loss: 0.2906 - accuracy: 0.9167 - val_loss: 0.2525 - val_accuracy: 0.8889\n",
            "Epoch 77/100\n",
            "32/32 [==============================] - 1s 40ms/step - loss: 0.3055 - accuracy: 0.9062 - val_loss: 0.2799 - val_accuracy: 0.9000\n",
            "Epoch 78/100\n",
            "32/32 [==============================] - 1s 47ms/step - loss: 0.3233 - accuracy: 0.8625 - val_loss: 0.2441 - val_accuracy: 0.9333\n",
            "Epoch 79/100\n",
            "32/32 [==============================] - 2s 54ms/step - loss: 0.3356 - accuracy: 0.8875 - val_loss: 0.1966 - val_accuracy: 0.9222\n",
            "Epoch 80/100\n",
            "32/32 [==============================] - 1s 39ms/step - loss: 0.3247 - accuracy: 0.8813 - val_loss: 0.2170 - val_accuracy: 0.9222\n",
            "Epoch 81/100\n",
            "32/32 [==============================] - 1s 39ms/step - loss: 0.3183 - accuracy: 0.8782 - val_loss: 0.2300 - val_accuracy: 0.9222\n",
            "Epoch 82/100\n",
            "32/32 [==============================] - 1s 39ms/step - loss: 0.3485 - accuracy: 0.8910 - val_loss: 0.2562 - val_accuracy: 0.9111\n",
            "Epoch 83/100\n",
            "32/32 [==============================] - 1s 40ms/step - loss: 0.2244 - accuracy: 0.8974 - val_loss: 0.3761 - val_accuracy: 0.8333\n",
            "Epoch 84/100\n",
            "32/32 [==============================] - 2s 56ms/step - loss: 0.2768 - accuracy: 0.8875 - val_loss: 0.2696 - val_accuracy: 0.9000\n",
            "Epoch 85/100\n",
            "32/32 [==============================] - 1s 41ms/step - loss: 0.3243 - accuracy: 0.9000 - val_loss: 0.3679 - val_accuracy: 0.8333\n",
            "Epoch 86/100\n",
            "32/32 [==============================] - 2s 49ms/step - loss: 0.5140 - accuracy: 0.8333 - val_loss: 0.2838 - val_accuracy: 0.9111\n",
            "Epoch 87/100\n",
            "32/32 [==============================] - 1s 40ms/step - loss: 0.2603 - accuracy: 0.9187 - val_loss: 0.3829 - val_accuracy: 0.8444\n",
            "Epoch 88/100\n",
            "32/32 [==============================] - 1s 38ms/step - loss: 0.3727 - accuracy: 0.8910 - val_loss: 0.2118 - val_accuracy: 0.8889\n",
            "Epoch 89/100\n",
            "32/32 [==============================] - 1s 40ms/step - loss: 0.3026 - accuracy: 0.9125 - val_loss: 0.2416 - val_accuracy: 0.9222\n",
            "Epoch 90/100\n",
            "32/32 [==============================] - 1s 38ms/step - loss: 0.2169 - accuracy: 0.9038 - val_loss: 0.1915 - val_accuracy: 0.9333\n",
            "Epoch 91/100\n",
            "32/32 [==============================] - 1s 45ms/step - loss: 0.2945 - accuracy: 0.8846 - val_loss: 0.2124 - val_accuracy: 0.9444\n",
            "Epoch 92/100\n",
            "32/32 [==============================] - 1s 39ms/step - loss: 0.2782 - accuracy: 0.9038 - val_loss: 0.1966 - val_accuracy: 0.9333\n",
            "Epoch 93/100\n",
            "32/32 [==============================] - 1s 39ms/step - loss: 0.2745 - accuracy: 0.8974 - val_loss: 0.2033 - val_accuracy: 0.9111\n",
            "Epoch 94/100\n",
            "32/32 [==============================] - 2s 48ms/step - loss: 0.3012 - accuracy: 0.9103 - val_loss: 0.2304 - val_accuracy: 0.9000\n",
            "Epoch 95/100\n",
            "32/32 [==============================] - 2s 56ms/step - loss: 0.2972 - accuracy: 0.9295 - val_loss: 0.2029 - val_accuracy: 0.9333\n",
            "Epoch 96/100\n",
            "32/32 [==============================] - 2s 48ms/step - loss: 0.2272 - accuracy: 0.9563 - val_loss: 0.2373 - val_accuracy: 0.9111\n",
            "Epoch 97/100\n",
            "32/32 [==============================] - 1s 40ms/step - loss: 0.3192 - accuracy: 0.8910 - val_loss: 0.2178 - val_accuracy: 0.8889\n",
            "Epoch 98/100\n",
            "32/32 [==============================] - 1s 38ms/step - loss: 0.2372 - accuracy: 0.9231 - val_loss: 0.3045 - val_accuracy: 0.8667\n",
            "Epoch 99/100\n",
            "32/32 [==============================] - 1s 38ms/step - loss: 0.1960 - accuracy: 0.9423 - val_loss: 0.2257 - val_accuracy: 0.9111\n",
            "Epoch 100/100\n",
            "32/32 [==============================] - 1s 38ms/step - loss: 0.2927 - accuracy: 0.8718 - val_loss: 0.2480 - val_accuracy: 0.8889\n"
          ]
        }
      ],
      "source": [
        "model.compile(loss=\"binary_crossentropy\", \n",
        "              optimizer=tf.keras.optimizers.Adamax(learning_rate=1e-3), \n",
        "              metrics=[\"accuracy\"])\n",
        "\n",
        "history=model.fit(train_dataset, \n",
        "                  steps_per_epoch=32, \n",
        "                  epochs=100, \n",
        "                  validation_data=val_dataset)"
      ]
    },
    {
      "cell_type": "code",
      "execution_count": null,
      "metadata": {
        "id": "1zENh4DQzNMb"
      },
      "outputs": [],
      "source": [
        "model.save(\"/content/model_128.h5\")"
      ]
    },
    {
      "cell_type": "code",
      "execution_count": 152,
      "metadata": {
        "id": "uNewr2cLj5oq",
        "colab": {
          "base_uri": "https://localhost:8080/"
        },
        "outputId": "0443d269-ac06-4e9a-8d90-408e827102e7"
      },
      "outputs": [
        {
          "output_type": "stream",
          "name": "stdout",
          "text": [
            "1/1 [==============================] - 0s 84ms/step\n",
            "Cracked\n"
          ]
        }
      ],
      "source": [
        "import cv2\n",
        "file=\"/content/drive/MyDrive/dataset_3/train/Cracked/100.jpg\"\n",
        "image=cv2.imread(file, cv2.IMREAD_GRAYSCALE)\n",
        "image=cv2.resize(image,(128,128))\n",
        "image=np.expand_dims(image,0)\n",
        "prediction=np.argmax(model.predict(image))\n",
        "\n",
        "if prediction == 0:\n",
        "  print('Cracked')\n",
        "\n",
        "elif prediction==1:\n",
        "  print('Not Cracked')"
      ]
    },
    {
      "cell_type": "code",
      "execution_count": null,
      "metadata": {
        "id": "Rj6t3crLl_Y0"
      },
      "outputs": [],
      "source": [
        "import os\n",
        "def get_file_size(file_path):\n",
        "  size=os.path.getsize(file_path)\n",
        "  return size\n",
        "def convert_bytes(size,unit=None):\n",
        "  if unit==\"KB\":\n",
        "    return print(\"File size: \"+str(round(size/1024,3))+\" Kilobytes\")\n",
        "  elif unit==\"MB\":\n",
        "    return print(\"File size: \"+str(round(size/(1024*1024),3))+\" Megabytes\")\n",
        "  else:\n",
        "    return print(\"File size: \"+str(size)+\"bytes\")"
      ]
    },
    {
      "cell_type": "code",
      "execution_count": null,
      "metadata": {
        "id": "m52QuAlPl_Y3",
        "colab": {
          "base_uri": "https://localhost:8080/"
        },
        "outputId": "ce253935-ad0d-4b81-fa91-2b08d6a12a03"
      },
      "outputs": [
        {
          "output_type": "stream",
          "name": "stdout",
          "text": [
            "File size: 0.061 Megabytes\n"
          ]
        }
      ],
      "source": [
        "# Model Size Before Model Quantization\n",
        "model=\"/content/model_128.h5\"\n",
        "convert_bytes(get_file_size(model),\"MB\")"
      ]
    },
    {
      "cell_type": "code",
      "source": [
        "import glob\n",
        "import cv2\n",
        "import numpy as array \n",
        "files=glob.glob('/content/drive/MyDrive/dataset_3/train/Cracked/*')\n",
        "images=[]\n",
        "for file in files:\n",
        "  image=cv2.imread(file, cv2.IMREAD_GRAYSCALE)\n",
        "  image=cv2.resize(image,(256,256))\n",
        "  image=image/255\n",
        "  image=np.array(image,dtype=np.float32)\n",
        "  images.append(image)"
      ],
      "metadata": {
        "id": "1yX0NVa1Mt5_"
      },
      "execution_count": null,
      "outputs": []
    },
    {
      "cell_type": "code",
      "source": [
        "images=np.array(images)\n",
        "# images=np.squeeze(images,-1)\n",
        "images.shape"
      ],
      "metadata": {
        "id": "uqNtH6TzNJ_Z"
      },
      "execution_count": null,
      "outputs": []
    },
    {
      "cell_type": "code",
      "source": [
        "def dataset_generator():\n",
        "   for i in range(100):\n",
        "      input_image = tf.cast(images[i], tf.float32)\n",
        "      input_image = tf.reshape(input_image, [1,256,256,1])\n",
        "      yield ([input_image])"
      ],
      "metadata": {
        "id": "OfpCeOl2N8T8"
      },
      "execution_count": null,
      "outputs": []
    },
    {
      "cell_type": "code",
      "execution_count": null,
      "metadata": {
        "id": "BCvfDqxtmtD0"
      },
      "outputs": [],
      "source": [
        "import tensorflow as tf\n",
        "model=\"/content/model_128.h5\"\n",
        "model=tf.keras.models.load_model(model)\n",
        "converter = tf.lite.TFLiteConverter.from_keras_model(model)\n",
        "converter.optimizations=[tf.lite.Optimize.DEFAULT]\n",
        "converter.target_spec.supported_ops = [tf.lite.OpsSet.TFLITE_BUILTINS_INT8]\n",
        "converter.representative_dataset=dataset_generator\n",
        "tflite_model_name=\"model.tflite\"\n",
        "tflite_model = converter.convert()\n",
        "open(tflite_model_name,\"wb\").write(tflite_model)"
      ]
    },
    {
      "cell_type": "code",
      "execution_count": null,
      "metadata": {
        "id": "4sEBDJwxmtD0"
      },
      "outputs": [],
      "source": [
        "# Model Size After Model Quantization\n",
        "tflite_model=\"/content/model.tflite\"\n",
        "convert_bytes(get_file_size(tflite_model),\"KB\")"
      ]
    },
    {
      "cell_type": "code",
      "source": [
        "import binascii\n",
        "def convert_to_c_array(bytes) -> str:\n",
        "  hexstr = binascii.hexlify(bytes).decode(\"UTF-8\")\n",
        "  hexstr = hexstr.upper()\n",
        "  array = [\"0x\" + hexstr[i:i + 2] for i in range(0, len(hexstr), 2)]\n",
        "  array = [array[i:i+10] for i in range(0, len(array), 10)]\n",
        "  return \",\\n  \".join([\", \".join(e) for e in array])\n",
        "\n",
        "tflite_binary = open('model.tflite', 'rb').read()\n",
        "ascii_bytes = convert_to_c_array(tflite_binary)\n",
        "header_file = \"const unsigned char model_tflite[] = {\\n  \" + ascii_bytes + \"\\n};\\nunsigned int model_tflite_len = \" + str(len(tflite_binary)) + \";\"\n",
        "open(\"model_128.h\", \"w\").write(header_file)\n",
        "convert_bytes(get_file_size('/content/model_128.h'),\"KB\")"
      ],
      "metadata": {
        "id": "5l2VaKpWxfvE",
        "colab": {
          "base_uri": "https://localhost:8080/"
        },
        "outputId": "8f2c79f8-75d3-4a41-9759-cba3449ff913"
      },
      "execution_count": null,
      "outputs": [
        {
          "output_type": "stream",
          "name": "stdout",
          "text": [
            "File size: 55.537 Kilobytes\n"
          ]
        }
      ]
    },
    {
      "cell_type": "code",
      "source": [
        "# train_data=train_dataset[0]\n",
        "# X_train=train_data[0]\n",
        "# y_train=train_data[1]\n",
        "\n",
        "# test_data=val_dataset[0]\n",
        "# X_test=test_data[0]\n",
        "# y_test=test_data[1]\n",
        "\n",
        "# print(X_train.shape,X_test.shape,y_train.shape,y_test.shape)\n",
        "# # print(y_test)"
      ],
      "metadata": {
        "id": "xPCDgWWCGppa"
      },
      "execution_count": null,
      "outputs": []
    },
    {
      "cell_type": "code",
      "source": [
        "for layer in model.layers:\n",
        "  print(layer.get_config()['name'])"
      ],
      "metadata": {
        "id": "PeWBgQDNBTzS"
      },
      "execution_count": null,
      "outputs": []
    },
    {
      "cell_type": "code",
      "execution_count": null,
      "metadata": {
        "id": "1muAoUm8lSXL"
      },
      "outputs": [],
      "source": [
        "# Convert the model to the TensorFlow Lite format without quantization\n",
        "converter = tf.lite.TFLiteConverter.from_saved_model(MODEL_TF)\n",
        "model_no_quant_tflite = converter.convert()\n",
        "\n",
        "# Save the model to disk\n",
        "open(MODEL_NO_QUANT_TFLITE, \"wb\").write(model_no_quant_tflite)\n",
        "\n",
        "# Convert the model to the TensorFlow Lite format with quantization\n",
        "def representative_dataset():\n",
        "  for i in range(500):\n",
        "    yield([x_train[i].reshape(1, 1)])\n",
        "# Set the optimization flag.\n",
        "converter.optimizations = [tf.lite.Optimize.DEFAULT]\n",
        "# Enforce integer only quantization\n",
        "converter.target_spec.supported_ops = [tf.lite.OpsSet.TFLITE_BUILTINS_INT8]\n",
        "# Provide a representative dataset to ensure we quantize correctly.\n",
        "converter.representative_dataset = representative_dataset\n",
        "model_tflite = converter.convert()\n",
        "\n",
        "# Save the model to disk\n",
        "open(MODEL_TFLITE, \"wb\").write(model_tflite)"
      ]
    }
  ],
  "metadata": {
    "accelerator": "GPU",
    "colab": {
      "provenance": [],
      "authorship_tag": "ABX9TyNIrHIGVKX1JJWVSVY7wdDo",
      "include_colab_link": true
    },
    "gpuClass": "standard",
    "kernelspec": {
      "display_name": "Python 3",
      "name": "python3"
    },
    "language_info": {
      "name": "python"
    }
  },
  "nbformat": 4,
  "nbformat_minor": 0
}