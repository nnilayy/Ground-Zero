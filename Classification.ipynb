{
  "cells": [
    {
      "cell_type": "markdown",
      "metadata": {
        "id": "view-in-github",
        "colab_type": "text"
      },
      "source": [
        "<a href=\"https://colab.research.google.com/github/nnilayy/Unet/blob/main/Classification.ipynb\" target=\"_parent\"><img src=\"https://colab.research.google.com/assets/colab-badge.svg\" alt=\"Open In Colab\"/></a>"
      ]
    },
    {
      "cell_type": "code",
      "execution_count": 23,
      "metadata": {
        "id": "Faz4TOq7w8aW"
      },
      "outputs": [],
      "source": [
        "from tensorflow.keras.preprocessing.image import ImageDataGenerator\n",
        "import matplotlib.pyplot as plt \n",
        "import tensorflow as tf \n",
        "import numpy as np\n",
        "import cv2 \n",
        "import os "
      ]
    },
    {
      "cell_type": "code",
      "execution_count": null,
      "metadata": {
        "id": "J8-H0S62QVHQ"
      },
      "outputs": [],
      "source": [
        "from google.colab import drive\n",
        "drive.mount('/content/drive')"
      ]
    },
    {
      "cell_type": "code",
      "execution_count": null,
      "metadata": {
        "id": "ZOy4Qb1rQvsK"
      },
      "outputs": [],
      "source": [
        "!mkdir \"/content/drive/MyDrive/dataset\""
      ]
    },
    {
      "cell_type": "code",
      "execution_count": null,
      "metadata": {
        "id": "5AORMhrHhkc7"
      },
      "outputs": [],
      "source": [
        "!unzip -q /content/drive/MyDrive/dataset.zip -d /content/drive/MyDrive/"
      ]
    },
    {
      "cell_type": "code",
      "execution_count": 4,
      "metadata": {
        "id": "8isyhdy9wNzg"
      },
      "outputs": [],
      "source": [
        "train=ImageDataGenerator(rescale=1/255,\n",
        "                         rotation_range=40,\n",
        "                         brightness_range=(0,5),\n",
        "                         zoom_range=0.2,\n",
        "                         shear_range=0.2,\n",
        "                         horizontal_flip=True,\n",
        "                         vertical_flip=True,\n",
        "                         fill_mode=\"nearest\",\n",
        "                         )\n",
        "\n",
        "validation=ImageDataGenerator(rescale=1/255,\n",
        "                              rotation_range=40,\n",
        "                              brightness_range=(0,5),\n",
        "                              zoom_range=0.2,\n",
        "                              shear_range=0.2,\n",
        "                              horizontal_flip=True,\n",
        "                              vertical_flip=True,\n",
        "                              fill_mode=\"nearest\",)"
      ]
    },
    {
      "cell_type": "code",
      "execution_count": 6,
      "metadata": {
        "colab": {
          "base_uri": "https://localhost:8080/"
        },
        "id": "_5KWdWhyx8PH",
        "outputId": "dd5a328b-eb47-412c-e90b-bac201fa140d"
      },
      "outputs": [
        {
          "output_type": "stream",
          "name": "stdout",
          "text": [
            "Found 301 images belonging to 2 classes.\n",
            "Found 90 images belonging to 2 classes.\n"
          ]
        }
      ],
      "source": [
        "train_dataset=train.flow_from_directory('/content/drive/MyDrive/dataset/train',\n",
        "                                        target_size=(130,130),\n",
        "                                        batch_size=3,\n",
        "                                        class_mode='binary')\n",
        "val_dataset=validation.flow_from_directory('/content/drive/MyDrive/dataset/validation',\n",
        "                                        target_size=(130,130),\n",
        "                                        batch_size=3,\n",
        "                                        class_mode='binary')"
      ]
    },
    {
      "cell_type": "code",
      "execution_count": null,
      "metadata": {
        "colab": {
          "base_uri": "https://localhost:8080/"
        },
        "id": "Bw0h2e7l7Hej",
        "outputId": "78db01e4-a78a-4050-ec28-4fcbf4dec143"
      },
      "outputs": [
        {
          "output_type": "execute_result",
          "data": {
            "text/plain": [
              "{'Cracked': 0, 'Not Cracked': 1}"
            ]
          },
          "metadata": {},
          "execution_count": 58
        }
      ],
      "source": [
        "train_dataset.class_indices"
      ]
    },
    {
      "cell_type": "code",
      "execution_count": 44,
      "metadata": {
        "id": "uOzuv6LKiGkI",
        "colab": {
          "base_uri": "https://localhost:8080/"
        },
        "outputId": "bf411ccf-c971-4887-a2c7-65b78e51c219"
      },
      "outputs": [
        {
          "output_type": "stream",
          "name": "stdout",
          "text": [
            "Model: \"sequential_6\"\n",
            "_________________________________________________________________\n",
            " Layer (type)                Output Shape              Param #   \n",
            "=================================================================\n",
            " conv2d_30 (Conv2D)          (None, 130, 130, 16)      448       \n",
            "                                                                 \n",
            " max_pooling2d_32 (MaxPoolin  (None, 65, 65, 16)       0         \n",
            " g2D)                                                            \n",
            "                                                                 \n",
            " conv2d_31 (Conv2D)          (None, 65, 65, 16)        2320      \n",
            "                                                                 \n",
            " max_pooling2d_33 (MaxPoolin  (None, 33, 33, 16)       0         \n",
            " g2D)                                                            \n",
            "                                                                 \n",
            " conv2d_32 (Conv2D)          (None, 33, 33, 8)         1160      \n",
            "                                                                 \n",
            " max_pooling2d_34 (MaxPoolin  (None, 17, 17, 8)        0         \n",
            " g2D)                                                            \n",
            "                                                                 \n",
            " conv2d_33 (Conv2D)          (None, 17, 17, 8)         584       \n",
            "                                                                 \n",
            " max_pooling2d_35 (MaxPoolin  (None, 9, 9, 8)          0         \n",
            " g2D)                                                            \n",
            "                                                                 \n",
            " flatten_6 (Flatten)         (None, 648)               0         \n",
            "                                                                 \n",
            " dense_6 (Dense)             (None, 1)                 649       \n",
            "                                                                 \n",
            "=================================================================\n",
            "Total params: 5,161\n",
            "Trainable params: 5,161\n",
            "Non-trainable params: 0\n",
            "_________________________________________________________________\n"
          ]
        }
      ],
      "source": [
        "from tensorflow.keras.models import Sequential\n",
        "from tensorflow.keras.layers import Dense, Conv2D, MaxPooling2D, AveragePooling2D, Flatten, Dropout, BatchNormalization, InputLayer, Reshape\n",
        "\n",
        "model = Sequential()\n",
        "model.add(InputLayer(input_shape=(130, 130, 3)))\n",
        "model.add(Conv2D(16, 3, padding='same', activation=\"relu\"))\n",
        "model.add(MaxPooling2D(2, padding='same'))\n",
        "model.add(Conv2D(16, 3, padding='same', activation=\"relu\"))\n",
        "model.add(MaxPooling2D(2, padding='same'))\n",
        "model.add(Conv2D(8, 3, padding='same', activation=\"relu\"))\n",
        "model.add(MaxPooling2D(2, padding='same'))\n",
        "model.add(Conv2D(8, 3, padding='same', activation=\"relu\"))\n",
        "model.add(MaxPooling2D(2, padding='same'))\n",
        "model.add(Flatten())\n",
        "model.add(Dense(1, activation=\"sigmoid\"))\n",
        "model.summary()\n",
        "\n",
        "\n",
        "\n",
        "\n",
        "\n",
        "\n",
        "# ---------------------------------------------------------------------------------------------------\n",
        "# ---------------------------------------------------------------------------------------------------\n",
        "# (1)Params: 32,000\n",
        "# (2)Train_Accuracy: 85.45\n",
        "# (3)Val_Accuracy: 84.44\n",
        "# model = Sequential()\n",
        "# model.add(InputLayer(input_shape=(224, 224,3)))\n",
        "# model.add(Conv2D(16, 3, padding='same', activation=\"relu\"))\n",
        "# model.add(MaxPooling2D(2, padding='same'))\n",
        "# model.add(Conv2D(16, 3, padding='same', activation=\"relu\"))\n",
        "# model.add(MaxPooling2D(2, padding='same'))\n",
        "# model.add(Conv2D(16, 3, padding='same', activation=\"relu\"))\n",
        "# model.add(MaxPooling2D(2, padding='same'))\n",
        "# model.add(MaxPooling2D(2, padding='same'))\n",
        "# model.add(MaxPooling2D(2, padding='same'))\n",
        "# model.add(Flatten())\n",
        "# model.add(Dense(32, activation=\"relu\"))\n",
        "# model.add(Dense(1, activation=\"sigmoid\"))"
      ]
    },
    {
      "cell_type": "code",
      "execution_count": null,
      "metadata": {
        "id": "PYcT2fHW77gx",
        "colab": {
          "base_uri": "https://localhost:8080/"
        },
        "outputId": "d79d6105-6d83-41d9-dcf4-b9c965429865"
      },
      "outputs": [
        {
          "output_type": "stream",
          "name": "stdout",
          "text": [
            "Epoch 1/100\n",
            "16/16 [==============================] - 3s 80ms/step - loss: 0.6941 - accuracy: 0.5208 - val_loss: 0.6931 - val_accuracy: 0.5222\n",
            "Epoch 2/100\n",
            "16/16 [==============================] - 1s 73ms/step - loss: 0.6505 - accuracy: 0.7292 - val_loss: 0.9004 - val_accuracy: 0.4444\n",
            "Epoch 3/100\n",
            "16/16 [==============================] - 1s 72ms/step - loss: 0.7722 - accuracy: 0.4783 - val_loss: 0.7069 - val_accuracy: 0.5556\n",
            "Epoch 4/100\n",
            "16/16 [==============================] - 1s 72ms/step - loss: 0.7150 - accuracy: 0.3958 - val_loss: 0.6946 - val_accuracy: 0.4444\n",
            "Epoch 5/100\n",
            "16/16 [==============================] - 1s 72ms/step - loss: 0.6872 - accuracy: 0.6458 - val_loss: 0.6802 - val_accuracy: 0.5556\n",
            "Epoch 6/100\n",
            "16/16 [==============================] - 1s 72ms/step - loss: 0.6909 - accuracy: 0.4783 - val_loss: 0.6869 - val_accuracy: 0.6444\n",
            "Epoch 7/100\n",
            "16/16 [==============================] - 1s 77ms/step - loss: 0.6892 - accuracy: 0.6250 - val_loss: 0.7040 - val_accuracy: 0.4667\n",
            "Epoch 8/100\n",
            "16/16 [==============================] - 2s 124ms/step - loss: 0.7066 - accuracy: 0.4583 - val_loss: 0.6928 - val_accuracy: 0.4556\n",
            "Epoch 9/100\n",
            "16/16 [==============================] - 1s 89ms/step - loss: 0.7479 - accuracy: 0.5208 - val_loss: 0.6578 - val_accuracy: 0.5556\n",
            "Epoch 10/100\n",
            "16/16 [==============================] - 1s 73ms/step - loss: 0.6817 - accuracy: 0.4792 - val_loss: 0.6649 - val_accuracy: 0.5556\n",
            "Epoch 11/100\n",
            "16/16 [==============================] - 1s 71ms/step - loss: 0.6672 - accuracy: 0.6458 - val_loss: 0.6599 - val_accuracy: 0.7556\n",
            "Epoch 12/100\n",
            "16/16 [==============================] - 1s 70ms/step - loss: 0.6502 - accuracy: 0.7917 - val_loss: 0.6572 - val_accuracy: 0.7333\n",
            "Epoch 13/100\n",
            "16/16 [==============================] - 1s 71ms/step - loss: 0.7293 - accuracy: 0.5833 - val_loss: 0.6195 - val_accuracy: 0.7222\n",
            "Epoch 14/100\n",
            "16/16 [==============================] - 1s 72ms/step - loss: 0.6433 - accuracy: 0.6458 - val_loss: 0.6331 - val_accuracy: 0.6889\n",
            "Epoch 15/100\n",
            "16/16 [==============================] - 1s 71ms/step - loss: 0.6360 - accuracy: 0.6250 - val_loss: 0.6127 - val_accuracy: 0.7889\n",
            "Epoch 16/100\n",
            "16/16 [==============================] - 2s 112ms/step - loss: 0.6641 - accuracy: 0.6458 - val_loss: 0.6293 - val_accuracy: 0.7444\n",
            "Epoch 17/100\n",
            "16/16 [==============================] - 1s 95ms/step - loss: 0.6390 - accuracy: 0.6957 - val_loss: 0.6208 - val_accuracy: 0.7111\n",
            "Epoch 18/100\n",
            "16/16 [==============================] - 1s 73ms/step - loss: 0.6450 - accuracy: 0.7708 - val_loss: 0.5537 - val_accuracy: 0.6778\n",
            "Epoch 19/100\n",
            "16/16 [==============================] - 1s 71ms/step - loss: 0.5998 - accuracy: 0.7500 - val_loss: 0.5449 - val_accuracy: 0.7111\n",
            "Epoch 20/100\n",
            "16/16 [==============================] - 1s 77ms/step - loss: 0.4997 - accuracy: 0.8125 - val_loss: 0.4545 - val_accuracy: 0.7889\n",
            "Epoch 21/100\n",
            "16/16 [==============================] - 1s 74ms/step - loss: 0.5319 - accuracy: 0.6875 - val_loss: 0.5113 - val_accuracy: 0.7000\n",
            "Epoch 22/100\n",
            "16/16 [==============================] - 1s 77ms/step - loss: 0.6136 - accuracy: 0.6875 - val_loss: 0.5638 - val_accuracy: 0.7000\n",
            "Epoch 23/100\n",
            "16/16 [==============================] - 1s 72ms/step - loss: 0.5352 - accuracy: 0.7917 - val_loss: 0.5921 - val_accuracy: 0.7222\n",
            "Epoch 24/100\n",
            "16/16 [==============================] - 1s 73ms/step - loss: 0.6541 - accuracy: 0.7917 - val_loss: 0.5502 - val_accuracy: 0.7444\n",
            "Epoch 25/100\n",
            "16/16 [==============================] - 1s 75ms/step - loss: 0.4807 - accuracy: 0.7917 - val_loss: 0.5456 - val_accuracy: 0.7556\n",
            "Epoch 26/100\n",
            "16/16 [==============================] - 2s 127ms/step - loss: 0.6345 - accuracy: 0.6667 - val_loss: 0.4741 - val_accuracy: 0.7778\n",
            "Epoch 27/100\n",
            "16/16 [==============================] - 2s 98ms/step - loss: 0.4980 - accuracy: 0.7708 - val_loss: 0.5087 - val_accuracy: 0.8111\n",
            "Epoch 28/100\n",
            "16/16 [==============================] - 1s 72ms/step - loss: 0.5351 - accuracy: 0.7708 - val_loss: 0.4354 - val_accuracy: 0.7778\n",
            "Epoch 29/100\n",
            "16/16 [==============================] - 1s 71ms/step - loss: 0.4994 - accuracy: 0.7292 - val_loss: 0.4847 - val_accuracy: 0.8111\n",
            "Epoch 30/100\n",
            "16/16 [==============================] - 1s 71ms/step - loss: 0.4805 - accuracy: 0.8125 - val_loss: 0.5130 - val_accuracy: 0.7667\n",
            "Epoch 31/100\n",
            "16/16 [==============================] - 1s 71ms/step - loss: 0.4406 - accuracy: 0.8750 - val_loss: 0.4515 - val_accuracy: 0.8000\n",
            "Epoch 32/100\n",
            "16/16 [==============================] - 1s 70ms/step - loss: 0.5193 - accuracy: 0.7083 - val_loss: 0.4226 - val_accuracy: 0.8222\n",
            "Epoch 33/100\n",
            "16/16 [==============================] - 1s 73ms/step - loss: 0.5704 - accuracy: 0.7917 - val_loss: 0.4280 - val_accuracy: 0.8556\n",
            "Epoch 34/100\n",
            "16/16 [==============================] - 1s 75ms/step - loss: 0.4708 - accuracy: 0.8333 - val_loss: 0.4667 - val_accuracy: 0.7556\n",
            "Epoch 35/100\n",
            "16/16 [==============================] - 2s 112ms/step - loss: 0.4510 - accuracy: 0.7917 - val_loss: 0.3962 - val_accuracy: 0.7889\n",
            "Epoch 36/100\n",
            "16/16 [==============================] - 2s 125ms/step - loss: 0.4715 - accuracy: 0.7708 - val_loss: 0.4103 - val_accuracy: 0.8222\n",
            "Epoch 37/100\n",
            "16/16 [==============================] - 1s 81ms/step - loss: 0.5352 - accuracy: 0.7917 - val_loss: 0.3862 - val_accuracy: 0.8778\n",
            "Epoch 38/100\n",
            "16/16 [==============================] - 1s 73ms/step - loss: 0.4308 - accuracy: 0.8542 - val_loss: 0.4207 - val_accuracy: 0.8333\n",
            "Epoch 39/100\n",
            "16/16 [==============================] - 1s 73ms/step - loss: 0.4644 - accuracy: 0.8333 - val_loss: 0.4540 - val_accuracy: 0.7889\n",
            "Epoch 40/100\n",
            "16/16 [==============================] - 1s 77ms/step - loss: 0.3934 - accuracy: 0.8125 - val_loss: 0.5326 - val_accuracy: 0.7111\n",
            "Epoch 41/100\n",
            "16/16 [==============================] - 1s 74ms/step - loss: 0.5580 - accuracy: 0.8125 - val_loss: 0.4343 - val_accuracy: 0.8111\n",
            "Epoch 42/100\n",
            "16/16 [==============================] - 1s 72ms/step - loss: 0.4177 - accuracy: 0.8125 - val_loss: 0.4203 - val_accuracy: 0.8111\n",
            "Epoch 43/100\n",
            "16/16 [==============================] - 1s 70ms/step - loss: 0.5192 - accuracy: 0.7174 - val_loss: 0.4930 - val_accuracy: 0.7444\n",
            "Epoch 44/100\n",
            "16/16 [==============================] - 1s 72ms/step - loss: 0.4800 - accuracy: 0.7917 - val_loss: 0.3871 - val_accuracy: 0.8667\n",
            "Epoch 45/100\n",
            "16/16 [==============================] - 2s 115ms/step - loss: 0.4418 - accuracy: 0.8125 - val_loss: 0.3977 - val_accuracy: 0.8333\n",
            "Epoch 46/100\n",
            "16/16 [==============================] - 2s 125ms/step - loss: 0.4847 - accuracy: 0.8333 - val_loss: 0.4082 - val_accuracy: 0.8444\n",
            "Epoch 47/100\n",
            "16/16 [==============================] - 1s 70ms/step - loss: 0.4220 - accuracy: 0.8043 - val_loss: 0.4006 - val_accuracy: 0.8444\n",
            "Epoch 48/100\n",
            "16/16 [==============================] - 1s 72ms/step - loss: 0.4310 - accuracy: 0.8542 - val_loss: 0.3586 - val_accuracy: 0.8444\n",
            "Epoch 49/100\n",
            "16/16 [==============================] - 1s 74ms/step - loss: 0.5055 - accuracy: 0.7292 - val_loss: 0.4347 - val_accuracy: 0.8111\n",
            "Epoch 50/100\n",
            "16/16 [==============================] - 1s 73ms/step - loss: 0.6225 - accuracy: 0.7708 - val_loss: 0.4086 - val_accuracy: 0.8111\n",
            "Epoch 51/100\n",
            "16/16 [==============================] - 1s 77ms/step - loss: 0.4680 - accuracy: 0.8478 - val_loss: 0.3974 - val_accuracy: 0.8444\n",
            "Epoch 52/100\n",
            "16/16 [==============================] - 1s 73ms/step - loss: 0.3969 - accuracy: 0.7917 - val_loss: 0.3762 - val_accuracy: 0.8111\n",
            "Epoch 53/100\n",
            "16/16 [==============================] - 1s 73ms/step - loss: 0.3651 - accuracy: 0.8913 - val_loss: 0.5244 - val_accuracy: 0.7889\n",
            "Epoch 54/100\n",
            "16/16 [==============================] - 1s 80ms/step - loss: 0.5014 - accuracy: 0.7083 - val_loss: 0.4250 - val_accuracy: 0.8222\n",
            "Epoch 55/100\n",
            "16/16 [==============================] - 1s 90ms/step - loss: 0.4925 - accuracy: 0.7917 - val_loss: 0.3365 - val_accuracy: 0.8778\n",
            "Epoch 56/100\n",
            "16/16 [==============================] - 1s 69ms/step - loss: 0.4916 - accuracy: 0.7826 - val_loss: 0.3351 - val_accuracy: 0.8667\n",
            "Epoch 57/100\n",
            "16/16 [==============================] - 1s 70ms/step - loss: 0.6450 - accuracy: 0.8958 - val_loss: 0.3747 - val_accuracy: 0.8444\n",
            "Epoch 58/100\n",
            "16/16 [==============================] - 1s 72ms/step - loss: 0.5066 - accuracy: 0.8125 - val_loss: 0.3504 - val_accuracy: 0.8667\n",
            "Epoch 59/100\n",
            "16/16 [==============================] - 1s 73ms/step - loss: 0.3933 - accuracy: 0.8750 - val_loss: 0.5495 - val_accuracy: 0.7444\n",
            "Epoch 60/100\n",
            "16/16 [==============================] - 1s 71ms/step - loss: 0.5373 - accuracy: 0.7174 - val_loss: 0.4129 - val_accuracy: 0.8111\n",
            "Epoch 61/100\n",
            "16/16 [==============================] - 1s 72ms/step - loss: 0.3504 - accuracy: 0.8542 - val_loss: 0.3053 - val_accuracy: 0.8778\n",
            "Epoch 62/100\n",
            "16/16 [==============================] - 1s 70ms/step - loss: 0.4730 - accuracy: 0.7609 - val_loss: 0.3637 - val_accuracy: 0.8444\n",
            "Epoch 63/100\n",
            "16/16 [==============================] - 2s 126ms/step - loss: 0.2996 - accuracy: 0.8750 - val_loss: 0.3237 - val_accuracy: 0.8556\n",
            "Epoch 64/100\n",
            "16/16 [==============================] - 1s 82ms/step - loss: 0.5167 - accuracy: 0.7708 - val_loss: 0.3170 - val_accuracy: 0.8889\n",
            "Epoch 65/100\n",
            "16/16 [==============================] - 1s 73ms/step - loss: 0.4630 - accuracy: 0.8542 - val_loss: 0.3981 - val_accuracy: 0.8111\n",
            "Epoch 66/100\n",
            "16/16 [==============================] - 1s 72ms/step - loss: 0.3647 - accuracy: 0.8542 - val_loss: 0.3956 - val_accuracy: 0.8111\n",
            "Epoch 67/100\n",
            "16/16 [==============================] - 1s 70ms/step - loss: 0.3115 - accuracy: 0.8913 - val_loss: 0.3621 - val_accuracy: 0.8556\n",
            "Epoch 68/100\n",
            "16/16 [==============================] - 1s 71ms/step - loss: 0.4276 - accuracy: 0.8125 - val_loss: 0.3982 - val_accuracy: 0.8111\n",
            "Epoch 69/100\n",
            "16/16 [==============================] - 1s 70ms/step - loss: 0.3944 - accuracy: 0.8043 - val_loss: 0.3619 - val_accuracy: 0.8333\n",
            "Epoch 70/100\n",
            "16/16 [==============================] - 1s 69ms/step - loss: 0.3742 - accuracy: 0.8913 - val_loss: 0.3300 - val_accuracy: 0.8444\n",
            "Epoch 71/100\n",
            "16/16 [==============================] - 1s 72ms/step - loss: 0.4955 - accuracy: 0.7500 - val_loss: 0.3438 - val_accuracy: 0.8444\n",
            "Epoch 72/100\n",
            "15/16 [===========================>..] - ETA: 0s - loss: 0.4827 - accuracy: 0.7556"
          ]
        }
      ],
      "source": [
        "model.compile(loss=\"binary_crossentropy\", \n",
        "              optimizer=tf.keras.optimizers.RMSprop(learning_rate=1e-3), \n",
        "              metrics=[\"accuracy\"])\n",
        "history=model.fit(train_dataset, steps_per_epoch=16, epochs=100, validation_data=val_dataset)"
      ]
    },
    {
      "cell_type": "code",
      "execution_count": 31,
      "metadata": {
        "id": "1zENh4DQzNMb"
      },
      "outputs": [],
      "source": [
        "model.save(\"/content/drive/MyDrive/model_130_2.h5\")"
      ]
    },
    {
      "cell_type": "code",
      "execution_count": null,
      "metadata": {
        "id": "uNewr2cLj5oq"
      },
      "outputs": [],
      "source": [
        "file=\"/content/images.jpg\"\n",
        "image=cv2.imread(file)\n",
        "image=cv2.resize(image,(224,224))\n",
        "image=np.expand_dims(image,0)\n",
        "prediction=int(model.predict(image))\n",
        "\n",
        "if prediction == 0:\n",
        "  print('Cracked')\n",
        "\n",
        "elif prediction==1:\n",
        "  print('Not Cracked')"
      ]
    },
    {
      "cell_type": "code",
      "execution_count": null,
      "metadata": {
        "id": "g3W2AkEL8rNA"
      },
      "outputs": [],
      "source": [
        "# https://www.youtube.com/watch?v=uqomO_BZ44g"
      ]
    },
    {
      "cell_type": "code",
      "execution_count": null,
      "metadata": {
        "id": "Rj6t3crLl_Y0"
      },
      "outputs": [],
      "source": [
        "import os\n",
        "def get_file_size(file_path):\n",
        "  size=os.path.getsize(file_path)\n",
        "  return size"
      ]
    },
    {
      "cell_type": "code",
      "execution_count": null,
      "metadata": {
        "id": "1UooUmLcl_Y1"
      },
      "outputs": [],
      "source": [
        "def convert_bytes(size,unit=None):\n",
        "  if unit==\"KB\":\n",
        "    return print(\"File size: \"+str(round(size/1024,3))+\" Kilobytes\")\n",
        "  elif unit==\"MB\":\n",
        "    return print(\"File size: \"+str(round(size/(1024*1024),3))+\" Megabytes\")\n",
        "  else:\n",
        "    return print(\"File size: \"+str(size)+\"bytes\")"
      ]
    },
    {
      "cell_type": "code",
      "execution_count": null,
      "metadata": {
        "id": "kx_laCKhzi3l"
      },
      "outputs": [],
      "source": [
        "model=\"/content/model_500.h5\""
      ]
    },
    {
      "cell_type": "code",
      "execution_count": null,
      "metadata": {
        "id": "m52QuAlPl_Y3",
        "colab": {
          "base_uri": "https://localhost:8080/"
        },
        "outputId": "8062e20b-d866-4bdd-bf1a-9eae30ee6839"
      },
      "outputs": [
        {
          "output_type": "stream",
          "name": "stdout",
          "text": [
            "File size: 0.068 Megabytes\n"
          ]
        }
      ],
      "source": [
        "# Model Size Before Model Quantization\n",
        "convert_bytes(get_file_size(model),\"MB\")"
      ]
    },
    {
      "cell_type": "code",
      "execution_count": null,
      "metadata": {
        "id": "BCvfDqxtmtD0",
        "colab": {
          "base_uri": "https://localhost:8080/"
        },
        "outputId": "0e3cc62c-044d-4700-b075-5a8b2d8e04f0"
      },
      "outputs": [
        {
          "output_type": "stream",
          "name": "stderr",
          "text": [
            "WARNING:absl:Found untraced functions such as _jit_compiled_convolution_op, _jit_compiled_convolution_op, _jit_compiled_convolution_op, _jit_compiled_convolution_op, _jit_compiled_convolution_op while saving (showing 5 of 6). These functions will not be directly callable after loading.\n"
          ]
        },
        {
          "output_type": "execute_result",
          "data": {
            "text/plain": [
              "16000"
            ]
          },
          "metadata": {},
          "execution_count": 76
        }
      ],
      "source": [
        "import tensorflow as tf\n",
        "model=tf.keras.models.load_model(model)\n",
        "converter = tf.lite.TFLiteConverter.from_keras_model(model)\n",
        "converter.optimizations=[tf.lite.Optimize.DEFAULT]\n",
        "converter.experimental_new_converter = True\n",
        "tflite_model_name=\"model.tflite\"\n",
        "tflite_model = converter.convert()\n",
        "open(tflite_model_name,\"wb\").write(tflite_model)"
      ]
    },
    {
      "cell_type": "code",
      "execution_count": null,
      "metadata": {
        "colab": {
          "base_uri": "https://localhost:8080/"
        },
        "id": "4sEBDJwxmtD0",
        "outputId": "1214f257-4d8b-4ea8-f4a6-860117e1a4ef"
      },
      "outputs": [
        {
          "output_type": "stream",
          "name": "stdout",
          "text": [
            "File size: 15.625 Kilobytes\n"
          ]
        }
      ],
      "source": [
        "# Model Size After Model Quantization\n",
        "tflite_model=\"/content/model.tflite\"\n",
        "convert_bytes(get_file_size(tflite_model),\"KB\")"
      ]
    },
    {
      "cell_type": "code",
      "execution_count": null,
      "metadata": {
        "id": "Heuw-BSUTS1H"
      },
      "outputs": [],
      "source": [
        "# ()Dataset \n",
        "# ()Inferencing Code on Arduino\n",
        "# ()SD Card model transfer\n",
        "# ()Library Creation and function deletion"
      ]
    },
    {
      "cell_type": "code",
      "source": [
        "import binascii\n",
        "def convert_to_c_array(bytes) -> str:\n",
        "  hexstr = binascii.hexlify(bytes).decode(\"UTF-8\")\n",
        "  hexstr = hexstr.upper()\n",
        "  array = [\"0x\" + hexstr[i:i + 2] for i in range(0, len(hexstr), 2)]\n",
        "  array = [array[i:i+10] for i in range(0, len(array), 10)]\n",
        "  return \",\\n  \".join([\", \".join(e) for e in array])"
      ],
      "metadata": {
        "id": "5l2VaKpWxfvE"
      },
      "execution_count": null,
      "outputs": []
    },
    {
      "cell_type": "code",
      "source": [
        "tflite_binary = open('model.tflite', 'rb').read()\n",
        "ascii_bytes = convert_to_c_array(tflite_binary)\n",
        "header_file = \"const unsigned char model_tflite[] = {\\n  \" + ascii_bytes + \"\\n};\\nunsigned int model_tflite_len = \" + str(len(tflite_binary)) + \";\"\n",
        "open(\"model3.h\", \"w\").write(header_file)\n",
        "convert_bytes(get_file_size('/content/model3.h'),\"KB\")"
      ],
      "metadata": {
        "id": "BbA3OIQbxk-F"
      },
      "execution_count": null,
      "outputs": []
    }
  ],
  "metadata": {
    "accelerator": "GPU",
    "colab": {
      "provenance": [],
      "authorship_tag": "ABX9TyPL9rDZoYCrM+TeY9yfn9es",
      "include_colab_link": true
    },
    "gpuClass": "standard",
    "kernelspec": {
      "display_name": "Python 3",
      "name": "python3"
    },
    "language_info": {
      "name": "python"
    }
  },
  "nbformat": 4,
  "nbformat_minor": 0
}