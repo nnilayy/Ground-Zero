{
  "nbformat": 4,
  "nbformat_minor": 0,
  "metadata": {
    "colab": {
      "provenance": [],
      "authorship_tag": "ABX9TyOiKjQhySXJ34O2ip8otQh4",
      "include_colab_link": true
    },
    "kernelspec": {
      "name": "python3",
      "display_name": "Python 3"
    },
    "language_info": {
      "name": "python"
    },
    "accelerator": "GPU",
    "gpuClass": "standard"
  },
  "cells": [
    {
      "cell_type": "markdown",
      "metadata": {
        "id": "view-in-github",
        "colab_type": "text"
      },
      "source": [
        "<a href=\"https://colab.research.google.com/github/nnilayy/Unet/blob/main/Classification.ipynb\" target=\"_parent\"><img src=\"https://colab.research.google.com/assets/colab-badge.svg\" alt=\"Open In Colab\"/></a>"
      ]
    },
    {
      "cell_type": "code",
      "source": [
        "from tensorflow.keras.preprocessing.image import ImageDataGenerator\n",
        "import matplotlib.pyplot as plt \n",
        "import tensorflow as tf \n",
        "import numpy as np\n",
        "import cv2 \n",
        "import os "
      ],
      "metadata": {
        "id": "Faz4TOq7w8aW"
      },
      "execution_count": 1,
      "outputs": []
    },
    {
      "cell_type": "code",
      "source": [
        "!unzip -q /content/dataset.zip -d /content/"
      ],
      "metadata": {
        "id": "5AORMhrHhkc7"
      },
      "execution_count": 2,
      "outputs": []
    },
    {
      "cell_type": "code",
      "execution_count": 13,
      "metadata": {
        "id": "8isyhdy9wNzg"
      },
      "outputs": [],
      "source": [
        "train=ImageDataGenerator(rescale=1/255)\n",
        "validation=ImageDataGenerator(rescale=1/255)"
      ]
    },
    {
      "cell_type": "code",
      "source": [
        "train_dataset=train.flow_from_directory('/content/dataset/train',\n",
        "                                        target_size=(224,224),\n",
        "                                        batch_size=3,\n",
        "                                        class_mode='binary')\n",
        "\n",
        "val_dataset=validation.flow_from_directory('/content/dataset/validation',\n",
        "                                        target_size=(224,224),\n",
        "                                        batch_size=3,\n",
        "                                        class_mode='binary')"
      ],
      "metadata": {
        "id": "_5KWdWhyx8PH",
        "colab": {
          "base_uri": "https://localhost:8080/"
        },
        "outputId": "f1442aab-c057-4d85-8bb2-f64aa19a3d41"
      },
      "execution_count": 21,
      "outputs": [
        {
          "output_type": "stream",
          "name": "stdout",
          "text": [
            "Found 60 images belonging to 2 classes.\n",
            "Found 20 images belonging to 2 classes.\n"
          ]
        }
      ]
    },
    {
      "cell_type": "code",
      "source": [
        "train_dataset.class_indices"
      ],
      "metadata": {
        "id": "Bw0h2e7l7Hej",
        "colab": {
          "base_uri": "https://localhost:8080/"
        },
        "outputId": "eb7ceebb-84c1-4687-8410-465d00ecafdb"
      },
      "execution_count": 22,
      "outputs": [
        {
          "output_type": "execute_result",
          "data": {
            "text/plain": [
              "{'basketball': 0, 'football': 1}"
            ]
          },
          "metadata": {},
          "execution_count": 22
        }
      ]
    },
    {
      "cell_type": "code",
      "source": [
        "from tensorflow.keras.models import Sequential\n",
        "from tensorflow.keras.layers import Dense, Conv2D, MaxPooling2D, AveragePooling2D, Flatten, Dropout, BatchNormalization, InputLayer, Reshape\n",
        "model = Sequential()\n",
        "model.add(InputLayer(input_shape=(224, 224,3)))\n",
        "# model.add(Reshape(target_shape=(224, 224, 1)))\n",
        "\n",
        "model.add(Conv2D(16, 3, padding='same', activation=\"relu\"))\n",
        "model.add(MaxPooling2D(2, padding='same'))\n",
        "model.add(Conv2D(16, 3, padding='same', activation=\"relu\"))\n",
        "model.add(MaxPooling2D(2, padding='same'))\n",
        "model.add(Conv2D(16, 3, padding='same', activation=\"relu\"))\n",
        "model.add(MaxPooling2D(2, padding='same'))\n",
        "model.add(MaxPooling2D(2, padding='same'))\n",
        "model.add(MaxPooling2D(2, padding='same'))\n",
        "\n",
        "model.add(Flatten())\n",
        "model.add(Dense(32, activation=\"relu\"))\n",
        "model.add(Dense(1, activation=\"sigmoid\"))"
      ],
      "metadata": {
        "id": "uOzuv6LKiGkI"
      },
      "execution_count": 31,
      "outputs": []
    },
    {
      "cell_type": "code",
      "source": [
        "model.compile(loss=\"binary_crossentropy\", optimizer=\"adam\", metrics=[\"accuracy\"])\n",
        "history=model.fit(train_dataset, steps_per_epoch=5, epochs=50, validation_data=val_dataset)"
      ],
      "metadata": {
        "id": "PYcT2fHW77gx"
      },
      "execution_count": null,
      "outputs": []
    },
    {
      "cell_type": "code",
      "source": [
        "file=\"/content/images.jpg\"\n",
        "image=cv2.imread(file)\n",
        "image=cv2.resize(image,(224,224))\n",
        "image=np.expand_dims(image,0)\n",
        "prediction=int(model.predict(image))\n",
        "\n",
        "if prediction == 0:\n",
        "  print('Its a basketball')\n",
        "elif prediction==1:\n",
        "  print('Its a football')"
      ],
      "metadata": {
        "colab": {
          "base_uri": "https://localhost:8080/"
        },
        "id": "uNewr2cLj5oq",
        "outputId": "a1c3f9f1-04d5-47c4-91e0-05a28f072432"
      },
      "execution_count": 56,
      "outputs": [
        {
          "output_type": "stream",
          "name": "stdout",
          "text": [
            "1/1 [==============================] - 0s 22ms/step\n",
            "Its a football\n"
          ]
        }
      ]
    },
    {
      "cell_type": "code",
      "source": [
        "# https://www.youtube.com/watch?v=uqomO_BZ44g"
      ],
      "metadata": {
        "id": "g3W2AkEL8rNA"
      },
      "execution_count": null,
      "outputs": []
    }
  ]
}