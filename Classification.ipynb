{
  "cells": [
    {
      "cell_type": "markdown",
      "metadata": {
        "id": "view-in-github",
        "colab_type": "text"
      },
      "source": [
        "<a href=\"https://colab.research.google.com/github/nnilayy/Unet/blob/main/Classification.ipynb\" target=\"_parent\"><img src=\"https://colab.research.google.com/assets/colab-badge.svg\" alt=\"Open In Colab\"/></a>"
      ]
    },
    {
      "cell_type": "code",
      "execution_count": 1,
      "metadata": {
        "id": "Faz4TOq7w8aW"
      },
      "outputs": [],
      "source": [
        "from tensorflow.keras.preprocessing.image import ImageDataGenerator\n",
        "import matplotlib.pyplot as plt \n",
        "import tensorflow as tf \n",
        "import numpy as np\n",
        "import cv2 \n",
        "import os "
      ]
    },
    {
      "cell_type": "code",
      "execution_count": null,
      "metadata": {
        "id": "J8-H0S62QVHQ"
      },
      "outputs": [],
      "source": [
        "from google.colab import drive\n",
        "drive.mount('/content/drive')"
      ]
    },
    {
      "cell_type": "code",
      "execution_count": null,
      "metadata": {
        "id": "ZOy4Qb1rQvsK"
      },
      "outputs": [],
      "source": [
        "!mkdir \"/content/drive/MyDrive/dataset\""
      ]
    },
    {
      "cell_type": "code",
      "execution_count": null,
      "metadata": {
        "id": "5AORMhrHhkc7"
      },
      "outputs": [],
      "source": [
        "!unzip -q /content/drive/MyDrive/dataset.zip -d /content/drive/MyDrive/"
      ]
    },
    {
      "cell_type": "code",
      "execution_count": 130,
      "metadata": {
        "id": "8isyhdy9wNzg"
      },
      "outputs": [],
      "source": [
        "train=ImageDataGenerator(rescale=1/255,\n",
        "                         rotation_range=40,\n",
        "                         brightness_range=(0,5),\n",
        "                         zoom_range=0.2,\n",
        "                         shear_range=0.2,\n",
        "                         horizontal_flip=True,\n",
        "                         vertical_flip=True,\n",
        "                         fill_mode=\"nearest\",\n",
        "                         )\n",
        "valid=ImageDataGenerator(rescale=1/255,\n",
        "                              rotation_range=40,\n",
        "                              brightness_range=(0,5),\n",
        "                              zoom_range=0.2,\n",
        "                              shear_range=0.2,\n",
        "                              horizontal_flip=True,\n",
        "                              vertical_flip=True,\n",
        "                              fill_mode=\"nearest\",)"
      ]
    },
    {
      "cell_type": "code",
      "execution_count": null,
      "metadata": {
        "id": "_5KWdWhyx8PH"
      },
      "outputs": [],
      "source": [
        "train_dataset=train.flow_from_directory('/content/drive/MyDrive/dataset_3/train',\n",
        "                                        target_size=(128,128),\n",
        "                                        batch_size=3,\n",
        "                                        class_mode='binary',\n",
        "                                        color_mode='grayscale',\n",
        "                                        )\n",
        "val_dataset=valid.flow_from_directory('/content/drive/MyDrive/dataset_3/validation',\n",
        "                                        target_size=(128,128),\n",
        "                                        batch_size=3,\n",
        "                                        class_mode='binary',\n",
        "                                        color_mode='grayscale'\n",
        "                                        )"
      ]
    },
    {
      "cell_type": "code",
      "execution_count": null,
      "metadata": {
        "id": "uOzuv6LKiGkI"
      },
      "outputs": [],
      "source": [
        "from tensorflow.keras.models import Sequential\n",
        "from tensorflow.keras.layers import Dense, Conv2D, MaxPooling2D, AveragePooling2D, Flatten, Dropout, BatchNormalization, InputLayer, Reshape\n",
        "\n",
        "model = Sequential()\n",
        "model.add(InputLayer(input_shape=(128, 128, 1)))\n",
        "model.add(Conv2D(8, 3, padding='same', activation=\"relu\"))\n",
        "model.add(MaxPooling2D(2, padding='same'))\n",
        "model.add(Conv2D(8, 3, padding='same', activation=\"relu\"))\n",
        "model.add(MaxPooling2D(2, padding='same'))\n",
        "model.add(Conv2D(8, 3, padding='same', activation=\"relu\"))\n",
        "model.add(MaxPooling2D(2, padding='same'))\n",
        "model.add(Conv2D(4, 3, padding='same', activation=\"relu\"))\n",
        "model.add(MaxPooling2D(2, padding='same'))\n",
        "model.add(Conv2D(4, 3, padding='same', activation=\"relu\"))\n",
        "model.add(MaxPooling2D(2, padding='same'))\n",
        "model.add(MaxPooling2D(2, padding='same'))\n",
        "model.add(Flatten())\n",
        "model.add(Dense(1, activation=\"sigmoid\"))\n",
        "model.summary()\n",
        "\n",
        "\n",
        "\n",
        "\n",
        "\n",
        "\n",
        "# ---------------------------------------------------------------------------------------------------\n",
        "# ---------------------------------------------------------------------------------------------------\n",
        "# (1)Params: 32,000\n",
        "# (2)Train_Accuracy: 85.45\n",
        "# (3)Val_Accuracy: 84.44\n",
        "# model = Sequential()\n",
        "# model.add(InputLayer(input_shape=(224, 224,3)))\n",
        "# model.add(Conv2D(16, 3, padding='same', activation=\"relu\"))\n",
        "# model.add(MaxPooling2D(2, padding='same'))\n",
        "# model.add(Conv2D(16, 3, padding='same', activation=\"relu\"))\n",
        "# model.add(MaxPooling2D(2, padding='same'))\n",
        "# model.add(Conv2D(16, 3, padding='same', activation=\"relu\"))\n",
        "# model.add(MaxPooling2D(2, padding='same'))\n",
        "# model.add(MaxPooling2D(2, padding='same'))\n",
        "# model.add(MaxPooling2D(2, padding='same'))\n",
        "# model.add(Flatten())\n",
        "# model.add(Dense(32, activation=\"relu\"))\n",
        "# model.add(Dense(1, activation=\"sigmoid\"))"
      ]
    },
    {
      "cell_type": "code",
      "execution_count": null,
      "metadata": {
        "id": "PYcT2fHW77gx"
      },
      "outputs": [],
      "source": [
        "model.compile(loss=\"binary_crossentropy\", \n",
        "              optimizer=tf.keras.optimizers.RMSprop(learning_rate=1e-3), \n",
        "              metrics=[\"accuracy\"])\n",
        "\n",
        "history=model.fit(train_dataset, \n",
        "                  steps_per_epoch=32, \n",
        "                  epochs=100, \n",
        "                  validation_data=val_dataset)"
      ]
    },
    {
      "cell_type": "code",
      "execution_count": 134,
      "metadata": {
        "id": "1zENh4DQzNMb"
      },
      "outputs": [],
      "source": [
        "model.save(\"/content/model_128.h5\")"
      ]
    },
    {
      "cell_type": "code",
      "execution_count": null,
      "metadata": {
        "id": "uNewr2cLj5oq"
      },
      "outputs": [],
      "source": [
        "file=\"/content/images.jpg\"\n",
        "image=cv2.imread(file)\n",
        "image=cv2.resize(image,(224,224))\n",
        "image=np.expand_dims(image,0)\n",
        "prediction=int(model.predict(image))\n",
        "\n",
        "if prediction == 0:\n",
        "  print('Cracked')\n",
        "\n",
        "elif prediction==1:\n",
        "  print('Not Cracked')"
      ]
    },
    {
      "cell_type": "code",
      "execution_count": null,
      "metadata": {
        "id": "g3W2AkEL8rNA"
      },
      "outputs": [],
      "source": [
        "# https://www.youtube.com/watch?v=uqomO_BZ44g"
      ]
    },
    {
      "cell_type": "code",
      "execution_count": 110,
      "metadata": {
        "id": "Rj6t3crLl_Y0"
      },
      "outputs": [],
      "source": [
        "import os\n",
        "def get_file_size(file_path):\n",
        "  size=os.path.getsize(file_path)\n",
        "  return size"
      ]
    },
    {
      "cell_type": "code",
      "execution_count": 111,
      "metadata": {
        "id": "1UooUmLcl_Y1"
      },
      "outputs": [],
      "source": [
        "def convert_bytes(size,unit=None):\n",
        "  if unit==\"KB\":\n",
        "    return print(\"File size: \"+str(round(size/1024,3))+\" Kilobytes\")\n",
        "  elif unit==\"MB\":\n",
        "    return print(\"File size: \"+str(round(size/(1024*1024),3))+\" Megabytes\")\n",
        "  else:\n",
        "    return print(\"File size: \"+str(size)+\"bytes\")"
      ]
    },
    {
      "cell_type": "code",
      "execution_count": 157,
      "metadata": {
        "id": "kx_laCKhzi3l"
      },
      "outputs": [],
      "source": [
        "model=\"/content/model_128.h5\""
      ]
    },
    {
      "cell_type": "code",
      "execution_count": 136,
      "metadata": {
        "id": "m52QuAlPl_Y3",
        "colab": {
          "base_uri": "https://localhost:8080/"
        },
        "outputId": "b7f8d454-4270-4851-c2da-b690e8525baa"
      },
      "outputs": [
        {
          "output_type": "stream",
          "name": "stdout",
          "text": [
            "File size: 0.065 Megabytes\n"
          ]
        }
      ],
      "source": [
        "# Model Size Before Model Quantization\n",
        "convert_bytes(get_file_size(model),\"MB\")"
      ]
    },
    {
      "cell_type": "code",
      "source": [
        "import glob\n",
        "import cv2\n",
        "import numpy as array \n",
        "files=glob.glob('/content/drive/MyDrive/dataset_3/train/Not Cracked/*')\n",
        "images=[]\n",
        "for file in files:\n",
        "  image=cv2.imread(file)\n",
        "  image=image/255\n",
        "  image=np.array(image,dtype=np.float32)\n",
        "  images.append(image)"
      ],
      "metadata": {
        "id": "1yX0NVa1Mt5_"
      },
      "execution_count": 153,
      "outputs": []
    },
    {
      "cell_type": "code",
      "source": [
        "images"
      ],
      "metadata": {
        "id": "uqNtH6TzNJ_Z"
      },
      "execution_count": null,
      "outputs": []
    },
    {
      "cell_type": "code",
      "source": [
        "def representative_dataset_gen():\n",
        "   for i in range(100):\n",
        "      input_image = tf.cast(images[i], tf.uint8)\n",
        "      input_image = tf.reshape(input_image, [1,128,128,1])\n",
        "      yield ([input_image])"
      ],
      "metadata": {
        "id": "OfpCeOl2N8T8"
      },
      "execution_count": 155,
      "outputs": []
    },
    {
      "cell_type": "code",
      "execution_count": null,
      "metadata": {
        "id": "BCvfDqxtmtD0"
      },
      "outputs": [],
      "source": [
        "import tensorflow as tf\n",
        "model=tf.keras.models.load_model(model)\n",
        "converter = tf.lite.TFLiteConverter.from_keras_model(model)\n",
        "converter.optimizations=[tf.lite.Optimize.DEFAULT]\n",
        "converter.target_spec.supported_ops = [tf.lite.OpsSet.TFLITE_BUILTINS_INT8]\n",
        "# converter.experimental_new_converter = True\n",
        "tflite_model_name=\"model.tflite\"\n",
        "tflite_model = converter.convert()\n",
        "open(tflite_model_name,\"wb\").write(tflite_model)"
      ]
    },
    {
      "cell_type": "code",
      "execution_count": null,
      "metadata": {
        "id": "4sEBDJwxmtD0"
      },
      "outputs": [],
      "source": [
        "# Model Size After Model Quantization\n",
        "tflite_model=\"/content/model.tflite\"\n",
        "convert_bytes(get_file_size(tflite_model),\"KB\")"
      ]
    },
    {
      "cell_type": "code",
      "execution_count": null,
      "metadata": {
        "id": "Heuw-BSUTS1H"
      },
      "outputs": [],
      "source": [
        "# ()Dataset \n",
        "# ()Inferencing Code on Arduino\n",
        "# ()SD Card model transfer\n",
        "# ()Library Creation and function deletion"
      ]
    },
    {
      "cell_type": "code",
      "source": [
        "import binascii\n",
        "def convert_to_c_array(bytes) -> str:\n",
        "  hexstr = binascii.hexlify(bytes).decode(\"UTF-8\")\n",
        "  hexstr = hexstr.upper()\n",
        "  array = [\"0x\" + hexstr[i:i + 2] for i in range(0, len(hexstr), 2)]\n",
        "  array = [array[i:i+10] for i in range(0, len(array), 10)]\n",
        "  return \",\\n  \".join([\", \".join(e) for e in array])"
      ],
      "metadata": {
        "id": "5l2VaKpWxfvE"
      },
      "execution_count": 116,
      "outputs": []
    },
    {
      "cell_type": "code",
      "source": [
        "tflite_binary = open('model.tflite', 'rb').read()\n",
        "ascii_bytes = convert_to_c_array(tflite_binary)\n",
        "header_file = \"const unsigned char model_tflite[] = {\\n  \" + ascii_bytes + \"\\n};\\nunsigned int model_tflite_len = \" + str(len(tflite_binary)) + \";\"\n",
        "open(\"model_128.h\", \"w\").write(header_file)\n",
        "convert_bytes(get_file_size('/content/model_128.h'),\"KB\")"
      ],
      "metadata": {
        "id": "BbA3OIQbxk-F"
      },
      "execution_count": null,
      "outputs": []
    },
    {
      "cell_type": "code",
      "source": [
        "# train_data=train_dataset[0]\n",
        "# X_train=train_data[0]\n",
        "# y_train=train_data[1]\n",
        "\n",
        "# test_data=val_dataset[0]\n",
        "# X_test=test_data[0]\n",
        "# y_test=test_data[1]\n",
        "\n",
        "# print(X_train.shape,X_test.shape,y_train.shape,y_test.shape)\n",
        "# # print(y_test)"
      ],
      "metadata": {
        "id": "xPCDgWWCGppa"
      },
      "execution_count": null,
      "outputs": []
    },
    {
      "cell_type": "code",
      "source": [
        "for layer in model.layers:\n",
        "  print(layer.get_config()['name'])"
      ],
      "metadata": {
        "id": "PeWBgQDNBTzS"
      },
      "execution_count": null,
      "outputs": []
    },
    {
      "cell_type": "code",
      "execution_count": null,
      "metadata": {
        "id": "1muAoUm8lSXL"
      },
      "outputs": [],
      "source": [
        "# Convert the model to the TensorFlow Lite format without quantization\n",
        "converter = tf.lite.TFLiteConverter.from_saved_model(MODEL_TF)\n",
        "model_no_quant_tflite = converter.convert()\n",
        "\n",
        "# Save the model to disk\n",
        "open(MODEL_NO_QUANT_TFLITE, \"wb\").write(model_no_quant_tflite)\n",
        "\n",
        "# Convert the model to the TensorFlow Lite format with quantization\n",
        "def representative_dataset():\n",
        "  for i in range(500):\n",
        "    yield([x_train[i].reshape(1, 1)])\n",
        "# Set the optimization flag.\n",
        "converter.optimizations = [tf.lite.Optimize.DEFAULT]\n",
        "# Enforce integer only quantization\n",
        "converter.target_spec.supported_ops = [tf.lite.OpsSet.TFLITE_BUILTINS_INT8]\n",
        "# Provide a representative dataset to ensure we quantize correctly.\n",
        "converter.representative_dataset = representative_dataset\n",
        "model_tflite = converter.convert()\n",
        "\n",
        "# Save the model to disk\n",
        "open(MODEL_TFLITE, \"wb\").write(model_tflite)"
      ]
    }
  ],
  "metadata": {
    "accelerator": "GPU",
    "colab": {
      "provenance": [],
      "authorship_tag": "ABX9TyOeQcK6Hm3MJ3mFdRHefpAa",
      "include_colab_link": true
    },
    "gpuClass": "standard",
    "kernelspec": {
      "display_name": "Python 3",
      "name": "python3"
    },
    "language_info": {
      "name": "python"
    }
  },
  "nbformat": 4,
  "nbformat_minor": 0
}