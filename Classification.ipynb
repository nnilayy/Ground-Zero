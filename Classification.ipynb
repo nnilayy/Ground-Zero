{
  "cells": [
    {
      "cell_type": "markdown",
      "metadata": {
        "id": "view-in-github",
        "colab_type": "text"
      },
      "source": [
        "<a href=\"https://colab.research.google.com/github/nnilayy/Unet/blob/main/Classification.ipynb\" target=\"_parent\"><img src=\"https://colab.research.google.com/assets/colab-badge.svg\" alt=\"Open In Colab\"/></a>"
      ]
    },
    {
      "cell_type": "code",
      "execution_count": 1,
      "metadata": {
        "id": "Faz4TOq7w8aW"
      },
      "outputs": [],
      "source": [
        "from tensorflow.keras.preprocessing.image import ImageDataGenerator\n",
        "import matplotlib.pyplot as plt \n",
        "import tensorflow as tf \n",
        "import numpy as np\n",
        "import cv2 \n",
        "import os "
      ]
    },
    {
      "cell_type": "code",
      "execution_count": null,
      "metadata": {
        "id": "J8-H0S62QVHQ"
      },
      "outputs": [],
      "source": [
        "from google.colab import drive\n",
        "drive.mount('/content/drive')"
      ]
    },
    {
      "cell_type": "code",
      "execution_count": null,
      "metadata": {
        "id": "ZOy4Qb1rQvsK"
      },
      "outputs": [],
      "source": [
        "!mkdir \"/content/drive/MyDrive/dataset\""
      ]
    },
    {
      "cell_type": "code",
      "execution_count": null,
      "metadata": {
        "id": "5AORMhrHhkc7"
      },
      "outputs": [],
      "source": [
        "!unzip -q /content/drive/MyDrive/dataset.zip -d /content/drive/MyDrive/"
      ]
    },
    {
      "cell_type": "code",
      "execution_count": 130,
      "metadata": {
        "id": "8isyhdy9wNzg"
      },
      "outputs": [],
      "source": [
        "train=ImageDataGenerator(rescale=1/255,\n",
        "                         rotation_range=40,\n",
        "                         brightness_range=(0,5),\n",
        "                         zoom_range=0.2,\n",
        "                         shear_range=0.2,\n",
        "                         horizontal_flip=True,\n",
        "                         vertical_flip=True,\n",
        "                         fill_mode=\"nearest\",\n",
        "                         )\n",
        "valid=ImageDataGenerator(rescale=1/255,\n",
        "                              rotation_range=40,\n",
        "                              brightness_range=(0,5),\n",
        "                              zoom_range=0.2,\n",
        "                              shear_range=0.2,\n",
        "                              horizontal_flip=True,\n",
        "                              vertical_flip=True,\n",
        "                              fill_mode=\"nearest\",)"
      ]
    },
    {
      "cell_type": "code",
      "execution_count": 131,
      "metadata": {
        "id": "_5KWdWhyx8PH",
        "colab": {
          "base_uri": "https://localhost:8080/"
        },
        "outputId": "019d57ce-86df-4925-e62f-06ae8705a925"
      },
      "outputs": [
        {
          "output_type": "stream",
          "name": "stdout",
          "text": [
            "Found 301 images belonging to 2 classes.\n",
            "Found 90 images belonging to 2 classes.\n"
          ]
        }
      ],
      "source": [
        "train_dataset=train.flow_from_directory('/content/drive/MyDrive/dataset_3/train',\n",
        "                                        target_size=(128,128),\n",
        "                                        batch_size=3,\n",
        "                                        class_mode='binary',\n",
        "                                        color_mode='grayscale',\n",
        "                                        )\n",
        "val_dataset=valid.flow_from_directory('/content/drive/MyDrive/dataset_3/validation',\n",
        "                                        target_size=(128,128),\n",
        "                                        batch_size=3,\n",
        "                                        class_mode='binary',\n",
        "                                        color_mode='grayscale'\n",
        "                                        )"
      ]
    },
    {
      "cell_type": "code",
      "execution_count": null,
      "metadata": {
        "id": "uOzuv6LKiGkI"
      },
      "outputs": [],
      "source": [
        "from tensorflow.keras.models import Sequential\n",
        "from tensorflow.keras.layers import Dense, Conv2D, MaxPooling2D, AveragePooling2D, Flatten, Dropout, BatchNormalization, InputLayer, Reshape\n",
        "\n",
        "model = Sequential()\n",
        "model.add(InputLayer(input_shape=(128, 128, 1)))\n",
        "model.add(Conv2D(8, 3, padding='same', activation=\"relu\"))\n",
        "model.add(MaxPooling2D(2, padding='same'))\n",
        "model.add(Conv2D(8, 3, padding='same', activation=\"relu\"))\n",
        "model.add(MaxPooling2D(2, padding='same'))\n",
        "model.add(Conv2D(8, 3, padding='same', activation=\"relu\"))\n",
        "model.add(MaxPooling2D(2, padding='same'))\n",
        "model.add(Conv2D(4, 3, padding='same', activation=\"relu\"))\n",
        "model.add(MaxPooling2D(2, padding='same'))\n",
        "model.add(Conv2D(4, 3, padding='same', activation=\"relu\"))\n",
        "model.add(MaxPooling2D(2, padding='same'))\n",
        "model.add(MaxPooling2D(2, padding='same'))\n",
        "model.add(Flatten())\n",
        "model.add(Dense(1, activation=\"sigmoid\"))\n",
        "model.summary()\n",
        "\n",
        "\n",
        "\n",
        "\n",
        "\n",
        "\n",
        "# ---------------------------------------------------------------------------------------------------\n",
        "# ---------------------------------------------------------------------------------------------------\n",
        "# (1)Params: 32,000\n",
        "# (2)Train_Accuracy: 85.45\n",
        "# (3)Val_Accuracy: 84.44\n",
        "# model = Sequential()\n",
        "# model.add(InputLayer(input_shape=(224, 224,3)))\n",
        "# model.add(Conv2D(16, 3, padding='same', activation=\"relu\"))\n",
        "# model.add(MaxPooling2D(2, padding='same'))\n",
        "# model.add(Conv2D(16, 3, padding='same', activation=\"relu\"))\n",
        "# model.add(MaxPooling2D(2, padding='same'))\n",
        "# model.add(Conv2D(16, 3, padding='same', activation=\"relu\"))\n",
        "# model.add(MaxPooling2D(2, padding='same'))\n",
        "# model.add(MaxPooling2D(2, padding='same'))\n",
        "# model.add(MaxPooling2D(2, padding='same'))\n",
        "# model.add(Flatten())\n",
        "# model.add(Dense(32, activation=\"relu\"))\n",
        "# model.add(Dense(1, activation=\"sigmoid\"))"
      ]
    },
    {
      "cell_type": "code",
      "execution_count": 133,
      "metadata": {
        "id": "PYcT2fHW77gx",
        "colab": {
          "base_uri": "https://localhost:8080/"
        },
        "outputId": "a665f8be-dcd5-43d7-e887-a2a8ea5ca0f2"
      },
      "outputs": [
        {
          "output_type": "stream",
          "name": "stdout",
          "text": [
            "Epoch 1/100\n",
            "32/32 [==============================] - 4s 51ms/step - loss: 0.6927 - accuracy: 0.5312 - val_loss: 0.6839 - val_accuracy: 0.5556\n",
            "Epoch 2/100\n",
            "32/32 [==============================] - 1s 31ms/step - loss: 0.6943 - accuracy: 0.5000 - val_loss: 0.6877 - val_accuracy: 0.5444\n",
            "Epoch 3/100\n",
            "32/32 [==============================] - 1s 30ms/step - loss: 0.6928 - accuracy: 0.5938 - val_loss: 0.6886 - val_accuracy: 0.6778\n",
            "Epoch 4/100\n",
            "32/32 [==============================] - 1s 32ms/step - loss: 0.6858 - accuracy: 0.5729 - val_loss: 0.6786 - val_accuracy: 0.5556\n",
            "Epoch 5/100\n",
            "32/32 [==============================] - 1s 30ms/step - loss: 0.6902 - accuracy: 0.5319 - val_loss: 0.6769 - val_accuracy: 0.6889\n",
            "Epoch 6/100\n",
            "32/32 [==============================] - 1s 30ms/step - loss: 0.6892 - accuracy: 0.5957 - val_loss: 0.6662 - val_accuracy: 0.5556\n",
            "Epoch 7/100\n",
            "32/32 [==============================] - 1s 31ms/step - loss: 0.6899 - accuracy: 0.5000 - val_loss: 0.6621 - val_accuracy: 0.5778\n",
            "Epoch 8/100\n",
            "32/32 [==============================] - 1s 30ms/step - loss: 0.6677 - accuracy: 0.5417 - val_loss: 0.6384 - val_accuracy: 0.5444\n",
            "Epoch 9/100\n",
            "32/32 [==============================] - 1s 32ms/step - loss: 0.6806 - accuracy: 0.5638 - val_loss: 0.6275 - val_accuracy: 0.5556\n",
            "Epoch 10/100\n",
            "32/32 [==============================] - 1s 43ms/step - loss: 0.6409 - accuracy: 0.6771 - val_loss: 0.6098 - val_accuracy: 0.5556\n",
            "Epoch 11/100\n",
            "32/32 [==============================] - 1s 31ms/step - loss: 0.6215 - accuracy: 0.7500 - val_loss: 0.5655 - val_accuracy: 0.5778\n",
            "Epoch 12/100\n",
            "32/32 [==============================] - 1s 30ms/step - loss: 0.6192 - accuracy: 0.7340 - val_loss: 0.5857 - val_accuracy: 0.5444\n",
            "Epoch 13/100\n",
            "32/32 [==============================] - 1s 30ms/step - loss: 0.5924 - accuracy: 0.7500 - val_loss: 0.5290 - val_accuracy: 0.7667\n",
            "Epoch 14/100\n",
            "32/32 [==============================] - 1s 31ms/step - loss: 0.5971 - accuracy: 0.7604 - val_loss: 0.5501 - val_accuracy: 0.7889\n",
            "Epoch 15/100\n",
            "32/32 [==============================] - 1s 30ms/step - loss: 0.5335 - accuracy: 0.7500 - val_loss: 0.5000 - val_accuracy: 0.8000\n",
            "Epoch 16/100\n",
            "32/32 [==============================] - 1s 36ms/step - loss: 0.5646 - accuracy: 0.7396 - val_loss: 0.5158 - val_accuracy: 0.7222\n",
            "Epoch 17/100\n",
            "32/32 [==============================] - 2s 69ms/step - loss: 0.5287 - accuracy: 0.7083 - val_loss: 0.4431 - val_accuracy: 0.8000\n",
            "Epoch 18/100\n",
            "32/32 [==============================] - 1s 37ms/step - loss: 0.5030 - accuracy: 0.7872 - val_loss: 0.4170 - val_accuracy: 0.8333\n",
            "Epoch 19/100\n",
            "32/32 [==============================] - 1s 45ms/step - loss: 0.5051 - accuracy: 0.8021 - val_loss: 0.4891 - val_accuracy: 0.7889\n",
            "Epoch 20/100\n",
            "32/32 [==============================] - 1s 39ms/step - loss: 0.4930 - accuracy: 0.8125 - val_loss: 0.3930 - val_accuracy: 0.8667\n",
            "Epoch 21/100\n",
            "32/32 [==============================] - 1s 30ms/step - loss: 0.5547 - accuracy: 0.7553 - val_loss: 0.3880 - val_accuracy: 0.8333\n",
            "Epoch 22/100\n",
            "32/32 [==============================] - 1s 32ms/step - loss: 0.5296 - accuracy: 0.7500 - val_loss: 0.4297 - val_accuracy: 0.8111\n",
            "Epoch 23/100\n",
            "32/32 [==============================] - 1s 30ms/step - loss: 0.4922 - accuracy: 0.8021 - val_loss: 0.4240 - val_accuracy: 0.8444\n",
            "Epoch 24/100\n",
            "32/32 [==============================] - 1s 31ms/step - loss: 0.4704 - accuracy: 0.8333 - val_loss: 0.4143 - val_accuracy: 0.8222\n",
            "Epoch 25/100\n",
            "32/32 [==============================] - 1s 30ms/step - loss: 0.4928 - accuracy: 0.7766 - val_loss: 0.3492 - val_accuracy: 0.9000\n",
            "Epoch 26/100\n",
            "32/32 [==============================] - 1s 30ms/step - loss: 0.4301 - accuracy: 0.8191 - val_loss: 0.3773 - val_accuracy: 0.8222\n",
            "Epoch 27/100\n",
            "32/32 [==============================] - 1s 45ms/step - loss: 0.4124 - accuracy: 0.7604 - val_loss: 0.3835 - val_accuracy: 0.8667\n",
            "Epoch 28/100\n",
            "32/32 [==============================] - 1s 30ms/step - loss: 0.4647 - accuracy: 0.7766 - val_loss: 0.3212 - val_accuracy: 0.9000\n",
            "Epoch 29/100\n",
            "32/32 [==============================] - 1s 30ms/step - loss: 0.4190 - accuracy: 0.8511 - val_loss: 0.3660 - val_accuracy: 0.8778\n",
            "Epoch 30/100\n",
            "32/32 [==============================] - 1s 30ms/step - loss: 0.4621 - accuracy: 0.8333 - val_loss: 0.3894 - val_accuracy: 0.8444\n",
            "Epoch 31/100\n",
            "32/32 [==============================] - 1s 31ms/step - loss: 0.4288 - accuracy: 0.8511 - val_loss: 0.3443 - val_accuracy: 0.8667\n",
            "Epoch 32/100\n",
            "32/32 [==============================] - 1s 30ms/step - loss: 0.4396 - accuracy: 0.8021 - val_loss: 0.4066 - val_accuracy: 0.8444\n",
            "Epoch 33/100\n",
            "32/32 [==============================] - 1s 31ms/step - loss: 0.4516 - accuracy: 0.8021 - val_loss: 0.3493 - val_accuracy: 0.8667\n",
            "Epoch 34/100\n",
            "32/32 [==============================] - 1s 30ms/step - loss: 0.4741 - accuracy: 0.8085 - val_loss: 0.3503 - val_accuracy: 0.8889\n",
            "Epoch 35/100\n",
            "32/32 [==============================] - 1s 31ms/step - loss: 0.3887 - accuracy: 0.8438 - val_loss: 0.3376 - val_accuracy: 0.8778\n",
            "Epoch 36/100\n",
            "32/32 [==============================] - 1s 34ms/step - loss: 0.5202 - accuracy: 0.7708 - val_loss: 0.3671 - val_accuracy: 0.8778\n",
            "Epoch 37/100\n",
            "32/32 [==============================] - 1s 45ms/step - loss: 0.4343 - accuracy: 0.8298 - val_loss: 0.3781 - val_accuracy: 0.8333\n",
            "Epoch 38/100\n",
            "32/32 [==============================] - 1s 43ms/step - loss: 0.3577 - accuracy: 0.8438 - val_loss: 0.3551 - val_accuracy: 0.8556\n",
            "Epoch 39/100\n",
            "32/32 [==============================] - 1s 30ms/step - loss: 0.3887 - accuracy: 0.8229 - val_loss: 0.2884 - val_accuracy: 0.9111\n",
            "Epoch 40/100\n",
            "32/32 [==============================] - 1s 31ms/step - loss: 0.3883 - accuracy: 0.8617 - val_loss: 0.3557 - val_accuracy: 0.8333\n",
            "Epoch 41/100\n",
            "32/32 [==============================] - 1s 31ms/step - loss: 0.3422 - accuracy: 0.8617 - val_loss: 0.2840 - val_accuracy: 0.8556\n",
            "Epoch 42/100\n",
            "32/32 [==============================] - 1s 31ms/step - loss: 0.4826 - accuracy: 0.8229 - val_loss: 0.3808 - val_accuracy: 0.8556\n",
            "Epoch 43/100\n",
            "32/32 [==============================] - 1s 31ms/step - loss: 0.3784 - accuracy: 0.8333 - val_loss: 0.3322 - val_accuracy: 0.8444\n",
            "Epoch 44/100\n",
            "32/32 [==============================] - 1s 30ms/step - loss: 0.3618 - accuracy: 0.8125 - val_loss: 0.3430 - val_accuracy: 0.8556\n",
            "Epoch 45/100\n",
            "32/32 [==============================] - 1s 30ms/step - loss: 0.4496 - accuracy: 0.8085 - val_loss: 0.3645 - val_accuracy: 0.8556\n",
            "Epoch 46/100\n",
            "32/32 [==============================] - 1s 32ms/step - loss: 0.3733 - accuracy: 0.8542 - val_loss: 0.3846 - val_accuracy: 0.7889\n",
            "Epoch 47/100\n",
            "32/32 [==============================] - 1s 44ms/step - loss: 0.2816 - accuracy: 0.8958 - val_loss: 0.3147 - val_accuracy: 0.8667\n",
            "Epoch 48/100\n",
            "32/32 [==============================] - 1s 45ms/step - loss: 0.4723 - accuracy: 0.8298 - val_loss: 0.3740 - val_accuracy: 0.8333\n",
            "Epoch 49/100\n",
            "32/32 [==============================] - 1s 30ms/step - loss: 0.3049 - accuracy: 0.8854 - val_loss: 0.3550 - val_accuracy: 0.8778\n",
            "Epoch 50/100\n",
            "32/32 [==============================] - 1s 31ms/step - loss: 0.4001 - accuracy: 0.8229 - val_loss: 0.3145 - val_accuracy: 0.8778\n",
            "Epoch 51/100\n",
            "32/32 [==============================] - 1s 30ms/step - loss: 0.4656 - accuracy: 0.8021 - val_loss: 0.2911 - val_accuracy: 0.8889\n",
            "Epoch 52/100\n",
            "32/32 [==============================] - 1s 32ms/step - loss: 0.3707 - accuracy: 0.8542 - val_loss: 0.3676 - val_accuracy: 0.8444\n",
            "Epoch 53/100\n",
            "32/32 [==============================] - 1s 31ms/step - loss: 0.3587 - accuracy: 0.8723 - val_loss: 0.2978 - val_accuracy: 0.9000\n",
            "Epoch 54/100\n",
            "32/32 [==============================] - 1s 31ms/step - loss: 0.4083 - accuracy: 0.8085 - val_loss: 0.3516 - val_accuracy: 0.8444\n",
            "Epoch 55/100\n",
            "32/32 [==============================] - 2s 54ms/step - loss: 0.3355 - accuracy: 0.8854 - val_loss: 0.3456 - val_accuracy: 0.8778\n",
            "Epoch 56/100\n",
            "32/32 [==============================] - 3s 81ms/step - loss: 0.4013 - accuracy: 0.8438 - val_loss: 0.3671 - val_accuracy: 0.8333\n",
            "Epoch 57/100\n",
            "32/32 [==============================] - 3s 97ms/step - loss: 0.4200 - accuracy: 0.8021 - val_loss: 0.3081 - val_accuracy: 0.8667\n",
            "Epoch 58/100\n",
            "32/32 [==============================] - 2s 74ms/step - loss: 0.3577 - accuracy: 0.8542 - val_loss: 0.3312 - val_accuracy: 0.8556\n",
            "Epoch 59/100\n",
            "32/32 [==============================] - 1s 33ms/step - loss: 0.3420 - accuracy: 0.8646 - val_loss: 0.2809 - val_accuracy: 0.8778\n",
            "Epoch 60/100\n",
            "32/32 [==============================] - 1s 31ms/step - loss: 0.3523 - accuracy: 0.8438 - val_loss: 0.4043 - val_accuracy: 0.8222\n",
            "Epoch 61/100\n",
            "32/32 [==============================] - 1s 34ms/step - loss: 0.3330 - accuracy: 0.8438 - val_loss: 0.2673 - val_accuracy: 0.9222\n",
            "Epoch 62/100\n",
            "32/32 [==============================] - 1s 32ms/step - loss: 0.3764 - accuracy: 0.8021 - val_loss: 0.2487 - val_accuracy: 0.8889\n",
            "Epoch 63/100\n",
            "32/32 [==============================] - 1s 43ms/step - loss: 0.3038 - accuracy: 0.8854 - val_loss: 0.2757 - val_accuracy: 0.9000\n",
            "Epoch 64/100\n",
            "32/32 [==============================] - 1s 33ms/step - loss: 0.3818 - accuracy: 0.8125 - val_loss: 0.3284 - val_accuracy: 0.9000\n",
            "Epoch 65/100\n",
            "32/32 [==============================] - 1s 32ms/step - loss: 0.2632 - accuracy: 0.9255 - val_loss: 0.4766 - val_accuracy: 0.7778\n",
            "Epoch 66/100\n",
            "32/32 [==============================] - 1s 32ms/step - loss: 0.3652 - accuracy: 0.8404 - val_loss: 0.2936 - val_accuracy: 0.9000\n",
            "Epoch 67/100\n",
            "32/32 [==============================] - 1s 30ms/step - loss: 0.3845 - accuracy: 0.8438 - val_loss: 0.3403 - val_accuracy: 0.8778\n",
            "Epoch 68/100\n",
            "32/32 [==============================] - 1s 29ms/step - loss: 0.4642 - accuracy: 0.8229 - val_loss: 0.3901 - val_accuracy: 0.8444\n",
            "Epoch 69/100\n",
            "32/32 [==============================] - 1s 30ms/step - loss: 0.2845 - accuracy: 0.9062 - val_loss: 0.2665 - val_accuracy: 0.9111\n",
            "Epoch 70/100\n",
            "32/32 [==============================] - 1s 30ms/step - loss: 0.3228 - accuracy: 0.8750 - val_loss: 0.3464 - val_accuracy: 0.8667\n",
            "Epoch 71/100\n",
            "32/32 [==============================] - 1s 31ms/step - loss: 0.3134 - accuracy: 0.8854 - val_loss: 0.4311 - val_accuracy: 0.8333\n",
            "Epoch 72/100\n",
            "32/32 [==============================] - 1s 34ms/step - loss: 0.3477 - accuracy: 0.8750 - val_loss: 0.3697 - val_accuracy: 0.8111\n",
            "Epoch 73/100\n",
            "32/32 [==============================] - 1s 45ms/step - loss: 0.3761 - accuracy: 0.8750 - val_loss: 0.3552 - val_accuracy: 0.8667\n",
            "Epoch 74/100\n",
            "32/32 [==============================] - 1s 30ms/step - loss: 0.3130 - accuracy: 0.8750 - val_loss: 0.2833 - val_accuracy: 0.9000\n",
            "Epoch 75/100\n",
            "32/32 [==============================] - 1s 30ms/step - loss: 0.3136 - accuracy: 0.8854 - val_loss: 0.2842 - val_accuracy: 0.9111\n",
            "Epoch 76/100\n",
            "32/32 [==============================] - 1s 31ms/step - loss: 0.3993 - accuracy: 0.8438 - val_loss: 0.2861 - val_accuracy: 0.9000\n",
            "Epoch 77/100\n",
            "32/32 [==============================] - 1s 30ms/step - loss: 0.3608 - accuracy: 0.8723 - val_loss: 0.2666 - val_accuracy: 0.9111\n",
            "Epoch 78/100\n",
            "32/32 [==============================] - 1s 43ms/step - loss: 0.3168 - accuracy: 0.8830 - val_loss: 0.2686 - val_accuracy: 0.8667\n",
            "Epoch 79/100\n",
            "32/32 [==============================] - 1s 43ms/step - loss: 0.3356 - accuracy: 0.8646 - val_loss: 0.3875 - val_accuracy: 0.8111\n",
            "Epoch 80/100\n",
            "32/32 [==============================] - 1s 31ms/step - loss: 0.2948 - accuracy: 0.8854 - val_loss: 0.3109 - val_accuracy: 0.8778\n",
            "Epoch 81/100\n",
            "32/32 [==============================] - 1s 41ms/step - loss: 0.3358 - accuracy: 0.8958 - val_loss: 0.3088 - val_accuracy: 0.8778\n",
            "Epoch 82/100\n",
            "32/32 [==============================] - 1s 34ms/step - loss: 0.3953 - accuracy: 0.8542 - val_loss: 0.2893 - val_accuracy: 0.8778\n",
            "Epoch 83/100\n",
            "32/32 [==============================] - 1s 30ms/step - loss: 0.2985 - accuracy: 0.9062 - val_loss: 0.3568 - val_accuracy: 0.8778\n",
            "Epoch 84/100\n",
            "32/32 [==============================] - 1s 30ms/step - loss: 0.3419 - accuracy: 0.8936 - val_loss: 0.2705 - val_accuracy: 0.8778\n",
            "Epoch 85/100\n",
            "32/32 [==============================] - 1s 30ms/step - loss: 0.3754 - accuracy: 0.8646 - val_loss: 0.2725 - val_accuracy: 0.8667\n",
            "Epoch 86/100\n",
            "32/32 [==============================] - 1s 30ms/step - loss: 0.3570 - accuracy: 0.8125 - val_loss: 0.3031 - val_accuracy: 0.8444\n",
            "Epoch 87/100\n",
            "32/32 [==============================] - 1s 29ms/step - loss: 0.3547 - accuracy: 0.8438 - val_loss: 0.2687 - val_accuracy: 0.9111\n",
            "Epoch 88/100\n",
            "32/32 [==============================] - 1s 32ms/step - loss: 0.2973 - accuracy: 0.8723 - val_loss: 0.2991 - val_accuracy: 0.8889\n",
            "Epoch 89/100\n",
            "32/32 [==============================] - 1s 32ms/step - loss: 0.4042 - accuracy: 0.8333 - val_loss: 0.2974 - val_accuracy: 0.8556\n",
            "Epoch 90/100\n",
            "32/32 [==============================] - 1s 30ms/step - loss: 0.3883 - accuracy: 0.8542 - val_loss: 0.3980 - val_accuracy: 0.8000\n",
            "Epoch 91/100\n",
            "32/32 [==============================] - 1s 47ms/step - loss: 0.2576 - accuracy: 0.8958 - val_loss: 0.3296 - val_accuracy: 0.8667\n",
            "Epoch 92/100\n",
            "32/32 [==============================] - 1s 46ms/step - loss: 0.4209 - accuracy: 0.8646 - val_loss: 0.2464 - val_accuracy: 0.9333\n",
            "Epoch 93/100\n",
            "32/32 [==============================] - 1s 34ms/step - loss: 0.3395 - accuracy: 0.9167 - val_loss: 0.3254 - val_accuracy: 0.8444\n",
            "Epoch 94/100\n",
            "32/32 [==============================] - 1s 30ms/step - loss: 0.3732 - accuracy: 0.8229 - val_loss: 0.2978 - val_accuracy: 0.8778\n",
            "Epoch 95/100\n",
            "32/32 [==============================] - 1s 30ms/step - loss: 0.3346 - accuracy: 0.8723 - val_loss: 0.2745 - val_accuracy: 0.9000\n",
            "Epoch 96/100\n",
            "32/32 [==============================] - 1s 30ms/step - loss: 0.3436 - accuracy: 0.8750 - val_loss: 0.3532 - val_accuracy: 0.8667\n",
            "Epoch 97/100\n",
            "32/32 [==============================] - 1s 30ms/step - loss: 0.3016 - accuracy: 0.9043 - val_loss: 0.2595 - val_accuracy: 0.9111\n",
            "Epoch 98/100\n",
            "32/32 [==============================] - 1s 30ms/step - loss: 0.3759 - accuracy: 0.8723 - val_loss: 0.2534 - val_accuracy: 0.9111\n",
            "Epoch 99/100\n",
            "32/32 [==============================] - 1s 31ms/step - loss: 0.3488 - accuracy: 0.8438 - val_loss: 0.2649 - val_accuracy: 0.8889\n",
            "Epoch 100/100\n",
            "32/32 [==============================] - 1s 37ms/step - loss: 0.2986 - accuracy: 0.8958 - val_loss: 0.3093 - val_accuracy: 0.8778\n"
          ]
        }
      ],
      "source": [
        "model.compile(loss=\"binary_crossentropy\", \n",
        "              optimizer=tf.keras.optimizers.RMSprop(learning_rate=1e-3), \n",
        "              metrics=[\"accuracy\"])\n",
        "\n",
        "history=model.fit(train_dataset, \n",
        "                  steps_per_epoch=32, \n",
        "                  epochs=100, \n",
        "                  validation_data=val_dataset)"
      ]
    },
    {
      "cell_type": "code",
      "execution_count": 134,
      "metadata": {
        "id": "1zENh4DQzNMb"
      },
      "outputs": [],
      "source": [
        "model.save(\"/content/model_128.h5\")"
      ]
    },
    {
      "cell_type": "code",
      "execution_count": null,
      "metadata": {
        "id": "uNewr2cLj5oq"
      },
      "outputs": [],
      "source": [
        "file=\"/content/images.jpg\"\n",
        "image=cv2.imread(file)\n",
        "image=cv2.resize(image,(224,224))\n",
        "image=np.expand_dims(image,0)\n",
        "prediction=int(model.predict(image))\n",
        "\n",
        "if prediction == 0:\n",
        "  print('Cracked')\n",
        "\n",
        "elif prediction==1:\n",
        "  print('Not Cracked')"
      ]
    },
    {
      "cell_type": "code",
      "execution_count": null,
      "metadata": {
        "id": "g3W2AkEL8rNA"
      },
      "outputs": [],
      "source": [
        "# https://www.youtube.com/watch?v=uqomO_BZ44g"
      ]
    },
    {
      "cell_type": "code",
      "execution_count": 110,
      "metadata": {
        "id": "Rj6t3crLl_Y0"
      },
      "outputs": [],
      "source": [
        "import os\n",
        "def get_file_size(file_path):\n",
        "  size=os.path.getsize(file_path)\n",
        "  return size"
      ]
    },
    {
      "cell_type": "code",
      "execution_count": 111,
      "metadata": {
        "id": "1UooUmLcl_Y1"
      },
      "outputs": [],
      "source": [
        "def convert_bytes(size,unit=None):\n",
        "  if unit==\"KB\":\n",
        "    return print(\"File size: \"+str(round(size/1024,3))+\" Kilobytes\")\n",
        "  elif unit==\"MB\":\n",
        "    return print(\"File size: \"+str(round(size/(1024*1024),3))+\" Megabytes\")\n",
        "  else:\n",
        "    return print(\"File size: \"+str(size)+\"bytes\")"
      ]
    },
    {
      "cell_type": "code",
      "execution_count": 157,
      "metadata": {
        "id": "kx_laCKhzi3l"
      },
      "outputs": [],
      "source": [
        "model=\"/content/model_128.h5\""
      ]
    },
    {
      "cell_type": "code",
      "execution_count": 136,
      "metadata": {
        "id": "m52QuAlPl_Y3",
        "colab": {
          "base_uri": "https://localhost:8080/"
        },
        "outputId": "b7f8d454-4270-4851-c2da-b690e8525baa"
      },
      "outputs": [
        {
          "output_type": "stream",
          "name": "stdout",
          "text": [
            "File size: 0.065 Megabytes\n"
          ]
        }
      ],
      "source": [
        "# Model Size Before Model Quantization\n",
        "convert_bytes(get_file_size(model),\"MB\")"
      ]
    },
    {
      "cell_type": "code",
      "source": [
        "import glob\n",
        "import cv2\n",
        "import numpy as array \n",
        "files=glob.glob('/content/drive/MyDrive/dataset_3/train/Not Cracked/*')\n",
        "images=[]\n",
        "for file in files:\n",
        "  image=cv2.imread(file)\n",
        "  image=image/255\n",
        "  image=np.array(image,dtype=np.float32)\n",
        "  images.append(image)"
      ],
      "metadata": {
        "id": "1yX0NVa1Mt5_"
      },
      "execution_count": 153,
      "outputs": []
    },
    {
      "cell_type": "code",
      "source": [
        "images"
      ],
      "metadata": {
        "id": "uqNtH6TzNJ_Z"
      },
      "execution_count": null,
      "outputs": []
    },
    {
      "cell_type": "code",
      "source": [
        "def representative_dataset_gen():\n",
        "   for i in range(100):\n",
        "      input_image = tf.cast(images[i], tf.uint8)\n",
        "      input_image = tf.reshape(input_image, [1,128,128,1])\n",
        "      yield ([input_image])"
      ],
      "metadata": {
        "id": "OfpCeOl2N8T8"
      },
      "execution_count": 155,
      "outputs": []
    },
    {
      "cell_type": "code",
      "execution_count": 156,
      "metadata": {
        "id": "BCvfDqxtmtD0",
        "colab": {
          "base_uri": "https://localhost:8080/",
          "height": 417
        },
        "outputId": "51511ef8-28be-4b53-fc06-98165822b0b1"
      },
      "outputs": [
        {
          "output_type": "error",
          "ename": "OSError",
          "evalue": "ignored",
          "traceback": [
            "\u001b[0;31m---------------------------------------------------------------------------\u001b[0m",
            "\u001b[0;31mOSError\u001b[0m                                   Traceback (most recent call last)",
            "\u001b[0;32m<ipython-input-156-a2f6af70057e>\u001b[0m in \u001b[0;36m<module>\u001b[0;34m\u001b[0m\n\u001b[1;32m      1\u001b[0m \u001b[0;32mimport\u001b[0m \u001b[0mtensorflow\u001b[0m \u001b[0;32mas\u001b[0m \u001b[0mtf\u001b[0m\u001b[0;34m\u001b[0m\u001b[0;34m\u001b[0m\u001b[0m\n\u001b[0;32m----> 2\u001b[0;31m \u001b[0mmodel\u001b[0m\u001b[0;34m=\u001b[0m\u001b[0mtf\u001b[0m\u001b[0;34m.\u001b[0m\u001b[0mkeras\u001b[0m\u001b[0;34m.\u001b[0m\u001b[0mmodels\u001b[0m\u001b[0;34m.\u001b[0m\u001b[0mload_model\u001b[0m\u001b[0;34m(\u001b[0m\u001b[0mmodel\u001b[0m\u001b[0;34m)\u001b[0m\u001b[0;34m\u001b[0m\u001b[0;34m\u001b[0m\u001b[0m\n\u001b[0m\u001b[1;32m      3\u001b[0m \u001b[0mconverter\u001b[0m \u001b[0;34m=\u001b[0m \u001b[0mtf\u001b[0m\u001b[0;34m.\u001b[0m\u001b[0mlite\u001b[0m\u001b[0;34m.\u001b[0m\u001b[0mTFLiteConverter\u001b[0m\u001b[0;34m.\u001b[0m\u001b[0mfrom_keras_model\u001b[0m\u001b[0;34m(\u001b[0m\u001b[0mmodel\u001b[0m\u001b[0;34m)\u001b[0m\u001b[0;34m\u001b[0m\u001b[0;34m\u001b[0m\u001b[0m\n\u001b[1;32m      4\u001b[0m \u001b[0mconverter\u001b[0m\u001b[0;34m.\u001b[0m\u001b[0moptimizations\u001b[0m\u001b[0;34m=\u001b[0m\u001b[0;34m[\u001b[0m\u001b[0mtf\u001b[0m\u001b[0;34m.\u001b[0m\u001b[0mlite\u001b[0m\u001b[0;34m.\u001b[0m\u001b[0mOptimize\u001b[0m\u001b[0;34m.\u001b[0m\u001b[0mDEFAULT\u001b[0m\u001b[0;34m]\u001b[0m\u001b[0;34m\u001b[0m\u001b[0;34m\u001b[0m\u001b[0m\n\u001b[1;32m      5\u001b[0m \u001b[0mconverter\u001b[0m\u001b[0;34m.\u001b[0m\u001b[0mtarget_spec\u001b[0m\u001b[0;34m.\u001b[0m\u001b[0msupported_ops\u001b[0m \u001b[0;34m=\u001b[0m \u001b[0;34m[\u001b[0m\u001b[0mtf\u001b[0m\u001b[0;34m.\u001b[0m\u001b[0mlite\u001b[0m\u001b[0;34m.\u001b[0m\u001b[0mOpsSet\u001b[0m\u001b[0;34m.\u001b[0m\u001b[0mTFLITE_BUILTINS_INT8\u001b[0m\u001b[0;34m]\u001b[0m\u001b[0;34m\u001b[0m\u001b[0;34m\u001b[0m\u001b[0m\n",
            "\u001b[0;32m/usr/local/lib/python3.8/dist-packages/keras/utils/traceback_utils.py\u001b[0m in \u001b[0;36merror_handler\u001b[0;34m(*args, **kwargs)\u001b[0m\n\u001b[1;32m     68\u001b[0m             \u001b[0;31m# To get the full stack trace, call:\u001b[0m\u001b[0;34m\u001b[0m\u001b[0;34m\u001b[0m\u001b[0;34m\u001b[0m\u001b[0m\n\u001b[1;32m     69\u001b[0m             \u001b[0;31m# `tf.debugging.disable_traceback_filtering()`\u001b[0m\u001b[0;34m\u001b[0m\u001b[0;34m\u001b[0m\u001b[0;34m\u001b[0m\u001b[0m\n\u001b[0;32m---> 70\u001b[0;31m             \u001b[0;32mraise\u001b[0m \u001b[0me\u001b[0m\u001b[0;34m.\u001b[0m\u001b[0mwith_traceback\u001b[0m\u001b[0;34m(\u001b[0m\u001b[0mfiltered_tb\u001b[0m\u001b[0;34m)\u001b[0m \u001b[0;32mfrom\u001b[0m \u001b[0;32mNone\u001b[0m\u001b[0;34m\u001b[0m\u001b[0;34m\u001b[0m\u001b[0m\n\u001b[0m\u001b[1;32m     71\u001b[0m         \u001b[0;32mfinally\u001b[0m\u001b[0;34m:\u001b[0m\u001b[0;34m\u001b[0m\u001b[0;34m\u001b[0m\u001b[0m\n\u001b[1;32m     72\u001b[0m             \u001b[0;32mdel\u001b[0m \u001b[0mfiltered_tb\u001b[0m\u001b[0;34m\u001b[0m\u001b[0;34m\u001b[0m\u001b[0m\n",
            "\u001b[0;32m/usr/local/lib/python3.8/dist-packages/keras/saving/legacy/save.py\u001b[0m in \u001b[0;36mload_model\u001b[0;34m(filepath, custom_objects, compile, options)\u001b[0m\n\u001b[1;32m    250\u001b[0m                     )\n\u001b[1;32m    251\u001b[0m \u001b[0;34m\u001b[0m\u001b[0m\n\u001b[0;32m--> 252\u001b[0;31m     raise IOError(\n\u001b[0m\u001b[1;32m    253\u001b[0m         \u001b[0;34m\"Unable to load model. Filepath is not an hdf5 file (or h5py is not \"\u001b[0m\u001b[0;34m\u001b[0m\u001b[0;34m\u001b[0m\u001b[0m\n\u001b[1;32m    254\u001b[0m         \u001b[0;34mf\"available) or SavedModel. Received: filepath={filepath}\"\u001b[0m\u001b[0;34m\u001b[0m\u001b[0;34m\u001b[0m\u001b[0m\n",
            "\u001b[0;31mOSError\u001b[0m: Unable to load model. Filepath is not an hdf5 file (or h5py is not available) or SavedModel. Received: filepath=<keras.engine.sequential.Sequential object at 0x7f7c6a1ba250>"
          ]
        }
      ],
      "source": [
        "import tensorflow as tf\n",
        "model=tf.keras.models.load_model(model)\n",
        "converter = tf.lite.TFLiteConverter.from_keras_model(model)\n",
        "converter.optimizations=[tf.lite.Optimize.DEFAULT]\n",
        "converter.target_spec.supported_ops = [tf.lite.OpsSet.TFLITE_BUILTINS_INT8]\n",
        "# converter.experimental_new_converter = True\n",
        "tflite_model_name=\"model.tflite\"\n",
        "tflite_model = converter.convert()\n",
        "open(tflite_model_name,\"wb\").write(tflite_model)"
      ]
    },
    {
      "cell_type": "code",
      "execution_count": null,
      "metadata": {
        "id": "4sEBDJwxmtD0"
      },
      "outputs": [],
      "source": [
        "# Model Size After Model Quantization\n",
        "tflite_model=\"/content/model.tflite\"\n",
        "convert_bytes(get_file_size(tflite_model),\"KB\")"
      ]
    },
    {
      "cell_type": "code",
      "execution_count": null,
      "metadata": {
        "id": "Heuw-BSUTS1H"
      },
      "outputs": [],
      "source": [
        "# ()Dataset \n",
        "# ()Inferencing Code on Arduino\n",
        "# ()SD Card model transfer\n",
        "# ()Library Creation and function deletion"
      ]
    },
    {
      "cell_type": "code",
      "source": [
        "import binascii\n",
        "def convert_to_c_array(bytes) -> str:\n",
        "  hexstr = binascii.hexlify(bytes).decode(\"UTF-8\")\n",
        "  hexstr = hexstr.upper()\n",
        "  array = [\"0x\" + hexstr[i:i + 2] for i in range(0, len(hexstr), 2)]\n",
        "  array = [array[i:i+10] for i in range(0, len(array), 10)]\n",
        "  return \",\\n  \".join([\", \".join(e) for e in array])"
      ],
      "metadata": {
        "id": "5l2VaKpWxfvE"
      },
      "execution_count": 116,
      "outputs": []
    },
    {
      "cell_type": "code",
      "source": [
        "tflite_binary = open('model.tflite', 'rb').read()\n",
        "ascii_bytes = convert_to_c_array(tflite_binary)\n",
        "header_file = \"const unsigned char model_tflite[] = {\\n  \" + ascii_bytes + \"\\n};\\nunsigned int model_tflite_len = \" + str(len(tflite_binary)) + \";\"\n",
        "open(\"model_128.h\", \"w\").write(header_file)\n",
        "convert_bytes(get_file_size('/content/model_128.h'),\"KB\")"
      ],
      "metadata": {
        "id": "BbA3OIQbxk-F",
        "colab": {
          "base_uri": "https://localhost:8080/"
        },
        "outputId": "3f7fd724-a91c-4082-a876-d149f474e23e"
      },
      "execution_count": 117,
      "outputs": [
        {
          "output_type": "stream",
          "name": "stdout",
          "text": [
            "File size: 77.772 Kilobytes\n"
          ]
        }
      ]
    },
    {
      "cell_type": "code",
      "source": [
        "# train_data=train_dataset[0]\n",
        "# X_train=train_data[0]\n",
        "# y_train=train_data[1]\n",
        "\n",
        "# test_data=val_dataset[0]\n",
        "# X_test=test_data[0]\n",
        "# y_test=test_data[1]\n",
        "\n",
        "# print(X_train.shape,X_test.shape,y_train.shape,y_test.shape)\n",
        "# # print(y_test)"
      ],
      "metadata": {
        "colab": {
          "base_uri": "https://localhost:8080/"
        },
        "id": "xPCDgWWCGppa",
        "outputId": "b0dc7260-bc6e-4360-a439-0715dff82ed0"
      },
      "execution_count": null,
      "outputs": [
        {
          "output_type": "stream",
          "name": "stdout",
          "text": [
            "(301, 130, 130, 1) (90, 130, 130, 1) (301,) (90,)\n"
          ]
        }
      ]
    },
    {
      "cell_type": "code",
      "source": [
        "for layer in model.layers:\n",
        "  print(layer.get_config()['name'])"
      ],
      "metadata": {
        "id": "PeWBgQDNBTzS"
      },
      "execution_count": null,
      "outputs": []
    },
    {
      "cell_type": "code",
      "execution_count": null,
      "metadata": {
        "id": "1muAoUm8lSXL"
      },
      "outputs": [],
      "source": [
        "# Convert the model to the TensorFlow Lite format without quantization\n",
        "converter = tf.lite.TFLiteConverter.from_saved_model(MODEL_TF)\n",
        "model_no_quant_tflite = converter.convert()\n",
        "\n",
        "# Save the model to disk\n",
        "open(MODEL_NO_QUANT_TFLITE, \"wb\").write(model_no_quant_tflite)\n",
        "\n",
        "# Convert the model to the TensorFlow Lite format with quantization\n",
        "def representative_dataset():\n",
        "  for i in range(500):\n",
        "    yield([x_train[i].reshape(1, 1)])\n",
        "# Set the optimization flag.\n",
        "converter.optimizations = [tf.lite.Optimize.DEFAULT]\n",
        "# Enforce integer only quantization\n",
        "converter.target_spec.supported_ops = [tf.lite.OpsSet.TFLITE_BUILTINS_INT8]\n",
        "# Provide a representative dataset to ensure we quantize correctly.\n",
        "converter.representative_dataset = representative_dataset\n",
        "model_tflite = converter.convert()\n",
        "\n",
        "# Save the model to disk\n",
        "open(MODEL_TFLITE, \"wb\").write(model_tflite)"
      ]
    }
  ],
  "metadata": {
    "accelerator": "GPU",
    "colab": {
      "provenance": [],
      "authorship_tag": "ABX9TyOeQcK6Hm3MJ3mFdRHefpAa",
      "include_colab_link": true
    },
    "gpuClass": "standard",
    "kernelspec": {
      "display_name": "Python 3",
      "name": "python3"
    },
    "language_info": {
      "name": "python"
    }
  },
  "nbformat": 4,
  "nbformat_minor": 0
}