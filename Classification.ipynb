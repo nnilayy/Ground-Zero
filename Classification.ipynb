{
  "cells": [
    {
      "cell_type": "markdown",
      "metadata": {
        "id": "view-in-github",
        "colab_type": "text"
      },
      "source": [
        "<a href=\"https://colab.research.google.com/github/nnilayy/Unet/blob/main/Classification.ipynb\" target=\"_parent\"><img src=\"https://colab.research.google.com/assets/colab-badge.svg\" alt=\"Open In Colab\"/></a>"
      ]
    },
    {
      "cell_type": "code",
      "execution_count": 1,
      "metadata": {
        "id": "Faz4TOq7w8aW"
      },
      "outputs": [],
      "source": [
        "from tensorflow.keras.preprocessing.image import ImageDataGenerator\n",
        "import matplotlib.pyplot as plt \n",
        "import tensorflow as tf \n",
        "import numpy as np\n",
        "import cv2 \n",
        "import os "
      ]
    },
    {
      "cell_type": "code",
      "execution_count": null,
      "metadata": {
        "id": "J8-H0S62QVHQ"
      },
      "outputs": [],
      "source": [
        "from google.colab import drive\n",
        "drive.mount('/content/drive')"
      ]
    },
    {
      "cell_type": "code",
      "execution_count": null,
      "metadata": {
        "id": "ZOy4Qb1rQvsK"
      },
      "outputs": [],
      "source": [
        "!mkdir \"/content/drive/MyDrive/dataset\""
      ]
    },
    {
      "cell_type": "code",
      "execution_count": null,
      "metadata": {
        "id": "5AORMhrHhkc7"
      },
      "outputs": [],
      "source": [
        "!unzip -q /content/drive/MyDrive/dataset.zip -d /content/drive/MyDrive/"
      ]
    },
    {
      "cell_type": "code",
      "execution_count": 74,
      "metadata": {
        "id": "8isyhdy9wNzg"
      },
      "outputs": [],
      "source": [
        "train=ImageDataGenerator(rescale=1/255,\n",
        "                         rotation_range=40,\n",
        "                         brightness_range=(0,5),\n",
        "                         zoom_range=0.2,\n",
        "                         shear_range=0.2,\n",
        "                         horizontal_flip=True,\n",
        "                         vertical_flip=True,\n",
        "                         fill_mode=\"nearest\",\n",
        "                         )\n",
        "\n",
        "valid=ImageDataGenerator(rescale=1/255,\n",
        "                              rotation_range=40,\n",
        "                              brightness_range=(0,5),\n",
        "                              zoom_range=0.2,\n",
        "                              shear_range=0.2,\n",
        "                              horizontal_flip=True,\n",
        "                              vertical_flip=True,\n",
        "                              fill_mode=\"nearest\",)"
      ]
    },
    {
      "cell_type": "code",
      "execution_count": 92,
      "metadata": {
        "id": "_5KWdWhyx8PH",
        "colab": {
          "base_uri": "https://localhost:8080/"
        },
        "outputId": "76f02d60-eec4-4614-9a6a-d8abda3fdcc1"
      },
      "outputs": [
        {
          "output_type": "stream",
          "name": "stdout",
          "text": [
            "Found 301 images belonging to 2 classes.\n",
            "Found 90 images belonging to 2 classes.\n"
          ]
        }
      ],
      "source": [
        "train_dataset=train.flow_from_directory('/content/drive/MyDrive/dataset_3/train',\n",
        "                                        target_size=(128,128),\n",
        "                                        batch_size=3,\n",
        "                                        class_mode='binary',\n",
        "                                        # color_mode='grayscale',\n",
        "                                        )\n",
        "val_dataset=valid.flow_from_directory('/content/drive/MyDrive/dataset_3/validation',\n",
        "                                        target_size=(128,128),\n",
        "                                        batch_size=3,\n",
        "                                        class_mode='binary',\n",
        "                                        # color_mode='grayscale'\n",
        "                                        )"
      ]
    },
    {
      "cell_type": "code",
      "execution_count": null,
      "metadata": {
        "id": "uOzuv6LKiGkI"
      },
      "outputs": [],
      "source": [
        "from tensorflow.keras.models import Sequential\n",
        "from tensorflow.keras.layers import Dense, Conv2D, MaxPooling2D, AveragePooling2D, Flatten, Dropout, BatchNormalization, InputLayer, Reshape\n",
        "\n",
        "model = Sequential()\n",
        "model.add(InputLayer(input_shape=(128, 128, 3)))\n",
        "model.add(Conv2D(16, 3, padding='same', activation=\"relu\"))\n",
        "model.add(MaxPooling2D(2, padding='same'))\n",
        "model.add(Conv2D(8, 3, padding='same', activation=\"relu\"))\n",
        "model.add(MaxPooling2D(2, padding='same'))\n",
        "model.add(Conv2D(8, 3, padding='same', activation=\"relu\"))\n",
        "model.add(MaxPooling2D(2, padding='same'))\n",
        "model.add(Conv2D(4, 3, padding='same', activation=\"relu\"))\n",
        "model.add(MaxPooling2D(2, padding='same'))\n",
        "model.add(Conv2D(4, 3, padding='same', activation=\"relu\"))\n",
        "model.add(MaxPooling2D(2, padding='same'))\n",
        "model.add(MaxPooling2D(2, padding='same'))\n",
        "model.add(Flatten())\n",
        "model.add(Dense(1, activation=\"sigmoid\"))\n",
        "model.summary()\n",
        "\n",
        "\n",
        "\n",
        "\n",
        "\n",
        "\n",
        "# ---------------------------------------------------------------------------------------------------\n",
        "# ---------------------------------------------------------------------------------------------------\n",
        "# (1)Params: 32,000\n",
        "# (2)Train_Accuracy: 85.45\n",
        "# (3)Val_Accuracy: 84.44\n",
        "# model = Sequential()\n",
        "# model.add(InputLayer(input_shape=(224, 224,3)))\n",
        "# model.add(Conv2D(16, 3, padding='same', activation=\"relu\"))\n",
        "# model.add(MaxPooling2D(2, padding='same'))\n",
        "# model.add(Conv2D(16, 3, padding='same', activation=\"relu\"))\n",
        "# model.add(MaxPooling2D(2, padding='same'))\n",
        "# model.add(Conv2D(16, 3, padding='same', activation=\"relu\"))\n",
        "# model.add(MaxPooling2D(2, padding='same'))\n",
        "# model.add(MaxPooling2D(2, padding='same'))\n",
        "# model.add(MaxPooling2D(2, padding='same'))\n",
        "# model.add(Flatten())\n",
        "# model.add(Dense(32, activation=\"relu\"))\n",
        "# model.add(Dense(1, activation=\"sigmoid\"))"
      ]
    },
    {
      "cell_type": "code",
      "source": [
        "for layer in model.layers:\n",
        "  print(layer.get_config()['name'])"
      ],
      "metadata": {
        "id": "PeWBgQDNBTzS"
      },
      "execution_count": null,
      "outputs": []
    },
    {
      "cell_type": "code",
      "execution_count": null,
      "metadata": {
        "id": "PYcT2fHW77gx",
        "colab": {
          "base_uri": "https://localhost:8080/"
        },
        "outputId": "980ce8e7-df12-4b99-b80e-dedb9ceae3e6"
      },
      "outputs": [
        {
          "output_type": "stream",
          "name": "stdout",
          "text": [
            "Epoch 1/50\n",
            "16/16 [==============================] - 3s 78ms/step - loss: 0.6982 - accuracy: 0.4792 - val_loss: 0.6965 - val_accuracy: 0.4333\n",
            "Epoch 2/50\n",
            "16/16 [==============================] - 1s 64ms/step - loss: 0.6785 - accuracy: 0.6304 - val_loss: 0.7196 - val_accuracy: 0.4444\n",
            "Epoch 3/50\n",
            "16/16 [==============================] - 1s 64ms/step - loss: 0.7018 - accuracy: 0.5417 - val_loss: 0.7056 - val_accuracy: 0.4444\n",
            "Epoch 4/50\n",
            "16/16 [==============================] - 2s 109ms/step - loss: 0.6920 - accuracy: 0.5417 - val_loss: 0.7035 - val_accuracy: 0.4444\n",
            "Epoch 5/50\n",
            "16/16 [==============================] - 1s 63ms/step - loss: 0.7013 - accuracy: 0.3478 - val_loss: 0.6931 - val_accuracy: 0.5444\n",
            "Epoch 6/50\n",
            "16/16 [==============================] - 1s 65ms/step - loss: 0.6904 - accuracy: 0.6667 - val_loss: 0.7024 - val_accuracy: 0.4444\n",
            "Epoch 7/50\n",
            "16/16 [==============================] - 1s 64ms/step - loss: 0.6986 - accuracy: 0.4783 - val_loss: 0.6959 - val_accuracy: 0.4444\n",
            "Epoch 8/50\n",
            "16/16 [==============================] - 1s 65ms/step - loss: 0.6930 - accuracy: 0.5625 - val_loss: 0.6941 - val_accuracy: 0.4444\n",
            "Epoch 9/50\n",
            "16/16 [==============================] - 1s 63ms/step - loss: 0.6939 - accuracy: 0.4792 - val_loss: 0.6940 - val_accuracy: 0.4444\n",
            "Epoch 10/50\n",
            "16/16 [==============================] - 1s 65ms/step - loss: 0.6937 - accuracy: 0.4792 - val_loss: 0.6946 - val_accuracy: 0.4444\n",
            "Epoch 11/50\n",
            "16/16 [==============================] - 1s 68ms/step - loss: 0.6953 - accuracy: 0.4792 - val_loss: 0.6958 - val_accuracy: 0.4444\n",
            "Epoch 12/50\n",
            "16/16 [==============================] - 1s 63ms/step - loss: 0.6946 - accuracy: 0.5000 - val_loss: 0.6935 - val_accuracy: 0.4444\n",
            "Epoch 13/50\n",
            "16/16 [==============================] - 2s 109ms/step - loss: 0.6917 - accuracy: 0.5833 - val_loss: 0.6942 - val_accuracy: 0.4444\n",
            "Epoch 14/50\n",
            "16/16 [==============================] - 1s 63ms/step - loss: 0.6903 - accuracy: 0.6250 - val_loss: 0.6951 - val_accuracy: 0.4444\n",
            "Epoch 15/50\n",
            "16/16 [==============================] - 1s 62ms/step - loss: 0.6914 - accuracy: 0.5652 - val_loss: 0.6956 - val_accuracy: 0.4444\n",
            "Epoch 16/50\n",
            "16/16 [==============================] - 1s 65ms/step - loss: 0.6914 - accuracy: 0.5625 - val_loss: 0.6963 - val_accuracy: 0.4444\n",
            "Epoch 17/50\n",
            "16/16 [==============================] - 1s 63ms/step - loss: 0.6904 - accuracy: 0.5417 - val_loss: 0.7021 - val_accuracy: 0.4444\n",
            "Epoch 18/50\n",
            "16/16 [==============================] - 1s 64ms/step - loss: 0.6947 - accuracy: 0.5417 - val_loss: 0.7042 - val_accuracy: 0.4444\n",
            "Epoch 19/50\n",
            "16/16 [==============================] - 1s 64ms/step - loss: 0.6931 - accuracy: 0.5417 - val_loss: 0.7050 - val_accuracy: 0.4444\n",
            "Epoch 20/50\n",
            "16/16 [==============================] - 1s 64ms/step - loss: 0.6908 - accuracy: 0.5625 - val_loss: 0.7041 - val_accuracy: 0.4444\n",
            "Epoch 21/50\n",
            "16/16 [==============================] - 1s 64ms/step - loss: 0.7051 - accuracy: 0.3958 - val_loss: 0.6974 - val_accuracy: 0.4444\n"
          ]
        }
      ],
      "source": [
        "model.compile(loss=\"binary_crossentropy\", \n",
        "              optimizer=tf.keras.optimizers.RMSprop(learning_rate=1e-3), \n",
        "              metrics=[\"accuracy\"])\n",
        "\n",
        "history=model.fit(train_dataset, \n",
        "                  steps_per_epoch=16, \n",
        "                  epochs=50, \n",
        "                  validation_data=val_dataset)"
      ]
    },
    {
      "cell_type": "code",
      "execution_count": 59,
      "metadata": {
        "id": "1zENh4DQzNMb"
      },
      "outputs": [],
      "source": [
        "model.save(\"/content/drive/MyDrive/model_128.h5\")"
      ]
    },
    {
      "cell_type": "code",
      "execution_count": null,
      "metadata": {
        "id": "uNewr2cLj5oq"
      },
      "outputs": [],
      "source": [
        "file=\"/content/images.jpg\"\n",
        "image=cv2.imread(file)\n",
        "image=cv2.resize(image,(224,224))\n",
        "image=np.expand_dims(image,0)\n",
        "prediction=int(model.predict(image))\n",
        "\n",
        "if prediction == 0:\n",
        "  print('Cracked')\n",
        "\n",
        "elif prediction==1:\n",
        "  print('Not Cracked')"
      ]
    },
    {
      "cell_type": "code",
      "execution_count": null,
      "metadata": {
        "id": "g3W2AkEL8rNA"
      },
      "outputs": [],
      "source": [
        "# https://www.youtube.com/watch?v=uqomO_BZ44g"
      ]
    },
    {
      "cell_type": "code",
      "execution_count": 79,
      "metadata": {
        "id": "Rj6t3crLl_Y0"
      },
      "outputs": [],
      "source": [
        "import os\n",
        "def get_file_size(file_path):\n",
        "  size=os.path.getsize(file_path)\n",
        "  return size"
      ]
    },
    {
      "cell_type": "code",
      "execution_count": 80,
      "metadata": {
        "id": "1UooUmLcl_Y1"
      },
      "outputs": [],
      "source": [
        "def convert_bytes(size,unit=None):\n",
        "  if unit==\"KB\":\n",
        "    return print(\"File size: \"+str(round(size/1024,3))+\" Kilobytes\")\n",
        "  elif unit==\"MB\":\n",
        "    return print(\"File size: \"+str(round(size/(1024*1024),3))+\" Megabytes\")\n",
        "  else:\n",
        "    return print(\"File size: \"+str(size)+\"bytes\")"
      ]
    },
    {
      "cell_type": "code",
      "execution_count": 85,
      "metadata": {
        "id": "kx_laCKhzi3l"
      },
      "outputs": [],
      "source": [
        "model=\"/content/drive/MyDrive/model_128.h5\""
      ]
    },
    {
      "cell_type": "code",
      "execution_count": 86,
      "metadata": {
        "id": "m52QuAlPl_Y3",
        "colab": {
          "base_uri": "https://localhost:8080/"
        },
        "outputId": "802f3aeb-d954-491f-a301-81dcac75cda9"
      },
      "outputs": [
        {
          "output_type": "stream",
          "name": "stdout",
          "text": [
            "File size: 0.081 Megabytes\n"
          ]
        }
      ],
      "source": [
        "# Model Size Before Model Quantization\n",
        "convert_bytes(get_file_size(model),\"MB\")"
      ]
    },
    {
      "cell_type": "code",
      "execution_count": 87,
      "metadata": {
        "id": "BCvfDqxtmtD0",
        "colab": {
          "base_uri": "https://localhost:8080/"
        },
        "outputId": "25163f9c-0171-4c5f-a85d-8d6d8db1e478"
      },
      "outputs": [
        {
          "output_type": "stream",
          "name": "stderr",
          "text": [
            "WARNING:absl:Found untraced functions such as _jit_compiled_convolution_op, _jit_compiled_convolution_op, _jit_compiled_convolution_op, _jit_compiled_convolution_op, _jit_compiled_convolution_op while saving (showing 5 of 6). These functions will not be directly callable after loading.\n"
          ]
        },
        {
          "output_type": "execute_result",
          "data": {
            "text/plain": [
              "12928"
            ]
          },
          "metadata": {},
          "execution_count": 87
        }
      ],
      "source": [
        "import tensorflow as tf\n",
        "model=tf.keras.models.load_model(model)\n",
        "converter = tf.lite.TFLiteConverter.from_keras_model(model)\n",
        "converter.optimizations=[tf.lite.Optimize.DEFAULT]\n",
        "converter.experimental_new_converter = True\n",
        "tflite_model_name=\"model.tflite\"\n",
        "tflite_model = converter.convert()\n",
        "open(tflite_model_name,\"wb\").write(tflite_model)"
      ]
    },
    {
      "cell_type": "code",
      "execution_count": 88,
      "metadata": {
        "colab": {
          "base_uri": "https://localhost:8080/"
        },
        "id": "4sEBDJwxmtD0",
        "outputId": "868b180f-9517-4d52-b935-27a236801e2c"
      },
      "outputs": [
        {
          "output_type": "stream",
          "name": "stdout",
          "text": [
            "File size: 12.625 Kilobytes\n"
          ]
        }
      ],
      "source": [
        "# Model Size After Model Quantization\n",
        "tflite_model=\"/content/model.tflite\"\n",
        "convert_bytes(get_file_size(tflite_model),\"KB\")"
      ]
    },
    {
      "cell_type": "code",
      "execution_count": null,
      "metadata": {
        "id": "Heuw-BSUTS1H"
      },
      "outputs": [],
      "source": [
        "# ()Dataset \n",
        "# ()Inferencing Code on Arduino\n",
        "# ()SD Card model transfer\n",
        "# ()Library Creation and function deletion"
      ]
    },
    {
      "cell_type": "code",
      "source": [
        "import binascii\n",
        "def convert_to_c_array(bytes) -> str:\n",
        "  hexstr = binascii.hexlify(bytes).decode(\"UTF-8\")\n",
        "  hexstr = hexstr.upper()\n",
        "  array = [\"0x\" + hexstr[i:i + 2] for i in range(0, len(hexstr), 2)]\n",
        "  array = [array[i:i+10] for i in range(0, len(array), 10)]\n",
        "  return \",\\n  \".join([\", \".join(e) for e in array])"
      ],
      "metadata": {
        "id": "5l2VaKpWxfvE"
      },
      "execution_count": 89,
      "outputs": []
    },
    {
      "cell_type": "code",
      "source": [
        "tflite_binary = open('model.tflite', 'rb').read()\n",
        "ascii_bytes = convert_to_c_array(tflite_binary)\n",
        "header_file = \"const unsigned char model_tflite[] = {\\n  \" + ascii_bytes + \"\\n};\\nunsigned int model_tflite_len = \" + str(len(tflite_binary)) + \";\"\n",
        "open(\"model_128.h\", \"w\").write(header_file)\n",
        "convert_bytes(get_file_size('/content/model_128.h'),\"KB\")"
      ],
      "metadata": {
        "id": "BbA3OIQbxk-F",
        "colab": {
          "base_uri": "https://localhost:8080/"
        },
        "outputId": "f052b2ea-b4ae-416e-f832-cc93e6737700"
      },
      "execution_count": 90,
      "outputs": [
        {
          "output_type": "stream",
          "name": "stdout",
          "text": [
            "File size: 78.353 Kilobytes\n"
          ]
        }
      ]
    },
    {
      "cell_type": "code",
      "source": [
        "# train_data=train_dataset[0]\n",
        "# X_train=train_data[0]\n",
        "# y_train=train_data[1]\n",
        "\n",
        "# test_data=val_dataset[0]\n",
        "# X_test=test_data[0]\n",
        "# y_test=test_data[1]\n",
        "\n",
        "# print(X_train.shape,X_test.shape,y_train.shape,y_test.shape)\n",
        "# # print(y_test)"
      ],
      "metadata": {
        "colab": {
          "base_uri": "https://localhost:8080/"
        },
        "id": "xPCDgWWCGppa",
        "outputId": "b0dc7260-bc6e-4360-a439-0715dff82ed0"
      },
      "execution_count": null,
      "outputs": [
        {
          "output_type": "stream",
          "name": "stdout",
          "text": [
            "(301, 130, 130, 1) (90, 130, 130, 1) (301,) (90,)\n"
          ]
        }
      ]
    }
  ],
  "metadata": {
    "accelerator": "GPU",
    "colab": {
      "provenance": [],
      "authorship_tag": "ABX9TyNkIrBiIqpriZm0o7uIdDag",
      "include_colab_link": true
    },
    "gpuClass": "standard",
    "kernelspec": {
      "display_name": "Python 3",
      "name": "python3"
    },
    "language_info": {
      "name": "python"
    }
  },
  "nbformat": 4,
  "nbformat_minor": 0
}